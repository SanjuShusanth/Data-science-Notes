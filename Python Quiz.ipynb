{
 "cells": [
  {
   "cell_type": "markdown",
   "id": "b019661c",
   "metadata": {},
   "source": [
    "## 1. Who developed the python programming language "
   ]
  },
  {
   "cell_type": "raw",
   "id": "8355054c",
   "metadata": {},
   "source": [
    "Ans : Guido Van Rossum"
   ]
  },
  {
   "cell_type": "markdown",
   "id": "001e2594",
   "metadata": {},
   "source": [
    "## 2.Which type of programming language does python support"
   ]
  },
  {
   "cell_type": "raw",
   "id": "e42e71e6",
   "metadata": {},
   "source": [
    "Ans: Object Oriented Programming "
   ]
  },
  {
   "cell_type": "markdown",
   "id": "475f79b5",
   "metadata": {},
   "source": [
    "## 3.Is python is case sensitive when dealing with Identifies?"
   ]
  },
  {
   "cell_type": "raw",
   "id": "d551a667",
   "metadata": {},
   "source": [
    "Ans: True"
   ]
  },
  {
   "cell_type": "markdown",
   "id": "b2738179",
   "metadata": {},
   "source": [
    "## 4. What is the correct extention of python file"
   ]
  },
  {
   "cell_type": "raw",
   "id": "6a8f6352",
   "metadata": {},
   "source": [
    " Ans: .py"
   ]
  },
  {
   "cell_type": "markdown",
   "id": "c73b0028",
   "metadata": {},
   "source": [
    "## 5. Is python code is compiled or Interpreted ?"
   ]
  },
  {
   "cell_type": "raw",
   "id": "baa4a299",
   "metadata": {},
   "source": [
    " Ans: Interpreted"
   ]
  },
  {
   "cell_type": "markdown",
   "id": "b3e213ae",
   "metadata": {},
   "source": [
    "## 6.Name few blocks of code use to define in python language?"
   ]
  },
  {
   "cell_type": "raw",
   "id": "b645e6e6",
   "metadata": {},
   "source": [
    " Ans: a class, function body and class definition"
   ]
  },
  {
   "cell_type": "markdown",
   "id": "2c34c4c6",
   "metadata": {},
   "source": [
    "## 7. State a character that use to gives a single line of comments in python?"
   ]
  },
  {
   "cell_type": "raw",
   "id": "b37f0e48",
   "metadata": {},
   "source": [
    " Ans:  # Hello "
   ]
  },
  {
   "cell_type": "markdown",
   "id": "77405a50",
   "metadata": {},
   "source": [
    "## 8.Mention functions which helps us to find the version of the python that we are currently working on?"
   ]
  },
  {
   "cell_type": "raw",
   "id": "5a0d379a",
   "metadata": {},
   "source": [
    "Ans: \n",
    "1.sys.version \n",
    "2.python_version()function\n",
    "3.Python-V command"
   ]
  },
  {
   "cell_type": "markdown",
   "id": "46c474b4",
   "metadata": {},
   "source": [
    "## 9. Python Supports the creation of anonymous function at runtime, using a construct called ?"
   ]
  },
  {
   "cell_type": "raw",
   "id": "fcf22e91",
   "metadata": {},
   "source": [
    "Ans: lambda"
   ]
  },
  {
   "cell_type": "markdown",
   "id": "6f2e4a39",
   "metadata": {},
   "source": [
    "## 10. What does PIP stands for?"
   ]
  },
  {
   "cell_type": "raw",
   "id": "14a35d5e",
   "metadata": {},
   "source": [
    "Ans: Prefered Installer program"
   ]
  },
  {
   "cell_type": "markdown",
   "id": "45489e5c",
   "metadata": {},
   "source": [
    "## 11.Mention few build-in functions in python"
   ]
  },
  {
   "cell_type": "raw",
   "id": "c1240953",
   "metadata": {},
   "source": [
    "Ans : str, len, bool, type, tuple, int, float, dict, range."
   ]
  },
  {
   "cell_type": "markdown",
   "id": "a82044dc",
   "metadata": {},
   "source": [
    "## 12. What is the maximum possible length of the identifiers in python ?"
   ]
  },
  {
   "cell_type": "raw",
   "id": "1e08a8dd",
   "metadata": {},
   "source": [
    "Ans : 79 Characters"
   ]
  },
  {
   "cell_type": "markdown",
   "id": "0c5c712e",
   "metadata": {},
   "source": [
    "### 13. What is the benifits of using Python ?"
   ]
  },
  {
   "cell_type": "raw",
   "id": "c222df4a",
   "metadata": {},
   "source": [
    "Ans : \n",
    "1. Open source software.\n",
    "2. Easy to understand and use.\n",
    "3. Dynamically typed\n",
    "4. Have lots of in build libraries.\n",
    "5. It can connect to the databases and able to read and modify the files."
   ]
  },
  {
   "cell_type": "markdown",
   "id": "1597bbe1",
   "metadata": {},
   "source": [
    "## 14. How is memory managed in python ?"
   ]
  },
  {
   "cell_type": "raw",
   "id": "52ed1953",
   "metadata": {},
   "source": [
    "Ans: Python private heap space."
   ]
  },
  {
   "cell_type": "markdown",
   "id": "d1d0ec67",
   "metadata": {},
   "source": [
    "## 15. How to install python on windows and how to set path variables ?"
   ]
  },
  {
   "cell_type": "raw",
   "id": "d3d690ee",
   "metadata": {},
   "source": [
    "Ans: \n",
    "    \n",
    "The complete path of python.exe can be added by:\n",
    "\n",
    "1. Right-clicking This PC and going to Properties.\n",
    "\n",
    "2. Clicking on the Advanced system settings in the menu on the left.\n",
    "\n",
    "3. Clicking on the Environment Variables button o​n the bottom right.\n",
    "\n",
    "4. In the System variables section, selecting the Path variable and clicking on Edit. The next screen will show all the directories that are currently a part of the PATH variable.\n",
    "\n",
    "5. Clicking on New and entering Python’s install directory."
   ]
  },
  {
   "cell_type": "markdown",
   "id": "226997a4",
   "metadata": {},
   "source": [
    "## 16. Is Indentation is required in python ?"
   ]
  },
  {
   "cell_type": "raw",
   "id": "50c83e06",
   "metadata": {},
   "source": [
    "Ans: Indentation refers to the space at the beginning of the code. It is very important in python because it indicates the block of code"
   ]
  },
  {
   "cell_type": "code",
   "execution_count": null,
   "id": "8e3d3f15",
   "metadata": {},
   "outputs": [],
   "source": []
  }
 ],
 "metadata": {
  "kernelspec": {
   "display_name": "Python 3 (ipykernel)",
   "language": "python",
   "name": "python3"
  },
  "language_info": {
   "codemirror_mode": {
    "name": "ipython",
    "version": 3
   },
   "file_extension": ".py",
   "mimetype": "text/x-python",
   "name": "python",
   "nbconvert_exporter": "python",
   "pygments_lexer": "ipython3",
   "version": "3.9.13"
  }
 },
 "nbformat": 4,
 "nbformat_minor": 5
}
