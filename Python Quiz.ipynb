{
 "cells": [
  {
   "cell_type": "markdown",
   "id": "ddba99e6",
   "metadata": {},
   "source": [
    "## 1. Who developed the python programming language "
   ]
  },
  {
   "cell_type": "markdown",
   "id": "62af6218",
   "metadata": {},
   "source": [
    "Ans : Guido Van Rossum"
   ]
  },
  {
   "cell_type": "markdown",
   "id": "bdfcc849",
   "metadata": {},
   "source": [
    "## 2.Which type of programming language does python support"
   ]
  },
  {
   "cell_type": "markdown",
   "id": "c943db87",
   "metadata": {},
   "source": [
    "Ans: Object Oriented Programming "
   ]
  },
  {
   "cell_type": "markdown",
   "id": "b273850b",
   "metadata": {},
   "source": [
    "## 3.Is python is case sensitive when dealing with Identifies?"
   ]
  },
  {
   "cell_type": "markdown",
   "id": "38b586da",
   "metadata": {},
   "source": [
    "Ans: True"
   ]
  },
  {
   "cell_type": "markdown",
   "id": "33909f92",
   "metadata": {},
   "source": [
    "## 4. What is the correct extention of python file"
   ]
  },
  {
   "cell_type": "markdown",
   "id": "3e1d7be1",
   "metadata": {},
   "source": [
    " Ans: .py"
   ]
  },
  {
   "cell_type": "markdown",
   "id": "7396ee1d",
   "metadata": {},
   "source": [
    "## 5. Is python code is compiled or Interpreted ?"
   ]
  },
  {
   "cell_type": "markdown",
   "id": "fa581ab4",
   "metadata": {},
   "source": [
    " Ans: Interpreted"
   ]
  },
  {
   "cell_type": "markdown",
   "id": "f78d81e1",
   "metadata": {},
   "source": [
    "## 6.Name few blocks of code use to define in python language?"
   ]
  },
  {
   "cell_type": "markdown",
   "id": "21283a63",
   "metadata": {},
   "source": [
    " Ans: a class, function body and class definition"
   ]
  },
  {
   "cell_type": "markdown",
   "id": "b9ae26c3",
   "metadata": {},
   "source": [
    "## 7. State a character that use to gives a single line of comments in python?"
   ]
  },
  {
   "cell_type": "markdown",
   "id": "ea7825e4",
   "metadata": {},
   "source": [
    " Ans:  # Hello "
   ]
  },
  {
   "cell_type": "markdown",
   "id": "13729a86",
   "metadata": {},
   "source": [
    "## 8.Mention functions which helps us to find the version of the python that we are currently working on?"
   ]
  },
  {
   "cell_type": "markdown",
   "id": "4ad157b8",
   "metadata": {},
   "source": [
    "Ans:\n",
    "\n",
    "1.sys.version \n",
    "\n",
    "2.python_version()function\n",
    "\n",
    "3.Python-V command"
   ]
  },
  {
   "cell_type": "markdown",
   "id": "4f739490",
   "metadata": {},
   "source": [
    "## 9. Python Supports the creation of anonymous function at runtime, using a construct called ?"
   ]
  },
  {
   "cell_type": "markdown",
   "id": "89a250fa",
   "metadata": {},
   "source": [
    "Ans: lambda"
   ]
  },
  {
   "cell_type": "markdown",
   "id": "6aa8ee03",
   "metadata": {},
   "source": [
    "## 10. What does PIP stands for?"
   ]
  },
  {
   "cell_type": "markdown",
   "id": "50d9066f",
   "metadata": {},
   "source": [
    "Ans: Prefered Installer program"
   ]
  },
  {
   "cell_type": "markdown",
   "id": "e45257aa",
   "metadata": {},
   "source": [
    "## 11.Mention few build-in functions in python"
   ]
  },
  {
   "cell_type": "markdown",
   "id": "ae17b6f4",
   "metadata": {},
   "source": [
    "Ans : str, len, bool, type, tuple, int, float, dict, range."
   ]
  },
  {
   "cell_type": "markdown",
   "id": "8aca6597",
   "metadata": {},
   "source": [
    "## 12. What is the maximum possible length of the identifiers in python ?"
   ]
  },
  {
   "cell_type": "markdown",
   "id": "c8470f1d",
   "metadata": {},
   "source": [
    "Ans : 79 Characters"
   ]
  },
  {
   "cell_type": "markdown",
   "id": "06fc076f",
   "metadata": {},
   "source": [
    "### 13. What is the benifits of using Python ?"
   ]
  },
  {
   "cell_type": "markdown",
   "id": "bbdf8100",
   "metadata": {},
   "source": [
    "Ans : \n",
    "1. Open source software.\n",
    "2. Easy to understand and use.\n",
    "3. Dynamically typed\n",
    "4. Have lots of in build libraries.\n",
    "5. It can connect to the databases and able to read and modify the files."
   ]
  },
  {
   "cell_type": "markdown",
   "id": "5eeb6595",
   "metadata": {},
   "source": [
    "## 14. How is memory managed in python ?"
   ]
  },
  {
   "cell_type": "markdown",
   "id": "89959ef3",
   "metadata": {},
   "source": [
    "Ans: Python private heap space."
   ]
  },
  {
   "cell_type": "markdown",
   "id": "9ba5059e",
   "metadata": {},
   "source": [
    "## 15. How to install python on windows and how to set path variables ?"
   ]
  },
  {
   "cell_type": "markdown",
   "id": "a71ee714",
   "metadata": {},
   "source": [
    "Ans: \n",
    "    \n",
    "The complete path of python.exe can be added by:\n",
    "\n",
    "1. Right-clicking This PC and going to Properties.\n",
    "\n",
    "2. Clicking on the Advanced system settings in the menu on the left.\n",
    "\n",
    "3. Clicking on the Environment Variables button o​n the bottom right.\n",
    "\n",
    "4. In the System variables section, selecting the Path variable and clicking on Edit. The next screen will show all the directories that are currently a part of the PATH variable.\n",
    "\n",
    "5. Clicking on New and entering Python’s install directory."
   ]
  },
  {
   "cell_type": "markdown",
   "id": "b1ac00ee",
   "metadata": {},
   "source": [
    "## 16. Is Indentation is required in python ?"
   ]
  },
  {
   "cell_type": "markdown",
   "id": "19f5fbab",
   "metadata": {},
   "source": [
    "Ans: Indentation refers to the space at the beginning of the code. It is very important in python because it indicates the block of code"
   ]
  },
  {
   "cell_type": "code",
   "execution_count": null,
   "id": "267a307d",
   "metadata": {},
   "outputs": [],
   "source": []
  }
 ],
 "metadata": {
  "kernelspec": {
   "display_name": "Python 3 (ipykernel)",
   "language": "python",
   "name": "python3"
  },
  "language_info": {
   "codemirror_mode": {
    "name": "ipython",
    "version": 3
   },
   "file_extension": ".py",
   "mimetype": "text/x-python",
   "name": "python",
   "nbconvert_exporter": "python",
   "pygments_lexer": "ipython3",
   "version": "3.9.13"
  }
 },
 "nbformat": 4,
 "nbformat_minor": 5
}
