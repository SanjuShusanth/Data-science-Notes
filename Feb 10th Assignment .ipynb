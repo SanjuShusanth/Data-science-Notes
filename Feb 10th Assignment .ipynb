{
 "cells": [
  {
   "cell_type": "code",
   "execution_count": null,
   "id": "1fb487c2",
   "metadata": {},
   "outputs": [],
   "source": [
    "Assignment - Feb 10th "
   ]
  },
  {
   "cell_type": "markdown",
   "id": "502e509a",
   "metadata": {},
   "source": [
    "#### Q1. Which function is used to open a file? What are the different modes of opening a file? Explain each mode of file opening."
   ]
  },
  {
   "cell_type": "markdown",
   "id": "e681ba4a",
   "metadata": {},
   "source": [
    "* The Key function to work with file to `open()` function "
   ]
  },
  {
   "cell_type": "markdown",
   "id": "d83c4f4a",
   "metadata": {},
   "source": [
    "`open()` function takes two parameters they are : filename and mode."
   ]
  },
  {
   "cell_type": "markdown",
   "id": "016865a8",
   "metadata": {},
   "source": [
    "There are Four types of Mode in opening a file."
   ]
  },
  {
   "cell_type": "markdown",
   "id": "6aae3e6b",
   "metadata": {},
   "source": [
    "`r` read - Opens a file for reading.\n",
    "\n",
    "`w` write - Opens a file for writing.\n",
    "\n",
    "`a` append - Opens a file for appending.\n",
    "\n",
    "`x` create - Opens a specified file.\n",
    "\n",
    "`t` text - Opens a file in a text mode\n",
    "\n",
    "`b` binary - Opens a file in a Binary Mode.(eg. Images)"
   ]
  },
  {
   "cell_type": "markdown",
   "id": "0fdd5086",
   "metadata": {},
   "source": [
    "#### Q2. Why close() function is used? Why is it important to close a file?"
   ]
  },
  {
   "cell_type": "markdown",
   "id": "c1e84376",
   "metadata": {},
   "source": [
    "1. The `close` Function is used to close the file that has been opened in a program.\n",
    "\n",
    "2. If a program opens a file and then terminates without closing , those resources are not released. It is mandatory to close the file.\n",
    "\n",
    "3. Closing a file ensures any changes made to file are saved to disk.\n",
    "\n",
    "4. So closing a file using `close()` function is important to release system resources, ensures the data saved to disk. "
   ]
  },
  {
   "cell_type": "markdown",
   "id": "889f3487",
   "metadata": {},
   "source": [
    "#### Q3. Write a python program to create a text file. Write ‘I want to become a Data Scientist’ in that file. Then close the file. Open this file and read the content of the file."
   ]
  },
  {
   "cell_type": "code",
   "execution_count": 1,
   "id": "5fcf783e",
   "metadata": {},
   "outputs": [],
   "source": [
    "### Writing a file\n",
    "\n",
    "with open(\"test99.txt\", \"w\") as f:\n",
    "    f.write(\"I want to become a Data Scientist\")\n",
    "f.close()"
   ]
  },
  {
   "cell_type": "code",
   "execution_count": 4,
   "id": "58fbc974",
   "metadata": {},
   "outputs": [
    {
     "name": "stdout",
     "output_type": "stream",
     "text": [
      "I want to become a Data Scientist\n"
     ]
    }
   ],
   "source": [
    "### Reading a file\n",
    "\n",
    "with open(\"test99.txt\", \"r\") as f:\n",
    "    data1 = f.read()\n",
    "    \n",
    "print(data1)"
   ]
  },
  {
   "cell_type": "markdown",
   "id": "e1bdd92e",
   "metadata": {},
   "source": [
    "#### Q4. Explain the following with python code: read(), readline() and readlines()."
   ]
  },
  {
   "cell_type": "code",
   "execution_count": 16,
   "id": "070e85b6",
   "metadata": {},
   "outputs": [],
   "source": [
    "### Example:\n",
    "\n",
    "with open(\"test99.txt\", \"w\") as f:\n",
    "    f.write(\"I want to become a Data Scientist\\n\" \"Sanju is determined to become a Data analyst\")\n",
    "f.close()"
   ]
  },
  {
   "cell_type": "code",
   "execution_count": 19,
   "id": "3e569e81",
   "metadata": {},
   "outputs": [
    {
     "name": "stdout",
     "output_type": "stream",
     "text": [
      "I want to become a Data Scientist\n",
      "Sanju is determined to become a Data analyst\n"
     ]
    }
   ],
   "source": [
    "### By using read() function is reads the entire message in the file.\n",
    "\n",
    "with open(\"test99.txt\", \"r\") as f: \n",
    "    data1 = f.read()\n",
    "print(data1)"
   ]
  },
  {
   "cell_type": "code",
   "execution_count": 21,
   "id": "0e26153d",
   "metadata": {},
   "outputs": [
    {
     "name": "stdout",
     "output_type": "stream",
     "text": [
      "Sanju is determined to become a Data analyst\n"
     ]
    }
   ],
   "source": [
    "### By using Readline() reading only the specific line in the file.\n",
    "\n",
    "with open(\"test99.txt\", \"r\") as f:\n",
    "    line1 = f.readline()\n",
    "    line2 = f.readline()\n",
    "    \n",
    "print(line2)"
   ]
  },
  {
   "cell_type": "code",
   "execution_count": 22,
   "id": "c30edaee",
   "metadata": {},
   "outputs": [
    {
     "name": "stdout",
     "output_type": "stream",
     "text": [
      "['I want to become a Data Scientist\\n', 'Sanju is determined to become a Data analyst']\n"
     ]
    }
   ],
   "source": [
    "### By using readlines() function it reads all the lines of the file as a list of strings.\n",
    "\n",
    "with open(\"test99.txt\", \"r\") as f:\n",
    "    lines = f.readlines()\n",
    "print(lines)"
   ]
  },
  {
   "cell_type": "markdown",
   "id": "79e30360",
   "metadata": {},
   "source": [
    "#### Q5. Explain why with statement is used with open(). What is the advantage of using with statement and open() together?"
   ]
  },
  {
   "cell_type": "markdown",
   "id": "02e1d9b1",
   "metadata": {},
   "source": [
    "1. `With` Statement is used with the `open` function which is the proper way to open and close any file.\n",
    "\n",
    "2. Advantage of using `with` statement it automatically closes the file within the block of code inside the `with` statement\n",
    "\n",
    "3. It eliminates the need for explicit calls to `close()` method, it makes the code more readable and easier to maintain."
   ]
  },
  {
   "cell_type": "markdown",
   "id": "3e466968",
   "metadata": {},
   "source": [
    "#### Q6. Explain the write() and writelines() functions. Give a suitable example"
   ]
  },
  {
   "cell_type": "markdown",
   "id": "11ebd339",
   "metadata": {},
   "source": [
    "* `write()` - It is mode that is used in a file to write a single string to a file. It is passed in the `open` function as parameter.\n",
    "\n",
    "* `writelines()` - It is used to write a list of strings to a file."
   ]
  },
  {
   "cell_type": "code",
   "execution_count": 24,
   "id": "7473600e",
   "metadata": {},
   "outputs": [],
   "source": [
    "### Using write() function\n",
    "\n",
    "with open(\"example2.txt\", \"w\") as file:\n",
    "    file.write(\"This is a new text file\\n\")\n",
    "    file.write(\"This is a old text file\\n\")"
   ]
  },
  {
   "cell_type": "code",
   "execution_count": 27,
   "id": "cf030152",
   "metadata": {},
   "outputs": [
    {
     "name": "stdout",
     "output_type": "stream",
     "text": [
      "This is a new text file\n",
      "This is a old text file\n",
      "\n"
     ]
    }
   ],
   "source": [
    "with open(\"example2.txt\", \"r\") as file:\n",
    "   data3 =file.read()\n",
    "    \n",
    "print(data3)"
   ]
  },
  {
   "cell_type": "code",
   "execution_count": 28,
   "id": "f98dfe7d",
   "metadata": {},
   "outputs": [],
   "source": [
    "### Using writelines() fucntion\n",
    "\n",
    "lines = [\"This is a new text file\\n\", \"This is a old text file\\n\"]\n",
    "\n",
    "with open(\"example2.txt\", \"w\") as file:\n",
    "    file.writelines(lines)\n",
    "    "
   ]
  },
  {
   "cell_type": "code",
   "execution_count": 29,
   "id": "5d088ded",
   "metadata": {},
   "outputs": [
    {
     "name": "stdout",
     "output_type": "stream",
     "text": [
      "This is a new text file\n",
      "This is a old text file\n",
      "\n"
     ]
    }
   ],
   "source": [
    "with open(\"example2.txt\", \"r\") as file:\n",
    "   data3 =file.read()\n",
    "    \n",
    "print(data3)"
   ]
  },
  {
   "cell_type": "code",
   "execution_count": null,
   "id": "34dd9af0",
   "metadata": {},
   "outputs": [],
   "source": []
  }
 ],
 "metadata": {
  "kernelspec": {
   "display_name": "Python 3 (ipykernel)",
   "language": "python",
   "name": "python3"
  },
  "language_info": {
   "codemirror_mode": {
    "name": "ipython",
    "version": 3
   },
   "file_extension": ".py",
   "mimetype": "text/x-python",
   "name": "python",
   "nbconvert_exporter": "python",
   "pygments_lexer": "ipython3",
   "version": "3.9.13"
  }
 },
 "nbformat": 4,
 "nbformat_minor": 5
}
