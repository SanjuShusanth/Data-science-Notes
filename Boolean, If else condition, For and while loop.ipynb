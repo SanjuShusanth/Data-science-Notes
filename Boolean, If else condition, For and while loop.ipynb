{
 "cells": [
  {
   "cell_type": "markdown",
   "id": "a64e838b",
   "metadata": {},
   "source": [
    "# Boolean"
   ]
  },
  {
   "cell_type": "code",
   "execution_count": 18,
   "id": "4900f499",
   "metadata": {},
   "outputs": [
    {
     "data": {
      "text/plain": [
       "True"
      ]
     },
     "execution_count": 18,
     "metadata": {},
     "output_type": "execute_result"
    }
   ],
   "source": [
    "bool(1)"
   ]
  },
  {
   "cell_type": "code",
   "execution_count": 2,
   "id": "f56ec93b",
   "metadata": {},
   "outputs": [
    {
     "data": {
      "text/plain": [
       "False"
      ]
     },
     "execution_count": 2,
     "metadata": {},
     "output_type": "execute_result"
    }
   ],
   "source": [
    "bool(0)"
   ]
  },
  {
   "cell_type": "code",
   "execution_count": 3,
   "id": "05bc5c31",
   "metadata": {},
   "outputs": [
    {
     "data": {
      "text/plain": [
       "False"
      ]
     },
     "execution_count": 3,
     "metadata": {},
     "output_type": "execute_result"
    }
   ],
   "source": [
    "not True"
   ]
  },
  {
   "cell_type": "code",
   "execution_count": 4,
   "id": "ecd2bfb4",
   "metadata": {},
   "outputs": [
    {
     "data": {
      "text/plain": [
       "True"
      ]
     },
     "execution_count": 4,
     "metadata": {},
     "output_type": "execute_result"
    }
   ],
   "source": [
    "not False"
   ]
  },
  {
   "cell_type": "code",
   "execution_count": 5,
   "id": "ac38cef4",
   "metadata": {},
   "outputs": [
    {
     "data": {
      "text/plain": [
       "False"
      ]
     },
     "execution_count": 5,
     "metadata": {},
     "output_type": "execute_result"
    }
   ],
   "source": [
    "not(bool(1))"
   ]
  },
  {
   "cell_type": "code",
   "execution_count": 9,
   "id": "4636f93d",
   "metadata": {},
   "outputs": [
    {
     "data": {
      "text/plain": [
       "True"
      ]
     },
     "execution_count": 9,
     "metadata": {},
     "output_type": "execute_result"
    }
   ],
   "source": [
    "not False*True"
   ]
  },
  {
   "cell_type": "code",
   "execution_count": 10,
   "id": "8a79235e",
   "metadata": {},
   "outputs": [
    {
     "data": {
      "text/plain": [
       "True"
      ]
     },
     "execution_count": 10,
     "metadata": {},
     "output_type": "execute_result"
    }
   ],
   "source": [
    "not True*False"
   ]
  },
  {
   "cell_type": "code",
   "execution_count": 11,
   "id": "981b3dd7",
   "metadata": {},
   "outputs": [
    {
     "data": {
      "text/plain": [
       "True"
      ]
     },
     "execution_count": 11,
     "metadata": {},
     "output_type": "execute_result"
    }
   ],
   "source": [
    "not(True*False)"
   ]
  },
  {
   "cell_type": "code",
   "execution_count": 17,
   "id": "dfae1cb0",
   "metadata": {},
   "outputs": [
    {
     "data": {
      "text/plain": [
       "False"
      ]
     },
     "execution_count": 17,
     "metadata": {},
     "output_type": "execute_result"
    }
   ],
   "source": [
    "bool((not True)+(False*False))"
   ]
  },
  {
   "cell_type": "markdown",
   "id": "f7b9e60e",
   "metadata": {},
   "source": [
    "# Python Conditions and If statements"
   ]
  },
  {
   "cell_type": "markdown",
   "id": "e3bb08bc",
   "metadata": {},
   "source": [
    "### 1.if\n",
    "### 2.if else\n",
    "### 3.if elif else\n",
    "### 4.Nested if\n",
    "### 5.Single statement suite"
   ]
  },
  {
   "cell_type": "code",
   "execution_count": 29,
   "id": "fed36b0e",
   "metadata": {},
   "outputs": [
    {
     "name": "stdout",
     "output_type": "stream",
     "text": [
      "Correct\n"
     ]
    }
   ],
   "source": [
    "# if statement\n",
    "\n",
    "Day = \"Monday is present\"\n",
    "\n",
    "if \"Mon\" in Day:\n",
    "    print(\"Correct\")"
   ]
  },
  {
   "cell_type": "code",
   "execution_count": 30,
   "id": "dadc9607",
   "metadata": {},
   "outputs": [],
   "source": [
    "## Task\n",
    "## Write a if statement for the following\n",
    "## get age input from the user\n",
    "## condition if sanju's age is >20 and <30 print he will be a data analyst"
   ]
  },
  {
   "cell_type": "code",
   "execution_count": 34,
   "id": "ba925730",
   "metadata": {},
   "outputs": [
    {
     "name": "stdout",
     "output_type": "stream",
     "text": [
      "Enter your age: 21\n",
      "Sanju is data analyst\n"
     ]
    }
   ],
   "source": [
    "sanju_age = int(input('Enter your age: '))\n",
    "\n",
    "if sanju_age >20 and sanju_age < 25:\n",
    "    print(\"Sanju is data analyst\")\n",
    "    "
   ]
  },
  {
   "cell_type": "code",
   "execution_count": 39,
   "id": "d10cafff",
   "metadata": {},
   "outputs": [
    {
     "name": "stdout",
     "output_type": "stream",
     "text": [
      "Enter your age: 20\n",
      "Hard luck for Sanju\n"
     ]
    }
   ],
   "source": [
    "sanju_age = int(input('Enter your age: '))\n",
    "\n",
    "if sanju_age >20 and sanju_age < 30:\n",
    "    print(\"Sanju is data analyst\")\n",
    "else:\n",
    "    print(\"Hard luck for Sanju\")"
   ]
  },
  {
   "cell_type": "markdown",
   "id": "ac864823",
   "metadata": {},
   "source": [
    "### If elif and else "
   ]
  },
  {
   "cell_type": "code",
   "execution_count": 11,
   "id": "41e07fcf",
   "metadata": {},
   "outputs": [
    {
     "name": "stdout",
     "output_type": "stream",
     "text": [
      "Please enter the price: 2500\n",
      "You can avail the python basic course at 2000.0\n"
     ]
    }
   ],
   "source": [
    "Course_price = int(input(\"Please enter the price: \"))\n",
    "\n",
    "if Course_price >2000:\n",
    "    print(f\"You can avail the python basic course at {Course_price*0.8}\")\n",
    "elif Course_price == 2500:\n",
    "    print(f'You can avail the python advance course at {Course_price*0.9}')\n",
    "else:\n",
    "    print(f'Still you need {2000 - Course_price} to join this course')"
   ]
  },
  {
   "cell_type": "markdown",
   "id": "fba5ae69",
   "metadata": {},
   "source": [
    "### Nested if "
   ]
  },
  {
   "cell_type": "code",
   "execution_count": 21,
   "id": "5c45945b",
   "metadata": {},
   "outputs": [
    {
     "name": "stdout",
     "output_type": "stream",
     "text": [
      "Please enter the price: 2000\n",
      "You can avail the python intermediate course at 1400.0\n"
     ]
    }
   ],
   "source": [
    "Course_price = int(input(\"Please enter the price: \"))\n",
    "\n",
    "if Course_price >2000:\n",
    "    if Course_price == 2500:\n",
    "        print(\"You have got additional notes for python\")\n",
    "    print(f\"You can avail the python advance course at {Course_price*0.5}\")\n",
    "elif Course_price >=1500 and Course_price <= 2000:\n",
    "    if Course_price == 2020:\n",
    "        print(\"Congragulation you have got the Python\\'s\\' basic offer\")\n",
    "    print(f'You can avail the python intermediate course at {Course_price*0.7}')\n",
    "elif Course_price >=1000 and Course_price<1500:\n",
    "    print(f\"You can avail the python basic course at {Course_price*0.9}\")\n",
    "else:\n",
    "    print(f'Still you need {999 - Course_price} to join this course')"
   ]
  },
  {
   "cell_type": "markdown",
   "id": "4ea6ddbd",
   "metadata": {},
   "source": [
    "### Single Statement Suite"
   ]
  },
  {
   "cell_type": "code",
   "execution_count": 1,
   "id": "9ec47ad4",
   "metadata": {},
   "outputs": [
    {
     "name": "stdout",
     "output_type": "stream",
     "text": [
      "Please enter the value: 201\n",
      "Value is greater than 200\n"
     ]
    }
   ],
   "source": [
    "Val = int(input(\"Please enter the value: \"))\n",
    "\n",
    "if (Val>= 200):print(\"Value is greater than 200\")\n",
    "else:\n",
    "    print(\"No is less than 200\")"
   ]
  },
  {
   "cell_type": "code",
   "execution_count": 4,
   "id": "8d3e5079",
   "metadata": {},
   "outputs": [
    {
     "name": "stdout",
     "output_type": "stream",
     "text": [
      "Please enter the value: 100\n",
      "B\n"
     ]
    }
   ],
   "source": [
    "Val = int(input(\"Please enter the value: \"))\n",
    "\n",
    "print(\"A\") if (Val>=200) else print(\"B\")"
   ]
  },
  {
   "cell_type": "markdown",
   "id": "cf399a5c",
   "metadata": {},
   "source": [
    "### Loops statements\n",
    "1. while loop\n",
    "2. for loop\n",
    "3. nested loops\n",
    "4. Loop control(break,continue,pass)"
   ]
  },
  {
   "cell_type": "raw",
   "id": "8759af90",
   "metadata": {},
   "source": [
    "While Loop\n",
    "\n",
    "With the while loop we can execute a set of statements as long as a condition is true."
   ]
  },
  {
   "cell_type": "code",
   "execution_count": 8,
   "id": "bd16b422",
   "metadata": {},
   "outputs": [
    {
     "name": "stdout",
     "output_type": "stream",
     "text": [
      "0\n",
      "1\n",
      "2\n",
      "3\n",
      "4\n",
      "5\n"
     ]
    }
   ],
   "source": [
    "i = 0\n",
    "\n",
    "while i <6:\n",
    "    print(i)\n",
    "    i +=1"
   ]
  },
  {
   "cell_type": "code",
   "execution_count": 11,
   "id": "f3335868",
   "metadata": {},
   "outputs": [
    {
     "name": "stdout",
     "output_type": "stream",
     "text": [
      "0\n",
      "1\n",
      "2\n",
      "3\n",
      "4\n",
      "5\n",
      "6\n",
      "7\n",
      "8\n",
      "9\n",
      "10\n",
      "11\n",
      "12\n",
      "13\n",
      "14\n",
      "15\n",
      "16\n",
      "17\n",
      "18\n",
      "Now you are a man to vote\n"
     ]
    }
   ],
   "source": [
    "# While else condition\n",
    "\n",
    "age = 0 \n",
    "\n",
    "\n",
    "while age <= 18:\n",
    "    print(age)\n",
    "    age += 1\n",
    "else:\n",
    "    print(\"Now you are a man to vote\")"
   ]
  },
  {
   "cell_type": "code",
   "execution_count": 18,
   "id": "d1cf02da",
   "metadata": {},
   "outputs": [
    {
     "name": "stdout",
     "output_type": "stream",
     "text": [
      "0\n",
      "50\n",
      "100\n",
      "150\n",
      "200\n",
      "Please don't increase your speed\n"
     ]
    }
   ],
   "source": [
    "bike_speed = 0\n",
    "\n",
    "while bike_speed<=200:\n",
    "    print(bike_speed)\n",
    "    bike_speed += 50\n",
    "else:\n",
    "    print(\"Please don't increase your speed\")"
   ]
  },
  {
   "cell_type": "raw",
   "id": "fb0bc941",
   "metadata": {},
   "source": [
    "For Loop - A for loop is used for iterating over a sequence (that is either a list, a tuple, a dictionary, a set, or a string).\n",
    "\n",
    "With the for loop we can execute a set of statements, once for each item in a list, tuple, set etc."
   ]
  },
  {
   "cell_type": "code",
   "execution_count": 23,
   "id": "2886d4d7",
   "metadata": {},
   "outputs": [
    {
     "name": "stdout",
     "output_type": "stream",
     "text": [
      "Audi\n",
      "BMW\n",
      "Aston Martin\n",
      "Rolls Royce\n"
     ]
    }
   ],
   "source": [
    "cars = [\"Audi\",\"BMW\",\"Aston Martin\",\"Rolls Royce\"]\n",
    "\n",
    "for i in cars:\n",
    "    print(i)"
   ]
  },
  {
   "cell_type": "code",
   "execution_count": 24,
   "id": "caa4f016",
   "metadata": {},
   "outputs": [
    {
     "name": "stdout",
     "output_type": "stream",
     "text": [
      "B\n",
      "a\n",
      "n\n",
      "a\n",
      "n\n",
      "a\n"
     ]
    }
   ],
   "source": [
    "# Here string is also iterable objects.\n",
    "\n",
    "for i in \"Banana\":\n",
    "    print(i)"
   ]
  },
  {
   "cell_type": "code",
   "execution_count": 31,
   "id": "22630a59",
   "metadata": {},
   "outputs": [
    {
     "name": "stdout",
     "output_type": "stream",
     "text": [
      "0\n",
      "3\n",
      "6\n",
      "9\n",
      "12\n",
      "15\n",
      "18\n",
      "21\n",
      "24\n",
      "27\n"
     ]
    }
   ],
   "source": [
    "# Range\n",
    "\n",
    "for i in range(0,30,3):\n",
    "    print(i)"
   ]
  },
  {
   "cell_type": "code",
   "execution_count": 26,
   "id": "9f2e59e3",
   "metadata": {},
   "outputs": [],
   "source": [
    "# Using for loop with if condition"
   ]
  },
  {
   "cell_type": "code",
   "execution_count": 27,
   "id": "47d0c968",
   "metadata": {},
   "outputs": [
    {
     "data": {
      "text/plain": [
       "['Audi', 'BMW', 'Aston Martin', 'Rolls Royce']"
      ]
     },
     "execution_count": 27,
     "metadata": {},
     "output_type": "execute_result"
    }
   ],
   "source": [
    "cars"
   ]
  },
  {
   "cell_type": "code",
   "execution_count": 29,
   "id": "d45abd6b",
   "metadata": {},
   "outputs": [
    {
     "name": "stdout",
     "output_type": "stream",
     "text": [
      "Audi\n",
      "BMW\n",
      "BWM is a costliest car among all\n",
      "Aston Martin\n",
      "Rolls Royce\n"
     ]
    }
   ],
   "source": [
    "for i in cars:\n",
    "    print(i)\n",
    "    if i == \"BMW\":\n",
    "        print(\"BWM is a costliest car among all\")"
   ]
  },
  {
   "cell_type": "code",
   "execution_count": 43,
   "id": "2b52bd40",
   "metadata": {},
   "outputs": [
    {
     "name": "stdout",
     "output_type": "stream",
     "text": [
      "         * \n",
      "        * * \n",
      "       * * * \n",
      "      * * * * \n",
      "     * * * * * \n",
      "    * * * * * * \n",
      "   * * * * * * * \n",
      "  * * * * * * * * \n",
      " * * * * * * * * * \n"
     ]
    }
   ],
   "source": [
    "# Nested loop\n",
    "\n",
    "for i in range(9):\n",
    "    print(\" \"*(9-i),end=\"\")\n",
    "    for j in range(0,i+1):\n",
    "        print(\"*\",end=\" \")\n",
    "    print()"
   ]
  },
  {
   "cell_type": "code",
   "execution_count": 63,
   "id": "4a55a0df",
   "metadata": {},
   "outputs": [
    {
     "name": "stdout",
     "output_type": "stream",
     "text": [
      "0\n",
      "1\n",
      "2\n",
      "3\n"
     ]
    }
   ],
   "source": [
    "# Break statement\n",
    "\n",
    "i = 0 \n",
    "\n",
    "while i<10:\n",
    "    if i == 4:\n",
    "        break\n",
    "    print(i)\n",
    "    i +=1"
   ]
  },
  {
   "cell_type": "code",
   "execution_count": 62,
   "id": "ca15961a",
   "metadata": {},
   "outputs": [
    {
     "name": "stdout",
     "output_type": "stream",
     "text": [
      "1\n",
      "2\n",
      "4\n",
      "5\n",
      "6\n",
      "7\n",
      "8\n",
      "9\n",
      "10\n"
     ]
    }
   ],
   "source": [
    "# Continue Statement\n",
    "i = 0\n",
    "\n",
    "while i<10:\n",
    "    i+=1\n",
    "    if i == 3:\n",
    "        continue\n",
    "    print(i)\n",
    "        \n",
    "    \n",
    "    \n",
    "    \n",
    "    \n",
    "    "
   ]
  }
 ],
 "metadata": {
  "kernelspec": {
   "display_name": "Python 3 (ipykernel)",
   "language": "python",
   "name": "python3"
  },
  "language_info": {
   "codemirror_mode": {
    "name": "ipython",
    "version": 3
   },
   "file_extension": ".py",
   "mimetype": "text/x-python",
   "name": "python",
   "nbconvert_exporter": "python",
   "pygments_lexer": "ipython3",
   "version": "3.9.13"
  }
 },
 "nbformat": 4,
 "nbformat_minor": 5
}
