{
 "cells": [
  {
   "cell_type": "markdown",
   "id": "841ccc7d",
   "metadata": {},
   "source": [
    "### Q1. Explain Class and Object with respect to Object-Oriented Programming. Give a suitable example."
   ]
  },
  {
   "cell_type": "markdown",
   "id": "bde17eaa",
   "metadata": {},
   "source": [
    "Ans:\n",
    "    \n",
    "* Class is a classification of real world objects or blueprint of creating an object.\n",
    "\n",
    "* Creating a class is by a using a keyword class followed by the class name and paranthesis.\n",
    "    \n",
    "  \n",
    "      Eg: class test2():\n",
    "               # pass\n",
    "            \n",
    "* Object is a instance of a class, which is created based on the blueprint given by the class.\n",
    "\n",
    "* Object stores the methods and attributes created by the class.\n",
    "\n",
    "* For example : We can consider an object as a \"Dog\", an object of the pencil class might be called as \"dog1\",\"dog1\",\"dog3\" etc,\n",
    "these objects contain attibutes and methods like Age,name,color.\n",
    "    "
   ]
  },
  {
   "cell_type": "markdown",
   "id": "253a5842",
   "metadata": {},
   "source": [
    "### Q2. Name the four pillars of OOPs."
   ]
  },
  {
   "cell_type": "markdown",
   "id": "ea24349b",
   "metadata": {},
   "source": [
    "Ans:\n",
    "    \n",
    "1. Polymorphism\n",
    "\n",
    "2. Inheritance\n",
    "\n",
    "3. Encapsulation\n",
    "\n",
    "4. Abstraction"
   ]
  },
  {
   "cell_type": "markdown",
   "id": "981c88a2",
   "metadata": {},
   "source": [
    "### Q3. Explain why the __init__() function is used. Give a suitable example."
   ]
  },
  {
   "cell_type": "markdown",
   "id": "edfcffaf",
   "metadata": {},
   "source": [
    "* init() function is a constructor. Constructor is created when the class is called.\n",
    "\n",
    "* It initialised with values for the object. `self` is a reference to object being created, meaning that it is the instance of the class or the values that are assigned belongs to the particular class.\n",
    "\n",
    "* In this constructor function we can pass 'N' of arguments."
   ]
  },
  {
   "cell_type": "code",
   "execution_count": 10,
   "id": "23f5e6c7",
   "metadata": {},
   "outputs": [
    {
     "name": "stdout",
     "output_type": "stream",
     "text": [
      "45\n",
      "5589\n",
      "sanju@gmail.com\n",
      "(5589, 'sanju@gmail.com', 45)\n"
     ]
    }
   ],
   "source": [
    "class student_details():\n",
    "    def __init__(self,Id_no ,email_Id ,roll_no):\n",
    "        \n",
    "        self.Id_no = Id_no\n",
    "        self.email_Id = email_Id\n",
    "        self.roll_no = roll_no\n",
    "    \n",
    "    def return_student_details(self):\n",
    "        return self.Id_no, self.email_Id, self.roll_no\n",
    "\n",
    "Sanju = student_details(5589,'sanju@gmail.com',45)     \n",
    "\n",
    "print(Sanju.roll_no)\n",
    "print(Sanju.Id_no)\n",
    "print(Sanju.email_Id)\n",
    "print(Sanju.return_student_details())"
   ]
  },
  {
   "cell_type": "markdown",
   "id": "010dd2dc",
   "metadata": {},
   "source": [
    "### Q4. Why self is used in OOPs?"
   ]
  },
  {
   "cell_type": "markdown",
   "id": "c2e8eda2",
   "metadata": {},
   "source": [
    "* `Self` is reference to the object that is being created and used to access the variables that belongs to the class.\n",
    "\n",
    "* `self` is non keyword it can be called anything but it will be the first parameter of the function in class. "
   ]
  },
  {
   "cell_type": "markdown",
   "id": "f17523df",
   "metadata": {},
   "source": [
    "### Q5. What is inheritance? Give an example for each type of inheritance."
   ]
  },
  {
   "cell_type": "markdown",
   "id": "a48c8626",
   "metadata": {},
   "source": [
    "* Inheritance, it defines the class that inherit all the properties and methods from an another class is called as inheritance.\n",
    "\n",
    "* There are three types of Inheritance are there they are: \n",
    "    1. Single Inheritance\n",
    "    2. Multiple Inheritance\n",
    "    3. Multi level Inheritance.\n",
    "    4. Hierachical Inhertitance\n",
    "    5. Hybrid Inheritance"
   ]
  },
  {
   "cell_type": "markdown",
   "id": "aaafacef",
   "metadata": {},
   "source": [
    "### Single Inheritance Example:"
   ]
  },
  {
   "cell_type": "markdown",
   "id": "8d89506d",
   "metadata": {},
   "source": [
    "* Single inheritance it is defined as the class inherits all the properties and methods from the parent class.\n",
    "\n",
    "* Enabling the code reuseability.\n"
   ]
  },
  {
   "cell_type": "code",
   "execution_count": 1,
   "id": "af16567b",
   "metadata": {},
   "outputs": [
    {
     "name": "stdout",
     "output_type": "stream",
     "text": [
      "This is a parent class\n",
      "This is a child class\n"
     ]
    }
   ],
   "source": [
    "class car():\n",
    "    def car_details(self):\n",
    "        print(\"This is a parent class\")\n",
    "    \n",
    "class BMW(car):\n",
    "    def car_speed(self):\n",
    "        print(\"This is a child class\")\n",
    "\n",
    "Object=BMW()\n",
    "\n",
    "Object.car_details()\n",
    "\n",
    "Object.car_speed()\n",
    "    "
   ]
  },
  {
   "cell_type": "markdown",
   "id": "5d274ccc",
   "metadata": {},
   "source": [
    "### Multiple Inhertitance Example:"
   ]
  },
  {
   "cell_type": "markdown",
   "id": "99cc1aa8",
   "metadata": {},
   "source": [
    "* A Class can be derived from one or more base class is known as Multiple inheritance. In this all the feactures of the base class is inherited to the derived class."
   ]
  },
  {
   "cell_type": "code",
   "execution_count": 5,
   "id": "e29d7703",
   "metadata": {},
   "outputs": [
    {
     "name": "stdout",
     "output_type": "stream",
     "text": [
      "Father :  sakthivel\n",
      "Mother :  Lakshmypriya\n"
     ]
    }
   ],
   "source": [
    "class mother():\n",
    "    mothernamme = \"\"\n",
    "    \n",
    "    def mothername(self):\n",
    "        print(self.mothername)\n",
    "        \n",
    "class father():\n",
    "    fathername = \"\"\n",
    "    \n",
    "    def fathername(self):\n",
    "        print(self.fathername)\n",
    "\n",
    "class son(mother,father):\n",
    "    def parents(self):\n",
    "        print(\"Father : \",  self.fathername)\n",
    "        print(\"Mother : \", self.mothername)\n",
    "        \n",
    "S1 = son()\n",
    "\n",
    "S1.fathername=\"sakthivel\"\n",
    "\n",
    "S1.mothername=\"Lakshmypriya\"\n",
    "\n",
    "S1.parents()\n",
    "    "
   ]
  },
  {
   "cell_type": "markdown",
   "id": "a040b98b",
   "metadata": {},
   "source": [
    "### Multilevel Inheritance"
   ]
  },
  {
   "cell_type": "markdown",
   "id": "af68ba5a",
   "metadata": {},
   "source": [
    "* Multilevel Inheritance is a defined as a feacture of the base class and the derived class are further inherited to new derived class."
   ]
  },
  {
   "cell_type": "code",
   "execution_count": 18,
   "id": "5f8eb873",
   "metadata": {},
   "outputs": [
    {
     "name": "stdout",
     "output_type": "stream",
     "text": [
      "subramaniyan\n",
      "Grandfather name : subramaniyan\n",
      "Father name : Sakthivel\n",
      "Son name : Sanju\n"
     ]
    }
   ],
   "source": [
    "# Python program to demonstrate\n",
    "# multilevel inheritance\n",
    " \n",
    "# Base class\n",
    " \n",
    " \n",
    "class Grandfather:\n",
    " \n",
    "    def __init__(self, grandfathername):\n",
    "        self.grandfathername = grandfathername\n",
    " \n",
    "# Intermediate class\n",
    " \n",
    " \n",
    "class Father(Grandfather):\n",
    "    def __init__(self, fathername, grandfathername):\n",
    "        self.fathername = fathername\n",
    " \n",
    "        # invoking constructor of Grandfather class\n",
    "        Grandfather.__init__(self, grandfathername)\n",
    " \n",
    "# Derived class\n",
    " \n",
    " \n",
    "class Son(Father):\n",
    "    def __init__(self, sonname, fathername, grandfathername):\n",
    "        self.sonname = sonname\n",
    " \n",
    "        # invoking constructor of Father class\n",
    "        Father.__init__(self, fathername, grandfathername)\n",
    " \n",
    "    def print_name(self):\n",
    "        print('Grandfather name :', self.grandfathername)\n",
    "        print(\"Father name :\", self.fathername)\n",
    "        print(\"Son name :\", self.sonname)\n",
    " \n",
    " \n",
    "#  Driver code\n",
    "s1 = Son('Sanju', 'Sakthivel', 'subramaniyan')\n",
    "print(s1.grandfathername)\n",
    "s1.print_name()"
   ]
  },
  {
   "cell_type": "markdown",
   "id": "430c9e24",
   "metadata": {},
   "source": [
    "### Hierachical Inheritance"
   ]
  },
  {
   "cell_type": "markdown",
   "id": "588461f6",
   "metadata": {},
   "source": [
    "* When one or more derived class is inherited from the single parent class is called as Hierachical Inheritance."
   ]
  },
  {
   "cell_type": "code",
   "execution_count": 15,
   "id": "2126a705",
   "metadata": {},
   "outputs": [
    {
     "name": "stdout",
     "output_type": "stream",
     "text": [
      "This is a parent class\n",
      "This is a child1 class\n",
      "This is a parent class\n",
      "This is a child2 class\n"
     ]
    }
   ],
   "source": [
    "# base Class\n",
    "\n",
    "class parent():\n",
    "    def func1(self):\n",
    "        print(\"This is a parent class\")\n",
    "\n",
    "# Derived Class 1\n",
    "\n",
    "class child1(parent):\n",
    "    def func2(self):\n",
    "        print(\"This is a child1 class\")\n",
    "\n",
    "# Derived Class 2\n",
    "        \n",
    "class child2(parent):\n",
    "    def func3(self):\n",
    "        print(\"This is a child2 class\")\n",
    "        \n",
    "A = child1()\n",
    "\n",
    "B = child2()\n",
    "\n",
    "A.func1()\n",
    "\n",
    "A.func2()\n",
    "\n",
    "B.func1()\n",
    "\n",
    "B.func3()\n",
    "        \n",
    "        "
   ]
  },
  {
   "cell_type": "markdown",
   "id": "3743606f",
   "metadata": {},
   "source": [
    "### Hybrid Inheritance"
   ]
  },
  {
   "cell_type": "markdown",
   "id": "bc9f7a24",
   "metadata": {},
   "source": [
    "* Inheritance consisiting of multiple types of inheritance is called as Hybrid inhertance."
   ]
  },
  {
   "cell_type": "code",
   "execution_count": 17,
   "id": "71241f20",
   "metadata": {},
   "outputs": [
    {
     "name": "stdout",
     "output_type": "stream",
     "text": [
      "This function is in school.\n",
      "This function is in student 1. \n"
     ]
    }
   ],
   "source": [
    "class School:\n",
    "    def func1(self):\n",
    "        print(\"This function is in school.\")\n",
    " \n",
    " \n",
    "class Student1(School):\n",
    "    def func2(self):\n",
    "        print(\"This function is in student 1. \")\n",
    " \n",
    " \n",
    "class Student2(School):\n",
    "    def func3(self):\n",
    "        print(\"This function is in student 2.\")\n",
    " \n",
    " \n",
    "class Student3(Student1, School):\n",
    "    def func4(self):\n",
    "        print(\"This function is in student 3.\")\n",
    " \n",
    " \n",
    "# Driver's code\n",
    "object = Student3()\n",
    "object.func1()\n",
    "object.func2()"
   ]
  }
 ],
 "metadata": {
  "kernelspec": {
   "display_name": "Python 3 (ipykernel)",
   "language": "python",
   "name": "python3"
  },
  "language_info": {
   "codemirror_mode": {
    "name": "ipython",
    "version": 3
   },
   "file_extension": ".py",
   "mimetype": "text/x-python",
   "name": "python",
   "nbconvert_exporter": "python",
   "pygments_lexer": "ipython3",
   "version": "3.9.13"
  }
 },
 "nbformat": 4,
 "nbformat_minor": 5
}
