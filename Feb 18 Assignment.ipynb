{
 "cells": [
  {
   "cell_type": "markdown",
   "id": "cd0d2f4d",
   "metadata": {},
   "source": [
    "#### Q1. What is an API? Give an example, where an API is used in real life."
   ]
  },
  {
   "cell_type": "markdown",
   "id": "3af668df",
   "metadata": {},
   "source": [
    "API - Application program Interface. It enables the both Hetrogenous and Homogenous software componects that used to communication each other by definitions and protocols.\n",
    "\n",
    "* API defines how software module should interact, what data should be exchanged, and the format in which should be exchanged.\n",
    "\n",
    "Eg: Ecommerce like Amazon involves in selling and buying the products online. With help of API it navigates to the different componects to fetch the data and represent it. API helps to connect with the different shopping platforms"
   ]
  },
  {
   "cell_type": "code",
   "execution_count": null,
   "id": "3b7af72d",
   "metadata": {},
   "outputs": [],
   "source": []
  },
  {
   "cell_type": "markdown",
   "id": "ab112278",
   "metadata": {},
   "source": [
    "#### Q2. Give advantages and disadvantages of using API."
   ]
  },
  {
   "cell_type": "markdown",
   "id": "5dfb56ec",
   "metadata": {},
   "source": [
    "Advantages of API:\n",
    "\n",
    "* API ennable different softwares systems to communicate with each other. They provide the way to exchange the data.\n",
    "* API allow for scalable development and deployment of software systerms.\n",
    "* It provides the flexibility in intergrating service and platform.\n",
    "\n",
    "Disadvantage of API:\n",
    "\n",
    "* API has bit complex, because it deals with complex data structures and interactions.\n",
    "* It has more dependency on the availablity and reliabilty of the third party API's.\n",
    "* If the API is not properly designed and implemented it can produce security issues."
   ]
  },
  {
   "cell_type": "code",
   "execution_count": null,
   "id": "84cdab78",
   "metadata": {},
   "outputs": [],
   "source": []
  },
  {
   "cell_type": "markdown",
   "id": "247ab0d7",
   "metadata": {},
   "source": [
    "#### Q3. What is a Web API? Differentiate between API and Web API."
   ]
  },
  {
   "cell_type": "markdown",
   "id": "6b465e8e",
   "metadata": {},
   "source": [
    "Web API is a framework create by HTTP protocol by using REST architecture.\n",
    "\n",
    "The main difference between a web API and general API is the medium of communication. Web API refers to API's that are accessed over the internet using HTTP protocol.\n",
    "\n",
    "API can refer to any interface that enables interaction between software components or systems."
   ]
  },
  {
   "cell_type": "code",
   "execution_count": null,
   "id": "e15533c4",
   "metadata": {},
   "outputs": [],
   "source": []
  },
  {
   "cell_type": "markdown",
   "id": "5c87a69d",
   "metadata": {},
   "source": [
    "#### Q4. Explain REST and SOAP Architecture. Mention shortcomings of SOAP."
   ]
  },
  {
   "cell_type": "markdown",
   "id": "d39ff7a1",
   "metadata": {},
   "source": [
    "REST Architecture:\n",
    "\n",
    "* Representational state transfer it is application program interface, It is used in web services development.\n",
    "* They provide simplicity, flexibility, scalability between different systems.\n",
    "\n",
    "SOAP Architecture:\n",
    "\n",
    "* Simple object access protocol is a protocol for exchanging structured information in web services. It uses XML doumentation for the message format.\n",
    "\n",
    "* SOAP uses Web services Description language which provide a machine readable description of the service's operations.\n",
    "\n",
    "Shortcomings of SOAP Architecture:\n",
    "    \n",
    "* SOAP messages are complex and require parsing the xml.\n",
    "\n",
    "* SOAP based web services are not commonly used by web browser.\n",
    "\n",
    "* It's performance is slower compared to REST, due its XML based message format."
   ]
  },
  {
   "cell_type": "code",
   "execution_count": null,
   "id": "d7f21b61",
   "metadata": {},
   "outputs": [],
   "source": []
  },
  {
   "cell_type": "markdown",
   "id": "0672b697",
   "metadata": {},
   "source": [
    "#### Q5. Differentiate between REST and SOAP"
   ]
  },
  {
   "cell_type": "markdown",
   "id": "95de77ca",
   "metadata": {},
   "source": [
    "REST:\n",
    "    \n",
    "* REST is easier and more flexible in implementation.\n",
    "* It uses the HTTP protocol to fetch the data or carry out operations.\n",
    "* REST is known for is simplicity, operationability, flexibility.\n",
    "\n",
    "SOAP:\n",
    "    \n",
    "* SOAP is more complex for the Implementation.\n",
    "* SOAP uses the TCP and SMPT protocols. It uses XML for the message format.\n",
    "* SOAP provides better security capabilities. "
   ]
  },
  {
   "cell_type": "code",
   "execution_count": null,
   "id": "916d07fb",
   "metadata": {},
   "outputs": [],
   "source": []
  }
 ],
 "metadata": {
  "kernelspec": {
   "display_name": "Python 3 (ipykernel)",
   "language": "python",
   "name": "python3"
  },
  "language_info": {
   "codemirror_mode": {
    "name": "ipython",
    "version": 3
   },
   "file_extension": ".py",
   "mimetype": "text/x-python",
   "name": "python",
   "nbconvert_exporter": "python",
   "pygments_lexer": "ipython3",
   "version": "3.9.13"
  }
 },
 "nbformat": 4,
 "nbformat_minor": 5
}
