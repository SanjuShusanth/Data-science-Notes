{
 "cells": [
  {
   "cell_type": "markdown",
   "id": "87566edf",
   "metadata": {},
   "source": [
    "## Python ?"
   ]
  },
  {
   "cell_type": "markdown",
   "id": "729075b8",
   "metadata": {},
   "source": [
    " * Python is object oriented programming and a high level language used to create web applications development, Machine learning, data analysis etc."
   ]
  },
  {
   "cell_type": "markdown",
   "id": "34ec3a7d",
   "metadata": {},
   "source": [
    "# 1.1 Introduction to Python"
   ]
  },
  {
   "cell_type": "markdown",
   "id": "f63d0d58",
   "metadata": {},
   "source": [
    "## Why Python ?"
   ]
  },
  {
   "cell_type": "markdown",
   "id": "df53b076",
   "metadata": {},
   "source": [
    " * Python has the simple syntax and easy to learn.\n",
    " * It allows the programmer to write programms in fewer lines of code.\n",
    " * Python runs on the interpreter system, that means that code can be executed as soon as the code is written, it means that        Prototyping is very quick.\n",
    " "
   ]
  },
  {
   "cell_type": "markdown",
   "id": "619cda88",
   "metadata": {},
   "source": [
    "## Python Syntax:"
   ]
  },
  {
   "cell_type": "markdown",
   "id": "8c7a0d12",
   "metadata": {},
   "source": [
    " * Python syntax can be written directly in the command line"
   ]
  },
  {
   "cell_type": "code",
   "execution_count": 3,
   "id": "825771c9",
   "metadata": {},
   "outputs": [
    {
     "name": "stdout",
     "output_type": "stream",
     "text": [
      "Hello! World\n"
     ]
    }
   ],
   "source": [
    "print(\"Hello! World\")"
   ]
  },
  {
   "cell_type": "markdown",
   "id": "e148c4ca",
   "metadata": {},
   "source": [
    "## Python Indentation:"
   ]
  },
  {
   "cell_type": "markdown",
   "id": "3b8dcee7",
   "metadata": {},
   "source": [
    "* Indentation refers to the space at the beginning of the code line\n",
    "* It uses the Indentation to indicate the block of code."
   ]
  },
  {
   "cell_type": "code",
   "execution_count": 4,
   "id": "638cb795",
   "metadata": {},
   "outputs": [
    {
     "name": "stdout",
     "output_type": "stream",
     "text": [
      "5\n"
     ]
    }
   ],
   "source": [
    "if 5>0:\n",
    "    print(5)"
   ]
  },
  {
   "cell_type": "markdown",
   "id": "f023891e",
   "metadata": {},
   "source": [
    "# 1.2 Variables:"
   ]
  },
  {
   "cell_type": "markdown",
   "id": "497826ee",
   "metadata": {},
   "source": [
    "* Variable are created when we assign a value to it.\n",
    "* In simple way it is a memory where values are stored.\n",
    "* Python doesn't have a command for declaring a variable."
   ]
  },
  {
   "cell_type": "code",
   "execution_count": 7,
   "id": "694c54ee",
   "metadata": {},
   "outputs": [],
   "source": [
    "a=\"Sanju\"\n",
    "b=45"
   ]
  },
  {
   "cell_type": "markdown",
   "id": "74b524e7",
   "metadata": {},
   "source": [
    "+ In the above example 'sanju' is assigned to a variable 'a' and 45 respectively to 'b'"
   ]
  },
  {
   "cell_type": "markdown",
   "id": "94683df7",
   "metadata": {},
   "source": [
    "## Rules of Declaring a variable:"
   ]
  },
  {
   "cell_type": "markdown",
   "id": "912229da",
   "metadata": {},
   "source": [
    "#### There are some important rules while declaring a variable"
   ]
  },
  {
   "cell_type": "markdown",
   "id": "f4406fac",
   "metadata": {},
   "source": [
    "> * variable name should not begin with the number\n",
    "> * They should not have a gaps while decalring a variable\n",
    "> * Variables are case sensitive, meaning Name and name are considered two different variable."
   ]
  },
  {
   "cell_type": "code",
   "execution_count": 9,
   "id": "3f20bcd2",
   "metadata": {},
   "outputs": [],
   "source": [
    "# 3a = \"Sanju\" # This not the proper way\n",
    "\n",
    "# Id no = 45   # This is not a proper way\n",
    "\n",
    "# Instead we can use like this \n",
    "\n",
    "a3 = \"Sanju\"  # proper way\n",
    "\n",
    "Id_no=45     # proper way"
   ]
  },
  {
   "cell_type": "markdown",
   "id": "8d2bd779",
   "metadata": {},
   "source": [
    "## Comments in Python:"
   ]
  },
  {
   "cell_type": "markdown",
   "id": "8131b0cf",
   "metadata": {},
   "source": [
    "> * Is comments is important in Python ? Yes it is.\n",
    "> * Python has this feature of commenting the in-code documentation.\n",
    "> * It helps to understand the Python code.\n",
    "> * Comments starts with #, as python is interpreted language once the # is type it understands that user is providing some         comments not the code to execute.\n",
    "> * Comments does not have to be text that explains code, but also to prevent the code not to be execute."
   ]
  },
  {
   "cell_type": "code",
   "execution_count": 10,
   "id": "fb424edb",
   "metadata": {},
   "outputs": [
    {
     "name": "stdout",
     "output_type": "stream",
     "text": [
      "coffee\n"
     ]
    }
   ],
   "source": [
    "# Hey print the coffee\n",
    "\n",
    "print(\"coffee\")"
   ]
  },
  {
   "cell_type": "markdown",
   "id": "3beaec3c",
   "metadata": {},
   "source": [
    "### Multilines of code"
   ]
  },
  {
   "cell_type": "code",
   "execution_count": 13,
   "id": "4d77f27e",
   "metadata": {},
   "outputs": [
    {
     "name": "stdout",
     "output_type": "stream",
     "text": [
      "Hello\n"
     ]
    }
   ],
   "source": [
    "# This is to explain\n",
    "# we can use multiple\n",
    "# line of comments\n",
    "\n",
    "\"\"\"Please follow the instruction of python\n",
    "understand the basics \n",
    "you will be a pro one day\"\"\"\n",
    "\n",
    "print(\"Hello\")"
   ]
  },
  {
   "cell_type": "markdown",
   "id": "e774475f",
   "metadata": {},
   "source": [
    "## Type Casting:"
   ]
  },
  {
   "cell_type": "markdown",
   "id": "b59a02c3",
   "metadata": {},
   "source": [
    "> * It is a convertion of one date type into a another datatype.\n",
    "> * For Eg: If a=45, it basically a integer stored in a variable but by using type casting we can change the \"a\" as any data type."
   ]
  },
  {
   "cell_type": "code",
   "execution_count": 16,
   "id": "e69fb0cf",
   "metadata": {},
   "outputs": [
    {
     "data": {
      "text/plain": [
       "int"
      ]
     },
     "execution_count": 16,
     "metadata": {},
     "output_type": "execute_result"
    }
   ],
   "source": [
    "a=int(45)\n",
    "\n",
    "type(a)"
   ]
  },
  {
   "cell_type": "code",
   "execution_count": 27,
   "id": "9e5fdc8a",
   "metadata": {},
   "outputs": [
    {
     "data": {
      "text/plain": [
       "str"
      ]
     },
     "execution_count": 27,
     "metadata": {},
     "output_type": "execute_result"
    }
   ],
   "source": [
    "a = str(\"45\")\n",
    "type(a)"
   ]
  },
  {
   "cell_type": "code",
   "execution_count": 28,
   "id": "1756404c",
   "metadata": {},
   "outputs": [
    {
     "data": {
      "text/plain": [
       "float"
      ]
     },
     "execution_count": 28,
     "metadata": {},
     "output_type": "execute_result"
    }
   ],
   "source": [
    "a=float(45)\n",
    "type(a)"
   ]
  },
  {
   "cell_type": "markdown",
   "id": "a9a07ddd",
   "metadata": {},
   "source": [
    "## Type Function:"
   ]
  },
  {
   "cell_type": "markdown",
   "id": "b4a00dbd",
   "metadata": {},
   "source": [
    "* You can get the data type of a variable with the type() function."
   ]
  },
  {
   "cell_type": "code",
   "execution_count": 32,
   "id": "74a85eb7",
   "metadata": {},
   "outputs": [
    {
     "name": "stdout",
     "output_type": "stream",
     "text": [
      "<class 'int'>\n",
      "<class 'str'>\n",
      "<class 'float'>\n",
      "<class 'bool'>\n",
      "<class 'complex'>\n"
     ]
    }
   ],
   "source": [
    "x = 5\n",
    "y = \"Sanju\"\n",
    "z = 45.9\n",
    "a = True\n",
    "b = 2+3j\n",
    "\n",
    "print(type(x))\n",
    "print(type(y))\n",
    "print(type(z))\n",
    "print(type(a))\n",
    "print(type(b))"
   ]
  },
  {
   "cell_type": "markdown",
   "id": "c291831f",
   "metadata": {},
   "source": [
    "## Why variable are Case sensitive ?"
   ]
  },
  {
   "cell_type": "markdown",
   "id": "af6e7fa5",
   "metadata": {},
   "source": [
    " As we discussed earlier will explain you with an example\n",
    " \n",
    " Below example shows that python understands that both are not the same, they are considered to be a different variable."
   ]
  },
  {
   "cell_type": "code",
   "execution_count": 33,
   "id": "85dd63de",
   "metadata": {},
   "outputs": [],
   "source": [
    "Name = \"Sanju\"\n",
    "name = 4"
   ]
  },
  {
   "cell_type": "code",
   "execution_count": 34,
   "id": "089f2fe4",
   "metadata": {},
   "outputs": [
    {
     "name": "stdout",
     "output_type": "stream",
     "text": [
      "Sanju\n",
      "4\n"
     ]
    }
   ],
   "source": [
    "print(Name)\n",
    "print(name)"
   ]
  },
  {
   "cell_type": "markdown",
   "id": "7b4568f2",
   "metadata": {},
   "source": [
    "## Multiple variable :"
   ]
  },
  {
   "cell_type": "markdown",
   "id": "a6d64ec0",
   "metadata": {},
   "source": [
    "Python allows to assign multiple values in one line:"
   ]
  },
  {
   "cell_type": "code",
   "execution_count": 35,
   "id": "762a00ee",
   "metadata": {},
   "outputs": [
    {
     "name": "stdout",
     "output_type": "stream",
     "text": [
      "Apple\n",
      "orange\n",
      "Banana\n"
     ]
    }
   ],
   "source": [
    "x,y,z =\"Apple\",\"orange\",\"Banana\"\n",
    "\n",
    "print(x)\n",
    "print(y)\n",
    "print(z)"
   ]
  },
  {
   "cell_type": "markdown",
   "id": "2bffe493",
   "metadata": {},
   "source": [
    "We can also assign the same value to mutiple variable"
   ]
  },
  {
   "cell_type": "code",
   "execution_count": 36,
   "id": "592c92b2",
   "metadata": {},
   "outputs": [
    {
     "name": "stdout",
     "output_type": "stream",
     "text": [
      "Banana\n",
      "Banana\n",
      "Banana\n"
     ]
    }
   ],
   "source": [
    "x=y=z='Banana'\n",
    "\n",
    "print(x)\n",
    "print(y)\n",
    "print(z)"
   ]
  },
  {
   "cell_type": "markdown",
   "id": "dcd43f2a",
   "metadata": {},
   "source": [
    "## Print Function : "
   ]
  },
  {
   "cell_type": "markdown",
   "id": "dffa2b9e",
   "metadata": {},
   "source": [
    "The Python `print()` function is often used to output variables."
   ]
  },
  {
   "cell_type": "code",
   "execution_count": 37,
   "id": "590a968d",
   "metadata": {},
   "outputs": [
    {
     "name": "stdout",
     "output_type": "stream",
     "text": [
      "12\n",
      "Sanju is analyst\n"
     ]
    }
   ],
   "source": [
    "a = 12\n",
    "print(a)\n",
    "\n",
    "B = \"Sanju is analyst\"\n",
    "print(B)"
   ]
  },
  {
   "cell_type": "markdown",
   "id": "9dd33340",
   "metadata": {},
   "source": [
    "## Functionalities of Print functions:"
   ]
  },
  {
   "cell_type": "markdown",
   "id": "a1260fb5",
   "metadata": {},
   "source": [
    " * `\\n` - it is used for printing in a new line\n",
    " \n",
    " * `sep`- it is used to seperate the two output "
   ]
  },
  {
   "cell_type": "code",
   "execution_count": 38,
   "id": "d08a2852",
   "metadata": {},
   "outputs": [
    {
     "name": "stdout",
     "output_type": "stream",
     "text": [
      "Hello! \n",
      " World\n",
      "Apple orange Banana\n"
     ]
    }
   ],
   "source": [
    "print(\"Hello! \\n World\")\n",
    "\n",
    "x = \"Apple\"\n",
    "y = \"orange\"\n",
    "z = \"Banana\"\n",
    "\n",
    "print(x,y,z)"
   ]
  },
  {
   "cell_type": "markdown",
   "id": "5195c9d6",
   "metadata": {},
   "source": [
    "### Variable concatenation:"
   ]
  },
  {
   "cell_type": "markdown",
   "id": "efd21004",
   "metadata": {},
   "source": [
    "* We can use the operator `+` to concatenate the multiple variable \n",
    "* We cannot concatenate both strings and interger or float.\n",
    "* For numbers, the `+` character works as a mathematical operator\n",
    "* In the `print()` function, when you try to combine a string and a number with the `+` operator, Python will give you an error\n",
    "* So the best way to output the variable with different datatype in `print()` function is to use comma. "
   ]
  },
  {
   "cell_type": "code",
   "execution_count": 42,
   "id": "f548b138",
   "metadata": {},
   "outputs": [
    {
     "name": "stdout",
     "output_type": "stream",
     "text": [
      "AppleOrangeBanana\n"
     ]
    }
   ],
   "source": [
    "x = \"Apple\"\n",
    "y = \"Orange\"\n",
    "z = \"Banana\"\n",
    "\n",
    "print(x + y + z)"
   ]
  },
  {
   "cell_type": "code",
   "execution_count": 43,
   "id": "fe26d47f",
   "metadata": {},
   "outputs": [
    {
     "name": "stdout",
     "output_type": "stream",
     "text": [
      "62\n"
     ]
    }
   ],
   "source": [
    "x = 58\n",
    "\n",
    "y = 4\n",
    "\n",
    "print(x+y)"
   ]
  },
  {
   "cell_type": "code",
   "execution_count": 44,
   "id": "678b3576",
   "metadata": {},
   "outputs": [
    {
     "ename": "TypeError",
     "evalue": "unsupported operand type(s) for +: 'int' and 'str'",
     "output_type": "error",
     "traceback": [
      "\u001b[1;31m---------------------------------------------------------------------------\u001b[0m",
      "\u001b[1;31mTypeError\u001b[0m                                 Traceback (most recent call last)",
      "\u001b[1;32m~\\AppData\\Local\\Temp\\ipykernel_11460\\1989821626.py\u001b[0m in \u001b[0;36m<module>\u001b[1;34m\u001b[0m\n\u001b[0;32m      1\u001b[0m \u001b[0mx\u001b[0m \u001b[1;33m=\u001b[0m \u001b[1;36m5\u001b[0m\u001b[1;33m\u001b[0m\u001b[1;33m\u001b[0m\u001b[0m\n\u001b[0;32m      2\u001b[0m \u001b[0my\u001b[0m \u001b[1;33m=\u001b[0m \u001b[1;34m\"John\"\u001b[0m\u001b[1;33m\u001b[0m\u001b[1;33m\u001b[0m\u001b[0m\n\u001b[1;32m----> 3\u001b[1;33m \u001b[0mprint\u001b[0m\u001b[1;33m(\u001b[0m\u001b[0mx\u001b[0m \u001b[1;33m+\u001b[0m \u001b[0my\u001b[0m\u001b[1;33m)\u001b[0m\u001b[1;33m\u001b[0m\u001b[1;33m\u001b[0m\u001b[0m\n\u001b[0m",
      "\u001b[1;31mTypeError\u001b[0m: unsupported operand type(s) for +: 'int' and 'str'"
     ]
    }
   ],
   "source": [
    "x = 5\n",
    "y = \"John\"\n",
    "print(x + y)"
   ]
  },
  {
   "cell_type": "markdown",
   "id": "d5ffa586",
   "metadata": {},
   "source": [
    "* But it can be done by typecasting"
   ]
  },
  {
   "cell_type": "code",
   "execution_count": 49,
   "id": "c5864f2d",
   "metadata": {},
   "outputs": [
    {
     "name": "stdout",
     "output_type": "stream",
     "text": [
      "5John\n"
     ]
    }
   ],
   "source": [
    "x = 5\n",
    "y = \"John\"\n",
    "print(str(x) + y)"
   ]
  },
  {
   "cell_type": "code",
   "execution_count": 46,
   "id": "cea14595",
   "metadata": {},
   "outputs": [
    {
     "name": "stdout",
     "output_type": "stream",
     "text": [
      "5 John\n"
     ]
    }
   ],
   "source": [
    "x = 5\n",
    "y = \"John\"\n",
    "\n",
    "print(x,y)"
   ]
  },
  {
   "cell_type": "markdown",
   "id": "da2bbf8f",
   "metadata": {},
   "source": [
    "##  Data Types"
   ]
  },
  {
   "cell_type": "markdown",
   "id": "ab986a7b",
   "metadata": {},
   "source": [
    "* Data type is a classification of data in which the type of value they hold.\n",
    "\n",
    "* Built-in datatypes\n",
    "\n",
    "> * Text type : str\n",
    "\n",
    "> * Numeric Types:\tint, float, complex\n",
    "\n",
    "> * Sequence Types:\tlist, tuple, range\n",
    "\n",
    "> * Mapping Type:\tdict\n",
    "\n",
    "> * Set Types:\tset, frozenset\n",
    "\n",
    "> * Boolean Type:\tbool\n",
    "\n",
    "> * Binary Types:\tbytes, bytearray, memoryview\n",
    "\n",
    "> * None Type:\tNoneType\n"
   ]
  },
  {
   "cell_type": "markdown",
   "id": "cada6622",
   "metadata": {},
   "source": [
    "> 1. string - It is a sequence of characters (\"Hello! Sanju\")\n",
    "\n",
    "\n",
    "\n",
    "> 2. Integers - A whole number\n",
    "\n",
    "\n",
    "\n",
    "> 3. Float - A number with a decimal point\n",
    "\n",
    "\n",
    "\n",
    "> 4. Boolean - A datatype that has only two value `True` or `False`\n",
    "\n",
    "\n",
    "\n",
    "> 5. Complex - Which will be in a format of a+bj\n",
    "\n",
    "\n",
    "\n",
    "> 6. List - An ordered collection of values\n",
    "\n",
    "\n",
    "\n",
    "> 7. Tuple - An ordered, immutable collection of values\n",
    "\n",
    "\n",
    "\n",
    "> 8. Dictionary - An unordered collection of Key and value pairs\n",
    "\n",
    "\n",
    "\n",
    "> 9. Set - An unordered collection of values."
   ]
  },
  {
   "cell_type": "markdown",
   "id": "a8539205",
   "metadata": {},
   "source": [
    "# 1.3 String Data type"
   ]
  },
  {
   "cell_type": "markdown",
   "id": "e03e142e",
   "metadata": {},
   "source": [
    " * A string is sequence of characters which is surrounded by either single quote or double quote\n",
    " * Strings are immutable, means that we cannot change or modify the values inside the string."
   ]
  },
  {
   "cell_type": "code",
   "execution_count": 50,
   "id": "bfaabee3",
   "metadata": {},
   "outputs": [
    {
     "name": "stdout",
     "output_type": "stream",
     "text": [
      "Hello\n"
     ]
    }
   ],
   "source": [
    "print(\"Hello\")"
   ]
  },
  {
   "cell_type": "code",
   "execution_count": 53,
   "id": "4cf356a6",
   "metadata": {},
   "outputs": [
    {
     "ename": "TypeError",
     "evalue": "'str' object does not support item assignment",
     "output_type": "error",
     "traceback": [
      "\u001b[1;31m---------------------------------------------------------------------------\u001b[0m",
      "\u001b[1;31mTypeError\u001b[0m                                 Traceback (most recent call last)",
      "\u001b[1;32m~\\AppData\\Local\\Temp\\ipykernel_11460\\1141715802.py\u001b[0m in \u001b[0;36m<module>\u001b[1;34m\u001b[0m\n\u001b[0;32m      1\u001b[0m \u001b[0ma\u001b[0m \u001b[1;33m=\u001b[0m \u001b[1;34m\"Sanju\"\u001b[0m\u001b[1;33m\u001b[0m\u001b[1;33m\u001b[0m\u001b[0m\n\u001b[1;32m----> 2\u001b[1;33m \u001b[0ma\u001b[0m\u001b[1;33m[\u001b[0m\u001b[1;36m0\u001b[0m\u001b[1;33m]\u001b[0m \u001b[1;33m=\u001b[0m \u001b[1;34m\"D\"\u001b[0m\u001b[1;33m\u001b[0m\u001b[1;33m\u001b[0m\u001b[0m\n\u001b[0m",
      "\u001b[1;31mTypeError\u001b[0m: 'str' object does not support item assignment"
     ]
    }
   ],
   "source": [
    "## We get error if we try to change the characters or elements inside the string.\n",
    "\n",
    "a = \"Sanju\"\n",
    "a[0] = \"D\""
   ]
  },
  {
   "cell_type": "markdown",
   "id": "f34ba2d5",
   "metadata": {},
   "source": [
    "### Looping through string "
   ]
  },
  {
   "cell_type": "markdown",
   "id": "abe29d1e",
   "metadata": {},
   "source": [
    "* We can loop through the characters in string with `for` loop"
   ]
  },
  {
   "cell_type": "code",
   "execution_count": 55,
   "id": "85afac51",
   "metadata": {},
   "outputs": [
    {
     "name": "stdout",
     "output_type": "stream",
     "text": [
      "O\n",
      "r\n",
      "a\n",
      "n\n",
      "g\n",
      "e\n"
     ]
    }
   ],
   "source": [
    "Fruit = \"Orange\"\n",
    "\n",
    "for i in Fruit:\n",
    "    print(i)"
   ]
  },
  {
   "cell_type": "markdown",
   "id": "99aaa915",
   "metadata": {},
   "source": [
    "### String Length"
   ]
  },
  {
   "cell_type": "markdown",
   "id": "8c1b9066",
   "metadata": {},
   "source": [
    "* To find out the length of the `str` we can use in-built function `len()`"
   ]
  },
  {
   "cell_type": "code",
   "execution_count": 58,
   "id": "24762876",
   "metadata": {},
   "outputs": [
    {
     "name": "stdout",
     "output_type": "stream",
     "text": [
      "6\n"
     ]
    }
   ],
   "source": [
    "Fruit = \"Orange\"\n",
    "\n",
    "print(len(Fruit))"
   ]
  },
  {
   "cell_type": "markdown",
   "id": "92d72f05",
   "metadata": {},
   "source": [
    "### Check string"
   ]
  },
  {
   "cell_type": "markdown",
   "id": "64dcc732",
   "metadata": {},
   "source": [
    "* To check whether the certain character is present in the string by using a keyword `in` "
   ]
  },
  {
   "cell_type": "code",
   "execution_count": 60,
   "id": "67c67ba4",
   "metadata": {},
   "outputs": [
    {
     "name": "stdout",
     "output_type": "stream",
     "text": [
      "True\n"
     ]
    }
   ],
   "source": [
    "Day = 'Monday is a weekday'\n",
    "\n",
    "print(\"Monday\" in Day)"
   ]
  },
  {
   "cell_type": "markdown",
   "id": "aac8858d",
   "metadata": {},
   "source": [
    "By using `if` statement"
   ]
  },
  {
   "cell_type": "code",
   "execution_count": 65,
   "id": "3da3e719",
   "metadata": {},
   "outputs": [
    {
     "name": "stdout",
     "output_type": "stream",
     "text": [
      "True\n"
     ]
    }
   ],
   "source": [
    "Day = 'Tuesday'\n",
    "\n",
    "if \"Tuesday\" in Day:\n",
    "    print(True)"
   ]
  },
  {
   "cell_type": "markdown",
   "id": "af48bac0",
   "metadata": {},
   "source": [
    "* To check whether the certain character is not present in string by using a keyword `not in`"
   ]
  },
  {
   "cell_type": "code",
   "execution_count": 66,
   "id": "b4903abd",
   "metadata": {},
   "outputs": [
    {
     "name": "stdout",
     "output_type": "stream",
     "text": [
      "True\n"
     ]
    }
   ],
   "source": [
    "Day  = \"Monday is a weekday\"\n",
    "\n",
    "print(\"Tuesday\" not in Day)"
   ]
  },
  {
   "cell_type": "markdown",
   "id": "d5835c88",
   "metadata": {},
   "source": [
    "By using `if` statement"
   ]
  },
  {
   "cell_type": "code",
   "execution_count": 67,
   "id": "ddf36227",
   "metadata": {},
   "outputs": [
    {
     "name": "stdout",
     "output_type": "stream",
     "text": [
      "Monday is a weekday\n"
     ]
    }
   ],
   "source": [
    "Day  = \"Monday is a weekday\"\n",
    "\n",
    "if \"tuesday\" not in Day:\n",
    "    print(\"Monday is a weekday\")"
   ]
  },
  {
   "cell_type": "markdown",
   "id": "9587043a",
   "metadata": {},
   "source": [
    "### Slicing "
   ]
  },
  {
   "cell_type": "markdown",
   "id": "27771247",
   "metadata": {},
   "source": [
    "* Slicing is a method used to retrive or return the elements or the characters by using slice syntax\n",
    "* It has a start stop and step values, it is specified by using colon in between\n",
    "* Importantly slicing is done by using `[]` square brackets only."
   ]
  },
  {
   "cell_type": "code",
   "execution_count": 69,
   "id": "b14d6632",
   "metadata": {},
   "outputs": [
    {
     "data": {
      "text/plain": [
       "'Monday is a weekday'"
      ]
     },
     "execution_count": 69,
     "metadata": {},
     "output_type": "execute_result"
    }
   ],
   "source": [
    "Day"
   ]
  },
  {
   "cell_type": "code",
   "execution_count": 70,
   "id": "62919a5b",
   "metadata": {},
   "outputs": [
    {
     "data": {
      "text/plain": [
       "'day is a weekday'"
      ]
     },
     "execution_count": 70,
     "metadata": {},
     "output_type": "execute_result"
    }
   ],
   "source": [
    "## I want day is weekday.\n",
    "\n",
    "Day[3::1]"
   ]
  },
  {
   "cell_type": "code",
   "execution_count": 75,
   "id": "37d857ba",
   "metadata": {},
   "outputs": [
    {
     "data": {
      "text/plain": [
       "'yadkeew a si yadnoM'"
      ]
     },
     "execution_count": 75,
     "metadata": {},
     "output_type": "execute_result"
    }
   ],
   "source": [
    "## I want the reverse of this\n",
    "\n",
    "Day[::-1]"
   ]
  },
  {
   "cell_type": "code",
   "execution_count": 87,
   "id": "5c5acdda",
   "metadata": {},
   "outputs": [
    {
     "data": {
      "text/plain": [
       "'Monday is a weekday'"
      ]
     },
     "execution_count": 87,
     "metadata": {},
     "output_type": "execute_result"
    }
   ],
   "source": [
    "Day[-19::]"
   ]
  },
  {
   "cell_type": "markdown",
   "id": "246b99ca",
   "metadata": {},
   "source": [
    "### String Concatenation:"
   ]
  },
  {
   "cell_type": "markdown",
   "id": "7af64f07",
   "metadata": {},
   "source": [
    " * It is a method to combine or concatenate the two string by using `+` operator "
   ]
  },
  {
   "cell_type": "code",
   "execution_count": 89,
   "id": "0258212a",
   "metadata": {},
   "outputs": [
    {
     "name": "stdout",
     "output_type": "stream",
     "text": [
      "Sanju Nandhu\n"
     ]
    }
   ],
   "source": [
    "print(\"Sanju\"+\" Nandhu\")"
   ]
  },
  {
   "cell_type": "code",
   "execution_count": 90,
   "id": "72b1c9c1",
   "metadata": {},
   "outputs": [
    {
     "name": "stdout",
     "output_type": "stream",
     "text": [
      "Sanju Nandhu\n"
     ]
    }
   ],
   "source": [
    "a= \"Sanju\"\n",
    "b = 'Nandhu'\n",
    "\n",
    "print(a + \" \" + b)"
   ]
  },
  {
   "cell_type": "markdown",
   "id": "b6dd88b1",
   "metadata": {},
   "source": [
    "* But remember one thing we cannot concatenate string with integer it will give error\n",
    "* Because it can only concatenate with strings"
   ]
  },
  {
   "cell_type": "code",
   "execution_count": 91,
   "id": "bbbb2048",
   "metadata": {},
   "outputs": [
    {
     "ename": "TypeError",
     "evalue": "can only concatenate str (not \"int\") to str",
     "output_type": "error",
     "traceback": [
      "\u001b[1;31m---------------------------------------------------------------------------\u001b[0m",
      "\u001b[1;31mTypeError\u001b[0m                                 Traceback (most recent call last)",
      "\u001b[1;32m~\\AppData\\Local\\Temp\\ipykernel_11460\\2123792766.py\u001b[0m in \u001b[0;36m<module>\u001b[1;34m\u001b[0m\n\u001b[1;32m----> 1\u001b[1;33m \u001b[0mprint\u001b[0m\u001b[1;33m(\u001b[0m\u001b[1;34m\"Sanju\"\u001b[0m \u001b[1;33m+\u001b[0m \u001b[1;36m19\u001b[0m\u001b[1;33m)\u001b[0m\u001b[1;33m\u001b[0m\u001b[1;33m\u001b[0m\u001b[0m\n\u001b[0m",
      "\u001b[1;31mTypeError\u001b[0m: can only concatenate str (not \"int\") to str"
     ]
    }
   ],
   "source": [
    "print(\"Sanju\" + 19)"
   ]
  },
  {
   "cell_type": "markdown",
   "id": "decdf998",
   "metadata": {},
   "source": [
    "* Point to be remembered: We know that we can't concatenate str with int but there is an another way to include in the string by using format string."
   ]
  },
  {
   "cell_type": "markdown",
   "id": "d0686558",
   "metadata": {},
   "source": [
    "### Format strings"
   ]
  },
  {
   "cell_type": "markdown",
   "id": "14beb16e",
   "metadata": {},
   "source": [
    " * Format strings passes the arguments, format them and places them in the string where the place holders are specified "
   ]
  },
  {
   "cell_type": "markdown",
   "id": "d4921a0c",
   "metadata": {},
   "source": [
    "* By using `.format`"
   ]
  },
  {
   "cell_type": "code",
   "execution_count": 92,
   "id": "7184aaf5",
   "metadata": {},
   "outputs": [
    {
     "name": "stdout",
     "output_type": "stream",
     "text": [
      "Sanju is a dataanalyst at age of 30\n"
     ]
    }
   ],
   "source": [
    "## print - Sanju will be dataanalyst at age of 30\n",
    "\n",
    "age = 30\n",
    "\n",
    "print(\"Sanju is a dataanalyst at age of {}\".format(age))"
   ]
  },
  {
   "cell_type": "markdown",
   "id": "cf82ab8f",
   "metadata": {},
   "source": [
    "* By using `fstring`"
   ]
  },
  {
   "cell_type": "code",
   "execution_count": 94,
   "id": "fa9412b7",
   "metadata": {},
   "outputs": [
    {
     "name": "stdout",
     "output_type": "stream",
     "text": [
      "Sanju is a dataanalyst at age of 30\n"
     ]
    }
   ],
   "source": [
    "age = 30\n",
    "\n",
    "print(f\"Sanju is a dataanalyst at age of {age}\")"
   ]
  },
  {
   "cell_type": "markdown",
   "id": "4d2953a2",
   "metadata": {},
   "source": [
    "### Escape Characters"
   ]
  },
  {
   "cell_type": "markdown",
   "id": "0d5f9900",
   "metadata": {},
   "source": [
    "* Escape characters are the special characters, they are used for different purpose:"
   ]
  },
  {
   "cell_type": "markdown",
   "id": "d1948567",
   "metadata": {},
   "source": [
    ">(\\') \tSingle quote\n",
    "\n",
    "> \\\\\tBackslash\t\n",
    "\n",
    "> \\n\tNew Line\t\n",
    "\n",
    "> \\t\tTab\t\n",
    "\n",
    "> \\b\tBackspace"
   ]
  },
  {
   "cell_type": "markdown",
   "id": "a4c7595e",
   "metadata": {},
   "source": [
    "* We have be very carefuly while using the quotes, because we can use the sames quotes inside the print function it will provide the error "
   ]
  },
  {
   "cell_type": "code",
   "execution_count": 99,
   "id": "9f33e196",
   "metadata": {},
   "outputs": [
    {
     "name": "stdout",
     "output_type": "stream",
     "text": [
      "Sanju is an analyst's son\n",
      "Sanju is an analyst's son\n"
     ]
    }
   ],
   "source": [
    "## \\' Single quote \n",
    "\n",
    "## print('Sanju is an analyst's son') ## This is not the right way\n",
    "\n",
    "print('Sanju is an analyst\\'s son')  ## this is the right way\n",
    "print(\"Sanju is an analyst's son\")   ## this is also the right way"
   ]
  },
  {
   "cell_type": "code",
   "execution_count": 100,
   "id": "a9683a5f",
   "metadata": {},
   "outputs": [
    {
     "name": "stdout",
     "output_type": "stream",
     "text": [
      "Sanju\\is an analyst\n"
     ]
    }
   ],
   "source": [
    "## \\\\ Backslash - This will insert one slash \n",
    "\n",
    "print(\"Sanju\\\\is an analyst\")"
   ]
  },
  {
   "cell_type": "code",
   "execution_count": 101,
   "id": "31683ee3",
   "metadata": {},
   "outputs": [
    {
     "name": "stdout",
     "output_type": "stream",
     "text": [
      "Sanju is an\n",
      " analyst\n"
     ]
    }
   ],
   "source": [
    "## \\n New line - This will create a new line.\n",
    "\n",
    "print(\"Sanju is an\\n analyst\")"
   ]
  },
  {
   "cell_type": "code",
   "execution_count": 111,
   "id": "d4352e94",
   "metadata": {},
   "outputs": [
    {
     "name": "stdout",
     "output_type": "stream",
     "text": [
      "Sanju is\tan analyst\n"
     ]
    }
   ],
   "source": [
    "## \\t tab - it provides space between the elements in the string\n",
    "\n",
    "print(\"Sanju is\\tan analyst\")"
   ]
  },
  {
   "cell_type": "code",
   "execution_count": 114,
   "id": "106958d8",
   "metadata": {},
   "outputs": [
    {
     "name": "stdout",
     "output_type": "stream",
     "text": [
      "Sanju is an analysts\b\n"
     ]
    }
   ],
   "source": [
    "## \\b backspace - it acts as a backspace.\n",
    "\n",
    "print(\"Sanju is an analysts\\b\")"
   ]
  },
  {
   "cell_type": "markdown",
   "id": "2f6f2567",
   "metadata": {},
   "source": [
    "### String Methods"
   ]
  },
  {
   "cell_type": "markdown",
   "id": "567d8ca8",
   "metadata": {},
   "source": [
    "> `capitalize()`    \n",
    "\n",
    "> `casefold()`\t    \n",
    "\n",
    "> `center()`\t    \n",
    "\n",
    "> `count()`\t\n",
    "\n",
    "> `encode()`\t\n",
    "\n",
    "> `endswith()`\n",
    "\n",
    "> `expandtabs()`\t\n",
    "\n",
    "> `find()`\t\n",
    "\n",
    "> `format()`\t\n",
    "\n",
    "> `format_map()`\t\n",
    "\n",
    "> `index()`\t\n",
    "\n",
    "> `isalnum()`\t\n",
    "\n",
    "> `isalpha()`\t\n",
    "\n",
    "> `isdecimal()`\t\n",
    "\n",
    "> `isdigit()`\t\n",
    "\n",
    "> `isidentifier()`\t\n",
    "\n",
    "> `islower()`\t\n",
    "\n",
    "> `isnumeric()`\t\n",
    "\n",
    "> `isprintable()`\t\n",
    "\n",
    "> `isspace()`\n",
    "\n",
    "> `istitle()`\t\n",
    "\n",
    "> `isupper()`\t\n",
    "\n",
    "> `join()`\t\n",
    "\n",
    "> `ljust()`\t\n",
    "\n",
    "> `lower()`\t\n",
    "\n",
    "> `lstrip()`\t\n",
    "\n",
    "> `maketrans()`\t\n",
    "\n",
    "> `partition()`\t\n",
    "\n",
    "> `replace()`\t\n",
    "\n",
    "> `rfind()`\t\n",
    "\n",
    "> `rindex()`\t\n",
    "\n",
    "> `rjust()`\t\n",
    "\n",
    "> `rpartition()`\t\n",
    "\n",
    "> `rsplit()`\t\n",
    "\n",
    "> `rstrip()`\t\n",
    "\n",
    "> `split()`\t\n",
    "\n",
    "> `splitlines()`\t\n",
    "\n",
    "> `startswith()`\t\n",
    "\n",
    "> `strip()`\t\n",
    "\n",
    "> `swapcase()`\t\n",
    "\n",
    "> `title()`\t\n",
    "\n",
    "> `translate()`\t\n",
    "\n",
    "> `upper()`\t\n",
    "\n",
    "> `zfill()`\t"
   ]
  },
  {
   "cell_type": "code",
   "execution_count": 126,
   "id": "51fcc4ee",
   "metadata": {},
   "outputs": [],
   "source": [
    "A = \"Data Science is Fast growing technology\""
   ]
  },
  {
   "cell_type": "code",
   "execution_count": 122,
   "id": "fd67f1da",
   "metadata": {},
   "outputs": [
    {
     "data": {
      "text/plain": [
       "'Data science is fast growing technology'"
      ]
     },
     "execution_count": 122,
     "metadata": {},
     "output_type": "execute_result"
    }
   ],
   "source": [
    "A.capitalize() # Converts only the first character in upper case"
   ]
  },
  {
   "cell_type": "code",
   "execution_count": 123,
   "id": "24ee8272",
   "metadata": {},
   "outputs": [
    {
     "data": {
      "text/plain": [
       "'data science is fast growing technology'"
      ]
     },
     "execution_count": 123,
     "metadata": {},
     "output_type": "execute_result"
    }
   ],
   "source": [
    "A.casefold() # Converts entire character in lower case"
   ]
  },
  {
   "cell_type": "code",
   "execution_count": 141,
   "id": "bbf7a74f",
   "metadata": {},
   "outputs": [
    {
     "data": {
      "text/plain": [
       "'        Baby        '"
      ]
     },
     "execution_count": 141,
     "metadata": {},
     "output_type": "execute_result"
    }
   ],
   "source": [
    "b = \"Baby\" \n",
    "\n",
    "bc = b.center(20) # it returns a center string\n",
    "\n",
    "bc"
   ]
  },
  {
   "cell_type": "code",
   "execution_count": 145,
   "id": "90fc27db",
   "metadata": {},
   "outputs": [
    {
     "data": {
      "text/plain": [
       "1"
      ]
     },
     "execution_count": 145,
     "metadata": {},
     "output_type": "execute_result"
    }
   ],
   "source": [
    "A.count(\"Data Science\") # Return the number of times the value \"Data Science\" appears in the string:"
   ]
  },
  {
   "cell_type": "code",
   "execution_count": 148,
   "id": "e329188a",
   "metadata": {},
   "outputs": [
    {
     "data": {
      "text/plain": [
       "True"
      ]
     },
     "execution_count": 148,
     "metadata": {},
     "output_type": "execute_result"
    }
   ],
   "source": [
    "A.endswith(\"y\") # Returns true if the strings end with the specified value"
   ]
  },
  {
   "cell_type": "code",
   "execution_count": 155,
   "id": "d230068b",
   "metadata": {},
   "outputs": [],
   "source": [
    "cd = \"Sanju is a data\\tanalyst\\tbut he is a theif\\trobber many places\""
   ]
  },
  {
   "cell_type": "code",
   "execution_count": 156,
   "id": "9f424ff0",
   "metadata": {},
   "outputs": [
    {
     "data": {
      "text/plain": [
       "'Sanju is a data analyst but he is a theif robber many places'"
      ]
     },
     "execution_count": 156,
     "metadata": {},
     "output_type": "execute_result"
    }
   ],
   "source": [
    "cd.expandtabs(tabsize=1) # Sets the tab size of the string"
   ]
  },
  {
   "cell_type": "code",
   "execution_count": 160,
   "id": "41890901",
   "metadata": {},
   "outputs": [
    {
     "data": {
      "text/plain": [
       "36"
      ]
     },
     "execution_count": 160,
     "metadata": {},
     "output_type": "execute_result"
    }
   ],
   "source": [
    "cd.find(\"theif\") # It searches and returns the postion of the specified value in the string"
   ]
  },
  {
   "cell_type": "code",
   "execution_count": 172,
   "id": "ee30c1d8",
   "metadata": {},
   "outputs": [
    {
     "data": {
      "text/plain": [
       "21"
      ]
     },
     "execution_count": 172,
     "metadata": {},
     "output_type": "execute_result"
    }
   ],
   "source": [
    "A.index(\"growing\") # It searches and returns the postion of the specified value in the string"
   ]
  },
  {
   "cell_type": "code",
   "execution_count": 173,
   "id": "f3f6b9f9",
   "metadata": {},
   "outputs": [
    {
     "data": {
      "text/plain": [
       "False"
      ]
     },
     "execution_count": 173,
     "metadata": {},
     "output_type": "execute_result"
    }
   ],
   "source": [
    "A.isalnum() # Returns True if all characters in the string are alphanumeric"
   ]
  },
  {
   "cell_type": "code",
   "execution_count": 177,
   "id": "8c337ef3",
   "metadata": {},
   "outputs": [
    {
     "data": {
      "text/plain": [
       "False"
      ]
     },
     "execution_count": 177,
     "metadata": {},
     "output_type": "execute_result"
    }
   ],
   "source": [
    "C = \"Monkey\" # Return true if all the characters are alphabetic or else returns False.\n",
    "\n",
    "C.isalpha()"
   ]
  },
  {
   "cell_type": "code",
   "execution_count": 181,
   "id": "b5f1a8fc",
   "metadata": {},
   "outputs": [
    {
     "data": {
      "text/plain": [
       "'DATA SCIENCE IS FAST GROWING TECHNOLOGY'"
      ]
     },
     "execution_count": 181,
     "metadata": {},
     "output_type": "execute_result"
    }
   ],
   "source": [
    "A.upper() # Returns all the character in the upper string"
   ]
  },
  {
   "cell_type": "code",
   "execution_count": 183,
   "id": "8f8ee130",
   "metadata": {},
   "outputs": [
    {
     "data": {
      "text/plain": [
       "'Data Science Is Fast Growing Technology'"
      ]
     },
     "execution_count": 183,
     "metadata": {},
     "output_type": "execute_result"
    }
   ],
   "source": [
    "A.title() # Returns all the first letter in the string upper case"
   ]
  },
  {
   "cell_type": "code",
   "execution_count": 184,
   "id": "1514aa3c",
   "metadata": {},
   "outputs": [
    {
     "data": {
      "text/plain": [
       "'dATA sCIENCE IS fAST GROWING TECHNOLOGY'"
      ]
     },
     "execution_count": 184,
     "metadata": {},
     "output_type": "execute_result"
    }
   ],
   "source": [
    "A.swapcase() # In this it returns upper case as lower case and lower case as upper case"
   ]
  },
  {
   "cell_type": "code",
   "execution_count": 185,
   "id": "15d9d622",
   "metadata": {},
   "outputs": [
    {
     "data": {
      "text/plain": [
       "False"
      ]
     },
     "execution_count": 185,
     "metadata": {},
     "output_type": "execute_result"
    }
   ],
   "source": [
    "A.islower() # Returns True if the string is lower case"
   ]
  },
  {
   "cell_type": "code",
   "execution_count": 197,
   "id": "a5f03768",
   "metadata": {},
   "outputs": [
    {
     "data": {
      "text/plain": [
       "False"
      ]
     },
     "execution_count": 197,
     "metadata": {},
     "output_type": "execute_result"
    }
   ],
   "source": [
    "A.isnumeric() # returns True if the string has only numberical values"
   ]
  },
  {
   "cell_type": "code",
   "execution_count": 201,
   "id": "938c84ee",
   "metadata": {},
   "outputs": [
    {
     "data": {
      "text/plain": [
       "False"
      ]
     },
     "execution_count": 201,
     "metadata": {},
     "output_type": "execute_result"
    }
   ],
   "source": [
    "A.istitle() # Returns True if the string follows the rules of a title"
   ]
  },
  {
   "cell_type": "markdown",
   "id": "b2a6cb10",
   "metadata": {},
   "source": [
    "# 1.4 Control Statements in Python:"
   ]
  },
  {
   "cell_type": "markdown",
   "id": "60c0e440",
   "metadata": {},
   "source": [
    "Python supports the usual logical conditions from mathematics:\n",
    "\n",
    "* Equals: a == b\n",
    "* Not Equals: a != b\n",
    "* Less than: a < b\n",
    "* Less than or equal to: a <= b\n",
    "* Greater than: a > b\n",
    "* Greater than or equal to: a >= b\n",
    "\n",
    "These conditions can be used in several ways, most commonly in \"if statements\" and loops."
   ]
  },
  {
   "cell_type": "markdown",
   "id": "07a98169",
   "metadata": {},
   "source": [
    "* If statement   - It is a conditional statement where it checks the conditions.\n",
    "* Else statement - It is a optional statement when the if condition is not satisified then else will be executed. Only once the                    else statement can be is used.\n",
    "* Elif statement - It is also an optional statement when the if condition is not satisfied then elif will be executed, the only                    difference between efif and else is, elif can be repeated but only one else can be excuted. "
   ]
  },
  {
   "cell_type": "markdown",
   "id": "61d42b22",
   "metadata": {},
   "source": [
    "### If and Else Statement: It executes the block of code based on the condition is True or False"
   ]
  },
  {
   "cell_type": "code",
   "execution_count": 204,
   "id": "cacf7b9f",
   "metadata": {},
   "outputs": [
    {
     "name": "stdout",
     "output_type": "stream",
     "text": [
      "You are eligible to vote\n"
     ]
    }
   ],
   "source": [
    "age = 18\n",
    "\n",
    "if age >=18:\n",
    "    print(\"You are eligible to vote\")\n",
    "else:\n",
    "    print('No you are not eligible to vote')"
   ]
  },
  {
   "cell_type": "markdown",
   "id": "6dca262d",
   "metadata": {},
   "source": [
    "### If Elif and Else Statement: It execute the block of more than 2 conditions"
   ]
  },
  {
   "cell_type": "code",
   "execution_count": 207,
   "id": "fcf45bdb",
   "metadata": {},
   "outputs": [
    {
     "name": "stdout",
     "output_type": "stream",
     "text": [
      "Please enter the price: 5000\n",
      "You can avail the python advance course at 4000.0\n"
     ]
    }
   ],
   "source": [
    "Course_price = int(input(\"Please enter the price: \"))\n",
    "\n",
    "if Course_price >2000:\n",
    "    print(f\"You can avail the python advance course at {Course_price*0.8}\")\n",
    "elif Course_price == 2500:\n",
    "    print(f'You can avail the python basic course at {Course_price*0.9}')\n",
    "else:\n",
    "    print(f'Still you need {2000 - Course_price} Rupees to join this course')"
   ]
  },
  {
   "cell_type": "markdown",
   "id": "21d91c6d",
   "metadata": {},
   "source": [
    "### Nested If statement : This statement is used when we want to find a condition inside a condition."
   ]
  },
  {
   "cell_type": "code",
   "execution_count": 211,
   "id": "f6aad3d5",
   "metadata": {},
   "outputs": [
    {
     "name": "stdout",
     "output_type": "stream",
     "text": [
      "Please enter the price: 2001\n",
      "You can avail the python advance course at 1600.8000000000002\n"
     ]
    }
   ],
   "source": [
    "Course_price = int(input(\"Please enter the price: \"))\n",
    "\n",
    "if Course_price >2000:\n",
    "    if Course_price == 3939:\n",
    "        print(\"Congradualtion you have won the Goa trip ticket for free\")\n",
    "    print(f'You can avail the python advance course at {Course_price*0.8}')\n",
    "elif Course_price >=1500 and Course_price<=2000:\n",
    "    if Course_price == 1999:\n",
    "              print(\"Congragulation you have got the Python\\'s\\' basic offer\")\n",
    "    print(f'You can avail the python intermediate course at {Course_price*0.7}')\n",
    "elif Course_price >=1000 and Course_price<1500:\n",
    "    print(f\"You can avail the python basic course at {Course_price*0.9}\")\n",
    "else:\n",
    "    print(f'Still you need {999 - Course_price} to join this course')              \n",
    "              \n",
    "              \n",
    "              \n",
    "              "
   ]
  },
  {
   "cell_type": "markdown",
   "id": "0daf54f1",
   "metadata": {},
   "source": [
    "### Single Statement Suite"
   ]
  },
  {
   "cell_type": "markdown",
   "id": "36fca772",
   "metadata": {},
   "source": [
    "### Short Hand if: If we have only one statement to execute then we can put it in a same line "
   ]
  },
  {
   "cell_type": "code",
   "execution_count": 212,
   "id": "6dcff8e2",
   "metadata": {},
   "outputs": [
    {
     "name": "stdout",
     "output_type": "stream",
     "text": [
      "a is greater than b\n"
     ]
    }
   ],
   "source": [
    "a = 10\n",
    "b = 5\n",
    "\n",
    "if a >b: print(\"a is greater than b\") "
   ]
  },
  {
   "cell_type": "markdown",
   "id": "05035f1e",
   "metadata": {},
   "source": [
    "## Python Loops"
   ]
  },
  {
   "cell_type": "markdown",
   "id": "be124677",
   "metadata": {},
   "source": [
    "* Looping means that repeating over and over until the condition is satisfied. Loop in control flow statement will continously execute the group of statement as long as the condition is satisfied."
   ]
  },
  {
   "cell_type": "markdown",
   "id": "d18881ca",
   "metadata": {},
   "source": [
    "> There are two types of loops:\n",
    ">   1. While loop \n",
    ">   2. For loop"
   ]
  },
  {
   "cell_type": "markdown",
   "id": "e2495239",
   "metadata": {},
   "source": [
    "1. While loop is used when we want to execute the set of statements as long as the conditions is true\n",
    "2. While loop performs indefinite iteration and also it check the condition before running\n",
    "3. If the condition evaluates to true the loop will run the code within the loop.\n",
    "4. Then again the condition is evaluated, so this continues untill the condition is False.\n",
    "5. When the condition evaluated to False while loop stops."
   ]
  },
  {
   "cell_type": "code",
   "execution_count": 226,
   "id": "20a26d53",
   "metadata": {},
   "outputs": [
    {
     "name": "stdout",
     "output_type": "stream",
     "text": [
      "0\n",
      "1\n",
      "2\n",
      "3\n",
      "4\n",
      "5\n",
      "6\n",
      "7\n",
      "8\n",
      "9\n"
     ]
    }
   ],
   "source": [
    "i = 0\n",
    "\n",
    "while i <10:\n",
    "    print(i)\n",
    "    i+=1"
   ]
  },
  {
   "cell_type": "markdown",
   "id": "b67428ac",
   "metadata": {},
   "source": [
    "### The break Statement : With the `break` statement we can stop the loop even if the while condition is true"
   ]
  },
  {
   "cell_type": "code",
   "execution_count": 231,
   "id": "ae52e4ac",
   "metadata": {},
   "outputs": [
    {
     "name": "stdout",
     "output_type": "stream",
     "text": [
      "0\n",
      "1\n",
      "2\n",
      "3\n",
      "4\n"
     ]
    }
   ],
   "source": [
    "i = 0\n",
    "\n",
    "while i <8:\n",
    "    print(i)\n",
    "    if i == 4:\n",
    "        break\n",
    "    i+=1"
   ]
  },
  {
   "cell_type": "markdown",
   "id": "01dd5720",
   "metadata": {},
   "source": [
    "### The Continue Statement: With the `continue` statement we can stop the current itteration and continue the next"
   ]
  },
  {
   "cell_type": "code",
   "execution_count": 232,
   "id": "0a1accd3",
   "metadata": {},
   "outputs": [
    {
     "name": "stdout",
     "output_type": "stream",
     "text": [
      "1\n",
      "2\n",
      "3\n",
      "4\n",
      "6\n",
      "7\n",
      "8\n"
     ]
    }
   ],
   "source": [
    "i = 0\n",
    "\n",
    "while i < 8:\n",
    "    i+=1\n",
    "    if i == 5:\n",
    "        continue\n",
    "    print(i)"
   ]
  },
  {
   "cell_type": "markdown",
   "id": "f50920f2",
   "metadata": {},
   "source": [
    "### Else Statement : With the else statement we can run a block of code once when the condition no longer is true"
   ]
  },
  {
   "cell_type": "code",
   "execution_count": 235,
   "id": "cc6c0601",
   "metadata": {},
   "outputs": [
    {
     "name": "stdout",
     "output_type": "stream",
     "text": [
      "2\n",
      "3\n",
      "4\n",
      "5\n",
      "6\n",
      "7\n",
      "No 7 is not greater than 7\n"
     ]
    }
   ],
   "source": [
    "i = 1\n",
    "\n",
    "while i < 7:\n",
    "    i+=1\n",
    "    print(i)\n",
    "else:\n",
    "    print('No {} is not greater than 7'.format(i))"
   ]
  },
  {
   "cell_type": "markdown",
   "id": "840e4b6e",
   "metadata": {},
   "source": [
    "### For Loops"
   ]
  },
  {
   "cell_type": "markdown",
   "id": "e9de3fe1",
   "metadata": {},
   "source": [
    "* For loop is used to iterate over the sequence datatype[List,sets,tuples,strings,dictionary]\n",
    "* With the for loop we can execute set of statements once for a each item in a list, sets, tuple"
   ]
  },
  {
   "cell_type": "code",
   "execution_count": 239,
   "id": "3ea0ce18",
   "metadata": {},
   "outputs": [
    {
     "name": "stdout",
     "output_type": "stream",
     "text": [
      "apple\n",
      "Banana\n",
      "Grapes\n"
     ]
    }
   ],
   "source": [
    "fruits = [\"apple\", \"Banana\", 'Grapes']\n",
    "\n",
    "for i in fruits:\n",
    "    print(i)"
   ]
  },
  {
   "cell_type": "markdown",
   "id": "49cbadfb",
   "metadata": {},
   "source": [
    "* Even strings are iterable objects, they contain a sequence of characters:"
   ]
  },
  {
   "cell_type": "code",
   "execution_count": 241,
   "id": "2c28c626",
   "metadata": {},
   "outputs": [
    {
     "name": "stdout",
     "output_type": "stream",
     "text": [
      "Sanju"
     ]
    }
   ],
   "source": [
    "Name = \"Sanju\"\n",
    "\n",
    "for i in Name:\n",
    "    print(i,end=\"\")"
   ]
  },
  {
   "cell_type": "markdown",
   "id": "1ee2a045",
   "metadata": {},
   "source": [
    "### The range() Function : this function returns a sequence of number, starting from 0 by default to incrementing to a specified number"
   ]
  },
  {
   "cell_type": "code",
   "execution_count": 256,
   "id": "a8b6ea15",
   "metadata": {},
   "outputs": [
    {
     "name": "stdout",
     "output_type": "stream",
     "text": [
      "10\n",
      "12\n",
      "14\n",
      "16\n",
      "18\n"
     ]
    }
   ],
   "source": [
    "for x in range(10,20,2):\n",
    "    print(x)"
   ]
  },
  {
   "cell_type": "markdown",
   "id": "f3015d79",
   "metadata": {},
   "source": [
    "### Else in For Loop: They else keyword in a for loop specifies a block of code to be executed when the loop is finished"
   ]
  },
  {
   "cell_type": "code",
   "execution_count": 258,
   "id": "36cb6702",
   "metadata": {},
   "outputs": [
    {
     "name": "stdout",
     "output_type": "stream",
     "text": [
      "sanju\n",
      "nandhu\n",
      "Betty\n",
      "Mommy\n",
      "okay\n"
     ]
    }
   ],
   "source": [
    "lst = [\"sanju\",\"nandhu\",\"Betty\",\"Mommy\"]\n",
    "\n",
    "for i in lst:\n",
    "    print(i)\n",
    "else:\n",
    "    print(\"okay\")"
   ]
  },
  {
   "cell_type": "code",
   "execution_count": 263,
   "id": "eaf45eb2",
   "metadata": {},
   "outputs": [
    {
     "name": "stdout",
     "output_type": "stream",
     "text": [
      "Audi\n",
      "BMW\n",
      "BWM is a costliest car among all\n",
      "Aston Martin\n",
      "Rolls Royce\n"
     ]
    }
   ],
   "source": [
    "# Using for loop with if condition\n",
    "\n",
    "\n",
    "cars = ['Audi', 'BMW', 'Aston Martin', 'Rolls Royce']\n",
    "\n",
    "for i in cars:\n",
    "    print(i)\n",
    "    if i == \"BMW\":\n",
    "        print(\"BWM is a costliest car among all\")"
   ]
  },
  {
   "cell_type": "code",
   "execution_count": 264,
   "id": "62838563",
   "metadata": {},
   "outputs": [
    {
     "name": "stdout",
     "output_type": "stream",
     "text": [
      "         * \n",
      "        * * \n",
      "       * * * \n",
      "      * * * * \n",
      "     * * * * * \n",
      "    * * * * * * \n",
      "   * * * * * * * \n",
      "  * * * * * * * * \n",
      " * * * * * * * * * \n"
     ]
    }
   ],
   "source": [
    "# Nested loop\n",
    "\n",
    "for i in range(9):\n",
    "    print(\" \"*(9-i),end=\"\")\n",
    "    for j in range(0,i+1):\n",
    "        print(\"*\",end=\" \")\n",
    "    print()"
   ]
  },
  {
   "cell_type": "markdown",
   "id": "3a0ed3c2",
   "metadata": {},
   "source": [
    "# 1.5 Python lists"
   ]
  },
  {
   "cell_type": "markdown",
   "id": "a43e7b46",
   "metadata": {},
   "source": [
    "A list is a collection of items in a ordered sequence, which can be of different data types (integer, string, float, etc.). Lists are\n",
    "defined using square brackets [] and items are separated by commas , ."
   ]
  },
  {
   "cell_type": "markdown",
   "id": "f60d27be",
   "metadata": {},
   "source": [
    "* `min` is a built-in function in Python that returns the minimum value from a list or any iterable.\n",
    "\n",
    "* `max` is a built-in function in Python that returns the maximum value from a list or any iterable.\n",
    "\n",
    "* `sort` is a method in Python that can be used to sort a list in ascending or descending order. By default, the sort method\n",
    "sorts the list in ascending order.\n",
    "\n",
    "* `reverse` is a method in Python that can be used to reverse the order of elements in a list.\n",
    "descending reverse: To sort a list in descending order, the sort method can be used with the argument reverse=True .\n",
    "\n",
    "* `append` is a method in Python that can be used to add an element to the end of a list.\n",
    "\n",
    "* `extend` is a method in Python that can be used to add elements from one list to another."
   ]
  },
  {
   "cell_type": "markdown",
   "id": "48fd928c",
   "metadata": {},
   "source": [
    "### Initializing a list"
   ]
  },
  {
   "cell_type": "code",
   "execution_count": 1,
   "id": "4358ab52",
   "metadata": {},
   "outputs": [],
   "source": [
    "numbers = [3, 4, 1, 8, 5]"
   ]
  },
  {
   "cell_type": "code",
   "execution_count": 2,
   "id": "6d4da897",
   "metadata": {},
   "outputs": [
    {
     "name": "stdout",
     "output_type": "stream",
     "text": [
      "Min Value: 1\n",
      "Max Value: 8\n",
      "Sorted List: [1, 3, 4, 5, 8]\n",
      "Reversed List: [8, 5, 4, 3, 1]\n",
      "Sorted List in Descending Order: [8, 5, 4, 3, 1]\n",
      "List after appending 9: [8, 5, 4, 3, 1, 9]\n",
      "List after extending with new numbers: [8, 5, 4, 3, 1, 9, 10, 11, 12]\n"
     ]
    }
   ],
   "source": [
    "# Using the min function\n",
    "min_value = min(numbers)\n",
    "print(\"Min Value:\", min_value)\n",
    "\n",
    "# Using the max function\n",
    "max_value = max(numbers)\n",
    "print(\"Max Value:\", max_value)\n",
    "\n",
    "# Using the sort method\n",
    "numbers.sort()\n",
    "print(\"Sorted List:\", numbers)\n",
    "\n",
    "# Using the reverse method\n",
    "numbers.reverse()\n",
    "print(\"Reversed List:\", numbers)\n",
    "\n",
    "# Using the sort method with reverse argument\n",
    "numbers.sort(reverse=True)\n",
    "print(\"Sorted List in Descending Order:\", numbers)\n",
    "\n",
    "# Using the append method\n",
    "numbers.append(9)\n",
    "print(\"List after appending 9:\", numbers)\n",
    "\n",
    "# Using the extend method\n",
    "new_numbers = [10, 11, 12]\n",
    "numbers.extend(new_numbers)\n",
    "print(\"List after extending with new numbers:\", numbers)"
   ]
  },
  {
   "cell_type": "markdown",
   "id": "1aeaa673",
   "metadata": {},
   "source": [
    "### List Comprehensions:"
   ]
  },
  {
   "cell_type": "markdown",
   "id": "a3479d51",
   "metadata": {},
   "source": [
    "#### List comprehensions are a concise way to create new lists by transforming existing ones. They are written as a single line ofcode and can include an optional condition."
   ]
  },
  {
   "cell_type": "code",
   "execution_count": 36,
   "id": "7e501033",
   "metadata": {},
   "outputs": [
    {
     "name": "stdout",
     "output_type": "stream",
     "text": [
      "Squared Numbers: [64, 25, 16, 9, 1, 81, 100, 121, 144]\n"
     ]
    }
   ],
   "source": [
    "\n",
    "# Using List Comprehensions\n",
    "numbers=[8, 5, 4, 3, 1, 9, 10, 11, 12]\n",
    "\n",
    "squared_numbers = [x**2 for x in numbers]\n",
    "\n",
    "print(\"Squared Numbers:\", squared_numbers)"
   ]
  },
  {
   "cell_type": "markdown",
   "id": "af6c1adc",
   "metadata": {},
   "source": [
    "# 1.6 Python Tuples"
   ]
  },
  {
   "cell_type": "markdown",
   "id": "16baf46b",
   "metadata": {},
   "source": [
    "A tuple is a collection which is ordered and unchangeable.\n",
    "\n",
    "\n",
    "Tuples are written with round brackets and allows duplicate values.\n",
    "\n",
    "\n",
    "As tuples are unchangeable also they are immutable.\n"
   ]
  },
  {
   "cell_type": "markdown",
   "id": "9d4c7e47",
   "metadata": {},
   "source": [
    "### Functions Of Tuples:"
   ]
  },
  {
   "cell_type": "markdown",
   "id": "cbbfaac7",
   "metadata": {},
   "source": [
    "1. `Index` :  Returns the index position of the specified value\n",
    "\n",
    "\n",
    "2. `Count` :  Returns the number of occurance of the specified value\n",
    "\n",
    "    \n",
    "3. `len`   :  Returns the length of the tuple \n",
    "\n",
    "    \n",
    "4. `max`   :  Returns the largest item in the tuple\n",
    "\n",
    "    \n",
    "5. `min`   :   Returns the smallest item in the tuple\n"
   ]
  },
  {
   "cell_type": "code",
   "execution_count": 10,
   "id": "173f7d6a",
   "metadata": {},
   "outputs": [
    {
     "name": "stdout",
     "output_type": "stream",
     "text": [
      "The index of 14 in the tuple is : 4\n",
      "The count of 13 in the tuple is: 1\n",
      "The length of the tuple:  6\n",
      "The Highest number in the tuple: 15\n",
      "The Smallest number in the tuple: 10\n",
      "The new tuple of A is: (10, 11, 12, 13, 14, 14)\n",
      "The Concatenating tuples : (10, 11, 12, 13, 14, 15, 16, 17, 18)\n"
     ]
    }
   ],
   "source": [
    "## Examples:\n",
    "\n",
    "# Creating a tuple:\n",
    "    \n",
    "A = (10,11,12,13,14,15)\n",
    "\n",
    "# Index Function:\n",
    "\n",
    "print(\"The index of 14 in the tuple is :\", A.index(14))\n",
    "\n",
    "# Output:The index of 14 in the tuple is : 4\n",
    "\n",
    "# Count Function:\n",
    "\n",
    "print(\"The count of 13 in the tuple is:\", A.count(13))\n",
    "\n",
    "# Output: The count of 13 in tuple is 1\n",
    "\n",
    "# len Function:\n",
    "\n",
    "print(\"The length of the tuple: \", len(A))\n",
    "\n",
    "# Output: The length of the tuple is 6\n",
    "\n",
    "# Max Function:\n",
    "\n",
    "print(\"The Highest number in the tuple:\", max(A))\n",
    "\n",
    "# Output: The highest number in the tuple is 15\n",
    "\n",
    "# Min Function:\n",
    "\n",
    "print(\"The Smallest number in the tuple:\", min(A))\n",
    "\n",
    "# Output : The Smallest number in the tuple is 10\n",
    "\n",
    "# Updating or change Tuple values:\n",
    "\n",
    "# We cannot change or modify the tuple because tuples are immutable and unachangeable. \n",
    "# But we convert tuple into list and change the items and convert back to tuples.\n",
    "\n",
    "A = (10,11,12,13,14,15)\n",
    "\n",
    "B = list(A)\n",
    "\n",
    "B[5] = 14\n",
    "\n",
    "A = tuple(B)\n",
    "\n",
    "print(\"The new tuple of A is:\", A)\n",
    "\n",
    "# Output : The new tuple of A is : (10,11,12,13,14,14)\n",
    "\n",
    "# Concatinating the tuples:\n",
    "\n",
    "A = (10,11,12,13,14,15)\n",
    "\n",
    "B = (16,17,18)\n",
    "\n",
    "C= A+B\n",
    "\n",
    "print(\"The Concatenating tuples :\", C)\n",
    "\n",
    "# Output: The Concatenating tuples : (10, 11, 12, 13, 14, 15, 16, 17, 18)"
   ]
  },
  {
   "cell_type": "markdown",
   "id": "840cbe73",
   "metadata": {},
   "source": [
    "### Updating Tuples:"
   ]
  },
  {
   "cell_type": "markdown",
   "id": "0249c947",
   "metadata": {},
   "source": [
    "* Tuples are unchangeable, it means that once they are created they cannot be changed or added or modify the items.\n",
    "\n",
    "\n",
    "* You can convert the tuple into a list, change the list, and convert the list back into a tuple.\n",
    "\n",
    "\n",
    "* In tuples we can't add the items to the respective tuple, but we can concatenate two different tuples to single tuple."
   ]
  },
  {
   "cell_type": "markdown",
   "id": "52bbcb63",
   "metadata": {},
   "source": [
    "### Remove Items:"
   ]
  },
  {
   "cell_type": "markdown",
   "id": "c9fa26ff",
   "metadata": {},
   "source": [
    "* Tuples are unchangeable, so you cannot remove items\n",
    "\n",
    "\n",
    "* `del` Keyword in python can delete the entire tuple completely."
   ]
  },
  {
   "cell_type": "code",
   "execution_count": null,
   "id": "a9ceb870",
   "metadata": {},
   "outputs": [],
   "source": [
    "## Example:\n",
    "\n",
    "A = (1,2,4,5,6)\n",
    "\n",
    "print('The Tuple of A:', A)\n",
    "\n",
    "# Output: The Tuple of of A is (1,2,4,5,6)\n",
    "\n",
    "# Delete the tuple\n",
    "\n",
    "del A\n",
    "\n",
    "print(A) #this will raise an error because the tuple no longer exists"
   ]
  },
  {
   "cell_type": "markdown",
   "id": "ec39fb82",
   "metadata": {},
   "source": [
    "# 1.7 Python Sets"
   ]
  },
  {
   "cell_type": "markdown",
   "id": "4bead380",
   "metadata": {},
   "source": [
    "* A set is an unordered, unchangeable and unindexed.\n",
    "\n",
    "* It does not allows duplicate values\n",
    "\n",
    "Note: Set items are unchangeable, but you can remove items and add new items."
   ]
  },
  {
   "cell_type": "markdown",
   "id": "a0c7d828",
   "metadata": {},
   "source": [
    "### Functions of Sets:"
   ]
  },
  {
   "cell_type": "markdown",
   "id": "adfa7088",
   "metadata": {},
   "source": [
    "1. `add` - It adds a element to the set.\n",
    "\n",
    "2. `clear`- It eliminates the entire set.\n",
    "\n",
    "3. `pop` - Remove and return an arbitrary set element.\n",
    "\n",
    "4. `remove` - Removes the specified item when we pass the argument"
   ]
  },
  {
   "cell_type": "code",
   "execution_count": 13,
   "id": "fe4e3db2",
   "metadata": {},
   "outputs": [],
   "source": [
    "# Examples:\n",
    "\n",
    "# Creating a set\n",
    "\n",
    "A = {1,2,3,4}\n",
    "\n",
    "print(\"The set is:\", A)\n",
    "\n",
    "# Output: The set is {1,2,3,4}\n",
    "\n",
    "# Add Function:\n",
    "\n",
    "print(\"Adding the new element to the set:\", A.add(5))\n",
    "\n",
    "# Output: Adding the new element to the set {1,2,3,4,5}\n",
    "\n",
    "# Clear function:\n",
    "\n",
    "print(\"Clear the entire set:\", A.clear())\n",
    "\n",
    "# Output: Clear the entire set: set()\n",
    "\n",
    "# Pop Function: \n",
    "\n",
    "A = {\"Apple\",\"Banana\",\"Cherry\"}\n",
    "\n",
    "print(\"set is performing the pop function:\", A.pop())\n",
    "\n",
    "# Output: Set is performing the pop function: {\"Banana\",\"Cherry\"}\n",
    "\n",
    "# Remove Function:\n",
    "\n",
    "A = {\"Apple\",\"Banana\",\"Cherry\"}\n",
    "\n",
    "print(\"Set after removing the specified item:\", A.remove(\"Cherry\"))\n",
    "\n",
    "# Output: Set after removing the specified item: {\"Apple\",\"Banana\"}\n"
   ]
  },
  {
   "cell_type": "markdown",
   "id": "a3cbff58",
   "metadata": {},
   "source": [
    "### Concatinating sets:"
   ]
  },
  {
   "cell_type": "markdown",
   "id": "e890ee36",
   "metadata": {},
   "source": [
    "* We cannot concatenate the two sets by using a `+` operator, it provides us an error. We can join the sets by using some in-built functions.\n",
    "\n",
    "* We all know set is unchangeable once it is created, but we can add or remove the items of the set.\n",
    "\n",
    "* We can add tuple element in the set "
   ]
  },
  {
   "cell_type": "code",
   "execution_count": null,
   "id": "31b7fee0",
   "metadata": {},
   "outputs": [],
   "source": [
    "## Example:\n",
    "\n",
    "A = {\"Apple\",\"Banana\",\"Cherry\"}\n",
    "\n",
    "A.add((\"Orange\",\"Blueberry\"))\n",
    "\n",
    "print(\"adding tuple to the set:\", A)\n",
    "\n",
    "# Output : adding tuple to the set: {'Cherry', 'Banana', ('Orange', 'Blueberry'), 'Apple'}\n"
   ]
  },
  {
   "cell_type": "markdown",
   "id": "f690fc57",
   "metadata": {},
   "source": [
    "# 1.8 Python Dictionary "
   ]
  },
  {
   "cell_type": "markdown",
   "id": "6e5657f8",
   "metadata": {},
   "source": [
    "Dictionary is a ordered and changeable and does not allow duplicate values, they are writen in the curly brackets.\n",
    "\n",
    "Dictionary has key associated with value items,and can be referred to by using the key name. \n",
    "\n",
    "As it is changeable we can add or remove or modify the items after dictionary is created.The values in dictionary items can be of any data type.\n",
    "\n",
    "It is possible that we can use `dict()` constructor to create a dictionary."
   ]
  },
  {
   "cell_type": "markdown",
   "id": "bd24f952",
   "metadata": {},
   "source": [
    "### Keys in Dictionary"
   ]
  },
  {
   "cell_type": "markdown",
   "id": "8df331e7",
   "metadata": {},
   "source": [
    "* Key can't be repeated, it takes the unique value \n",
    "\n",
    "* Key can be a string, integer, boolean values,Floating point and complex numbers\n",
    "\n",
    "* Based on the collections only tuples can be stored in the Key section of dictionaries. lists, sets and dictionaries can't be stored in dictionaries."
   ]
  },
  {
   "cell_type": "code",
   "execution_count": null,
   "id": "d9b83b4a",
   "metadata": {},
   "outputs": [],
   "source": [
    "## Examples:\n",
    "\n",
    "# 1. Creating a dictionary\n",
    "\n",
    "A1 = {\"Name\":\"Sanju\",\"Age\":24,\"Job\":\"Dataanalyst\"}\n",
    "\n",
    "print(\"The dictionary is created for A1: \", A1)\n",
    "\n",
    "# Output - The dictionary is created for A1:  {'Name': 'Sanju', 'Age': 24, 'Job': 'Dataanalyst'}\n",
    "\n",
    "\n",
    "# 2. Keys can't be repeated, it takes the unique value and overwrites on the existing value. exisiting value will be disappeared.\n",
    "\n",
    "A1 = {\"Name\":\"Sanju\",\"Age\":24,\"Job\":\"Dataanalyst\",\"Name\":\"Prakash\"}\n",
    "\n",
    "print(A1)\n",
    "\n",
    "# Output - {'Name': 'Prakash', 'Age': 24, 'Job': 'Dataanalyst'}\n",
    "\n",
    "\n",
    "# 3. Adding new keys:\n",
    "\n",
    "B1 = {\"Cars\":[\"BMW\",\"Astron Martin\",\"RolsRoyce\"],\"Fueltype\":{\"petrol\",\"diesel\",\"electric\"},\"Cost\":(1200000,1400000,1800000)}\n",
    "\n",
    "B1[\"Speed\"] = [200,150,100]\n",
    "\n",
    "print(\"printing the updated B1: \", B1)\n",
    "\n",
    "# Output - printing the added new B1: {'Cars': ['BMW', 'Astron Martin', 'RolsRoyce'], 'Fueltype': {'electric', 'diesel', 'petrol'}, 'Cost': (1200000, 1400000, 1800000), 'Speed': [200, 150, 100]}"
   ]
  },
  {
   "cell_type": "markdown",
   "id": "1ce5c2e3",
   "metadata": {},
   "source": [
    "### Functions of Dictionary:"
   ]
  },
  {
   "cell_type": "markdown",
   "id": "e0f6a97f",
   "metadata": {},
   "source": [
    "1. `clear()`\t           Removes all the elements from the dictionary\n",
    "\n",
    "\n",
    "\n",
    "2.  `copy()`\t           Returns a copy of the dictionary\n",
    "\n",
    "\n",
    "\n",
    "3.  `fromkeys()`           Returns a dictionary with the specified keys and value\n",
    "\n",
    "\n",
    "\n",
    "4.  `get()`\t               Returns the value of the specified key\n",
    "\n",
    "\n",
    "\n",
    "5.  `items()`\t           Returns a list containing a tuple for each key value pair\n",
    "\n",
    "\n",
    "\n",
    "6.  `keys()`\t           Returns a list containing the dictionary's keys\n",
    "\n",
    "\n",
    "\n",
    "7.  `pop()`\t               Removes the element with the specified key\n",
    "\n",
    "\n",
    "\n",
    "8.  `popitem()`\t           Removes the last inserted key-value pair\n",
    "\n",
    "\n",
    "\n",
    "9.  `setdefault()`         Returns the value of the specified key. If the key does not exist: insert the key, with the specified                            value\n",
    "\n",
    "\n",
    "\n",
    "10. `update()`\t           Updates the dictionary with the specified key-value pairs\n",
    "\n",
    "\n",
    "\n",
    "11. `values()`\t           Returns a list of all the values in the dictionary"
   ]
  },
  {
   "cell_type": "code",
   "execution_count": null,
   "id": "e3eba74e",
   "metadata": {},
   "outputs": [],
   "source": [
    "## Example:\n",
    "\n",
    "# 1. Clear()\n",
    "\n",
    "B1 = {'Cars': ['BMW', 'Astron Martin', 'RolsRoyce'],\n",
    " 'Fueltype': {'diesel', 'electric', 'petrol'},\n",
    " 'Cost': (1200000, 1400000, 1800000),\n",
    " 'Speed': [200, 150, 100]}\n",
    "\n",
    "print(\"Using the clear function in B1:\", B1.clear())\n",
    "\n",
    "# Output - Using the clear function in B1: {}\n",
    "\n",
    "# 2. len()\n",
    "\n",
    "B1 = {'Cars': ['BMW', 'Astron Martin', 'RolsRoyce'],\n",
    " 'Fueltype': {'diesel', 'electric', 'petrol'},\n",
    " 'Cost': (1200000, 1400000, 1800000),\n",
    " 'Speed': [200, 150, 100]}\n",
    "\n",
    "print('length of the B1:',len(B1))\n",
    "\n",
    "# output- length of the B1: 4\n",
    "\n",
    "# 3. Keys()\n",
    "\n",
    "B1 = {'Cars': ['BMW', 'Astron Martin', 'RolsRoyce'],\n",
    " 'Fueltype': {'diesel', 'electric', 'petrol'},\n",
    " 'Cost': (1200000, 1400000, 1800000),\n",
    " 'Speed': [200, 150, 100]}\n",
    "\n",
    "print(\"Key of the B1:\",B1.keys())\n",
    "\n",
    "# Output - Key of the B1: dict_keys(['Cars', 'Fueltype', 'Cost', 'Speed'])\n",
    "\n",
    "# 4. Values()\n",
    "\n",
    "B1 = {'Cars': ['BMW', 'Astron Martin', 'RolsRoyce'],\n",
    " 'Fueltype': {'diesel', 'electric', 'petrol'},\n",
    " 'Cost': (1200000, 1400000, 1800000),\n",
    " 'Speed': [200, 150, 100]}\n",
    "\n",
    "print(\"Values of B1:\",B1.values())\n",
    "\n",
    "# Output - Values of B1:dict_values([['BMW', 'Astron Martin', 'RolsRoyce'], {'electric', 'diesel', 'petrol'}, (1200000, 1400000, 1800000), [200, 150, 100]])\n",
    "\n",
    "# 5. Items() \n",
    "\n",
    "B1 = {'Cars': ['BMW', 'Astron Martin', 'RolsRoyce'],\n",
    " 'Fueltype': {'diesel', 'electric', 'petrol'},\n",
    " 'Cost': (1200000, 1400000, 1800000),\n",
    " 'Speed': [200, 150, 100]}\n",
    "\n",
    "print(\"items of B1:\", B1.items())\n",
    "\n",
    "# Output - items of B1: dict_items([('Cars', ['BMW', 'Astron Martin', 'RolsRoyce']), ('Fueltype', {'electric', 'diesel', 'petrol'}), ('Cost', (1200000, 1400000, 1800000)), ('Speed', [200, 150, 100])])\n",
    "\n",
    "# 6. Copy ()\n",
    "\n",
    "B2 ={\"Name\":[\"Sanju\",\"Nandhu\"],\n",
    "    \"Age\":(24,21),\n",
    "    \"Qualification\":[\"MBA\",\"CA\"]}\n",
    "\n",
    "B3 = B2.copy()\n",
    "\n",
    "print(\"B3 contains B2 keys and values:\", B3) # this is called as deep copy, when we use the in build function to copy. \n",
    "\n",
    "# output - B3 contains B2 keys and values: {'Name': ['Sanju', 'Nandhu'], 'Age': (24, 21), 'Qualification': ['MBA', 'CA']}\n",
    "\n",
    "# Or\n",
    "\n",
    "B4 = {\"Name\":[\"Sanju\",\"Nandhu\"],\n",
    "    \"Age\":(24,21),\n",
    "    \"Qualification\":[\"MBA\",\"CA\"],\n",
    "     \"Rank\":[1,2]}\n",
    "\n",
    "B5 = B4 # this is called as shallow copy, it discturbs the existing variable when edit the changes in new variable.\n",
    "\n",
    "del B4[\"Rank\"]\n",
    "\n",
    "print(B5)\n",
    "\n",
    "# Output - {'Name': ['Sanju', 'Nandhu'], 'Age': (24, 21), 'Qualification': ['MBA', 'CA']}"
   ]
  },
  {
   "cell_type": "markdown",
   "id": "d9f12909",
   "metadata": {},
   "source": [
    "### Dictionary Comprehension:"
   ]
  },
  {
   "cell_type": "markdown",
   "id": "8884c2c7",
   "metadata": {},
   "source": [
    "Dictionary comprehension is a method for transforming one dictionary into another dictionary"
   ]
  },
  {
   "cell_type": "code",
   "execution_count": null,
   "id": "8ee723eb",
   "metadata": {},
   "outputs": [],
   "source": [
    "## Examples:\n",
    "    \n",
    "{i: i**2 for i in range(1,10)}\n",
    "\n",
    "## Output - {1: 1, 2: 4, 3: 9, 4: 16, 5: 25, 6: 36, 7: 49, 8: 64, 9: 81}\n",
    "\n",
    "import math\n",
    "\n",
    "{i: math.log10(i) for i in range(1,11)}\n",
    "\n",
    "## Output - {1: 0.0, 2: 0.3010299956639812, 3: 0.47712125471966244, 4: 0.6020599913279624, 5: 0.6989700043360189, 6: 0.7781512503836436, 7: 0.8450980400142568, 8: 0.9030899869919435,9: 0.9542425094393249,10: 1.0}"
   ]
  },
  {
   "cell_type": "markdown",
   "id": "00c9ee76",
   "metadata": {},
   "source": [
    " # 1.9 Functions: "
   ]
  },
  {
   "cell_type": "markdown",
   "id": "ea7c0ca5",
   "metadata": {},
   "source": [
    "* Function is a block of code which runs only when function is called, we can pass a data known as parameters into function and function can return the data as result.\n",
    "\n",
    "* They are defined using the `def` keyword, followed by the function name, parameters within the paranthisis and colon.\n",
    "\n",
    "* Function can return the values by using `return` keyword, return function will return the original format with same datatype, while in print function it will return the none type.\n",
    "\n",
    "* Function is able to return a multiple returns from the one single function with multiple datatypes at a time. \n",
    "\n",
    "*  Function will always return the values in tuples.\n"
   ]
  },
  {
   "cell_type": "markdown",
   "id": "cb473985",
   "metadata": {},
   "source": [
    "### Arguments:"
   ]
  },
  {
   "cell_type": "markdown",
   "id": "8751f865",
   "metadata": {},
   "source": [
    "* Arguments are passing a data when the function is called.\n",
    "* Arguments are specified after the function name, inside the parantheses, we are able to add as many arguments it should seperated by comma. "
   ]
  },
  {
   "cell_type": "code",
   "execution_count": null,
   "id": "00981aae",
   "metadata": {},
   "outputs": [],
   "source": [
    "# Creating a function:\n",
    "\n",
    "def test1():\n",
    "    print(\"This is my new function\")\n",
    "\n",
    "# output: test1() - This is my new function - nonetype  \n",
    "\n",
    "\n",
    "def test2():\n",
    "    return \"This is my new function\" \n",
    "\n",
    "# output: test2() - 'This is my new function' - original type.\n",
    "\n",
    "\n",
    "def test3():\n",
    "    return 1,5,\"sanju\",99.45\n",
    "\n",
    "# Output: test3() - (1, 5, 'sanju', 99.45)\n",
    "\n",
    "def test5(a,b):\n",
    "    c = a*b\n",
    "    return c\n",
    "\n",
    "# Output: test5(1,5) - 5 \n",
    "\n",
    "def test6(a,b,c):\n",
    "    d = a+b*c\n",
    "    return d\n",
    "\n",
    "# output - test6(1,5,6) - 31\n",
    "\n",
    "def test7(b = \"Sanju\", a = \"Nandhu\"):\n",
    "    c = a+b\n",
    "    return c\n",
    "\n",
    "# Output - test7() - 'NandhuSanju'"
   ]
  },
  {
   "cell_type": "code",
   "execution_count": 52,
   "id": "b0e5dced",
   "metadata": {},
   "outputs": [],
   "source": [
    "## Example \n",
    "\n",
    "# 1. Create a function which will take only the list as an input and give me only the string as final list.\n",
    "\n",
    "l = ['Python',99.54,\"Datascience\",75,34,45.33,[\"Machine learning\",\"Deep learning\"]]\n",
    "\n",
    "def test8(a):\n",
    "    n = []\n",
    "    for i in a:\n",
    "        if type(i) == list:\n",
    "            for j in i:\n",
    "                if type(j)==str:\n",
    "                    n.append(j)\n",
    "        else :\n",
    "            if type(i)==str:\n",
    "                n.append(i)\n",
    "    return n"
   ]
  },
  {
   "cell_type": "code",
   "execution_count": 53,
   "id": "70880962",
   "metadata": {},
   "outputs": [
    {
     "data": {
      "text/plain": [
       "['Python', 'Datascience', 'Machine learning', 'Deep learning']"
      ]
     },
     "execution_count": 53,
     "metadata": {},
     "output_type": "execute_result"
    }
   ],
   "source": [
    "test8(l)"
   ]
  },
  {
   "cell_type": "code",
   "execution_count": 38,
   "id": "dc884d3c",
   "metadata": {},
   "outputs": [],
   "source": [
    "## Example\n",
    "\n",
    "# 2. Create a function which will take a dictionary as an input and give me only the integer as the final list.\n",
    "\n",
    "l = ['Python',99.54,\"Datascience\",75,34,45.33,[\"Machine learning\",\"Deep learning\"]]\n",
    "\n",
    "def func1(a):\n",
    "    n= []\n",
    "    for i in a:\n",
    "        if type(i)== int:\n",
    "            n.append(i)\n",
    "    return n\n",
    "            \n"
   ]
  },
  {
   "cell_type": "code",
   "execution_count": 39,
   "id": "1e463bba",
   "metadata": {},
   "outputs": [
    {
     "data": {
      "text/plain": [
       "[75, 34]"
      ]
     },
     "execution_count": 39,
     "metadata": {},
     "output_type": "execute_result"
    }
   ],
   "source": [
    "func1(l)"
   ]
  },
  {
   "cell_type": "markdown",
   "id": "5ee7cb91",
   "metadata": {},
   "source": [
    "## *ARGS"
   ]
  },
  {
   "cell_type": "markdown",
   "id": "ab94fbb5",
   "metadata": {},
   "source": [
    "* Args is a non -keyword argument, it allows to pass 'n' number of arguments when the function us called.\n",
    "* This function will return a tuple of arguments froom which we can access the items."
   ]
  },
  {
   "cell_type": "markdown",
   "id": "27810078",
   "metadata": {},
   "source": [
    "#### Examples:"
   ]
  },
  {
   "cell_type": "code",
   "execution_count": 42,
   "id": "cb26fb62",
   "metadata": {},
   "outputs": [],
   "source": [
    "def fun_name(*args):\n",
    "    l = []\n",
    "    for i in args:\n",
    "        if i >=5:\n",
    "            l.append(i)\n",
    "    return l\n",
    "\n",
    "# Output : fun_name(1,2,3,4,5,6,7,8,9,10)\n",
    "# [5, 6, 7, 8, 9, 10]\n",
    "\n",
    "#2 eg\n",
    "\n",
    "def item(*args,name):\n",
    "    return args,name\n",
    "\n",
    "# Output: item([1,2,4,5,6,], name = [\"sanju\"])\n",
    "\n",
    "# (([1, 2, 4, 5, 6],), ['sanju'])"
   ]
  },
  {
   "cell_type": "markdown",
   "id": "84f4fe9c",
   "metadata": {},
   "source": [
    "### **Kwargs"
   ]
  },
  {
   "cell_type": "markdown",
   "id": "954b6134",
   "metadata": {},
   "source": [
    "* Kwargs is also a non- keyword argument, it is used to pass 'n' of argument when the function is called.\n",
    "\n",
    "* This particularly used to receive a dictionary of arguments, can access the items accordingly."
   ]
  },
  {
   "cell_type": "code",
   "execution_count": 82,
   "id": "a4ff7974",
   "metadata": {},
   "outputs": [],
   "source": [
    "def iig(**kwargs):\n",
    "    return kwargs\n",
    "\n",
    "\"\"\"\n",
    "Output: iig(a = [1,2,3,4,5], b =('python','datascience','oops'), c = {\"Fruit\":\"Orange\"})\n",
    "\n",
    " {'a': [1, 2, 3, 4, 5],\n",
    " 'b': ('python', 'datascience', 'oops'),\n",
    " 'c': {'Fruit': 'Orange'}}\n",
    "\"\"\" \n",
    "# Eg 2\n",
    "\n",
    "def jjp(**kwargs):\n",
    "    for i in kwargs.keys():\n",
    "        if type(kwargs[i]) == tuple:\n",
    "            return i, kwargs[i]\n",
    "\"\"\"\n",
    "jjp(a = [1,2,3,4,5], b =('python','datascience','oops'), c = {\"Fruit\":\"Orange\"})\n",
    "\n",
    "('b', ('python', 'datascience', 'oops'))\n",
    "\n",
    "\"\"\"\n",
    "\n",
    "# Eg 3:\n",
    "\n",
    "def jjp(*args,**kwargs):\n",
    "    return args, kwargs\n",
    "\n",
    "# Output: jjp([1,2,3,4,5,6,7,8], a= \"python\", b=(\"datascience\"), c=[222,223,445,666])\n",
    "\n",
    "# (([1, 2, 3, 4, 5, 6, 7, 8],),\n",
    "# {'a': 'python', 'b': 'datascience', 'c': [222, 223, 445, 666]})\n",
    "    "
   ]
  },
  {
   "cell_type": "markdown",
   "id": "3571a49f",
   "metadata": {},
   "source": [
    "## Generators"
   ]
  },
  {
   "cell_type": "markdown",
   "id": "37d84b06",
   "metadata": {},
   "source": [
    "* Python Generators function that returns an iterator that produces a sequence of values when iterated over.\n",
    "* Generators are usefull when we want to yield large sequence of values, but we don't want them to be stored in one memory location.\n",
    "* When a `yield` function is used it generally called as generator functions.\n",
    "* Difference between `yield`and `return` is that when a function is called `yield` will produces multiple values without terminaing the program, `return` it returns a value when function is called and terminated the program. "
   ]
  },
  {
   "cell_type": "code",
   "execution_count": 35,
   "id": "47165ad0",
   "metadata": {},
   "outputs": [],
   "source": [
    "## Creating Fibonachi series\n",
    "\n",
    "def test4(n):\n",
    "    a,b = 0,1\n",
    "    for i in range(n):\n",
    "        yield a\n",
    "        a,b = b,a+b"
   ]
  },
  {
   "cell_type": "code",
   "execution_count": 36,
   "id": "8bf48d28",
   "metadata": {},
   "outputs": [
    {
     "data": {
      "text/plain": [
       "<generator object test4 at 0x000001C62A50DF20>"
      ]
     },
     "execution_count": 36,
     "metadata": {},
     "output_type": "execute_result"
    }
   ],
   "source": [
    "test4(10)"
   ]
  },
  {
   "cell_type": "code",
   "execution_count": 37,
   "id": "01ade92e",
   "metadata": {},
   "outputs": [
    {
     "data": {
      "text/plain": [
       "[0, 1, 1, 2, 3, 5, 8, 13, 21, 34]"
      ]
     },
     "execution_count": 37,
     "metadata": {},
     "output_type": "execute_result"
    }
   ],
   "source": [
    "list(test4(10))"
   ]
  },
  {
   "cell_type": "code",
   "execution_count": 3,
   "id": "51ac3851",
   "metadata": {},
   "outputs": [
    {
     "name": "stdout",
     "output_type": "stream",
     "text": [
      "0\n",
      "1\n",
      "1\n",
      "2\n",
      "3\n",
      "5\n",
      "8\n",
      "13\n",
      "21\n",
      "34\n"
     ]
    }
   ],
   "source": [
    "for i in test4(10):\n",
    "    print(i)"
   ]
  },
  {
   "cell_type": "markdown",
   "id": "1e6b4cc6",
   "metadata": {},
   "source": [
    "### Lambda Function:"
   ]
  },
  {
   "cell_type": "markdown",
   "id": "f0ea1165",
   "metadata": {},
   "source": [
    "* Lambda function is called as annonomys function.\n",
    "\n",
    "Syntax - Lambda arguments : expression\n",
    "\n",
    "* Lambda function takes any number of arguments but can have only one expression."
   ]
  },
  {
   "cell_type": "code",
   "execution_count": 4,
   "id": "a396f33a",
   "metadata": {},
   "outputs": [],
   "source": [
    "def test1(a,b):\n",
    "    return a**b"
   ]
  },
  {
   "cell_type": "code",
   "execution_count": 5,
   "id": "8a426d64",
   "metadata": {},
   "outputs": [
    {
     "data": {
      "text/plain": [
       "64"
      ]
     },
     "execution_count": 5,
     "metadata": {},
     "output_type": "execute_result"
    }
   ],
   "source": [
    "test1(4,3)"
   ]
  },
  {
   "cell_type": "code",
   "execution_count": 14,
   "id": "f8e26fec",
   "metadata": {},
   "outputs": [],
   "source": [
    "# by using lambda function.\n",
    "\n",
    "c = lambda a,b : a**b\n",
    "\n",
    "c(4,3) - 64, c(9,6) \n",
    "\n",
    "# Output  - 531441\n",
    "\n",
    "add = lambda a,b,c : (a*b)-c\n",
    "\n",
    "add(1,2,3)\n",
    "\n",
    "# output = -1\n",
    "\n",
    "c_to_f = lambda c : (9/5)*c+32\n",
    " \n",
    "c_to_f(44) \n",
    "\n",
    "# Output - 111.2\n",
    "\n",
    "max_two = lambda x,y : x if x>y else y\n",
    "\n",
    "max_two([22,344,55],[22,555,777])\n",
    "\n",
    "# Output - [22, 555, 777]\n"
   ]
  },
  {
   "cell_type": "markdown",
   "id": "8ba3c576",
   "metadata": {},
   "source": [
    "### Map, Reduce, Filter function"
   ]
  },
  {
   "cell_type": "markdown",
   "id": "e89cc172",
   "metadata": {},
   "source": [
    "* Map - It returns a map object which is an iterator with the given function with the given iterables\n",
    "\n",
    "Syntax - map(fun, iterable)"
   ]
  },
  {
   "cell_type": "markdown",
   "id": "bd7aac91",
   "metadata": {},
   "source": [
    "* Reduce - Apply a function of two arguments cumulatively to the items of a sequence,\n",
    "from left to right, so as to reduce the sequence to a single value. It takes only two arguments at a time.\n",
    "\n",
    "Syntax  - reduce(fun, sequence)"
   ]
  },
  {
   "cell_type": "markdown",
   "id": "05aea468",
   "metadata": {},
   "source": [
    "* Filter - It filters the given sequence with the help of function and that function tests each item is true or not.\n",
    "\n",
    "Syntax - filter(fun or none, iterable)"
   ]
  },
  {
   "cell_type": "code",
   "execution_count": 24,
   "id": "0a85bf8e",
   "metadata": {},
   "outputs": [],
   "source": [
    "# map Function\n",
    "\n",
    "l = [1,2,3,4,5,6]\n",
    "\n",
    "def test1(a):\n",
    "    l1 = []\n",
    "    for i in a:\n",
    "        l1.append(i**2)\n",
    "    return l1\n",
    "\n",
    "print(test1(l))\n",
    "\n",
    "# Out put - [1, 4, 9, 16, 25, 36]\n",
    "\n",
    "def sq(x):\n",
    "    return x**2\n",
    "\n",
    "print(list(map(sq,l)))\n",
    "\n",
    "# output - [1, 4, 9, 16, 25, 36]\n",
    "           \n",
    "            Or\n",
    "        \n",
    "# Map function with Lambda\n",
    "\n",
    "print(list(map(lambda x : x**2, l)))\n",
    "\n",
    "# output - [1, 4, 9, 16, 25, 36]\n"
   ]
  },
  {
   "cell_type": "code",
   "execution_count": 39,
   "id": "9f0b1e07",
   "metadata": {},
   "outputs": [],
   "source": [
    "lst1 = [1,2,3,4,5]\n",
    "lst2 = [6,7,8,9,10]"
   ]
  },
  {
   "cell_type": "code",
   "execution_count": 40,
   "id": "df2b2c04",
   "metadata": {},
   "outputs": [],
   "source": [
    "def add(x,y):\n",
    "    return(x+y)"
   ]
  },
  {
   "cell_type": "code",
   "execution_count": 41,
   "id": "14bec298",
   "metadata": {},
   "outputs": [
    {
     "data": {
      "text/plain": [
       "[7, 9, 11, 13, 15]"
      ]
     },
     "execution_count": 41,
     "metadata": {},
     "output_type": "execute_result"
    }
   ],
   "source": [
    "list(map(add,lst1,lst2))"
   ]
  },
  {
   "cell_type": "code",
   "execution_count": 42,
   "id": "0a3d8570",
   "metadata": {},
   "outputs": [
    {
     "data": {
      "text/plain": [
       "[7, 9, 11, 13, 15]"
      ]
     },
     "execution_count": 42,
     "metadata": {},
     "output_type": "execute_result"
    }
   ],
   "source": [
    "list(map(lambda x,y : x+y,lst1,lst2))"
   ]
  },
  {
   "cell_type": "code",
   "execution_count": 43,
   "id": "0c93a971",
   "metadata": {},
   "outputs": [],
   "source": [
    "s = \"pwskills\""
   ]
  },
  {
   "cell_type": "code",
   "execution_count": 44,
   "id": "776f76d8",
   "metadata": {},
   "outputs": [
    {
     "data": {
      "text/plain": [
       "['P', 'W', 'S', 'K', 'I', 'L', 'L', 'S']"
      ]
     },
     "execution_count": 44,
     "metadata": {},
     "output_type": "execute_result"
    }
   ],
   "source": [
    "list(map(lambda x : x.upper(),s))"
   ]
  },
  {
   "cell_type": "code",
   "execution_count": 53,
   "id": "91aa091f",
   "metadata": {},
   "outputs": [],
   "source": [
    "l =[1,2,3,4,5,6]"
   ]
  },
  {
   "cell_type": "code",
   "execution_count": 54,
   "id": "23de7789",
   "metadata": {},
   "outputs": [
    {
     "data": {
      "text/plain": [
       "21"
      ]
     },
     "execution_count": 54,
     "metadata": {},
     "output_type": "execute_result"
    }
   ],
   "source": [
    "from functools import reduce \n",
    "\n",
    "\n",
    "reduce(lambda x,y : x+y,l)"
   ]
  },
  {
   "cell_type": "code",
   "execution_count": 55,
   "id": "796c831a",
   "metadata": {},
   "outputs": [],
   "source": [
    "def add(x,y):\n",
    "    return x+y"
   ]
  },
  {
   "cell_type": "code",
   "execution_count": 56,
   "id": "1089c588",
   "metadata": {},
   "outputs": [
    {
     "data": {
      "text/plain": [
       "21"
      ]
     },
     "execution_count": 56,
     "metadata": {},
     "output_type": "execute_result"
    }
   ],
   "source": [
    "reduce(add,l)"
   ]
  },
  {
   "cell_type": "code",
   "execution_count": 59,
   "id": "b4abafcc",
   "metadata": {},
   "outputs": [],
   "source": [
    "l = [1,2,3,4,5,6]"
   ]
  },
  {
   "cell_type": "code",
   "execution_count": 64,
   "id": "9b6b4291",
   "metadata": {},
   "outputs": [
    {
     "data": {
      "text/plain": [
       "6"
      ]
     },
     "execution_count": 64,
     "metadata": {},
     "output_type": "execute_result"
    }
   ],
   "source": [
    "reduce(max,(l))"
   ]
  },
  {
   "cell_type": "code",
   "execution_count": 65,
   "id": "2e094102",
   "metadata": {},
   "outputs": [
    {
     "data": {
      "text/plain": [
       "[2, 4, 6]"
      ]
     },
     "execution_count": 65,
     "metadata": {},
     "output_type": "execute_result"
    }
   ],
   "source": [
    "list(filter(lambda x : x%2==0,l))"
   ]
  },
  {
   "cell_type": "code",
   "execution_count": 68,
   "id": "544ec6e8",
   "metadata": {},
   "outputs": [
    {
     "data": {
      "text/plain": [
       "[1, 3, 5]"
      ]
     },
     "execution_count": 68,
     "metadata": {},
     "output_type": "execute_result"
    }
   ],
   "source": [
    "list(filter(lambda x : x%2!=0,l))"
   ]
  },
  {
   "cell_type": "code",
   "execution_count": 69,
   "id": "fb52378a",
   "metadata": {},
   "outputs": [],
   "source": [
    "l1 = [-2,4,5,6,-3,-6,-7]"
   ]
  },
  {
   "cell_type": "code",
   "execution_count": 70,
   "id": "4b7be349",
   "metadata": {},
   "outputs": [
    {
     "data": {
      "text/plain": [
       "[-2, -3, -6, -7]"
      ]
     },
     "execution_count": 70,
     "metadata": {},
     "output_type": "execute_result"
    }
   ],
   "source": [
    "list(filter(lambda x: x <0,l1))"
   ]
  },
  {
   "cell_type": "code",
   "execution_count": 71,
   "id": "94b3a323",
   "metadata": {},
   "outputs": [],
   "source": [
    "l2 = [\"Sanju\",\"Python\",\"Shusanth\",\"Coimbatore\",\"Krish\"]"
   ]
  },
  {
   "cell_type": "code",
   "execution_count": 79,
   "id": "4f1f6c7a",
   "metadata": {},
   "outputs": [
    {
     "data": {
      "text/plain": [
       "['Sanju', 'Python', 'Shusanth', 'Krish']"
      ]
     },
     "execution_count": 79,
     "metadata": {},
     "output_type": "execute_result"
    }
   ],
   "source": [
    "list(filter(lambda x : len(x) < 9,l2))"
   ]
  }
 ],
 "metadata": {
  "kernelspec": {
   "display_name": "Python 3 (ipykernel)",
   "language": "python",
   "name": "python3"
  },
  "language_info": {
   "codemirror_mode": {
    "name": "ipython",
    "version": 3
   },
   "file_extension": ".py",
   "mimetype": "text/x-python",
   "name": "python",
   "nbconvert_exporter": "python",
   "pygments_lexer": "ipython3",
   "version": "3.9.13"
  }
 },
 "nbformat": 4,
 "nbformat_minor": 5
}
