{
 "cells": [
  {
   "cell_type": "markdown",
   "id": "75142a78",
   "metadata": {},
   "source": [
    "## Project 2 - Bank Account \n"
   ]
  },
  {
   "cell_type": "markdown",
   "id": "02c14cf6",
   "metadata": {},
   "source": [
    "Bank Account: A simple program to simulate your bank account with withdrawing and deposit functions."
   ]
  },
  {
   "cell_type": "markdown",
   "id": "137c9976",
   "metadata": {},
   "source": [
    "Pre-requisits(Inheritance)"
   ]
  },
  {
   "cell_type": "markdown",
   "id": "71ea026c",
   "metadata": {},
   "source": [
    "Procedure:\n",
    "\n",
    "1. Creating a parent class called Customer and including constructor inside the class with name, age, gender.\n",
    "\n",
    "2. After creating the initializer create a function to display the details of the customer.\n",
    "\n",
    "3. Create a child classs and inherit the parent class.\n",
    "\n",
    "4. Create a deposit function to add the amount to the bank account\\\n",
    "\n",
    "5. Create a withdraw function to debit the amount to the bank account.\n",
    "\n",
    "6. lastly view details."
   ]
  },
  {
   "cell_type": "code",
   "execution_count": 8,
   "id": "8c4480c2",
   "metadata": {},
   "outputs": [],
   "source": [
    "class customers:\n",
    "    \n",
    "    def __init__(self, name, age, gender):\n",
    "        \n",
    "        self.name = name\n",
    "        self.age = age\n",
    "        self.gender = gender\n",
    "        \n",
    "    def display_details(self):\n",
    "        print(\"Name: {}\".format(self.name))\n",
    "        print(\"age: {}\".format(self.age))\n",
    "        print(\"gender: {}\".format(self.gender))\n",
    "        \n",
    "class Bank(customers):\n",
    "    \n",
    "    amount = 0\n",
    "    \n",
    "    def __init__(self, name, age, gender):\n",
    "        super(). __init__(name,age,gender)\n",
    "        self.balance = 0\n",
    "        \n",
    "    def deposit_amount(self,amount):\n",
    "        \n",
    "        self.balance += amount\n",
    "        \n",
    "        print(\"Account balance has been updated - current balance is {}\".format(self.balance))\n",
    "        \n",
    "    def withdraw_amount(self,amount):\n",
    "        \n",
    "        if self.balance < amount:\n",
    "            print(\"Insufficient balance | Current balance is : {}\".format(self.balance))\n",
    "        else:\n",
    "            self.balance -= amount\n",
    "            print(\"Account balance has been updated - current balance is {}\".format(self.balance))\n",
    "            \n",
    "    def view_details(self):\n",
    "        \n",
    "        self.display_details()\n",
    "        \n",
    "        print(\"Account balance is {}\".format(self.balance))                 "
   ]
  },
  {
   "cell_type": "code",
   "execution_count": 9,
   "id": "5ab2e7e1",
   "metadata": {},
   "outputs": [],
   "source": [
    "Customer1 = Bank(\"Sanju\",19,\"Male\")"
   ]
  },
  {
   "cell_type": "code",
   "execution_count": 10,
   "id": "3524098e",
   "metadata": {},
   "outputs": [
    {
     "name": "stdout",
     "output_type": "stream",
     "text": [
      "Name: Sanju\n",
      "age: 19\n",
      "gender: Male\n",
      "Account balance is 0\n"
     ]
    }
   ],
   "source": [
    "Customer1.view_details()"
   ]
  },
  {
   "cell_type": "code",
   "execution_count": 11,
   "id": "0fa99ec5",
   "metadata": {},
   "outputs": [
    {
     "name": "stdout",
     "output_type": "stream",
     "text": [
      "Account balance has been updated - current balance is 55000\n"
     ]
    }
   ],
   "source": [
    "Customer1.deposit_amount(55000)"
   ]
  },
  {
   "cell_type": "code",
   "execution_count": 12,
   "id": "8117825a",
   "metadata": {},
   "outputs": [
    {
     "name": "stdout",
     "output_type": "stream",
     "text": [
      "Account balance has been updated - current balance is 23000\n"
     ]
    }
   ],
   "source": [
    "Customer1.withdraw_amount(32000)"
   ]
  },
  {
   "cell_type": "code",
   "execution_count": 13,
   "id": "182a925b",
   "metadata": {},
   "outputs": [
    {
     "name": "stdout",
     "output_type": "stream",
     "text": [
      "Name: Sanju\n",
      "age: 19\n",
      "gender: Male\n",
      "Account balance is 23000\n"
     ]
    }
   ],
   "source": [
    "Customer1.view_details()"
   ]
  },
  {
   "cell_type": "code",
   "execution_count": null,
   "id": "4de69650",
   "metadata": {},
   "outputs": [],
   "source": []
  }
 ],
 "metadata": {
  "kernelspec": {
   "display_name": "Python 3 (ipykernel)",
   "language": "python",
   "name": "python3"
  },
  "language_info": {
   "codemirror_mode": {
    "name": "ipython",
    "version": 3
   },
   "file_extension": ".py",
   "mimetype": "text/x-python",
   "name": "python",
   "nbconvert_exporter": "python",
   "pygments_lexer": "ipython3",
   "version": "3.9.13"
  }
 },
 "nbformat": 4,
 "nbformat_minor": 5
}
