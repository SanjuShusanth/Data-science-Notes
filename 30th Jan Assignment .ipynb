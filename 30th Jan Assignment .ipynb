{
 "cells": [
  {
   "cell_type": "markdown",
   "id": "81ab4a47",
   "metadata": {},
   "source": [
    "### 1. Write a program to accept percentage from the user and display the grade accordingly"
   ]
  },
  {
   "cell_type": "markdown",
   "id": "7ebda508",
   "metadata": {},
   "source": [
    "#### Conditions\n",
    "\n",
    "#### if marks are >90 then print A grade\n",
    "#### if marks are >80 and <=90 then print B grade\n",
    "#### if marks are >=60 and <=80 then print C grade\n",
    "#### if the marks are below <60 then print D grade"
   ]
  },
  {
   "cell_type": "code",
   "execution_count": 5,
   "id": "c6c06a20",
   "metadata": {},
   "outputs": [
    {
     "name": "stdout",
     "output_type": "stream",
     "text": [
      "Please enter the percentage: 91\n",
      "You have secured \"A\" grade\n"
     ]
    }
   ],
   "source": [
    "#### Ans:\n",
    "\n",
    "percentage = int(input(\"Please enter the percentage: \"))\n",
    "\n",
    "if percentage >90:\n",
    "    print('You have secured \"A\" grade')\n",
    "elif percentage >80 and percentage <=90:\n",
    "    print('You have secured \"B\" grade')\n",
    "elif percentage >=60 and percentage <=80:\n",
    "    print('You have secured \"C\" grade')\n",
    "else:\n",
    "    print('You have secured \"D\" grade')\n",
    "    "
   ]
  },
  {
   "cell_type": "markdown",
   "id": "8d5b359e",
   "metadata": {},
   "source": [
    "### 2. Write a program to accept the cost price of a bike and display the road tax to be paid according to the following creteria"
   ]
  },
  {
   "cell_type": "markdown",
   "id": "18a3d802",
   "metadata": {},
   "source": [
    "#### Conditions\n",
    "\n",
    "#### If the cost of the bike is >100000 then 15% of tax is applicable\n",
    "#### If the cost of the bike is >50000 and <=100000 then 10% of tax is applicable\n",
    "#### If the cost of the bike is <=50000 then 5% of tax is applicable"
   ]
  },
  {
   "cell_type": "code",
   "execution_count": 10,
   "id": "291f533d",
   "metadata": {},
   "outputs": [
    {
     "name": "stdout",
     "output_type": "stream",
     "text": [
      "Please enter the cost of the bike: 50000\n",
      "You have to pay additional Rs 2500.0 for the road tax\n"
     ]
    }
   ],
   "source": [
    "### Ans:\n",
    "\n",
    "cost_bike = int(input(\"Please enter the cost of the bike: \"))\n",
    "\n",
    "if cost_bike > 100000:\n",
    "    print(\"You have to pay additional Rs {} for the road tax\".format(cost_bike*0.15))\n",
    "elif cost_bike >50000 and cost_bike <=100000:\n",
    "    print(\"You have to pay additional Rs {} for the road tax\".format(cost_bike*0.10))\n",
    "else:\n",
    "    print(\"You have to pay additional Rs {} for the road tax\".format(cost_bike*0.05))"
   ]
  },
  {
   "cell_type": "markdown",
   "id": "dd79d4d9",
   "metadata": {},
   "source": [
    "### 3. Accept a city from the user and display monument of the city"
   ]
  },
  {
   "cell_type": "code",
   "execution_count": 13,
   "id": "81e2810c",
   "metadata": {},
   "outputs": [
    {
     "name": "stdout",
     "output_type": "stream",
     "text": [
      "Please enter the city name: Agra\n",
      "Monument of Agra will be Taj Mahal\n"
     ]
    }
   ],
   "source": [
    "### Ans\n",
    "\n",
    "city = str(input(\"Please enter the city name: \"))\n",
    "\n",
    "if city == \"Delhi\":\n",
    "    print(\"Monument of Delhi will be Redfort\")\n",
    "elif city == \"Agra\":\n",
    "    print(\"Monument of Agra will be Taj Mahal\")\n",
    "elif city == \"Jaipur\":\n",
    "    print(\"Monument of Jaipur will be Jal Mahal\")\n",
    "else:\n",
    "    print(\"Please enter the proper city name\")\n",
    "\n",
    "\n"
   ]
  },
  {
   "cell_type": "markdown",
   "id": "8dcb85d7",
   "metadata": {},
   "source": [
    "### 4. check how many times a given number can be divided by 3 before it is less that or equal to 10"
   ]
  },
  {
   "cell_type": "code",
   "execution_count": 16,
   "id": "1c0f1aab",
   "metadata": {},
   "outputs": [
    {
     "name": "stdout",
     "output_type": "stream",
     "text": [
      "Please enter the number: 300\n",
      "4\n"
     ]
    }
   ],
   "source": [
    "given_number = int(input(\"Please enter the number: \"))\n",
    "\n",
    "count = 0\n",
    "\n",
    "while given_number>=10:\n",
    "    given_number/=3\n",
    "    count+=1\n",
    "print(count)"
   ]
  },
  {
   "cell_type": "markdown",
   "id": "1fb1c04c",
   "metadata": {},
   "source": [
    "### 5. When and Why to use while loop in python give a detailed description with example"
   ]
  },
  {
   "cell_type": "markdown",
   "id": "6c7424f3",
   "metadata": {},
   "source": [
    "### Ans\n",
    "\n",
    "1. While loop is used when we want to execute the set of statements as long as the conditions is true\n",
    "2. While loop performs indefinite iteration and also it check the condition before running\n",
    "3. If the condition evaluates to true the loop will run the code within the loop.\n",
    "4. Then again the condition is evaluated, so this continues untill the condition is False.\n",
    "5. When the condition evaluated to False while loop stops."
   ]
  },
  {
   "cell_type": "code",
   "execution_count": 20,
   "id": "e7d1f350",
   "metadata": {},
   "outputs": [
    {
     "name": "stdout",
     "output_type": "stream",
     "text": [
      "0\n",
      "1\n",
      "2\n",
      "3\n",
      "4\n",
      "5\n",
      "6\n",
      "7\n",
      "8\n",
      "9\n"
     ]
    }
   ],
   "source": [
    "## Simple Example:\n",
    "\n",
    "i = 0\n",
    "\n",
    "while i <10:\n",
    "    print(i)\n",
    "    i+=1"
   ]
  },
  {
   "cell_type": "markdown",
   "id": "a10db4d6",
   "metadata": {},
   "source": [
    "### 6. Use nested while loop to print 3 different patterns"
   ]
  },
  {
   "cell_type": "markdown",
   "id": "2525e450",
   "metadata": {},
   "source": [
    "### Pattern 1:"
   ]
  },
  {
   "cell_type": "code",
   "execution_count": 32,
   "id": "08a10d7d",
   "metadata": {},
   "outputs": [
    {
     "name": "stdout",
     "output_type": "stream",
     "text": [
      "1 \n",
      "2 2 \n",
      "3 3 3 \n",
      "4 4 4 4 \n"
     ]
    }
   ],
   "source": [
    "number_row = 4\n",
    "i = 1\n",
    "while i <= number_row:\n",
    "    j = 1\n",
    "    while j <= i:\n",
    "        print(i, end=\" \")\n",
    "        j += 1\n",
    "    print(\"\")\n",
    "    i += 1"
   ]
  },
  {
   "cell_type": "markdown",
   "id": "65dd29c0",
   "metadata": {},
   "source": [
    "### Pattern 2:"
   ]
  },
  {
   "cell_type": "code",
   "execution_count": 34,
   "id": "c977e171",
   "metadata": {},
   "outputs": [
    {
     "name": "stdout",
     "output_type": "stream",
     "text": [
      "4 4 4 4 \n",
      "3 3 3 \n",
      "2 2 \n",
      "1 \n"
     ]
    }
   ],
   "source": [
    "number_row = 4\n",
    "i = number_row\n",
    "while i >= 1:\n",
    "    j = 1\n",
    "    while j <= i:\n",
    "        print(i, end=\" \")\n",
    "        j += 1\n",
    "    print(\"\")\n",
    "    i -= 1"
   ]
  },
  {
   "cell_type": "markdown",
   "id": "97303901",
   "metadata": {},
   "source": [
    "### Pattern 3:"
   ]
  },
  {
   "cell_type": "code",
   "execution_count": 35,
   "id": "6d0fcf16",
   "metadata": {},
   "outputs": [
    {
     "name": "stdout",
     "output_type": "stream",
     "text": [
      "1 \n",
      "2 3 \n",
      "4 5 6 \n",
      "7 8 9 10 \n"
     ]
    }
   ],
   "source": [
    "number_row = 4\n",
    "i = 1\n",
    "k = 1\n",
    "while i <= number_row:\n",
    "    j = 1\n",
    "    while j <= i:\n",
    "        print(k, end=\" \")\n",
    "        j += 1\n",
    "        k += 1\n",
    "    print(\"\")\n",
    "    i += 1"
   ]
  },
  {
   "cell_type": "markdown",
   "id": "ab14a5e5",
   "metadata": {},
   "source": [
    "### 7. Reverse a while loop to display number from 10 to 1"
   ]
  },
  {
   "cell_type": "code",
   "execution_count": 42,
   "id": "f7ba7175",
   "metadata": {},
   "outputs": [
    {
     "name": "stdout",
     "output_type": "stream",
     "text": [
      "10 9 8 7 6 5 4 3 2 1 "
     ]
    }
   ],
   "source": [
    "i = 10\n",
    "\n",
    "while i >0:\n",
    "    print(i,end=\" \")\n",
    "    i-=1"
   ]
  },
  {
   "cell_type": "markdown",
   "id": "b5a528e2",
   "metadata": {},
   "source": [
    "### 8. Reverse a while loop to display number from 10 to 1"
   ]
  },
  {
   "cell_type": "code",
   "execution_count": 43,
   "id": "0d42f89c",
   "metadata": {},
   "outputs": [
    {
     "name": "stdout",
     "output_type": "stream",
     "text": [
      "10 9 8 7 6 5 4 3 2 1 "
     ]
    }
   ],
   "source": [
    "i = 10\n",
    "\n",
    "while i >0:\n",
    "    print(i,end=\" \")\n",
    "    i-=1"
   ]
  },
  {
   "cell_type": "code",
   "execution_count": null,
   "id": "9d042158",
   "metadata": {},
   "outputs": [],
   "source": []
  }
 ],
 "metadata": {
  "kernelspec": {
   "display_name": "Python 3 (ipykernel)",
   "language": "python",
   "name": "python3"
  },
  "language_info": {
   "codemirror_mode": {
    "name": "ipython",
    "version": 3
   },
   "file_extension": ".py",
   "mimetype": "text/x-python",
   "name": "python",
   "nbconvert_exporter": "python",
   "pygments_lexer": "ipython3",
   "version": "3.9.13"
  }
 },
 "nbformat": 4,
 "nbformat_minor": 5
}
