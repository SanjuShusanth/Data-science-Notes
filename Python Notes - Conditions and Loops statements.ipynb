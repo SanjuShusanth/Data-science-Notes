{
 "cells": [
  {
   "cell_type": "code",
   "execution_count": 2,
   "id": "8dd49601",
   "metadata": {},
   "outputs": [
    {
     "name": "stdout",
     "output_type": "stream",
     "text": [
      "Sanju is a dancer whose age is 19\n"
     ]
    }
   ],
   "source": [
    "# Place holder\n",
    "\n",
    "print('Sanju is a {firstname} whose age is {firstage}'.format(firstname= \"dancer\", firstage=19))"
   ]
  },
  {
   "cell_type": "code",
   "execution_count": 3,
   "id": "555c9340",
   "metadata": {},
   "outputs": [
    {
     "name": "stdout",
     "output_type": "stream",
     "text": [
      "Sanju is a dancer whose age is 19\n"
     ]
    }
   ],
   "source": [
    "# fstring\n",
    "\n",
    "print(f'{\"Sanju\"} is a dancer whose age is {19}')"
   ]
  },
  {
   "cell_type": "code",
   "execution_count": 4,
   "id": "2c744cf6",
   "metadata": {},
   "outputs": [
    {
     "name": "stdout",
     "output_type": "stream",
     "text": [
      "Sanju is a dancer whoose age is 19\n"
     ]
    }
   ],
   "source": [
    "# .Foramt()\n",
    "\n",
    "print(\"{} is a dancer whoose age is {}\".format(\"Sanju\", 19))"
   ]
  },
  {
   "cell_type": "markdown",
   "id": "e073c179",
   "metadata": {},
   "source": [
    "# Control Flow statements"
   ]
  },
  {
   "cell_type": "code",
   "execution_count": 5,
   "id": "f9147efd",
   "metadata": {},
   "outputs": [],
   "source": [
    "# if statement\n",
    "\n",
    "# Deepawali clothes purchase \n",
    "\n",
    "# condition - <=2000 "
   ]
  },
  {
   "cell_type": "code",
   "execution_count": 6,
   "id": "d5f2253c",
   "metadata": {},
   "outputs": [],
   "source": [
    "purchase=2001\n",
    "\n",
    "if purchase <=2000:\n",
    "    print(\"We can go for purchasing the product\")"
   ]
  },
  {
   "cell_type": "code",
   "execution_count": 8,
   "id": "7f420476",
   "metadata": {},
   "outputs": [
    {
     "name": "stdout",
     "output_type": "stream",
     "text": [
      "Enter the budget for purchasing: 2000\n",
      "You can purchase the product with offer 1000.0\n"
     ]
    }
   ],
   "source": [
    "# Condition \n",
    "\n",
    "# budget >=2000 and <=3000 \n",
    "# print if the budget for purchasing the product is above 2000 and below 3000 will be get a 50% offer.\n",
    "\n",
    "purchase_product= int(input(\"Enter the budget for purchasing: \"))\n",
    "\n",
    "if purchase_product >=2000 and purchase_product <=3000:\n",
    "    print(\"You can purchase the product with offer {}\".format(purchase_product*0.5))\n",
    "else:\n",
    "    print(\"You can purchase the product without the offer\")"
   ]
  },
  {
   "cell_type": "code",
   "execution_count": 9,
   "id": "3b9ff80a",
   "metadata": {},
   "outputs": [
    {
     "name": "stdout",
     "output_type": "stream",
     "text": [
      "Enter the budget for purchasing: 1999\n",
      "You can purchase the product with offer 1599.2\n"
     ]
    }
   ],
   "source": [
    "# budget >=2000 and <=3000 \n",
    "# print if the budget for purchasing the product is above 2000 and below 3000 will be get a 50% offer.\n",
    "# print if the budget for purchasing the product is below 1999 will get 20% offer.\n",
    "\n",
    "purchase_product= int(input(\"Enter the budget for purchasing: \"))\n",
    "\n",
    "if purchase_product >=2000 and purchase_product <=3000:\n",
    "    print(\"You can purchase the product with offer {}\".format(purchase_product*0.5))\n",
    "else:\n",
    "    print(\"You can purchase the product with offer {}\".format(purchase_product*0.8))"
   ]
  },
  {
   "cell_type": "code",
   "execution_count": 10,
   "id": "c0123d90",
   "metadata": {},
   "outputs": [
    {
     "name": "stdout",
     "output_type": "stream",
     "text": [
      "Enter the budget for purchasing: 2501\n",
      "Congradualtion you have got buy one get one offer\n"
     ]
    }
   ],
   "source": [
    "# budget >=2000 and <=2500 \n",
    "# if -   print if the budget for purchasing the product is above 2000 and below 2500 will be get a 50% offer.\n",
    "# elif - print if the budget for purchasing the product is ==2500 there is a special offer of buy one get one\n",
    "# else - print if the budget for purchasing the product is below 1999 will get 20% offer.\n",
    "\n",
    "\n",
    "purchase_product= int(input(\"Enter the budget for purchasing: \"))\n",
    "\n",
    "if purchase_product >=2000 and purchase_product <=2500:\n",
    "    print(\"You can purchase the product with offer {}\".format(purchase_product*0.5))\n",
    "elif purchase_product>=2501:\n",
    "    print(\"Congradualtion you have got buy one get one offer\")\n",
    "else:\n",
    "    print(\"You can purchase the product with offer {}\".format(purchase_product*0.8))"
   ]
  },
  {
   "cell_type": "code",
   "execution_count": 11,
   "id": "47c8ca28",
   "metadata": {},
   "outputs": [
    {
     "name": "stdout",
     "output_type": "stream",
     "text": [
      "Enter the budget for purchasing: 2525\n",
      "You can purchase the product with offer of Rs.1262.5\n"
     ]
    }
   ],
   "source": [
    "# Nester loops\n",
    "\n",
    "# budget >=2000 \n",
    "# if -   print if the budget for purchasing the product is above 2000 and below 2500 will be get a 50% offer.\n",
    "# Nested if - print if the budget ==2500, you avail free purchase on next occation.\n",
    "# elif - print if the budget for purchasing the product is ==2500 there is a special offer of buy one get one\n",
    "# else - print if the budget for purchasing the product is below 1999 will get 20% offer.\n",
    "\n",
    "\n",
    "purchase_product= int(input(\"Enter the budget for purchasing: \"))\n",
    "\n",
    "if purchase_product >=2000:\n",
    "    if purchase_product==2500:\n",
    "        print(\"You avail free purchase on next occation\")\n",
    "    print(\"You can purchase the product with offer of Rs.{}\".format(purchase_product*0.5))\n",
    "elif purchase_product>=2501:\n",
    "    if purchase_product==2525:\n",
    "        print(\"wow! lucky winner of the day\")\n",
    "    print(print(\"You can purchase the product with offer Rs.{}\".format(purchase_product*0.8)))\n",
    "else:\n",
    "    print(\"You can join with beggar\")\n"
   ]
  },
  {
   "cell_type": "code",
   "execution_count": 12,
   "id": "c43241cf",
   "metadata": {},
   "outputs": [
    {
     "name": "stdout",
     "output_type": "stream",
     "text": [
      "Enter the number: 1\n",
      "Value is less than 10\n"
     ]
    }
   ],
   "source": [
    "# single statement suites\n",
    "\n",
    "Val=int(input(\"Enter the number: \"))\n",
    "if (Val<=10):print(\"Value is less than 10\")\n",
    "else:\n",
    "    print(\"Value is greater than 10\")"
   ]
  },
  {
   "cell_type": "markdown",
   "id": "e63c651f",
   "metadata": {},
   "source": [
    "# Loops Statements"
   ]
  },
  {
   "cell_type": "markdown",
   "id": "5365f27d",
   "metadata": {},
   "source": [
    "### 1.While loop\n",
    "\n",
    "### 2.For loop\n",
    "\n",
    "### 3.Nested loop\n",
    "\n",
    "### 4.Loop control(Break, continue, pass)"
   ]
  },
  {
   "cell_type": "markdown",
   "id": "2984ef8b",
   "metadata": {},
   "source": [
    "### while loop statement"
   ]
  },
  {
   "cell_type": "code",
   "execution_count": 13,
   "id": "5de2ed88",
   "metadata": {},
   "outputs": [
    {
     "name": "stdout",
     "output_type": "stream",
     "text": [
      "91\n",
      "92\n",
      "93\n",
      "94\n",
      "95\n",
      "96\n",
      "97\n",
      "98\n",
      "99\n",
      "100\n",
      "batery is fully charged\n"
     ]
    }
   ],
   "source": [
    "# while loop statement.\n",
    "\n",
    "phone_batery= 90\n",
    "\n",
    "while phone_batery<100:\n",
    "    phone_batery=phone_batery+1\n",
    "    print(phone_batery)\n",
    "else:\n",
    "    print(\"batery is fully charged\")\n",
    "    "
   ]
  },
  {
   "cell_type": "code",
   "execution_count": 14,
   "id": "856c83b6",
   "metadata": {},
   "outputs": [
    {
     "name": "stdout",
     "output_type": "stream",
     "text": [
      "9\n",
      "8\n",
      "7\n",
      "6\n",
      "5\n",
      "4\n",
      "3\n",
      "2\n",
      "1\n",
      "0\n",
      "Please charge the phone\n"
     ]
    }
   ],
   "source": [
    "phone_batery=10\n",
    "\n",
    "while phone_batery!=0:\n",
    "    phone_batery=phone_batery-1\n",
    "    print(phone_batery)\n",
    "else:\n",
    "    print('Please charge the phone')"
   ]
  },
  {
   "cell_type": "code",
   "execution_count": 18,
   "id": "31181d3d",
   "metadata": {},
   "outputs": [
    {
     "name": "stdout",
     "output_type": "stream",
     "text": [
      "Please Enter your age: 10\n",
      "11\n",
      "12\n",
      "13\n",
      "14\n",
      "15\n",
      "16\n",
      "17\n",
      "18\n"
     ]
    }
   ],
   "source": [
    "# Input in while\n",
    "\n",
    "age = int(input(\"Please Enter your age: \"))\n",
    "\n",
    "while age <18:\n",
    "    age=age+1\n",
    "    print(age)\n",
    "    "
   ]
  },
  {
   "cell_type": "code",
   "execution_count": 6,
   "id": "39893d95",
   "metadata": {},
   "outputs": [],
   "source": [
    "# simple example - a theif is entering into a house, he doesn't know which room has tressure. \n",
    "# step 1 - User gives the input to enter into the room.\n",
    "# step 2 - Using while loop condition <5 which means the house has 4 rooms. while loop is used to iterate over the rooms."
   ]
  },
  {
   "cell_type": "code",
   "execution_count": 36,
   "id": "f0daf161",
   "metadata": {},
   "outputs": [
    {
     "name": "stdout",
     "output_type": "stream",
     "text": [
      "Please enter the room no from 1 to 4: 1\n",
      "1\n",
      "This room has clothes\n",
      "2\n",
      "Wow! we found the tressure let's leave\n",
      "3\n",
      "This room is filled with flowers\n",
      "4\n",
      "No rooms available\n"
     ]
    }
   ],
   "source": [
    "room = int(input(\"Please enter the room no from 1 to 4: \"))\n",
    "\n",
    "while room <5:\n",
    "    if room == 2:\n",
    "        print(\"This room has clothes\")\n",
    "    elif room >= 3:\n",
    "        if room ==3:\n",
    "            print(\"Wow! we found the tressure let's leave\")\n",
    "        else:\n",
    "            print(\"This room is filled with flowers\")\n",
    "    print(room)\n",
    "    room = room + 1\n",
    "else:\n",
    "    print('No rooms available')"
   ]
  },
  {
   "cell_type": "markdown",
   "id": "0d588860",
   "metadata": {},
   "source": [
    "### For Loop"
   ]
  },
  {
   "cell_type": "markdown",
   "id": "e02b01a0",
   "metadata": {},
   "source": [
    "Here for loop statement is used to iterates over an item at any order, items can be a string or a list."
   ]
  },
  {
   "cell_type": "code",
   "execution_count": 37,
   "id": "4a601260",
   "metadata": {},
   "outputs": [],
   "source": [
    "# For loop statement \n",
    "\n",
    "lst=[\"Sanju\",1,2,3,4,\"apple\",\"banana\"]"
   ]
  },
  {
   "cell_type": "code",
   "execution_count": 38,
   "id": "107b6c53",
   "metadata": {},
   "outputs": [
    {
     "data": {
      "text/plain": [
       "list"
      ]
     },
     "execution_count": 38,
     "metadata": {},
     "output_type": "execute_result"
    }
   ],
   "source": [
    "type(lst)"
   ]
  },
  {
   "cell_type": "code",
   "execution_count": 39,
   "id": "660e7974",
   "metadata": {},
   "outputs": [
    {
     "name": "stdout",
     "output_type": "stream",
     "text": [
      "Sanju\n",
      "1\n",
      "2\n",
      "3\n",
      "4\n",
      "apple\n",
      "banana\n"
     ]
    }
   ],
   "source": [
    "for x in lst:\n",
    "    print(x)\n",
    "    "
   ]
  },
  {
   "cell_type": "code",
   "execution_count": 4,
   "id": "2fc25ecd",
   "metadata": {},
   "outputs": [],
   "source": [
    "fruits_list=['banana','apple','pineapple','orange']"
   ]
  },
  {
   "cell_type": "code",
   "execution_count": 5,
   "id": "d39aae15",
   "metadata": {},
   "outputs": [
    {
     "name": "stdout",
     "output_type": "stream",
     "text": [
      "banana\n",
      "apple\n",
      "pineapple\n",
      "orange\n",
      "This fruit is orange\n"
     ]
    }
   ],
   "source": [
    "for x in fruit_list:\n",
    "    print(x)\n",
    "    if x==\"orange\":\n",
    "        print('This fruit is orange')"
   ]
  },
  {
   "cell_type": "code",
   "execution_count": 43,
   "id": "eefbf6e3",
   "metadata": {},
   "outputs": [
    {
     "name": "stdout",
     "output_type": "stream",
     "text": [
      "1\n",
      "2\n",
      "3\n",
      "4\n",
      "5\n",
      "6\n",
      "7\n",
      "8\n",
      "9\n"
     ]
    }
   ],
   "source": [
    "for i in range(1,10):\n",
    "    print(i)"
   ]
  },
  {
   "cell_type": "code",
   "execution_count": 46,
   "id": "8fda289d",
   "metadata": {},
   "outputs": [
    {
     "name": "stdout",
     "output_type": "stream",
     "text": [
      "0\n",
      "3\n",
      "6\n"
     ]
    }
   ],
   "source": [
    "for i in range(0,9,3):\n",
    "    print(i)"
   ]
  },
  {
   "cell_type": "markdown",
   "id": "cf56da45",
   "metadata": {},
   "source": [
    "## Nested loops"
   ]
  },
  {
   "cell_type": "markdown",
   "id": "4b7c0c4a",
   "metadata": {},
   "source": [
    "Here for loop statement is used to iterates over an item at any order, items can be a string or a list."
   ]
  },
  {
   "cell_type": "code",
   "execution_count": 58,
   "id": "bb500cbf",
   "metadata": {},
   "outputs": [
    {
     "name": "stdout",
     "output_type": "stream",
     "text": [
      "*\r\n",
      "**\r\n",
      "***\r\n",
      "****\r\n",
      "*****\r\n",
      "******\r\n",
      "*******\r\n",
      "********\r\n"
     ]
    }
   ],
   "source": [
    "# nested  for loop\n",
    "# \"\\r\" denotes all the stars are printed in same line of code.\n",
    "\n",
    "n=8\n",
    "\n",
    "for i in range(0,n):\n",
    "    for j in range(0,i+1):\n",
    "        print('*',end=\"\")\n",
    "    print(\"\\r\")"
   ]
  },
  {
   "cell_type": "code",
   "execution_count": 1,
   "id": "0cefc65d",
   "metadata": {},
   "outputs": [],
   "source": [
    "##Loop controls\n",
    "## Break and continue\n",
    "fruits_list = [\"Mango\",\"Cherry\",\"Apple\",\"Papaya\",\"Banana\"]"
   ]
  },
  {
   "cell_type": "code",
   "execution_count": 2,
   "id": "20318cec",
   "metadata": {},
   "outputs": [
    {
     "name": "stdout",
     "output_type": "stream",
     "text": [
      "Mango\n",
      "Cherry\n",
      "The fruit is apple\n"
     ]
    }
   ],
   "source": [
    "for i in fruits_list:\n",
    "    if i==\"Apple\":\n",
    "        print(\"The fruit is apple\")\n",
    "        break\n",
    "    print(i)"
   ]
  },
  {
   "cell_type": "code",
   "execution_count": 6,
   "id": "bf408408",
   "metadata": {},
   "outputs": [
    {
     "name": "stdout",
     "output_type": "stream",
     "text": [
      "banana\n",
      "apple\n",
      "pineapple\n",
      "orange\n"
     ]
    }
   ],
   "source": [
    "for i in fruits_list:\n",
    "    if i==\"Apple\":\n",
    "        print(\"The fruit is apple\")\n",
    "        pass\n",
    "    print(i)"
   ]
  },
  {
   "cell_type": "code",
   "execution_count": 7,
   "id": "9f40bc16",
   "metadata": {},
   "outputs": [
    {
     "name": "stdout",
     "output_type": "stream",
     "text": [
      "banana\n",
      "apple\n",
      "pineapple\n",
      "orange\n"
     ]
    }
   ],
   "source": [
    "##continue\n",
    "for i in fruits_list:\n",
    "    if i==\"Apple\":\n",
    "        print(\"The fruit is apple\")\n",
    "        continue\n",
    "    print(i)"
   ]
  },
  {
   "cell_type": "code",
   "execution_count": null,
   "id": "1d66d9cf",
   "metadata": {},
   "outputs": [],
   "source": []
  }
 ],
 "metadata": {
  "kernelspec": {
   "display_name": "Python 3 (ipykernel)",
   "language": "python",
   "name": "python3"
  },
  "language_info": {
   "codemirror_mode": {
    "name": "ipython",
    "version": 3
   },
   "file_extension": ".py",
   "mimetype": "text/x-python",
   "name": "python",
   "nbconvert_exporter": "python",
   "pygments_lexer": "ipython3",
   "version": "3.9.13"
  }
 },
 "nbformat": 4,
 "nbformat_minor": 5
}
