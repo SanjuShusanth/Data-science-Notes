{
 "cells": [
  {
   "cell_type": "markdown",
   "id": "a141656f",
   "metadata": {},
   "source": [
    "* Q1.Create a vehicle class with an init method having instance variables as name_of_vehicle, max_speed and average_of_vehicle. \n",
    "\n",
    "* Q2.  Create a child class car from the vehicle class created in Que 1, which will inherit the vehicle class. Create a method named seating_capacity which takes capacity as an argument and returns the name of the vehicle and its seating capacity.\n",
    "\n",
    "* Q3. What is multiple inheritance? Write a python code to demonstrate multiple inheritance.\n",
    "\n",
    "* Q4. What are getter and setter in python? Create a class and create a getter and a setter method in this class.\n",
    "\n",
    "* Q5.What is method overriding in python? Write a python code to demonstrate method overriding"
   ]
  },
  {
   "cell_type": "markdown",
   "id": "3f6cf8ff",
   "metadata": {},
   "source": [
    "Q1. Create a vehicle class with an init method having instance variables as name_of_vehicle, max_speed and average_of_vehicle."
   ]
  },
  {
   "cell_type": "code",
   "execution_count": 10,
   "id": "710c1cb5",
   "metadata": {},
   "outputs": [
    {
     "name": "stdout",
     "output_type": "stream",
     "text": [
      "Car Name : Scross\n",
      "Top Speed:  200\n",
      "Milege:  16\n"
     ]
    }
   ],
   "source": [
    "# Ans:\n",
    "    \n",
    "class vehicle:\n",
    "    \n",
    "    def __init__(self, name_of_vehicle, max_speed, average_of_vehicle):\n",
    "        self.name_of_vehicle = name_of_vehicle\n",
    "        self.max_speed = max_speed\n",
    "        self.average_of_vehicle = average_of_vehicle\n",
    "    \n",
    "    def display(self):\n",
    "        print(\"Car Name :\", self.name_of_vehicle)\n",
    "        print(\"Top Speed: \", self.max_speed)\n",
    "        print(\"Milege: \", self.average_of_vehicle)\n",
    "\n",
    "        \n",
    "New_car = vehicle(\"Scross\", 200, 16)\n",
    "\n",
    "New_car.display()"
   ]
  },
  {
   "cell_type": "code",
   "execution_count": null,
   "id": "56209b88",
   "metadata": {},
   "outputs": [],
   "source": []
  },
  {
   "cell_type": "markdown",
   "id": "2be48ab9",
   "metadata": {},
   "source": [
    "Q2. Create a child class car from the vehicle class created in Que 1, which will inherit the vehicle class. Create a method named seating_capacity which takes capacity as an argument and returns the name of the vehicle and its seating capacity."
   ]
  },
  {
   "cell_type": "code",
   "execution_count": 31,
   "id": "b50770d0",
   "metadata": {},
   "outputs": [],
   "source": [
    "class vehicle:\n",
    "    \n",
    "    def __init__(self, name_of_vehicle, max_speed, average_of_vehicle):\n",
    "        self.name_of_vehicle = name_of_vehicle\n",
    "        self.max_speed = max_speed\n",
    "        self.average_of_vehicle = average_of_vehicle\n",
    "    \n",
    "    def display(self):\n",
    "        print(\"Car Name :\", self.name_of_vehicle)\n",
    "        print(\"Top Speed: \", self.max_speed)\n",
    "        print(\"Milege: \", self.average_of_vehicle)\n",
    "        \n",
    "class car(vehicle):\n",
    "    \n",
    "    def seating_capacity(self, capacity):\n",
    "        return(\"Seating capacity of {} : {} people\".format(self.name_of_vehicle,capacity))"
   ]
  },
  {
   "cell_type": "code",
   "execution_count": 32,
   "id": "5855a4dd",
   "metadata": {},
   "outputs": [
    {
     "name": "stdout",
     "output_type": "stream",
     "text": [
      "Car Name : jeep\n",
      "Top Speed:  200\n",
      "Milege:  18\n",
      "Seating capacity of jeep : 4 people\n"
     ]
    }
   ],
   "source": [
    "my_car = car(\"jeep\", 200, 18)\n",
    "\n",
    "my_car.display()\n",
    "\n",
    "print(my_car.seating_capacity(4))"
   ]
  },
  {
   "cell_type": "code",
   "execution_count": null,
   "id": "35a9b5d0",
   "metadata": {},
   "outputs": [],
   "source": []
  },
  {
   "cell_type": "markdown",
   "id": "708c2f50",
   "metadata": {},
   "source": [
    "Q3. What is multiple inheritance? Write a python code to demonstrate multiple inheritance."
   ]
  },
  {
   "cell_type": "markdown",
   "id": "77115036",
   "metadata": {},
   "source": [
    "* In Multiple inheritance means that class is derived from one or more base class is called as Multiple inheritance. In this feature the derived class is inherites all the features of the base class."
   ]
  },
  {
   "cell_type": "code",
   "execution_count": 5,
   "id": "40fc2b6c",
   "metadata": {},
   "outputs": [
    {
     "name": "stdout",
     "output_type": "stream",
     "text": [
      "student1:  Sanju\n",
      "studdent2:  Nandhu\n"
     ]
    }
   ],
   "source": [
    "# Example\n",
    "\n",
    "class student1:\n",
    "    student = \"\"\n",
    "        \n",
    "    def student_name1(self):\n",
    "        print(self.student_name1)\n",
    "        \n",
    "class student2:\n",
    "    \n",
    "    student2 = ''\n",
    "        \n",
    "    def student_name2(self):\n",
    "        print(self.student_name2)\n",
    "        \n",
    "class school(student1,student2):\n",
    "    \n",
    "    def details(self):\n",
    "        print(\"student1: \", self.student_name1)\n",
    "        print(\"studdent2: \", self.student_name2)\n",
    "        \n",
    "S1 = school()\n",
    "\n",
    "S1.student_name1 = \"Sanju\"\n",
    "S1.student_name2 = \"Nandhu\"\n",
    "\n",
    "\n",
    "S1.details()\n",
    "   \n",
    "        \n",
    "        "
   ]
  },
  {
   "cell_type": "markdown",
   "id": "88159b77",
   "metadata": {},
   "source": [
    "Q4. What are getter and setter in python? Create a class and create a getter and a setter method in this class."
   ]
  },
  {
   "cell_type": "markdown",
   "id": "036d444e",
   "metadata": {},
   "source": [
    "* A getter is a method that is used to retrive the value of the class attribute, getters are used when the class attributes are encapsulated. They can be defined using the properties called @property decorator which allows the access to corresponding attribute.\n",
    "\n",
    "\n",
    "* A setter is a method that is used to set the values of the class attributes. They can be defined using the properties @func_name.setter which allows to make changes to the corresponding attribute. "
   ]
  },
  {
   "cell_type": "code",
   "execution_count": 4,
   "id": "2c0cd267",
   "metadata": {},
   "outputs": [
    {
     "name": "stdout",
     "output_type": "stream",
     "text": [
      "nandhu\n"
     ]
    }
   ],
   "source": [
    "class student:\n",
    "    \n",
    "    def __init__(self, name):\n",
    "        self._name = name\n",
    "        \n",
    "    @property \n",
    "    \n",
    "    def name(self):\n",
    "        return self._name\n",
    "    \n",
    "    @name.setter\n",
    "    \n",
    "    def name(self, new_name):\n",
    "        self._name = new_name\n",
    "        \n",
    "kk = student(\"sanju\")\n",
    "\n",
    "kk.name = \"nandhu\"\n",
    "\n",
    "name = kk.name\n",
    "\n",
    "print(name)"
   ]
  },
  {
   "cell_type": "code",
   "execution_count": null,
   "id": "d42edae7",
   "metadata": {},
   "outputs": [],
   "source": []
  },
  {
   "cell_type": "markdown",
   "id": "67732cfb",
   "metadata": {},
   "source": [
    "Q5.What is method overriding in python? Write a python code to demonstrate method overriding"
   ]
  },
  {
   "cell_type": "markdown",
   "id": "45c27316",
   "metadata": {},
   "source": [
    "* It is a concept in object oriented prrogramming where the child class provide the own implementation of a method that is already defined in the parent class\n",
    "\n",
    "* This allows the child class to modify the behaviour of the method inherited from the parent class."
   ]
  },
  {
   "cell_type": "code",
   "execution_count": 7,
   "id": "8e0b2a8a",
   "metadata": {},
   "outputs": [
    {
     "name": "stdout",
     "output_type": "stream",
     "text": [
      "soft drinks tastes good\n",
      "It tastes sweet\n",
      "It tastes sour\n"
     ]
    }
   ],
   "source": [
    "class soft_drinks:\n",
    "    def taste(self):\n",
    "        print(\"soft drinks tastes good\")\n",
    "        \n",
    "class pepsi(soft_drinks):\n",
    "    def taste(self):\n",
    "        print(\"It tastes sweet\")\n",
    "        \n",
    "class nimbu(soft_drinks):\n",
    "    def taste(self):\n",
    "        print(\"It tastes sour\")\n",
    "        \n",
    "a = soft_drinks()\n",
    "\n",
    "a.taste()\n",
    "\n",
    "\n",
    "p = pepsi()\n",
    "\n",
    "p.taste()\n",
    "        \n",
    "    \n",
    "n = nimbu()\n",
    "\n",
    "n.taste()"
   ]
  },
  {
   "cell_type": "code",
   "execution_count": null,
   "id": "6191f37c",
   "metadata": {},
   "outputs": [],
   "source": []
  }
 ],
 "metadata": {
  "kernelspec": {
   "display_name": "Python 3 (ipykernel)",
   "language": "python",
   "name": "python3"
  },
  "language_info": {
   "codemirror_mode": {
    "name": "ipython",
    "version": 3
   },
   "file_extension": ".py",
   "mimetype": "text/x-python",
   "name": "python",
   "nbconvert_exporter": "python",
   "pygments_lexer": "ipython3",
   "version": "3.9.13"
  }
 },
 "nbformat": 4,
 "nbformat_minor": 5
}
