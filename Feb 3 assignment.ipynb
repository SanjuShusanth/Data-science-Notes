{
 "cells": [
  {
   "cell_type": "markdown",
   "id": "ab122daa",
   "metadata": {},
   "source": [
    "## Q1. Which keyword is used to create a function? Create a function to return a list of odd numbers in the range of 1 to 25."
   ]
  },
  {
   "cell_type": "markdown",
   "id": "a2e52714",
   "metadata": {},
   "source": [
    " Ans:"
   ]
  },
  {
   "cell_type": "code",
   "execution_count": 10,
   "id": "ab4e199d",
   "metadata": {},
   "outputs": [],
   "source": [
    "def test1(a):\n",
    "    n=[]\n",
    "    for i in range(25):\n",
    "        if i%2 != 0:\n",
    "            n.append(i)\n",
    "    return n"
   ]
  },
  {
   "cell_type": "code",
   "execution_count": 11,
   "id": "00bdfe29",
   "metadata": {},
   "outputs": [
    {
     "data": {
      "text/plain": [
       "[1, 3, 5, 7, 9, 11, 13, 15, 17, 19, 21, 23]"
      ]
     },
     "execution_count": 11,
     "metadata": {},
     "output_type": "execute_result"
    }
   ],
   "source": [
    "test1(25)"
   ]
  },
  {
   "cell_type": "markdown",
   "id": "22caeff8",
   "metadata": {},
   "source": [
    "## Q2. Why *args and **kwargs is used in some functions? Create a function each for *args and **kwargs to demonstrate their use."
   ]
  },
  {
   "cell_type": "markdown",
   "id": "a7ed8bf0",
   "metadata": {},
   "source": [
    "Ans:"
   ]
  },
  {
   "cell_type": "markdown",
   "id": "3f7cc641",
   "metadata": {},
   "source": [
    "### *Args\n",
    "\n",
    "* Args are called as Non -keyword argument, it allows to passess 'n' number of arguments when calling a function.\n",
    "\n",
    "* Args will return the tuple of arguments from which we can access the items."
   ]
  },
  {
   "cell_type": "code",
   "execution_count": 16,
   "id": "2ae31c64",
   "metadata": {},
   "outputs": [],
   "source": [
    "def test2(*args):\n",
    "    n={}\n",
    "    for i in args:\n",
    "        if type(i)==set:\n",
    "            return i"
   ]
  },
  {
   "cell_type": "code",
   "execution_count": 18,
   "id": "544ecb65",
   "metadata": {},
   "outputs": [
    {
     "data": {
      "text/plain": [
       "{22, 33, 44, 55, 66}"
      ]
     },
     "execution_count": 18,
     "metadata": {},
     "output_type": "execute_result"
    }
   ],
   "source": [
    "test2([1,2,3,4,5],\"data science\",{55,66,44,33,22})"
   ]
  },
  {
   "cell_type": "markdown",
   "id": "ce6cb4fc",
   "metadata": {},
   "source": [
    "### **Kwargs                          \n",
    "\n",
    "* Kwargs is also Non-keyword argument, it allows to passes 'n' number of arguments when the function is called.\n",
    "* This particualry returns the dictionary of arguments from which we can access."
   ]
  },
  {
   "cell_type": "code",
   "execution_count": 98,
   "id": "e320bb45",
   "metadata": {},
   "outputs": [],
   "source": [
    "def test3(**kwargs):\n",
    "    for i in kwargs.keys():\n",
    "        if type(kwargs[i]) == str:\n",
    "                return i, kwargs[i]"
   ]
  },
  {
   "cell_type": "code",
   "execution_count": 99,
   "id": "65b217cd",
   "metadata": {},
   "outputs": [
    {
     "data": {
      "text/plain": [
       "('c', 'python is mandatory for data science')"
      ]
     },
     "execution_count": 99,
     "metadata": {},
     "output_type": "execute_result"
    }
   ],
   "source": [
    "test3(a = [55], b={'python','datascience'}, c=('python is mandatory for data science'))"
   ]
  },
  {
   "cell_type": "markdown",
   "id": "5bb0cfa8",
   "metadata": {},
   "source": [
    "## Q3.  What is an iterator in python? Name the method used to initialise the iterator object and the method used for iteration. Use these methods to print the first five elements of the given list [2, 4, 6, 8, 10, 12, 14, 16, 18, 20]."
   ]
  },
  {
   "cell_type": "markdown",
   "id": "2cc44a5e",
   "metadata": {},
   "source": [
    "Ans:"
   ]
  },
  {
   "cell_type": "markdown",
   "id": "4628972d",
   "metadata": {},
   "source": [
    "* Iterator is an object that has countable number of values.\n",
    "\n",
    "* Iterator is can be transverse through all the values.\n",
    "\n",
    "* Python iterator has two methods, they are: 1. `iter()` 2. `next()`\n",
    "\n",
    "* The method used to intialise the iterator onject is `iter()` it always returns the iterator object.\n",
    "\n",
    "* The `next()` method allows to perform the operation, it returns the next item in the sequence."
   ]
  },
  {
   "cell_type": "markdown",
   "id": "db088d9a",
   "metadata": {},
   "source": [
    "Ans:"
   ]
  },
  {
   "cell_type": "code",
   "execution_count": 3,
   "id": "4b3e7afd",
   "metadata": {},
   "outputs": [],
   "source": [
    "lst1 = [2, 4, 6, 8, 10, 12, 14, 16, 18, 20]"
   ]
  },
  {
   "cell_type": "code",
   "execution_count": 4,
   "id": "2f420c4c",
   "metadata": {},
   "outputs": [],
   "source": [
    "my_lst = iter(lst1)"
   ]
  },
  {
   "cell_type": "code",
   "execution_count": 5,
   "id": "cdca7cbe",
   "metadata": {},
   "outputs": [
    {
     "name": "stdout",
     "output_type": "stream",
     "text": [
      "2\n",
      "4\n",
      "6\n",
      "8\n",
      "10\n"
     ]
    }
   ],
   "source": [
    "print(next(my_lst))\n",
    "print(next(my_lst))\n",
    "print(next(my_lst))\n",
    "print(next(my_lst))\n",
    "print(next(my_lst))"
   ]
  },
  {
   "cell_type": "markdown",
   "id": "61618b1b",
   "metadata": {},
   "source": [
    "## Q4.  What is a generator function in python? Why yield keyword is used? Give an example of a generator function."
   ]
  },
  {
   "cell_type": "markdown",
   "id": "d4d9ada7",
   "metadata": {},
   "source": [
    "* Generator is a function that returns the iterator with the sequence of values.\n",
    "\n",
    "* It is used to return large sequence of values, but we don't them to stored all in memory at once.\n",
    "\n",
    "* `yield` is keyword use to return the value from the generator and pass the function of generator untill the next values is requested."
   ]
  },
  {
   "cell_type": "code",
   "execution_count": 34,
   "id": "0b230ce7",
   "metadata": {},
   "outputs": [],
   "source": [
    "def test1():\n",
    "    yield \"Python\"\n",
    "    \n",
    "    yield \"Data Science\""
   ]
  },
  {
   "cell_type": "code",
   "execution_count": 35,
   "id": "22b6d8fe",
   "metadata": {},
   "outputs": [
    {
     "name": "stdout",
     "output_type": "stream",
     "text": [
      "Python\n",
      "Data Science\n"
     ]
    }
   ],
   "source": [
    "my_test = test1()\n",
    "\n",
    "print(next(my_test))\n",
    "print(next(my_test))"
   ]
  },
  {
   "cell_type": "markdown",
   "id": "1b464039",
   "metadata": {},
   "source": [
    "## Q5. Create a generator function for prime numbers less than 1000. Use the next() method to print the first 20 prime numbers."
   ]
  },
  {
   "cell_type": "code",
   "execution_count": 17,
   "id": "c8746f93",
   "metadata": {},
   "outputs": [
    {
     "name": "stdout",
     "output_type": "stream",
     "text": [
      "2 is a prime number\n",
      "3 is a prime number\n",
      "5 is a prime number\n",
      "7 is a prime number\n",
      "11 is a prime number\n",
      "13 is a prime number\n",
      "17 is a prime number\n",
      "19 is a prime number\n",
      "23 is a prime number\n",
      "29 is a prime number\n",
      "31 is a prime number\n",
      "37 is a prime number\n",
      "41 is a prime number\n",
      "43 is a prime number\n",
      "47 is a prime number\n",
      "53 is a prime number\n",
      "59 is a prime number\n",
      "61 is a prime number\n",
      "67 is a prime number\n",
      "71 is a prime number\n"
     ]
    }
   ],
   "source": [
    "def prime_no():\n",
    "    for num in range(2,1001):\n",
    "        for i in range(2,num):\n",
    "                if (num % i) == 0:\n",
    "                    break\n",
    "        else:\n",
    "            yield num\n",
    "\n",
    "            \n",
    "A = prime_no()\n",
    "\n",
    "for i in range(20):\n",
    "    print(next(A),\"is a prime number\")\n",
    "            "
   ]
  },
  {
   "cell_type": "code",
   "execution_count": null,
   "id": "ffcc7a8f",
   "metadata": {},
   "outputs": [],
   "source": []
  }
 ],
 "metadata": {
  "kernelspec": {
   "display_name": "Python 3 (ipykernel)",
   "language": "python",
   "name": "python3"
  },
  "language_info": {
   "codemirror_mode": {
    "name": "ipython",
    "version": 3
   },
   "file_extension": ".py",
   "mimetype": "text/x-python",
   "name": "python",
   "nbconvert_exporter": "python",
   "pygments_lexer": "ipython3",
   "version": "3.9.13"
  }
 },
 "nbformat": 4,
 "nbformat_minor": 5
}
