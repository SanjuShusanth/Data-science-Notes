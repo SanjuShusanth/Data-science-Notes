{
 "cells": [
  {
   "cell_type": "markdown",
   "id": "bcb658fd",
   "metadata": {},
   "source": [
    "### Q1. Create a function which will take a list as an argument and return the product of all the numbers after creating a flat list.\n",
    "\n",
    "Use the below-given list as an argument for your function.\n",
    "\n",
    "\n",
    "list1 = [1,2,3,4, [44,55,66, True], False, (34,56,78,89,34), {1,2,3,3,2,1}, {1:34, \"key2\": [55, 67, 78, 89], 4: (45, \n",
    "22, 61, 34)}, [56, 'data science'], 'Machine Learning']\n",
    "\n",
    "Note: you must extract numeric keys and values of the dictionary also.\n"
   ]
  },
  {
   "cell_type": "code",
   "execution_count": 96,
   "id": "5a6b12b5",
   "metadata": {},
   "outputs": [],
   "source": [
    "list1 = [1,2,3,4, [44,55,66, True], False, (34,56,78,89,34), {1,2,3,3,2,1}, {1:34, \"key2\": [55, 67, 78, 89], 4: (45, 22, 61, 34)}, [56, 'data science'], 'Machine Learning']\n",
    "\n",
    "def product_list(lst):\n",
    "    flat_lst = []\n",
    "    \n",
    "    for item in lst:\n",
    "        if type(item) == list:\n",
    "            flat_lst.extend(item)\n",
    "        elif type(item) == tuple:\n",
    "            flat_lst.extend(list(item))\n",
    "        elif type(item) == set:\n",
    "            flat_lst.extend(list(item))\n",
    "        elif type(item) == dict:\n",
    "            for num in item.values():\n",
    "                if type(num) == list:\n",
    "                    flat_lst.extend(num)\n",
    "                elif type(num) == tuple:\n",
    "                    flat_lst.extend(list(num))\n",
    "                else:\n",
    "                    flat_lst.append(num)\n",
    "        elif type(item) in [int, float]:\n",
    "            flat_lst.append(item)\n",
    "                    \n",
    "    product = 1\n",
    "    \n",
    "    for num1 in flat_lst:\n",
    "        if type(num1) in [int,float]:\n",
    "            product= product*num1\n",
    "\n",
    "    return product\n",
    "        \n"
   ]
  },
  {
   "cell_type": "code",
   "execution_count": 97,
   "id": "2854fd2a",
   "metadata": {},
   "outputs": [
    {
     "data": {
      "text/plain": [
       "1033677959746771369708460310528000"
      ]
     },
     "execution_count": 97,
     "metadata": {},
     "output_type": "execute_result"
    }
   ],
   "source": [
    "product_list(list1)"
   ]
  },
  {
   "cell_type": "markdown",
   "id": "6bc4564b",
   "metadata": {},
   "source": [
    "### Q2. Write a python program for encrypting a message sent to you by your friend. The logic of encryption should be such that, for a the output should be z. For b, the output should be y. For c, the output should be x respectively. Also, the whitespace should be replaced with a dollar sign. Keep the punctuation marks unchanged.\n",
    "\n",
    "Input Sentence: I want to become a Data Scientist.\n",
    "\n",
    "\n",
    "Encrypt the above input sentence using the program you just created.\n",
    "\n",
    "\n",
    "Note: Convert the given input sentence into lowercase before encrypting. The final output should be \n",
    "lowercase"
   ]
  },
  {
   "cell_type": "code",
   "execution_count": 4,
   "id": "afb2aa0c",
   "metadata": {},
   "outputs": [
    {
     "name": "stdout",
     "output_type": "stream",
     "text": [
      "r$dzmg$gl$yvxlnv$z$wzgz$hxrvmgrhg.\n"
     ]
    }
   ],
   "source": [
    "def encrypt_message(message):\n",
    "    result = \"\"\n",
    "    for char in message:\n",
    "        if char.isalpha():\n",
    "            shif_char = chr(122 - (ord(char) - 97))\n",
    "            result += shif_char\n",
    "        elif char == ' ':\n",
    "            result += '$'\n",
    "        else:\n",
    "            result += char\n",
    "    return result.lower()\n",
    "\n",
    "input_sentence = \"I want to become a Data Scientist.\"\n",
    "\n",
    "encrypted_message = encrypt_message(input_sentence.lower())\n",
    "\n",
    "print(encrypted_message)"
   ]
  },
  {
   "cell_type": "code",
   "execution_count": null,
   "id": "276d7b20",
   "metadata": {},
   "outputs": [],
   "source": []
  },
  {
   "cell_type": "code",
   "execution_count": null,
   "id": "a770be0f",
   "metadata": {},
   "outputs": [],
   "source": []
  },
  {
   "cell_type": "code",
   "execution_count": null,
   "id": "074f2916",
   "metadata": {},
   "outputs": [],
   "source": []
  }
 ],
 "metadata": {
  "kernelspec": {
   "display_name": "Python 3 (ipykernel)",
   "language": "python",
   "name": "python3"
  },
  "language_info": {
   "codemirror_mode": {
    "name": "ipython",
    "version": 3
   },
   "file_extension": ".py",
   "mimetype": "text/x-python",
   "name": "python",
   "nbconvert_exporter": "python",
   "pygments_lexer": "ipython3",
   "version": "3.9.13"
  }
 },
 "nbformat": 4,
 "nbformat_minor": 5
}
