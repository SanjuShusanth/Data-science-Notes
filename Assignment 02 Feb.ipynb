{
 "cells": [
  {
   "cell_type": "markdown",
   "id": "bd054328",
   "metadata": {},
   "source": [
    "### Q1. What are the characteristics of the tuples? Is tuple immutable?¶"
   ]
  },
  {
   "cell_type": "markdown",
   "id": "c94cbf28",
   "metadata": {},
   "source": [
    "Ans : \n",
    "* Tuples are ordered sequence of characters\n",
    "* They are indexed and have duplicate values to it\n",
    "* They follow the immutability concepts which will not allow to change any character in tuple."
   ]
  },
  {
   "cell_type": "markdown",
   "id": "af6f4fb9",
   "metadata": {},
   "source": [
    "### Q2. What are the two tuple methods in python? Give an example of each method. Give a reason why tuples have only two in-built methods as compared to Lists."
   ]
  },
  {
   "cell_type": "markdown",
   "id": "ce7596fe",
   "metadata": {},
   "source": [
    "Ans:\n",
    "\n",
    "* There are two in-built methods in tuple, they are:\n",
    "1. Count \n",
    "2. index"
   ]
  },
  {
   "cell_type": "code",
   "execution_count": 7,
   "id": "0c4c25d7",
   "metadata": {},
   "outputs": [
    {
     "data": {
      "text/plain": [
       "1"
      ]
     },
     "execution_count": 7,
     "metadata": {},
     "output_type": "execute_result"
    }
   ],
   "source": [
    "fruits = (\"orange\",\"Banana\",\"Apple\",'Mango')\n",
    "\n",
    "## count function -It returns the number of occurance in the tuple\n",
    "\n",
    "fruits.count(\"Apple\")"
   ]
  },
  {
   "cell_type": "code",
   "execution_count": 8,
   "id": "5ab4f3cc",
   "metadata": {},
   "outputs": [
    {
     "data": {
      "text/plain": [
       "0"
      ]
     },
     "execution_count": 8,
     "metadata": {},
     "output_type": "execute_result"
    }
   ],
   "source": [
    "## index function - it returns the index position of the Value\n",
    "\n",
    "fruits.index(\"orange\")"
   ]
  },
  {
   "cell_type": "markdown",
   "id": "55136250",
   "metadata": {},
   "source": [
    "\n",
    "### Q3.  Which collection datatypes in python do not allow duplicate items? Write a code using a set to remove duplicates from the given list."
   ]
  },
  {
   "cell_type": "markdown",
   "id": "a3a4aaa2",
   "metadata": {},
   "source": [
    "### List = [1, 1, 1, 2, 1, 3, 1, 4, 2, 1, 2, 2, 2, 3, 2, 4, 3, 1, 3, 2, 3, 3, 3, 4, 4, 1, 4, 2, 4, 3, 4, 4]"
   ]
  },
  {
   "cell_type": "markdown",
   "id": "021fa971",
   "metadata": {},
   "source": [
    "Ans: \n",
    "    \n",
    "* In the collection of datatypes in python only sets and dictionary does not allow duplicate items."
   ]
  },
  {
   "cell_type": "code",
   "execution_count": 13,
   "id": "77dd76ff",
   "metadata": {},
   "outputs": [
    {
     "name": "stdout",
     "output_type": "stream",
     "text": [
      "{1, 2, 3, 4}\n"
     ]
    }
   ],
   "source": [
    "setA = {1, 1, 1, 2, 1, 3, 1, 4, 2, 1, 2, 2, 2, 3, 2, 4, 3, 1, 3, 2, 3, 3, 3, 4, 4, 1, 4, 2, 4, 3, 4, 4}\n",
    "\n",
    "print(setA)"
   ]
  },
  {
   "cell_type": "markdown",
   "id": "4fc616f6",
   "metadata": {},
   "source": [
    "### Q4. Explain the difference between the union() and update() methods for a set. Give an example of each method."
   ]
  },
  {
   "cell_type": "markdown",
   "id": "7eb32b0d",
   "metadata": {},
   "source": [
    "Ans:\n",
    "\n",
    "* Union()  - It retuns a new set that contains all the items from the original cell and all the items from the specified sets                and the duplicates are removed.\n",
    "* Update() - It returns exisiting set by updated another set by adding the items of that set, it also removes the duplicates.  "
   ]
  },
  {
   "cell_type": "code",
   "execution_count": 14,
   "id": "6dc1d31c",
   "metadata": {},
   "outputs": [],
   "source": [
    "A = {\"Orange\", \"Pineapple\", \"Rasberry\", \"Cherry\"}\n",
    "\n",
    "B = {\"Banana\",\"Pineapple\",\"Cherry\",\"Mango\"}"
   ]
  },
  {
   "cell_type": "code",
   "execution_count": 19,
   "id": "58b18aac",
   "metadata": {},
   "outputs": [
    {
     "name": "stdout",
     "output_type": "stream",
     "text": [
      "{'Banana', 'Rasberry', 'Cherry', 'Mango', 'Orange', 'Pineapple'}\n"
     ]
    }
   ],
   "source": [
    "## Union() example:\n",
    "\n",
    "C = A.union(B)\n",
    "\n",
    "print(C)"
   ]
  },
  {
   "cell_type": "code",
   "execution_count": 21,
   "id": "33d3ba0f",
   "metadata": {},
   "outputs": [
    {
     "name": "stdout",
     "output_type": "stream",
     "text": [
      "{'Banana', 'Rasberry', 'Cherry', 'Mango', 'Orange', 'Pineapple'}\n"
     ]
    }
   ],
   "source": [
    "## Update() Example:\n",
    "\n",
    "A = {\"Orange\", \"Pineapple\", \"Rasberry\", \"Cherry\"}\n",
    "\n",
    "B = {\"Banana\",\"Pineapple\",\"Cherry\",\"Mango\"}\n",
    "\n",
    "\n",
    "A.update(B) # it has updated the A with B elements.\n",
    "\n",
    "print(A)"
   ]
  },
  {
   "cell_type": "markdown",
   "id": "210e779c",
   "metadata": {},
   "source": [
    "### Q5. What is a dictionary? Give an example. Also, state whether a dictionary is ordered or unordered."
   ]
  },
  {
   "cell_type": "markdown",
   "id": "10e52124",
   "metadata": {},
   "source": [
    "Ans: \n",
    "\n",
    "* Dictionary is an ordered collections of item with with key and value pairs\n",
    "* Dictionary is written in curly brackets and they are changeable and doesn't allow duplicates.\n",
    "\n",
    "Eg: A1 ={\"Name\":[\"Sanju\",\"Prakash\",\"Vinoth\"],\"Job_title\":(\"Dataanalyst\",\"doctor\",\"Driver\"),\"Salary\":(100000,10000,1000)}"
   ]
  },
  {
   "cell_type": "markdown",
   "id": "352cba1a",
   "metadata": {},
   "source": [
    "### Q6. Can we create a nested dictionary? If so, please give an example by creating a simple one-level nested dictionary."
   ]
  },
  {
   "cell_type": "markdown",
   "id": "7f204f7d",
   "metadata": {},
   "source": [
    "Ans: \n",
    "\n",
    "* Yes, we can create a nested dictionary\n",
    "\n",
    "A1 ={\"Name\":[\"Sanju\",\"Prakash\",\"Vinoth\"],\"Job_title\":{\"Dataanalyst\":\"TCS\",\"doctor\":\"Appolo\",\"Driver\":\"VRLTravels\"},\"Salary\":(100000,10000,1000)}\n"
   ]
  },
  {
   "cell_type": "markdown",
   "id": "4c6a6378",
   "metadata": {},
   "source": [
    "### Q7. Using setdefault() method, create key named topics in the given dictionary and also add the value of the key as this list ['Python', 'Machine Learning’, 'Deep Learning']"
   ]
  },
  {
   "cell_type": "markdown",
   "id": "c9e9361c",
   "metadata": {},
   "source": [
    "### dict1 = {'language' : 'Python', 'course': 'Data Science Masters'}"
   ]
  },
  {
   "cell_type": "markdown",
   "id": "b0d0dbc4",
   "metadata": {},
   "source": [
    "Ans:\n",
    "    \n",
    "    "
   ]
  },
  {
   "cell_type": "code",
   "execution_count": 21,
   "id": "76123d5c",
   "metadata": {},
   "outputs": [
    {
     "data": {
      "text/plain": [
       "{'language': 'Python',\n",
       " 'course': 'Data Science Masters',\n",
       " 'topics': 'Python, Machine leanning, Deep Learning'}"
      ]
     },
     "execution_count": 21,
     "metadata": {},
     "output_type": "execute_result"
    }
   ],
   "source": [
    "dict1 = {'language' : 'Python', 'course': 'Data Science Masters'}\n",
    "\n",
    "dict1.setdefault(\"topics\",\"Python, Machine leanning, Deep Learning\")\n",
    "\n",
    "print(dict1)"
   ]
  },
  {
   "cell_type": "markdown",
   "id": "ac7b2c6a",
   "metadata": {},
   "source": [
    "### Q8. What are the three view objects in dictionaries? Use the three in-built methods in python to display these three view objects for the given dictionary.\n",
    "\n",
    "\n",
    "### dict1 = {'Sport': 'Cricket' , 'Teams': ['India', 'Australia', 'England', 'South Africa', 'Sri Lanka', 'New Zealand']}"
   ]
  },
  {
   "cell_type": "markdown",
   "id": "e05583e5",
   "metadata": {},
   "source": [
    "Ans:\n",
    "\n",
    "1. The three view objects in  dictionaries are\n",
    "\n",
    "* Keys - It returns the list of keys containing in the dictionary.\n",
    "\n",
    "* Values - It returns all the values containing in the dictionary \n",
    "\n",
    "* Items - It returns the list of containing the tuples of keys and values in the dictionary."
   ]
  },
  {
   "cell_type": "code",
   "execution_count": 22,
   "id": "3b98ad02",
   "metadata": {},
   "outputs": [
    {
     "name": "stdout",
     "output_type": "stream",
     "text": [
      "List of keys present in dictionary:  dict_keys(['Sport', 'Teams'])\n"
     ]
    }
   ],
   "source": [
    "dict1 = {'Sport': 'Cricket' , 'Teams': ['India', 'Australia', 'England', 'South Africa', 'Sri Lanka', 'New Zealand']}\n",
    "\n",
    "# 1. keys function:\n",
    "\n",
    "print(\"List of keys present in dictionary: \", dict1.keys())"
   ]
  },
  {
   "cell_type": "code",
   "execution_count": 23,
   "id": "172ec7cd",
   "metadata": {},
   "outputs": [
    {
     "name": "stdout",
     "output_type": "stream",
     "text": [
      "List of values present in dictionary:  dict_values(['Cricket', ['India', 'Australia', 'England', 'South Africa', 'Sri Lanka', 'New Zealand']])\n"
     ]
    }
   ],
   "source": [
    "dict1 = {'Sport': 'Cricket' , 'Teams': ['India', 'Australia', 'England', 'South Africa', 'Sri Lanka', 'New Zealand']}\n",
    "\n",
    "# 2. Value Function:\n",
    "\n",
    "print(\"List of values present in dictionary: \", dict1.values())\n"
   ]
  },
  {
   "cell_type": "code",
   "execution_count": 24,
   "id": "742abfba",
   "metadata": {},
   "outputs": [
    {
     "name": "stdout",
     "output_type": "stream",
     "text": [
      "List of items present in the dictionary:  dict_items([('Sport', 'Cricket'), ('Teams', ['India', 'Australia', 'England', 'South Africa', 'Sri Lanka', 'New Zealand'])])\n"
     ]
    }
   ],
   "source": [
    "dict1 = {'Sport': 'Cricket' , 'Teams': ['India', 'Australia', 'England', 'South Africa', 'Sri Lanka', 'New Zealand']}\n",
    "\n",
    "# 3. Items functions:\n",
    "\n",
    "print(\"List of items present in the dictionary: \", dict1.items())"
   ]
  }
 ],
 "metadata": {
  "kernelspec": {
   "display_name": "Python 3 (ipykernel)",
   "language": "python",
   "name": "python3"
  },
  "language_info": {
   "codemirror_mode": {
    "name": "ipython",
    "version": 3
   },
   "file_extension": ".py",
   "mimetype": "text/x-python",
   "name": "python",
   "nbconvert_exporter": "python",
   "pygments_lexer": "ipython3",
   "version": "3.9.13"
  }
 },
 "nbformat": 4,
 "nbformat_minor": 5
}
