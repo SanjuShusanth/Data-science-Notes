{
 "cells": [
  {
   "cell_type": "markdown",
   "id": "5e118923",
   "metadata": {},
   "source": [
    "# Python Syntax"
   ]
  },
  {
   "cell_type": "code",
   "execution_count": 2,
   "id": "495b791d",
   "metadata": {},
   "outputs": [
    {
     "name": "stdout",
     "output_type": "stream",
     "text": [
      "Hello Sanju!\n"
     ]
    }
   ],
   "source": [
    "# Python code can be executed by directly writing in the command line\n",
    "\n",
    "print(\"Hello Sanju!\")"
   ]
  },
  {
   "cell_type": "markdown",
   "id": "f96d633d",
   "metadata": {},
   "source": [
    "# Python Variables"
   ]
  },
  {
   "cell_type": "code",
   "execution_count": 5,
   "id": "0198e6f6",
   "metadata": {},
   "outputs": [],
   "source": [
    "# Variables are created by assigning the value to it.\n",
    "\n",
    "a=10\n",
    "\n",
    "b= \"Sanju\""
   ]
  },
  {
   "cell_type": "code",
   "execution_count": 7,
   "id": "b7db6c65",
   "metadata": {},
   "outputs": [
    {
     "data": {
      "text/plain": [
       "10"
      ]
     },
     "execution_count": 7,
     "metadata": {},
     "output_type": "execute_result"
    }
   ],
   "source": [
    "a"
   ]
  },
  {
   "cell_type": "code",
   "execution_count": 8,
   "id": "2c56e975",
   "metadata": {},
   "outputs": [
    {
     "data": {
      "text/plain": [
       "'Sanju'"
      ]
     },
     "execution_count": 8,
     "metadata": {},
     "output_type": "execute_result"
    }
   ],
   "source": [
    "b"
   ]
  },
  {
   "cell_type": "markdown",
   "id": "7f73dad9",
   "metadata": {},
   "source": [
    "# Python Comments"
   ]
  },
  {
   "cell_type": "code",
   "execution_count": 9,
   "id": "45e3693d",
   "metadata": {},
   "outputs": [],
   "source": [
    "# Python has a commenting capability inorder to understand the lines of code. "
   ]
  },
  {
   "cell_type": "code",
   "execution_count": 16,
   "id": "44651f12",
   "metadata": {},
   "outputs": [],
   "source": [
    "# Multiline Comments\n",
    "\n",
    "\"\"\"\n",
    "We have to use triple quotes to document our execution of the code.\n",
    "nkjasna\n",
    "effne\n",
    "abee\n",
    "\"\"\"\n",
    "\n",
    "\n",
    "a=10\n",
    "\n"
   ]
  },
  {
   "cell_type": "code",
   "execution_count": 17,
   "id": "5dfae2b2",
   "metadata": {},
   "outputs": [
    {
     "data": {
      "text/plain": [
       "10"
      ]
     },
     "execution_count": 17,
     "metadata": {},
     "output_type": "execute_result"
    }
   ],
   "source": [
    "a"
   ]
  },
  {
   "cell_type": "markdown",
   "id": "09ae040b",
   "metadata": {},
   "source": [
    "# Python TypeCasting"
   ]
  },
  {
   "cell_type": "code",
   "execution_count": 37,
   "id": "f25c2f22",
   "metadata": {},
   "outputs": [],
   "source": [
    "# If i want to specify the data type of the variable, it can be done by type casting and at times there will be situvation where you have to change the type of the varibale in that purpose type casting is used."
   ]
  },
  {
   "cell_type": "code",
   "execution_count": 25,
   "id": "e4ce9780",
   "metadata": {},
   "outputs": [],
   "source": [
    "a=str(10)"
   ]
  },
  {
   "cell_type": "code",
   "execution_count": 26,
   "id": "86339c1f",
   "metadata": {},
   "outputs": [
    {
     "data": {
      "text/plain": [
       "str"
      ]
     },
     "execution_count": 26,
     "metadata": {},
     "output_type": "execute_result"
    }
   ],
   "source": [
    "type(a)"
   ]
  },
  {
   "cell_type": "code",
   "execution_count": 27,
   "id": "59ff8784",
   "metadata": {},
   "outputs": [],
   "source": [
    "a=int(10)"
   ]
  },
  {
   "cell_type": "code",
   "execution_count": 29,
   "id": "7fa70911",
   "metadata": {},
   "outputs": [
    {
     "data": {
      "text/plain": [
       "int"
      ]
     },
     "execution_count": 29,
     "metadata": {},
     "output_type": "execute_result"
    }
   ],
   "source": [
    "type(a)"
   ]
  },
  {
   "cell_type": "code",
   "execution_count": 30,
   "id": "26e8a572",
   "metadata": {},
   "outputs": [],
   "source": [
    "a=float(10)"
   ]
  },
  {
   "cell_type": "code",
   "execution_count": 31,
   "id": "1567ed23",
   "metadata": {},
   "outputs": [
    {
     "data": {
      "text/plain": [
       "float"
      ]
     },
     "execution_count": 31,
     "metadata": {},
     "output_type": "execute_result"
    }
   ],
   "source": [
    "type(a)"
   ]
  },
  {
   "cell_type": "markdown",
   "id": "f65ed6a9",
   "metadata": {},
   "source": [
    "# Get the Type"
   ]
  },
  {
   "cell_type": "code",
   "execution_count": 34,
   "id": "9df0006a",
   "metadata": {},
   "outputs": [],
   "source": [
    "# Get the data type of the variable by using type() function\n",
    "\n",
    "x= 5\n",
    "\n",
    "y= \"Python\""
   ]
  },
  {
   "cell_type": "code",
   "execution_count": 35,
   "id": "1bad302d",
   "metadata": {},
   "outputs": [
    {
     "name": "stdout",
     "output_type": "stream",
     "text": [
      "<class 'int'>\n",
      "<class 'str'>\n"
     ]
    }
   ],
   "source": [
    "print(type(x))\n",
    "print(type(y))"
   ]
  },
  {
   "cell_type": "markdown",
   "id": "bdd213f2",
   "metadata": {},
   "source": [
    "# Single or Double Quotes?"
   ]
  },
  {
   "cell_type": "code",
   "execution_count": 36,
   "id": "86aca697",
   "metadata": {},
   "outputs": [],
   "source": [
    "# String variable can be declared by either using single or double quotes.\n",
    "\n",
    "\"Python is a easy programming language\"\n",
    "\n",
    "'Python is a easy programming language'"
   ]
  },
  {
   "cell_type": "markdown",
   "id": "c42ec568",
   "metadata": {},
   "source": [
    "### Variables are Case-Sensitive"
   ]
  },
  {
   "cell_type": "code",
   "execution_count": 47,
   "id": "c905ed3d",
   "metadata": {},
   "outputs": [],
   "source": [
    "# For Eg:\n",
    "\n",
    "v=4\n",
    "\n",
    "V=\"Python\""
   ]
  },
  {
   "cell_type": "code",
   "execution_count": 49,
   "id": "d107c02a",
   "metadata": {},
   "outputs": [
    {
     "name": "stdout",
     "output_type": "stream",
     "text": [
      "Python\n",
      "4\n"
     ]
    }
   ],
   "source": [
    "print(V)\n",
    "\n",
    "print(v)"
   ]
  },
  {
   "cell_type": "markdown",
   "id": "69dad32d",
   "metadata": {},
   "source": [
    "# Python Variables - Assign Multiple Values"
   ]
  },
  {
   "cell_type": "code",
   "execution_count": 50,
   "id": "01151f35",
   "metadata": {},
   "outputs": [],
   "source": [
    "# Python allow to assign values to multiple variables in one line:\n",
    "\n",
    "x,y,z = [\"orange\",\"banana\",\"apple\"]"
   ]
  },
  {
   "cell_type": "code",
   "execution_count": 52,
   "id": "c0d3c68c",
   "metadata": {},
   "outputs": [
    {
     "name": "stdout",
     "output_type": "stream",
     "text": [
      "orange\n",
      "banana\n",
      "apple\n"
     ]
    }
   ],
   "source": [
    "print(x)\n",
    "print(y)\n",
    "print(z)"
   ]
  },
  {
   "cell_type": "markdown",
   "id": "b73e2522",
   "metadata": {},
   "source": [
    "# Python Data Types"
   ]
  },
  {
   "cell_type": "markdown",
   "id": "92b7ce7b",
   "metadata": {},
   "source": [
    "* Text Type:\tstr\n",
    "* Numeric Types:\tint, float, complex\n",
    "* Sequence Types:\tlist, tuple, range\n",
    "* Mapping Type:\tdict\n",
    "* Set Types:\tset, frozenset\n",
    "* Boolean Type:\tbool\n",
    "* Binary Types:\tbytes, bytearray, memoryview\n",
    "* None Type:\tNoneType"
   ]
  },
  {
   "cell_type": "code",
   "execution_count": 53,
   "id": "f3b508b3",
   "metadata": {},
   "outputs": [
    {
     "data": {
      "text/plain": [
       "str"
      ]
     },
     "execution_count": 53,
     "metadata": {},
     "output_type": "execute_result"
    }
   ],
   "source": [
    "x = \"Hello\"\n",
    "type(x)"
   ]
  },
  {
   "cell_type": "code",
   "execution_count": 55,
   "id": "3380e704",
   "metadata": {},
   "outputs": [
    {
     "data": {
      "text/plain": [
       "int"
      ]
     },
     "execution_count": 55,
     "metadata": {},
     "output_type": "execute_result"
    }
   ],
   "source": [
    "x = 12\n",
    "type(x)"
   ]
  },
  {
   "cell_type": "code",
   "execution_count": 56,
   "id": "613eb11b",
   "metadata": {},
   "outputs": [
    {
     "data": {
      "text/plain": [
       "float"
      ]
     },
     "execution_count": 56,
     "metadata": {},
     "output_type": "execute_result"
    }
   ],
   "source": [
    "y = 12.0\n",
    "type(y)\n"
   ]
  },
  {
   "cell_type": "code",
   "execution_count": 57,
   "id": "7cccf476",
   "metadata": {},
   "outputs": [
    {
     "data": {
      "text/plain": [
       "complex"
      ]
     },
     "execution_count": 57,
     "metadata": {},
     "output_type": "execute_result"
    }
   ],
   "source": [
    "z = 5j\n",
    "type(z)"
   ]
  },
  {
   "cell_type": "code",
   "execution_count": 58,
   "id": "3e70648e",
   "metadata": {},
   "outputs": [
    {
     "data": {
      "text/plain": [
       "list"
      ]
     },
     "execution_count": 58,
     "metadata": {},
     "output_type": "execute_result"
    }
   ],
   "source": [
    "a=[\"orange\",\"Blue\",\"Red\"] # List is denoted by square bracekets\n",
    "\n",
    "type(a)"
   ]
  },
  {
   "cell_type": "code",
   "execution_count": 59,
   "id": "31cc570e",
   "metadata": {},
   "outputs": [
    {
     "data": {
      "text/plain": [
       "tuple"
      ]
     },
     "execution_count": 59,
     "metadata": {},
     "output_type": "execute_result"
    }
   ],
   "source": [
    "a=(\"orange\",\"Red\",\"Blue\") \n",
    "type(a)"
   ]
  },
  {
   "cell_type": "code",
   "execution_count": 62,
   "id": "5442cca0",
   "metadata": {},
   "outputs": [
    {
     "data": {
      "text/plain": [
       "range"
      ]
     },
     "execution_count": 62,
     "metadata": {},
     "output_type": "execute_result"
    }
   ],
   "source": [
    "a= range(6)\n",
    "\n",
    "type(a)"
   ]
  },
  {
   "cell_type": "code",
   "execution_count": 66,
   "id": "1bc04a12",
   "metadata": {},
   "outputs": [
    {
     "name": "stdout",
     "output_type": "stream",
     "text": [
      "{'Name': 'Sanju', 'age': 19}\n"
     ]
    },
    {
     "data": {
      "text/plain": [
       "dict"
      ]
     },
     "execution_count": 66,
     "metadata": {},
     "output_type": "execute_result"
    }
   ],
   "source": [
    "a={\"Name\":\"Sanju\",\"age\":19}\n",
    "\n",
    "print(a)\n",
    "type(a)"
   ]
  },
  {
   "cell_type": "code",
   "execution_count": 68,
   "id": "7fbce4ad",
   "metadata": {},
   "outputs": [
    {
     "name": "stdout",
     "output_type": "stream",
     "text": [
      "{'Orange', 'Blue', 'Red'}\n"
     ]
    },
    {
     "data": {
      "text/plain": [
       "set"
      ]
     },
     "execution_count": 68,
     "metadata": {},
     "output_type": "execute_result"
    }
   ],
   "source": [
    "a={\"Orange\",\"Blue\",\"Red\"}\n",
    "\n",
    "print(a)\n",
    "type(a)"
   ]
  },
  {
   "cell_type": "code",
   "execution_count": 75,
   "id": "558045aa",
   "metadata": {},
   "outputs": [
    {
     "data": {
      "text/plain": [
       "True"
      ]
     },
     "execution_count": 75,
     "metadata": {},
     "output_type": "execute_result"
    }
   ],
   "source": [
    "bool(1)"
   ]
  },
  {
   "cell_type": "code",
   "execution_count": 76,
   "id": "43d6bec8",
   "metadata": {},
   "outputs": [
    {
     "data": {
      "text/plain": [
       "False"
      ]
     },
     "execution_count": 76,
     "metadata": {},
     "output_type": "execute_result"
    }
   ],
   "source": [
    "bool(0)"
   ]
  },
  {
   "cell_type": "code",
   "execution_count": 77,
   "id": "50d706e0",
   "metadata": {},
   "outputs": [
    {
     "data": {
      "text/plain": [
       "False"
      ]
     },
     "execution_count": 77,
     "metadata": {},
     "output_type": "execute_result"
    }
   ],
   "source": [
    "True and False"
   ]
  },
  {
   "cell_type": "code",
   "execution_count": 78,
   "id": "16b6a86d",
   "metadata": {},
   "outputs": [
    {
     "data": {
      "text/plain": [
       "True"
      ]
     },
     "execution_count": 78,
     "metadata": {},
     "output_type": "execute_result"
    }
   ],
   "source": [
    "True or False"
   ]
  },
  {
   "cell_type": "code",
   "execution_count": 81,
   "id": "38ecd415",
   "metadata": {},
   "outputs": [
    {
     "data": {
      "text/plain": [
       "False"
      ]
     },
     "execution_count": 81,
     "metadata": {},
     "output_type": "execute_result"
    }
   ],
   "source": [
    "not True"
   ]
  },
  {
   "cell_type": "markdown",
   "id": "b643db63",
   "metadata": {},
   "source": [
    "## Reserved keywords\n",
    "'''\n",
    "int,float,len,complex,bool,str,return,yield\n",
    "'''"
   ]
  },
  {
   "cell_type": "markdown",
   "id": "3b1d7eff",
   "metadata": {},
   "source": [
    "# Dynamic typing"
   ]
  },
  {
   "cell_type": "code",
   "execution_count": 86,
   "id": "af45d807",
   "metadata": {},
   "outputs": [],
   "source": [
    "# Python is called a strongly typed language because the variable is determined only during the run time of the compiler.\n",
    "# Unless other languages C and C++. We have to asign the type of variable before executing the code. "
   ]
  }
 ],
 "metadata": {
  "kernelspec": {
   "display_name": "Python 3 (ipykernel)",
   "language": "python",
   "name": "python3"
  },
  "language_info": {
   "codemirror_mode": {
    "name": "ipython",
    "version": 3
   },
   "file_extension": ".py",
   "mimetype": "text/x-python",
   "name": "python",
   "nbconvert_exporter": "python",
   "pygments_lexer": "ipython3",
   "version": "3.9.13"
  }
 },
 "nbformat": 4,
 "nbformat_minor": 5
}
