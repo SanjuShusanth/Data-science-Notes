{
 "cells": [
  {
   "cell_type": "code",
   "execution_count": 1,
   "id": "10e26434",
   "metadata": {},
   "outputs": [],
   "source": [
    "lst=[]"
   ]
  },
  {
   "cell_type": "code",
   "execution_count": 2,
   "id": "c5277a37",
   "metadata": {},
   "outputs": [
    {
     "data": {
      "text/plain": [
       "list"
      ]
     },
     "execution_count": 2,
     "metadata": {},
     "output_type": "execute_result"
    }
   ],
   "source": [
    "type(lst)"
   ]
  },
  {
   "cell_type": "code",
   "execution_count": null,
   "id": "4c7a7d6d",
   "metadata": {},
   "outputs": [],
   "source": [
    "lst()"
   ]
  },
  {
   "cell_type": "code",
   "execution_count": null,
   "id": "315ea1f1",
   "metadata": {},
   "outputs": [],
   "source": [
    "# Create a sample list"
   ]
  },
  {
   "cell_type": "code",
   "execution_count": 5,
   "id": "439f94e5",
   "metadata": {},
   "outputs": [],
   "source": [
    "lst1=[\"Sanju\", \"is\", \"an\", \"data\", \"analyst\" \"in\", 25]"
   ]
  },
  {
   "cell_type": "code",
   "execution_count": 6,
   "id": "95f23ea5",
   "metadata": {},
   "outputs": [
    {
     "data": {
      "text/plain": [
       "['Sanju', 'is', 'an', 'data', 'analystin', 25]"
      ]
     },
     "execution_count": 6,
     "metadata": {},
     "output_type": "execute_result"
    }
   ],
   "source": [
    "lst1"
   ]
  },
  {
   "cell_type": "code",
   "execution_count": 7,
   "id": "df7d56ca",
   "metadata": {},
   "outputs": [],
   "source": [
    "str2 = \"datascience\""
   ]
  },
  {
   "cell_type": "code",
   "execution_count": 9,
   "id": "ca9d7e68",
   "metadata": {},
   "outputs": [
    {
     "data": {
      "text/plain": [
       "['d', 'a', 't', 'a', 's', 'c', 'i', 'e', 'n', 'c', 'e']"
      ]
     },
     "execution_count": 9,
     "metadata": {},
     "output_type": "execute_result"
    }
   ],
   "source": [
    "list(str2)"
   ]
  },
  {
   "cell_type": "code",
   "execution_count": 10,
   "id": "a7ec2ca9",
   "metadata": {},
   "outputs": [],
   "source": [
    "str1 =\"Data analyst is toughest job\""
   ]
  },
  {
   "cell_type": "code",
   "execution_count": 16,
   "id": "76bbede5",
   "metadata": {},
   "outputs": [
    {
     "data": {
      "text/plain": [
       "['Data', 'analyst', 'is', 'toughest', 'job']"
      ]
     },
     "execution_count": 16,
     "metadata": {},
     "output_type": "execute_result"
    }
   ],
   "source": [
    "list(str1.split(\" \"))"
   ]
  },
  {
   "cell_type": "code",
   "execution_count": 20,
   "id": "55a03ff0",
   "metadata": {},
   "outputs": [],
   "source": [
    "lst3=(str1.split(\" \")) # Inplace operator"
   ]
  },
  {
   "cell_type": "code",
   "execution_count": 21,
   "id": "cd319924",
   "metadata": {},
   "outputs": [
    {
     "data": {
      "text/plain": [
       "['Data', 'analyst', 'is', 'toughest', 'job']"
      ]
     },
     "execution_count": 21,
     "metadata": {},
     "output_type": "execute_result"
    }
   ],
   "source": [
    "lst3 # Inplace operator is nothing but it is updated the list.\n"
   ]
  },
  {
   "cell_type": "code",
   "execution_count": 22,
   "id": "ecb9ed84",
   "metadata": {},
   "outputs": [
    {
     "data": {
      "text/plain": [
       "['Sanju', 'is', 'an', 'data', 'analystin', 25]"
      ]
     },
     "execution_count": 22,
     "metadata": {},
     "output_type": "execute_result"
    }
   ],
   "source": [
    "# list length\n",
    "\n",
    "lst1"
   ]
  },
  {
   "cell_type": "code",
   "execution_count": 23,
   "id": "da74c8a0",
   "metadata": {},
   "outputs": [
    {
     "name": "stdout",
     "output_type": "stream",
     "text": [
      "6\n"
     ]
    }
   ],
   "source": [
    "print(len(lst1))"
   ]
  },
  {
   "cell_type": "code",
   "execution_count": 24,
   "id": "b7a6136a",
   "metadata": {},
   "outputs": [
    {
     "data": {
      "text/plain": [
       "['is', 'an', 'data', 'analystin', 25]"
      ]
     },
     "execution_count": 24,
     "metadata": {},
     "output_type": "execute_result"
    }
   ],
   "source": [
    "lst1[1:]"
   ]
  },
  {
   "cell_type": "code",
   "execution_count": 25,
   "id": "343b1f23",
   "metadata": {},
   "outputs": [],
   "source": [
    "lst1[3]=\"analyst\""
   ]
  },
  {
   "cell_type": "code",
   "execution_count": 26,
   "id": "77302cf4",
   "metadata": {},
   "outputs": [
    {
     "data": {
      "text/plain": [
       "['Sanju', 'is', 'an', 'analyst', 'analystin', 25]"
      ]
     },
     "execution_count": 26,
     "metadata": {},
     "output_type": "execute_result"
    }
   ],
   "source": [
    "lst1"
   ]
  },
  {
   "cell_type": "code",
   "execution_count": 27,
   "id": "04b5222d",
   "metadata": {},
   "outputs": [
    {
     "data": {
      "text/plain": [
       "'analystin'"
      ]
     },
     "execution_count": 27,
     "metadata": {},
     "output_type": "execute_result"
    }
   ],
   "source": [
    "lst1.pop(4)"
   ]
  },
  {
   "cell_type": "code",
   "execution_count": 28,
   "id": "a4f16dbd",
   "metadata": {},
   "outputs": [
    {
     "data": {
      "text/plain": [
       "['Sanju', 'is', 'an', 'analyst', 25]"
      ]
     },
     "execution_count": 28,
     "metadata": {},
     "output_type": "execute_result"
    }
   ],
   "source": [
    "lst1"
   ]
  },
  {
   "cell_type": "code",
   "execution_count": 29,
   "id": "336d4b95",
   "metadata": {},
   "outputs": [],
   "source": [
    "## list concatenation operation"
   ]
  },
  {
   "cell_type": "code",
   "execution_count": 38,
   "id": "5c9c39c5",
   "metadata": {},
   "outputs": [
    {
     "data": {
      "text/plain": [
       "['Sanju', 'is', 'an', 'analyst', 25, 'Wow!', 'Great']"
      ]
     },
     "execution_count": 38,
     "metadata": {},
     "output_type": "execute_result"
    }
   ],
   "source": [
    "lst1 + [\"Wow!\",\"Great\"]"
   ]
  },
  {
   "cell_type": "code",
   "execution_count": 41,
   "id": "c7183af4",
   "metadata": {},
   "outputs": [],
   "source": [
    "lst2 =lst1+[[\"Wow!\",\"Great\"]]"
   ]
  },
  {
   "cell_type": "code",
   "execution_count": 42,
   "id": "42827227",
   "metadata": {},
   "outputs": [
    {
     "data": {
      "text/plain": [
       "['Sanju', 'is', 'an', 'analyst', 25, ['Wow!', 'Great']]"
      ]
     },
     "execution_count": 42,
     "metadata": {},
     "output_type": "execute_result"
    }
   ],
   "source": [
    "lst2"
   ]
  },
  {
   "cell_type": "code",
   "execution_count": 44,
   "id": "06145b0b",
   "metadata": {},
   "outputs": [
    {
     "data": {
      "text/plain": [
       "'Wow!'"
      ]
     },
     "execution_count": 44,
     "metadata": {},
     "output_type": "execute_result"
    }
   ],
   "source": [
    "# In nested list we can slice by the follwing method\n",
    "\n",
    "lst2[-1][0]"
   ]
  },
  {
   "cell_type": "code",
   "execution_count": 45,
   "id": "5498a77f",
   "metadata": {},
   "outputs": [
    {
     "data": {
      "text/plain": [
       "['Sanju',\n",
       " 'is',\n",
       " 'an',\n",
       " 'analyst',\n",
       " 25,\n",
       " ['Wow!', 'Great'],\n",
       " 'Sanju',\n",
       " 'is',\n",
       " 'an',\n",
       " 'analyst',\n",
       " 25,\n",
       " ['Wow!', 'Great']]"
      ]
     },
     "execution_count": 45,
     "metadata": {},
     "output_type": "execute_result"
    }
   ],
   "source": [
    "lst2*2"
   ]
  },
  {
   "cell_type": "code",
   "execution_count": 48,
   "id": "cdf27277",
   "metadata": {},
   "outputs": [],
   "source": [
    "## List constructor\n",
    "\n",
    "new_list = list((\"Orange\",\"Blue\",\"Green\",\"Red\"))"
   ]
  },
  {
   "cell_type": "code",
   "execution_count": 49,
   "id": "3ca64c24",
   "metadata": {},
   "outputs": [
    {
     "data": {
      "text/plain": [
       "['Orange', 'Blue', 'Green', 'Red']"
      ]
     },
     "execution_count": 49,
     "metadata": {},
     "output_type": "execute_result"
    }
   ],
   "source": [
    "new_list"
   ]
  },
  {
   "cell_type": "code",
   "execution_count": 50,
   "id": "a323acc8",
   "metadata": {},
   "outputs": [],
   "source": [
    "lst1 = [\"Pw\", \"Skills\",\"Datas\",\"Science\",\"Masters\"]"
   ]
  },
  {
   "cell_type": "code",
   "execution_count": 55,
   "id": "31eecf25",
   "metadata": {},
   "outputs": [
    {
     "name": "stdout",
     "output_type": "stream",
     "text": [
      "True\n"
     ]
    }
   ],
   "source": [
    "if \"Science\" in lst1:\n",
    "    print(True)\n",
    "else:\n",
    "    print(False)"
   ]
  },
  {
   "cell_type": "code",
   "execution_count": 56,
   "id": "d1a439a9",
   "metadata": {},
   "outputs": [
    {
     "name": "stdout",
     "output_type": "stream",
     "text": [
      "Science\n"
     ]
    }
   ],
   "source": [
    "for i in lst1:\n",
    "    if i == \"Science\":\n",
    "        print(i)\n",
    "        break"
   ]
  },
  {
   "cell_type": "code",
   "execution_count": 57,
   "id": "76a2f01a",
   "metadata": {},
   "outputs": [],
   "source": [
    "lst1=[\"Zebra\",\"Monkey\",\"Donkey\",\"Lion\"]\n",
    "lst2=[5,6,2,9,5,8,6]"
   ]
  },
  {
   "cell_type": "code",
   "execution_count": 58,
   "id": "bcf7c2d7",
   "metadata": {},
   "outputs": [
    {
     "name": "stdout",
     "output_type": "stream",
     "text": [
      "Zebra\n"
     ]
    }
   ],
   "source": [
    "print(max(lst1))"
   ]
  },
  {
   "cell_type": "code",
   "execution_count": 59,
   "id": "8003d957",
   "metadata": {},
   "outputs": [
    {
     "data": {
      "text/plain": [
       "'Donkey'"
      ]
     },
     "execution_count": 59,
     "metadata": {},
     "output_type": "execute_result"
    }
   ],
   "source": [
    "min(lst1)"
   ]
  },
  {
   "cell_type": "code",
   "execution_count": 60,
   "id": "d36d196f",
   "metadata": {},
   "outputs": [
    {
     "data": {
      "text/plain": [
       "9"
      ]
     },
     "execution_count": 60,
     "metadata": {},
     "output_type": "execute_result"
    }
   ],
   "source": [
    "max(lst2)"
   ]
  },
  {
   "cell_type": "code",
   "execution_count": 61,
   "id": "e3139116",
   "metadata": {},
   "outputs": [
    {
     "data": {
      "text/plain": [
       "2"
      ]
     },
     "execution_count": 61,
     "metadata": {},
     "output_type": "execute_result"
    }
   ],
   "source": [
    "min(lst2)"
   ]
  },
  {
   "cell_type": "code",
   "execution_count": 112,
   "id": "ffd46b73",
   "metadata": {},
   "outputs": [],
   "source": [
    "## built in functions in list\n",
    "\n",
    "## to insert a new element in the list\n",
    "\n",
    "lst1=[\"Zebra\",\"Monkey\",\"Donkey\",\"Lion\"]\n",
    "\n",
    "lst1.insert(2,'Giraffe')# inplace operator"
   ]
  },
  {
   "cell_type": "code",
   "execution_count": 113,
   "id": "7addde4e",
   "metadata": {},
   "outputs": [
    {
     "data": {
      "text/plain": [
       "['Zebra', 'Monkey', 'Giraffe', 'Donkey', 'Lion']"
      ]
     },
     "execution_count": 113,
     "metadata": {},
     "output_type": "execute_result"
    }
   ],
   "source": [
    "lst1"
   ]
  },
  {
   "cell_type": "code",
   "execution_count": 114,
   "id": "7ac34e01",
   "metadata": {},
   "outputs": [],
   "source": [
    "## to add an item to the end of the list "
   ]
  },
  {
   "cell_type": "code",
   "execution_count": 115,
   "id": "1f36d060",
   "metadata": {},
   "outputs": [],
   "source": [
    "lst1.append('cheetah')"
   ]
  },
  {
   "cell_type": "code",
   "execution_count": 116,
   "id": "1507ac56",
   "metadata": {},
   "outputs": [
    {
     "data": {
      "text/plain": [
       "['Zebra', 'Monkey', 'Giraffe', 'Donkey', 'Lion', 'cheetah']"
      ]
     },
     "execution_count": 116,
     "metadata": {},
     "output_type": "execute_result"
    }
   ],
   "source": [
    "lst1"
   ]
  },
  {
   "cell_type": "code",
   "execution_count": 117,
   "id": "c4312179",
   "metadata": {},
   "outputs": [],
   "source": [
    "lst1.append([\"tiger\",\"elephant\",\"fox\"])"
   ]
  },
  {
   "cell_type": "code",
   "execution_count": 118,
   "id": "56c42e40",
   "metadata": {},
   "outputs": [
    {
     "data": {
      "text/plain": [
       "['Zebra',\n",
       " 'Monkey',\n",
       " 'Giraffe',\n",
       " 'Donkey',\n",
       " 'Lion',\n",
       " 'cheetah',\n",
       " ['tiger', 'elephant', 'fox']]"
      ]
     },
     "execution_count": 118,
     "metadata": {},
     "output_type": "execute_result"
    }
   ],
   "source": [
    "lst1"
   ]
  },
  {
   "cell_type": "code",
   "execution_count": 119,
   "id": "445227ea",
   "metadata": {},
   "outputs": [],
   "source": [
    "## to add an entire list to another list \n",
    "# .extend is used"
   ]
  },
  {
   "cell_type": "code",
   "execution_count": 120,
   "id": "e36edf01",
   "metadata": {},
   "outputs": [],
   "source": [
    "lst2 =[\"Horse\"]\n",
    "\n",
    "lst1.extend(lst2)"
   ]
  },
  {
   "cell_type": "code",
   "execution_count": 121,
   "id": "907ce717",
   "metadata": {},
   "outputs": [
    {
     "data": {
      "text/plain": [
       "['Zebra',\n",
       " 'Monkey',\n",
       " 'Giraffe',\n",
       " 'Donkey',\n",
       " 'Lion',\n",
       " 'cheetah',\n",
       " ['tiger', 'elephant', 'fox'],\n",
       " 'Horse']"
      ]
     },
     "execution_count": 121,
     "metadata": {},
     "output_type": "execute_result"
    }
   ],
   "source": [
    "lst1"
   ]
  },
  {
   "cell_type": "code",
   "execution_count": null,
   "id": "de3d9187",
   "metadata": {},
   "outputs": [],
   "source": [
    "## remove list items- it will remove the specific item in the list"
   ]
  },
  {
   "cell_type": "code",
   "execution_count": 125,
   "id": "77260284",
   "metadata": {},
   "outputs": [],
   "source": [
    "lst1.remove([\"tiger\",\"elephant\",\"fox\"])"
   ]
  },
  {
   "cell_type": "code",
   "execution_count": 126,
   "id": "5c78a19c",
   "metadata": {},
   "outputs": [
    {
     "data": {
      "text/plain": [
       "['Zebra', 'Monkey', 'Giraffe', 'Donkey', 'Lion', 'cheetah', 'Horse']"
      ]
     },
     "execution_count": 126,
     "metadata": {},
     "output_type": "execute_result"
    }
   ],
   "source": [
    "lst1"
   ]
  },
  {
   "cell_type": "code",
   "execution_count": 130,
   "id": "065e5209",
   "metadata": {},
   "outputs": [],
   "source": [
    "lst1.remove(\"Monkey\")"
   ]
  },
  {
   "cell_type": "code",
   "execution_count": 131,
   "id": "f091bce2",
   "metadata": {},
   "outputs": [
    {
     "data": {
      "text/plain": [
       "['Zebra', 'Giraffe', 'Donkey', 'Lion', 'cheetah', 'Horse']"
      ]
     },
     "execution_count": 131,
     "metadata": {},
     "output_type": "execute_result"
    }
   ],
   "source": [
    "lst1"
   ]
  },
  {
   "cell_type": "code",
   "execution_count": null,
   "id": "6a38d9ec",
   "metadata": {},
   "outputs": [],
   "source": [
    "## remove the specified index"
   ]
  },
  {
   "cell_type": "code",
   "execution_count": 132,
   "id": "0a54d1d2",
   "metadata": {},
   "outputs": [
    {
     "data": {
      "text/plain": [
       "'Horse'"
      ]
     },
     "execution_count": 132,
     "metadata": {},
     "output_type": "execute_result"
    }
   ],
   "source": [
    "lst1.pop() #if the index is not mentioned then it removes the last item in the list"
   ]
  },
  {
   "cell_type": "code",
   "execution_count": 133,
   "id": "6acc7292",
   "metadata": {},
   "outputs": [
    {
     "data": {
      "text/plain": [
       "['Zebra', 'Giraffe', 'Donkey', 'Lion', 'cheetah']"
      ]
     },
     "execution_count": 133,
     "metadata": {},
     "output_type": "execute_result"
    }
   ],
   "source": [
    "lst1"
   ]
  },
  {
   "cell_type": "code",
   "execution_count": 134,
   "id": "103f7ea6",
   "metadata": {},
   "outputs": [
    {
     "data": {
      "text/plain": [
       "'Lion'"
      ]
     },
     "execution_count": 134,
     "metadata": {},
     "output_type": "execute_result"
    }
   ],
   "source": [
    "## if i want to remove lion from the list we have to specify the index position to the pop function \n",
    "\n",
    "lst1.pop(3)"
   ]
  },
  {
   "cell_type": "code",
   "execution_count": 135,
   "id": "10c8ebfe",
   "metadata": {},
   "outputs": [
    {
     "data": {
      "text/plain": [
       "['Zebra', 'Giraffe', 'Donkey', 'cheetah']"
      ]
     },
     "execution_count": 135,
     "metadata": {},
     "output_type": "execute_result"
    }
   ],
   "source": [
    "lst1"
   ]
  },
  {
   "cell_type": "code",
   "execution_count": 10,
   "id": "d2115a6e",
   "metadata": {},
   "outputs": [],
   "source": [
    "lst1 = ['Zebra', 'Giraffe', 'Donkey', 'cheetah']"
   ]
  },
  {
   "cell_type": "code",
   "execution_count": 11,
   "id": "9fc6602d",
   "metadata": {},
   "outputs": [],
   "source": [
    "del lst1[0]"
   ]
  },
  {
   "cell_type": "code",
   "execution_count": 12,
   "id": "5e005def",
   "metadata": {},
   "outputs": [
    {
     "data": {
      "text/plain": [
       "['Giraffe', 'Donkey', 'cheetah']"
      ]
     },
     "execution_count": 12,
     "metadata": {},
     "output_type": "execute_result"
    }
   ],
   "source": [
    "lst1"
   ]
  },
  {
   "cell_type": "code",
   "execution_count": 13,
   "id": "01e2975c",
   "metadata": {},
   "outputs": [],
   "source": [
    "lst2 = [\"Zebra\",\"Monkey\",\"Donkey\",\"Lion\"]"
   ]
  },
  {
   "cell_type": "code",
   "execution_count": 14,
   "id": "2fb4caf5",
   "metadata": {},
   "outputs": [],
   "source": [
    "lst2.clear()"
   ]
  },
  {
   "cell_type": "code",
   "execution_count": 15,
   "id": "d537cf11",
   "metadata": {},
   "outputs": [
    {
     "data": {
      "text/plain": [
       "[]"
      ]
     },
     "execution_count": 15,
     "metadata": {},
     "output_type": "execute_result"
    }
   ],
   "source": [
    "lst2"
   ]
  },
  {
   "cell_type": "code",
   "execution_count": null,
   "id": "a824082e",
   "metadata": {},
   "outputs": [],
   "source": [
    "### Loop Through a List"
   ]
  },
  {
   "cell_type": "code",
   "execution_count": 11,
   "id": "5044d2ee",
   "metadata": {},
   "outputs": [],
   "source": [
    "thelst = [\"Apple\",\"Banana\",\"Cherry\"]"
   ]
  },
  {
   "cell_type": "code",
   "execution_count": 12,
   "id": "e6a97388",
   "metadata": {},
   "outputs": [
    {
     "name": "stdout",
     "output_type": "stream",
     "text": [
      "Apple\n",
      "Banana\n",
      "Cherry\n"
     ]
    }
   ],
   "source": [
    "for i in thelst:\n",
    "    print(i)"
   ]
  },
  {
   "cell_type": "code",
   "execution_count": 13,
   "id": "3fe6bc7a",
   "metadata": {},
   "outputs": [],
   "source": [
    "### Loop Through the Index Numbers"
   ]
  },
  {
   "cell_type": "code",
   "execution_count": 15,
   "id": "2c4c2556",
   "metadata": {},
   "outputs": [
    {
     "name": "stdout",
     "output_type": "stream",
     "text": [
      "Apple\n",
      "Banana\n",
      "Cherry\n"
     ]
    }
   ],
   "source": [
    "for i in range(len(thelst)):\n",
    "               print(thelst[i])"
   ]
  },
  {
   "cell_type": "code",
   "execution_count": 16,
   "id": "f3205f3b",
   "metadata": {},
   "outputs": [],
   "source": [
    "### Using a While Loop"
   ]
  },
  {
   "cell_type": "code",
   "execution_count": 17,
   "id": "2bd42afb",
   "metadata": {},
   "outputs": [
    {
     "data": {
      "text/plain": [
       "['Apple', 'Banana', 'Cherry']"
      ]
     },
     "execution_count": 17,
     "metadata": {},
     "output_type": "execute_result"
    }
   ],
   "source": [
    "thelst"
   ]
  },
  {
   "cell_type": "code",
   "execution_count": 19,
   "id": "f989a5a2",
   "metadata": {},
   "outputs": [
    {
     "name": "stdout",
     "output_type": "stream",
     "text": [
      "Apple\n",
      "Banana\n",
      "Cherry\n"
     ]
    }
   ],
   "source": [
    "i = 0\n",
    "\n",
    "while i <len(thelst):\n",
    "    print(thelst[i])\n",
    "    i+=1"
   ]
  },
  {
   "cell_type": "code",
   "execution_count": null,
   "id": "cfdce14d",
   "metadata": {},
   "outputs": [],
   "source": [
    "## List comprehension"
   ]
  },
  {
   "cell_type": "code",
   "execution_count": 3,
   "id": "23bfdb9f",
   "metadata": {},
   "outputs": [],
   "source": [
    "lst= [\"apple\", \"Banana\", \"Orange\", \"Red\", \"Blue\"]"
   ]
  },
  {
   "cell_type": "code",
   "execution_count": 4,
   "id": "addcb703",
   "metadata": {},
   "outputs": [
    {
     "data": {
      "text/plain": [
       "['apple', 'Banana', 'Orange', 'Red', 'Blue']"
      ]
     },
     "execution_count": 4,
     "metadata": {},
     "output_type": "execute_result"
    }
   ],
   "source": [
    "[i for i in lst]"
   ]
  },
  {
   "cell_type": "code",
   "execution_count": 6,
   "id": "0b5660bb",
   "metadata": {},
   "outputs": [
    {
     "data": {
      "text/plain": [
       "[0, 1, 2, 3, 4, 5, 6, 7, 8, 9, 10, 11, 12, 13, 14, 15, 16, 17, 18, 19]"
      ]
     },
     "execution_count": 6,
     "metadata": {},
     "output_type": "execute_result"
    }
   ],
   "source": [
    "[i for i in range(20)]"
   ]
  },
  {
   "cell_type": "code",
   "execution_count": 8,
   "id": "b7d8d756",
   "metadata": {},
   "outputs": [
    {
     "data": {
      "text/plain": [
       "[0,\n",
       " 'odd',\n",
       " 2,\n",
       " 'odd',\n",
       " 4,\n",
       " 'odd',\n",
       " 6,\n",
       " 'odd',\n",
       " 8,\n",
       " 'odd',\n",
       " 10,\n",
       " 'odd',\n",
       " 12,\n",
       " 'odd',\n",
       " 14,\n",
       " 'odd',\n",
       " 16,\n",
       " 'odd',\n",
       " 18,\n",
       " 'odd']"
      ]
     },
     "execution_count": 8,
     "metadata": {},
     "output_type": "execute_result"
    }
   ],
   "source": [
    "[i if i %2 ==0 else \"odd\" for i in range(20)]"
   ]
  },
  {
   "cell_type": "code",
   "execution_count": 13,
   "id": "1557d5e0",
   "metadata": {},
   "outputs": [],
   "source": [
    "## Assignment \n",
    "## Sum of even numbers and odd numbers\n",
    "lst=[1,2,3,4,5,6,7,8]"
   ]
  },
  {
   "cell_type": "code",
   "execution_count": 15,
   "id": "adda798f",
   "metadata": {},
   "outputs": [
    {
     "name": "stdout",
     "output_type": "stream",
     "text": [
      "20\n",
      "16\n"
     ]
    }
   ],
   "source": [
    "## Normal code\n",
    "\n",
    "sum_even = 0\n",
    "\n",
    "sum_odd = 0\n",
    "\n",
    "for i in lst:\n",
    "    if i%2==0:\n",
    "        sum_even +=i\n",
    "    else:\n",
    "        sum_odd+=i\n",
    "\n",
    "print(sum_even)\n",
    "print(sum_odd)\n"
   ]
  },
  {
   "cell_type": "code",
   "execution_count": 16,
   "id": "cfeb3bfa",
   "metadata": {},
   "outputs": [],
   "source": [
    "## by list comprehension"
   ]
  },
  {
   "cell_type": "code",
   "execution_count": 18,
   "id": "c7a40c93",
   "metadata": {},
   "outputs": [],
   "source": [
    "sum_even =sum([i for i in lst if i%2==0])\n",
    "sum_odd = sum([i for i in lst if i%2!=0])"
   ]
  },
  {
   "cell_type": "code",
   "execution_count": 20,
   "id": "30ee4eae",
   "metadata": {},
   "outputs": [
    {
     "data": {
      "text/plain": [
       "20"
      ]
     },
     "execution_count": 20,
     "metadata": {},
     "output_type": "execute_result"
    }
   ],
   "source": [
    "sum_even"
   ]
  },
  {
   "cell_type": "code",
   "execution_count": 21,
   "id": "49c4259d",
   "metadata": {},
   "outputs": [
    {
     "data": {
      "text/plain": [
       "16"
      ]
     },
     "execution_count": 21,
     "metadata": {},
     "output_type": "execute_result"
    }
   ],
   "source": [
    "sum_odd"
   ]
  },
  {
   "cell_type": "code",
   "execution_count": 24,
   "id": "0e80e240",
   "metadata": {},
   "outputs": [
    {
     "data": {
      "text/plain": [
       "[1, 4, 9, 16, 25, 36, 49, 64, 81, 100]"
      ]
     },
     "execution_count": 24,
     "metadata": {},
     "output_type": "execute_result"
    }
   ],
   "source": [
    "# find the square root of the numbers\n",
    "\n",
    "lst =[1,2,3,4,5,6,7,8,9,10]\n",
    "\n",
    "[i**2 for i in lst]"
   ]
  },
  {
   "cell_type": "code",
   "execution_count": 26,
   "id": "bb17f72b",
   "metadata": {},
   "outputs": [
    {
     "data": {
      "text/plain": [
       "[1, 2, 3, 4]"
      ]
     },
     "execution_count": 26,
     "metadata": {},
     "output_type": "execute_result"
    }
   ],
   "source": [
    "# Example 2: Create a list of only the positive numbers from a given list\n",
    "numbers = [-2, -1, 0, 1, 2, 3, 4]\n",
    "\n",
    "[i for i in numbers if i >0]\n"
   ]
  },
  {
   "cell_type": "code",
   "execution_count": 33,
   "id": "a350daf0",
   "metadata": {},
   "outputs": [
    {
     "data": {
      "text/plain": [
       "['a', 'b', 'c', 'd']"
      ]
     },
     "execution_count": 33,
     "metadata": {},
     "output_type": "execute_result"
    }
   ],
   "source": [
    "# Example 3: Create a list of only the first letters of words in a list\n",
    "words = ['apple', 'banana', 'cherry', 'date']\n",
    "\n",
    "[i[0] for i in words]"
   ]
  },
  {
   "cell_type": "code",
   "execution_count": 36,
   "id": "62136323",
   "metadata": {},
   "outputs": [
    {
     "data": {
      "text/plain": [
       "[32.0, 50.0, 68.0, 86.0, 104.0, 122.0]"
      ]
     },
     "execution_count": 36,
     "metadata": {},
     "output_type": "execute_result"
    }
   ],
   "source": [
    "# Example 4: Convert a list of temperatures from Celsius to Fahrenheit uing list comprehesnion\n",
    "celsius_temperatures = [0, 10, 20, 30, 40, 50] # (9/5)*temp+32 formula\n",
    "\n",
    "[(9/5)*i+32 for i in celsius_temperatures]\n",
    "\n"
   ]
  },
  {
   "cell_type": "code",
   "execution_count": 41,
   "id": "3c9be405",
   "metadata": {},
   "outputs": [
    {
     "data": {
      "text/plain": [
       "[1, 2, 3, 4, 5, 6, 7, 8, 9]"
      ]
     },
     "execution_count": 41,
     "metadata": {},
     "output_type": "execute_result"
    }
   ],
   "source": [
    "# Example 5: Flatten a list of lists into a single list\n",
    "lists = [[1, 2, 3], [4, 5, 6], [7, 8, 9]]\n",
    "\n",
    "[j for i in lists for j in i]"
   ]
  },
  {
   "cell_type": "code",
   "execution_count": 42,
   "id": "09bd0346",
   "metadata": {},
   "outputs": [],
   "source": [
    "lists = [[[1, 2, 3]], [[4, 5, 6]], [[7, 8, 9]]]"
   ]
  },
  {
   "cell_type": "code",
   "execution_count": 44,
   "id": "a50ecc35",
   "metadata": {},
   "outputs": [
    {
     "data": {
      "text/plain": [
       "[1, 2, 3, 4, 5, 6, 7, 8, 9]"
      ]
     },
     "execution_count": 44,
     "metadata": {},
     "output_type": "execute_result"
    }
   ],
   "source": [
    "[k for i in lists for j in i for k in j]"
   ]
  },
  {
   "cell_type": "code",
   "execution_count": 45,
   "id": "ab94c7fe",
   "metadata": {},
   "outputs": [],
   "source": [
    "## Sort List"
   ]
  },
  {
   "cell_type": "code",
   "execution_count": 48,
   "id": "e92d54c8",
   "metadata": {},
   "outputs": [],
   "source": [
    "lst1 = [\"Blue\",\"Yellow\",\"Red\",\"Orange\"]\n",
    "\n",
    "lst1.sort()"
   ]
  },
  {
   "cell_type": "code",
   "execution_count": 49,
   "id": "648a526a",
   "metadata": {},
   "outputs": [
    {
     "data": {
      "text/plain": [
       "['Blue', 'Orange', 'Red', 'Yellow']"
      ]
     },
     "execution_count": 49,
     "metadata": {},
     "output_type": "execute_result"
    }
   ],
   "source": [
    "lst1"
   ]
  },
  {
   "cell_type": "code",
   "execution_count": 50,
   "id": "acb816b7",
   "metadata": {},
   "outputs": [],
   "source": [
    "lst2 = [100,50,20,10,13,22,60]"
   ]
  },
  {
   "cell_type": "code",
   "execution_count": 51,
   "id": "0e3ea63a",
   "metadata": {},
   "outputs": [],
   "source": [
    "lst2.sort()"
   ]
  },
  {
   "cell_type": "code",
   "execution_count": 52,
   "id": "a2c58dd4",
   "metadata": {},
   "outputs": [
    {
     "data": {
      "text/plain": [
       "[10, 13, 20, 22, 50, 60, 100]"
      ]
     },
     "execution_count": 52,
     "metadata": {},
     "output_type": "execute_result"
    }
   ],
   "source": [
    "lst2"
   ]
  },
  {
   "cell_type": "code",
   "execution_count": 53,
   "id": "32904aa9",
   "metadata": {},
   "outputs": [],
   "source": [
    "lst2.sort(reverse=True)"
   ]
  },
  {
   "cell_type": "code",
   "execution_count": 54,
   "id": "cc8e08b0",
   "metadata": {},
   "outputs": [
    {
     "data": {
      "text/plain": [
       "[100, 60, 50, 22, 20, 13, 10]"
      ]
     },
     "execution_count": 54,
     "metadata": {},
     "output_type": "execute_result"
    }
   ],
   "source": [
    "lst2"
   ]
  },
  {
   "cell_type": "code",
   "execution_count": 55,
   "id": "5fd9ea39",
   "metadata": {},
   "outputs": [],
   "source": [
    "lst1.sort(reverse=True)"
   ]
  },
  {
   "cell_type": "code",
   "execution_count": 56,
   "id": "6a3a1652",
   "metadata": {},
   "outputs": [
    {
     "data": {
      "text/plain": [
       "['Yellow', 'Red', 'Orange', 'Blue']"
      ]
     },
     "execution_count": 56,
     "metadata": {},
     "output_type": "execute_result"
    }
   ],
   "source": [
    "lst1"
   ]
  },
  {
   "cell_type": "code",
   "execution_count": 57,
   "id": "59f77ee2",
   "metadata": {},
   "outputs": [],
   "source": [
    "## Case Insensitive Sort\n",
    "## By default the sort() method is case sensitive, resulting in all capital letters being sorted before lower case letters:"
   ]
  },
  {
   "cell_type": "code",
   "execution_count": 58,
   "id": "b8643325",
   "metadata": {},
   "outputs": [],
   "source": [
    "lst1 = [\"aeroplane\",\"Helicopter\",\"bullet\",\"Beast\"]\n",
    "\n",
    "lst1.sort()"
   ]
  },
  {
   "cell_type": "code",
   "execution_count": 59,
   "id": "cc69a6a8",
   "metadata": {},
   "outputs": [
    {
     "data": {
      "text/plain": [
       "['Beast', 'Helicopter', 'aeroplane', 'bullet']"
      ]
     },
     "execution_count": 59,
     "metadata": {},
     "output_type": "execute_result"
    }
   ],
   "source": [
    "lst1"
   ]
  },
  {
   "cell_type": "code",
   "execution_count": 60,
   "id": "381d0769",
   "metadata": {},
   "outputs": [],
   "source": [
    "## use built-in functions as key functions when sorting case-insensitive list"
   ]
  },
  {
   "cell_type": "code",
   "execution_count": 68,
   "id": "786b457c",
   "metadata": {},
   "outputs": [],
   "source": [
    "lst1.sort(key=str.lower)"
   ]
  },
  {
   "cell_type": "code",
   "execution_count": 69,
   "id": "41d3a3b9",
   "metadata": {},
   "outputs": [
    {
     "data": {
      "text/plain": [
       "['aeroplane', 'Beast', 'bullet', 'Helicopter']"
      ]
     },
     "execution_count": 69,
     "metadata": {},
     "output_type": "execute_result"
    }
   ],
   "source": [
    "lst1"
   ]
  },
  {
   "cell_type": "code",
   "execution_count": 70,
   "id": "9af86714",
   "metadata": {},
   "outputs": [],
   "source": [
    "## Reversing"
   ]
  },
  {
   "cell_type": "code",
   "execution_count": 71,
   "id": "28216ac1",
   "metadata": {},
   "outputs": [
    {
     "data": {
      "text/plain": [
       "['q', 'e', 'f', 's', 't', 'u']"
      ]
     },
     "execution_count": 71,
     "metadata": {},
     "output_type": "execute_result"
    }
   ],
   "source": [
    "new_list=['q','e','f','s','t','u']\n",
    "new_list"
   ]
  },
  {
   "cell_type": "code",
   "execution_count": 72,
   "id": "049c2612",
   "metadata": {},
   "outputs": [
    {
     "data": {
      "text/plain": [
       "['u', 't', 's', 'f', 'e', 'q']"
      ]
     },
     "execution_count": 72,
     "metadata": {},
     "output_type": "execute_result"
    }
   ],
   "source": [
    "new_list[::-1]"
   ]
  },
  {
   "cell_type": "code",
   "execution_count": 73,
   "id": "38dd1a66",
   "metadata": {},
   "outputs": [],
   "source": [
    "## inplace operator- reverse()\n",
    "\n",
    "new_list.reverse()"
   ]
  },
  {
   "cell_type": "code",
   "execution_count": 74,
   "id": "566165bd",
   "metadata": {},
   "outputs": [
    {
     "data": {
      "text/plain": [
       "['u', 't', 's', 'f', 'e', 'q']"
      ]
     },
     "execution_count": 74,
     "metadata": {},
     "output_type": "execute_result"
    }
   ],
   "source": [
    "new_list"
   ]
  }
 ],
 "metadata": {
  "kernelspec": {
   "display_name": "Python 3 (ipykernel)",
   "language": "python",
   "name": "python3"
  },
  "language_info": {
   "codemirror_mode": {
    "name": "ipython",
    "version": 3
   },
   "file_extension": ".py",
   "mimetype": "text/x-python",
   "name": "python",
   "nbconvert_exporter": "python",
   "pygments_lexer": "ipython3",
   "version": "3.9.13"
  }
 },
 "nbformat": 4,
 "nbformat_minor": 5
}
