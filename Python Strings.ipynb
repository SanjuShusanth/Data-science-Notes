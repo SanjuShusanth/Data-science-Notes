{
 "cells": [
  {
   "cell_type": "markdown",
   "id": "3834f91e",
   "metadata": {},
   "source": [
    "# Strings"
   ]
  },
  {
   "cell_type": "code",
   "execution_count": 3,
   "id": "f4b3d549",
   "metadata": {},
   "outputs": [],
   "source": [
    "# Stings are the collection of characters surrounded by the quotes.\n",
    "\n",
    "A= \"Strings\""
   ]
  },
  {
   "cell_type": "code",
   "execution_count": 4,
   "id": "2ecc238c",
   "metadata": {},
   "outputs": [
    {
     "data": {
      "text/plain": [
       "'Strings'"
      ]
     },
     "execution_count": 4,
     "metadata": {},
     "output_type": "execute_result"
    }
   ],
   "source": [
    "A"
   ]
  },
  {
   "cell_type": "markdown",
   "id": "ba7a6c9d",
   "metadata": {},
   "source": [
    "# Multiline Strings"
   ]
  },
  {
   "cell_type": "code",
   "execution_count": 5,
   "id": "6002ad04",
   "metadata": {},
   "outputs": [],
   "source": [
    "# Assigning multiline codes with triple quotes."
   ]
  },
  {
   "cell_type": "code",
   "execution_count": 8,
   "id": "55a7047e",
   "metadata": {},
   "outputs": [],
   "source": [
    "a=\"\"\"Sanju is ambitious in becomming data analyst,\n",
    "in near future,\n",
    "he will accomplish, \n",
    "all his dreams\"\"\""
   ]
  },
  {
   "cell_type": "code",
   "execution_count": 9,
   "id": "82720148",
   "metadata": {},
   "outputs": [
    {
     "data": {
      "text/plain": [
       "'Sanju is ambitious in becomming data analyst,\\nin near future,\\nhe will accomplish, \\nall his dreams'"
      ]
     },
     "execution_count": 9,
     "metadata": {},
     "output_type": "execute_result"
    }
   ],
   "source": [
    "a"
   ]
  },
  {
   "cell_type": "code",
   "execution_count": 10,
   "id": "abb8d931",
   "metadata": {},
   "outputs": [
    {
     "data": {
      "text/plain": [
       "'Strings'"
      ]
     },
     "execution_count": 10,
     "metadata": {},
     "output_type": "execute_result"
    }
   ],
   "source": [
    "A"
   ]
  },
  {
   "cell_type": "code",
   "execution_count": 11,
   "id": "c27ab219",
   "metadata": {},
   "outputs": [
    {
     "data": {
      "text/plain": [
       "'t'"
      ]
     },
     "execution_count": 11,
     "metadata": {},
     "output_type": "execute_result"
    }
   ],
   "source": [
    "A[1]"
   ]
  },
  {
   "cell_type": "markdown",
   "id": "dcd74ee1",
   "metadata": {},
   "source": [
    "# Looping Through a String"
   ]
  },
  {
   "cell_type": "code",
   "execution_count": 16,
   "id": "cbec45d4",
   "metadata": {},
   "outputs": [
    {
     "name": "stdout",
     "output_type": "stream",
     "text": [
      "b\n",
      "a\n",
      "n\n",
      "a\n",
      "n\n",
      "a\n"
     ]
    }
   ],
   "source": [
    "for i in \"banana\":\n",
    "    print(i)"
   ]
  },
  {
   "cell_type": "markdown",
   "id": "346b65f0",
   "metadata": {},
   "source": [
    "# String Length"
   ]
  },
  {
   "cell_type": "code",
   "execution_count": 17,
   "id": "b4a883a8",
   "metadata": {},
   "outputs": [],
   "source": [
    "a=\"Sanju\""
   ]
  },
  {
   "cell_type": "code",
   "execution_count": 19,
   "id": "50a634db",
   "metadata": {},
   "outputs": [
    {
     "name": "stdout",
     "output_type": "stream",
     "text": [
      "5\n"
     ]
    }
   ],
   "source": [
    "print(len(a))"
   ]
  },
  {
   "cell_type": "markdown",
   "id": "55bdb9b2",
   "metadata": {},
   "source": [
    "# Check String"
   ]
  },
  {
   "cell_type": "code",
   "execution_count": 21,
   "id": "7dfba1cc",
   "metadata": {},
   "outputs": [],
   "source": [
    "Day = \"Tuesday, Thursday,Friday\""
   ]
  },
  {
   "cell_type": "code",
   "execution_count": 25,
   "id": "eb02c733",
   "metadata": {},
   "outputs": [
    {
     "name": "stdout",
     "output_type": "stream",
     "text": [
      "True\n",
      "False\n"
     ]
    }
   ],
   "source": [
    "# check condition we use keyword in\n",
    "\n",
    "print(\"Tuesday\" in Day)\n",
    "\n",
    "print('Monday' in Day)"
   ]
  },
  {
   "cell_type": "code",
   "execution_count": 33,
   "id": "d1c6740a",
   "metadata": {},
   "outputs": [
    {
     "name": "stdout",
     "output_type": "stream",
     "text": [
      "Yes, Tuesday is present in Day\n"
     ]
    }
   ],
   "source": [
    "# using str in if statement \n",
    "\n",
    "if \"Tuesday\" in Day:\n",
    "    print(\"Yes, Tuesday is present in Day\")\n",
    "else:\n",
    "    print(\"thanks\")"
   ]
  },
  {
   "cell_type": "markdown",
   "id": "5185c014",
   "metadata": {},
   "source": [
    "# Check if NOT"
   ]
  },
  {
   "cell_type": "code",
   "execution_count": 34,
   "id": "d9e44d3e",
   "metadata": {},
   "outputs": [
    {
     "data": {
      "text/plain": [
       "'Tuesday, Thursday,Friday'"
      ]
     },
     "execution_count": 34,
     "metadata": {},
     "output_type": "execute_result"
    }
   ],
   "source": [
    "Day"
   ]
  },
  {
   "cell_type": "code",
   "execution_count": 35,
   "id": "f77bc0e7",
   "metadata": {},
   "outputs": [
    {
     "name": "stdout",
     "output_type": "stream",
     "text": [
      "True\n"
     ]
    }
   ],
   "source": [
    "# not in keyword is used\n",
    "\n",
    "print(\"Sanju\" not in Day)"
   ]
  },
  {
   "cell_type": "code",
   "execution_count": 38,
   "id": "b44596b4",
   "metadata": {},
   "outputs": [
    {
     "name": "stdout",
     "output_type": "stream",
     "text": [
      "False\n"
     ]
    }
   ],
   "source": [
    "print(\"Fri\" not in Day)"
   ]
  },
  {
   "cell_type": "code",
   "execution_count": 41,
   "id": "6fe076cb",
   "metadata": {},
   "outputs": [
    {
     "name": "stdout",
     "output_type": "stream",
     "text": [
      "Go back\n"
     ]
    }
   ],
   "source": [
    "# Using if not condition\n",
    "\n",
    "if \"Tuesday\" not in Day:\n",
    "    print(\"Welcome home\")\n",
    "else:\n",
    "    print(\"Go back\")"
   ]
  },
  {
   "cell_type": "markdown",
   "id": "fcff95cc",
   "metadata": {},
   "source": [
    "# Slicing"
   ]
  },
  {
   "cell_type": "code",
   "execution_count": 42,
   "id": "16e0e1f1",
   "metadata": {},
   "outputs": [],
   "source": [
    "# Slicing is done to return the range of characters. It has a start index and end index seperated by colon."
   ]
  },
  {
   "cell_type": "code",
   "execution_count": 46,
   "id": "3ce1d637",
   "metadata": {},
   "outputs": [
    {
     "name": "stdout",
     "output_type": "stream",
     "text": [
      "Python\n"
     ]
    }
   ],
   "source": [
    "A = \"Python is a High level programming language\"\n",
    "\n",
    "print(A[0:6])"
   ]
  },
  {
   "cell_type": "code",
   "execution_count": 48,
   "id": "c083b777",
   "metadata": {},
   "outputs": [
    {
     "name": "stdout",
     "output_type": "stream",
     "text": [
      "High level programming\n"
     ]
    }
   ],
   "source": [
    "print(A[12:34:1])"
   ]
  },
  {
   "cell_type": "code",
   "execution_count": 69,
   "id": "da2fe2f2",
   "metadata": {},
   "outputs": [
    {
     "name": "stdout",
     "output_type": "stream",
     "text": [
      "Python\n"
     ]
    }
   ],
   "source": [
    "# Negative Indexing\n",
    "\n",
    "print(A[-44:-37])"
   ]
  },
  {
   "cell_type": "markdown",
   "id": "f5c8dc55",
   "metadata": {},
   "source": [
    "# In built functions in Strings"
   ]
  },
  {
   "cell_type": "code",
   "execution_count": 83,
   "id": "4b8d4ec8",
   "metadata": {},
   "outputs": [],
   "source": [
    "str1 = \"Data science and Machine Learning \\n and deep learning\""
   ]
  },
  {
   "cell_type": "markdown",
   "id": "3bf5d958",
   "metadata": {},
   "source": [
    "###  1. upper Case"
   ]
  },
  {
   "cell_type": "code",
   "execution_count": 85,
   "id": "684c6e15",
   "metadata": {},
   "outputs": [
    {
     "name": "stdout",
     "output_type": "stream",
     "text": [
      "DATA SCIENCE AND MACHINE LEARNING \n",
      " AND DEEP LEARNING\n"
     ]
    }
   ],
   "source": [
    "# upper Case\n",
    "\n",
    "print(str1.upper())"
   ]
  },
  {
   "cell_type": "markdown",
   "id": "d14dc06b",
   "metadata": {},
   "source": [
    "### 2. Lower case"
   ]
  },
  {
   "cell_type": "code",
   "execution_count": 86,
   "id": "2714f3f2",
   "metadata": {},
   "outputs": [
    {
     "name": "stdout",
     "output_type": "stream",
     "text": [
      "data science and machine learning \n",
      " and deep learning\n"
     ]
    }
   ],
   "source": [
    "# Lower case\n",
    "\n",
    "print(str1.lower())"
   ]
  },
  {
   "cell_type": "markdown",
   "id": "9fb2b1c1",
   "metadata": {},
   "source": [
    "### 3. Remove Whitespace"
   ]
  },
  {
   "cell_type": "code",
   "execution_count": 97,
   "id": "a0ef1eed",
   "metadata": {},
   "outputs": [
    {
     "name": "stdout",
     "output_type": "stream",
     "text": [
      "Hello!, World\n"
     ]
    }
   ],
   "source": [
    "# Remove whitespace. an inbuild function .strip() removes the whitespace at the beginning and end of the code.\n",
    "\n",
    "A = \" Hello!, World \"\n",
    "\n",
    "print(A.strip())"
   ]
  },
  {
   "cell_type": "markdown",
   "id": "3d4b9e2c",
   "metadata": {},
   "source": [
    "### 4.Replace String"
   ]
  },
  {
   "cell_type": "code",
   "execution_count": 98,
   "id": "5621741a",
   "metadata": {},
   "outputs": [
    {
     "name": "stdout",
     "output_type": "stream",
     "text": [
      " Pello!, World \n"
     ]
    }
   ],
   "source": [
    "# Replace string - .replace() it replaces the string with another string.\n",
    "\n",
    "print(A.replace(\"H\",\"P\"))"
   ]
  },
  {
   "cell_type": "markdown",
   "id": "d295cbb1",
   "metadata": {},
   "source": [
    "### 5.Split String"
   ]
  },
  {
   "cell_type": "code",
   "execution_count": 101,
   "id": "76107566",
   "metadata": {},
   "outputs": [
    {
     "name": "stdout",
     "output_type": "stream",
     "text": [
      "[' Hello!', ' World ']\n"
     ]
    }
   ],
   "source": [
    "# Split String - this function returns a list where the text being specified by list items\n",
    "\n",
    "# The split() method splits the string into substrings if it finds instances of the separator:\n",
    "\n",
    "print(A.split(\",\"))"
   ]
  },
  {
   "cell_type": "markdown",
   "id": "fec71e2f",
   "metadata": {},
   "source": [
    "### 6. Capitalize "
   ]
  },
  {
   "cell_type": "code",
   "execution_count": 144,
   "id": "1a678ecf",
   "metadata": {},
   "outputs": [],
   "source": [
    "A = \"HELLO WORLD\""
   ]
  },
  {
   "cell_type": "code",
   "execution_count": 145,
   "id": "1aa6c85a",
   "metadata": {},
   "outputs": [
    {
     "name": "stdout",
     "output_type": "stream",
     "text": [
      "Hello world\n"
     ]
    }
   ],
   "source": [
    "# .capitalize() converts the first character to upper case\n",
    "\n",
    "print(A.capitalize())"
   ]
  },
  {
   "cell_type": "markdown",
   "id": "4681f7e6",
   "metadata": {},
   "source": [
    "### 7. Casefold"
   ]
  },
  {
   "cell_type": "code",
   "execution_count": 146,
   "id": "9a34d121",
   "metadata": {},
   "outputs": [
    {
     "name": "stdout",
     "output_type": "stream",
     "text": [
      "hello world\n"
     ]
    }
   ],
   "source": [
    "# .casefold() converts srting into lower case\n",
    "\n",
    "print(A.casefold())"
   ]
  },
  {
   "cell_type": "markdown",
   "id": "39eace19",
   "metadata": {},
   "source": [
    "### 8.Swapcase"
   ]
  },
  {
   "cell_type": "code",
   "execution_count": 149,
   "id": "1c204664",
   "metadata": {},
   "outputs": [],
   "source": [
    "A = \"Hello World\""
   ]
  },
  {
   "cell_type": "code",
   "execution_count": 151,
   "id": "c9dc4738",
   "metadata": {},
   "outputs": [
    {
     "name": "stdout",
     "output_type": "stream",
     "text": [
      "hELLO wORLD\n"
     ]
    }
   ],
   "source": [
    "# .swapcase() It swaps the lower case to upper case and upper case to lower case.\n",
    "\n",
    "print(A.swapcase())"
   ]
  },
  {
   "cell_type": "markdown",
   "id": "1545c88f",
   "metadata": {},
   "source": [
    "### 9.Title"
   ]
  },
  {
   "cell_type": "code",
   "execution_count": 153,
   "id": "ec255123",
   "metadata": {},
   "outputs": [],
   "source": [
    "Car = \"Audi is a class carr\""
   ]
  },
  {
   "cell_type": "code",
   "execution_count": 158,
   "id": "03da8be9",
   "metadata": {},
   "outputs": [
    {
     "name": "stdout",
     "output_type": "stream",
     "text": [
      "Audi Is A Class Carr\n"
     ]
    }
   ],
   "source": [
    "# .title() Converts the first character of each word in upper case.\n",
    "\n",
    "print(Car.title())"
   ]
  },
  {
   "cell_type": "markdown",
   "id": "2bd1f530",
   "metadata": {},
   "source": [
    "### 10. Count"
   ]
  },
  {
   "cell_type": "code",
   "execution_count": 161,
   "id": "55ef8b68",
   "metadata": {},
   "outputs": [
    {
     "name": "stdout",
     "output_type": "stream",
     "text": [
      "21\n"
     ]
    }
   ],
   "source": [
    "# .count()\n",
    "\n",
    "print(Car.count(\"\"))"
   ]
  },
  {
   "cell_type": "markdown",
   "id": "2cfdbaf5",
   "metadata": {},
   "source": [
    "# String Concatenation"
   ]
  },
  {
   "cell_type": "code",
   "execution_count": 103,
   "id": "ffe26a51",
   "metadata": {},
   "outputs": [
    {
     "name": "stdout",
     "output_type": "stream",
     "text": [
      "Hello World\n"
     ]
    }
   ],
   "source": [
    "# To concatenate or combine the strings using + operator.\n",
    "\n",
    "A = \"Hello\"\n",
    "\n",
    "B = \"World\"\n",
    "\n",
    "print(A + \" \"+B)"
   ]
  },
  {
   "cell_type": "markdown",
   "id": "5b6d29a1",
   "metadata": {},
   "source": [
    "# String Format"
   ]
  },
  {
   "cell_type": "code",
   "execution_count": 104,
   "id": "a5bad80c",
   "metadata": {},
   "outputs": [],
   "source": [
    "# We can combine both stings and numbers so we use string format.\n",
    "\n",
    "# 1. .format()\n",
    "# 2. f String"
   ]
  },
  {
   "cell_type": "code",
   "execution_count": 108,
   "id": "9cbe07bf",
   "metadata": {},
   "outputs": [
    {
     "name": "stdout",
     "output_type": "stream",
     "text": [
      "Sanju is a Data analyst at the age of 19\n"
     ]
    }
   ],
   "source": [
    "# using .format()\n",
    "\n",
    "print(\"Sanju is a {0} at the age of {1}\".format(\"Data analyst\",19))"
   ]
  },
  {
   "cell_type": "code",
   "execution_count": 110,
   "id": "621006af",
   "metadata": {},
   "outputs": [
    {
     "name": "stdout",
     "output_type": "stream",
     "text": [
      "Sanju is a Data analyst at the age of 19\n"
     ]
    }
   ],
   "source": [
    "print(\"Sanju is a {first} at the age of {second}\".format(first=\"Data analyst\", second=19))"
   ]
  },
  {
   "cell_type": "code",
   "execution_count": 115,
   "id": "f7b7c918",
   "metadata": {},
   "outputs": [
    {
     "name": "stdout",
     "output_type": "stream",
     "text": [
      "Sanju is a Data analyst at the age of 19\n"
     ]
    }
   ],
   "source": [
    "# using f string.\n",
    "\n",
    "role = \"Data analyst\"\n",
    "age = 19\n",
    "\n",
    "print(f\"Sanju is a {role} at the age of {age}\")"
   ]
  },
  {
   "cell_type": "markdown",
   "id": "676f7414",
   "metadata": {},
   "source": [
    "# Escape Character "
   ]
  },
  {
   "cell_type": "code",
   "execution_count": 123,
   "id": "8045d8ab",
   "metadata": {},
   "outputs": [
    {
     "name": "stdout",
     "output_type": "stream",
     "text": [
      "We are the so-called \"Vikings\" from the north.\n"
     ]
    }
   ],
   "source": [
    "# \\\"  \\\"\n",
    "\n",
    "print(\"We are the so-called \\\"Vikings\\\" from the north.\")"
   ]
  },
  {
   "cell_type": "code",
   "execution_count": 122,
   "id": "6f4b2296",
   "metadata": {},
   "outputs": [
    {
     "name": "stdout",
     "output_type": "stream",
     "text": [
      "We are the so-called \\Vikings from the north.\n"
     ]
    }
   ],
   "source": [
    "# \\\\ Backslash - It inserts one slash.\n",
    "\n",
    "print(\"We are the so-called \\\\Vikings from the north.\")"
   ]
  },
  {
   "cell_type": "code",
   "execution_count": 125,
   "id": "7d1db0ac",
   "metadata": {},
   "outputs": [
    {
     "name": "stdout",
     "output_type": "stream",
     "text": [
      "We are the so-called \n",
      " Vikings from the north\n"
     ]
    }
   ],
   "source": [
    "# \\n - It prints the new line \n",
    "\n",
    "print(\"We are the so-called \\n Vikings from the north\")"
   ]
  },
  {
   "cell_type": "code",
   "execution_count": 127,
   "id": "76e72fd6",
   "metadata": {},
   "outputs": [
    {
     "name": "stdout",
     "output_type": "stream",
     "text": [
      "We are the so-called \r",
      " vikings from the north\n"
     ]
    }
   ],
   "source": [
    "# \\r - Carriage return, it returns only character after the \\r \n",
    "\n",
    "print(\"We are the so-called \\r vikings from the north\")"
   ]
  },
  {
   "cell_type": "code",
   "execution_count": 128,
   "id": "a41be85e",
   "metadata": {},
   "outputs": [
    {
     "name": "stdout",
     "output_type": "stream",
     "text": [
      "We are the so-called \t vikings from the north\n"
     ]
    }
   ],
   "source": [
    "# \\t - Tab - it is used for space between the string characters.\n",
    "\n",
    "print(\"We are the so-called \\t vikings from the north\")"
   ]
  },
  {
   "cell_type": "code",
   "execution_count": 131,
   "id": "2df99706",
   "metadata": {},
   "outputs": [
    {
     "name": "stdout",
     "output_type": "stream",
     "text": [
      "We are the so-called \bvikings from the north\n"
     ]
    }
   ],
   "source": [
    "# \\b Backspace\n",
    "\n",
    "print(\"We are the so-called \\bvikings from the north\")"
   ]
  },
  {
   "cell_type": "code",
   "execution_count": 168,
   "id": "d3face28",
   "metadata": {},
   "outputs": [],
   "source": [
    "num1 = 23\n",
    "\n",
    "num2 = 44\n"
   ]
  },
  {
   "cell_type": "code",
   "execution_count": 169,
   "id": "e35deea0",
   "metadata": {},
   "outputs": [],
   "source": [
    "num2 = 2+3j"
   ]
  },
  {
   "cell_type": "code",
   "execution_count": 170,
   "id": "b1e3ab8b",
   "metadata": {},
   "outputs": [],
   "source": [
    "num1=num2.imag"
   ]
  },
  {
   "cell_type": "code",
   "execution_count": 171,
   "id": "8d2d03e9",
   "metadata": {},
   "outputs": [
    {
     "data": {
      "text/plain": [
       "3.0"
      ]
     },
     "execution_count": 171,
     "metadata": {},
     "output_type": "execute_result"
    }
   ],
   "source": [
    "num1"
   ]
  },
  {
   "cell_type": "code",
   "execution_count": 172,
   "id": "3065c796",
   "metadata": {},
   "outputs": [
    {
     "data": {
      "text/plain": [
       "(-1+3j)"
      ]
     },
     "execution_count": 172,
     "metadata": {},
     "output_type": "execute_result"
    }
   ],
   "source": [
    "num2-num1"
   ]
  },
  {
   "cell_type": "code",
   "execution_count": 179,
   "id": "e23bfb64",
   "metadata": {},
   "outputs": [
    {
     "data": {
      "text/plain": [
       "True"
      ]
     },
     "execution_count": 179,
     "metadata": {},
     "output_type": "execute_result"
    }
   ],
   "source": [
    "'pwskills'.upper().lower().isalnum()"
   ]
  },
  {
   "cell_type": "code",
   "execution_count": 182,
   "id": "c77afd9f",
   "metadata": {},
   "outputs": [
    {
     "ename": "SyntaxError",
     "evalue": "invalid character '‘' (U+2018) (3643665153.py, line 1)",
     "output_type": "error",
     "traceback": [
      "\u001b[1;36m  File \u001b[1;32m\"C:\\Users\\Sanju\\AppData\\Local\\Temp\\ipykernel_15888\\3643665153.py\"\u001b[1;36m, line \u001b[1;32m1\u001b[0m\n\u001b[1;33m    ‘pwskills’.upper().lower().isalnum()\u001b[0m\n\u001b[1;37m    ^\u001b[0m\n\u001b[1;31mSyntaxError\u001b[0m\u001b[1;31m:\u001b[0m invalid character '‘' (U+2018)\n"
     ]
    }
   ],
   "source": [
    "‘pwskills’.upper().lower().isalnum()"
   ]
  },
  {
   "cell_type": "code",
   "execution_count": null,
   "id": "5061a8f0",
   "metadata": {},
   "outputs": [],
   "source": []
  }
 ],
 "metadata": {
  "kernelspec": {
   "display_name": "Python 3 (ipykernel)",
   "language": "python",
   "name": "python3"
  },
  "language_info": {
   "codemirror_mode": {
    "name": "ipython",
    "version": 3
   },
   "file_extension": ".py",
   "mimetype": "text/x-python",
   "name": "python",
   "nbconvert_exporter": "python",
   "pygments_lexer": "ipython3",
   "version": "3.9.13"
  }
 },
 "nbformat": 4,
 "nbformat_minor": 5
}
