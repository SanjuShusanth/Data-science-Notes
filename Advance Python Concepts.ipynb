{
 "cells": [
  {
   "cell_type": "markdown",
   "id": "f7e25cc1",
   "metadata": {},
   "source": [
    "# OOPS Concept - Object Oriented Programming System"
   ]
  },
  {
   "cell_type": "markdown",
   "id": "8155984e",
   "metadata": {},
   "source": [
    "## Introduction:"
   ]
  },
  {
   "cell_type": "markdown",
   "id": "2b0a3fce",
   "metadata": {},
   "source": [
    "* `Class` - It is a classification of real world objects or blueprint of creating an object.\n",
    "\n",
    "Why class is created ?  \n",
    "\n",
    "1. Class is created to represent the code in a structured and reuseable way.\n",
    "\n",
    "2. It gives the good understanding of the code, it is reuseable and makes the code look clean."
   ]
  },
  {
   "cell_type": "markdown",
   "id": "ad8dce4f",
   "metadata": {},
   "source": [
    "#### Creating a class:"
   ]
  },
  {
   "cell_type": "code",
   "execution_count": 1,
   "id": "53e43948",
   "metadata": {},
   "outputs": [
    {
     "name": "stdout",
     "output_type": "stream",
     "text": [
      "<class '__main__.test'>\n"
     ]
    }
   ],
   "source": [
    "# Class :\n",
    "\n",
    "class test():\n",
    "    pass\n",
    "\n",
    "A = test()\n",
    "\n",
    "print(type(A))"
   ]
  },
  {
   "cell_type": "code",
   "execution_count": 3,
   "id": "01b09938",
   "metadata": {},
   "outputs": [],
   "source": [
    "class Datascience():\n",
    "    def welcome_msg():\n",
    "        print(\"Welcome to Datascience\")"
   ]
  },
  {
   "cell_type": "code",
   "execution_count": 5,
   "id": "47475c2c",
   "metadata": {},
   "outputs": [],
   "source": [
    "Sanju = Datascience()"
   ]
  },
  {
   "cell_type": "code",
   "execution_count": 6,
   "id": "cde689ad",
   "metadata": {},
   "outputs": [
    {
     "ename": "TypeError",
     "evalue": "welcome_msg() takes 0 positional arguments but 1 was given",
     "output_type": "error",
     "traceback": [
      "\u001b[1;31m---------------------------------------------------------------------------\u001b[0m",
      "\u001b[1;31mTypeError\u001b[0m                                 Traceback (most recent call last)",
      "\u001b[1;32m~\\AppData\\Local\\Temp\\ipykernel_3784\\2154024071.py\u001b[0m in \u001b[0;36m<module>\u001b[1;34m\u001b[0m\n\u001b[1;32m----> 1\u001b[1;33m \u001b[0mSanju\u001b[0m\u001b[1;33m.\u001b[0m\u001b[0mwelcome_msg\u001b[0m\u001b[1;33m(\u001b[0m\u001b[1;33m)\u001b[0m\u001b[1;33m\u001b[0m\u001b[1;33m\u001b[0m\u001b[0m\n\u001b[0m",
      "\u001b[1;31mTypeError\u001b[0m: welcome_msg() takes 0 positional arguments but 1 was given"
     ]
    }
   ],
   "source": [
    "Sanju.welcome_msg()"
   ]
  },
  {
   "cell_type": "markdown",
   "id": "3ea8cbdd",
   "metadata": {},
   "source": [
    "Here why we got an error - So when ever creating a function inside a class we are suppose to give a pointer or reference to the\n",
    "function, so that it understands this is part of my functions and then class variable able to access the function. We can create \n",
    "N number of object variable specifically defined to the same class name."
   ]
  },
  {
   "cell_type": "code",
   "execution_count": 7,
   "id": "17003115",
   "metadata": {},
   "outputs": [
    {
     "name": "stdout",
     "output_type": "stream",
     "text": [
      "Welcome to Datascience\n"
     ]
    }
   ],
   "source": [
    "class Datascience():\n",
    "    def welcome_msg(self):\n",
    "        print(\"Welcome to Datascience\")\n",
    "        \n",
    "Sanju = Datascience()\n",
    "\n",
    "Sanju.welcome_msg()"
   ]
  },
  {
   "cell_type": "code",
   "execution_count": 9,
   "id": "32ea2623",
   "metadata": {},
   "outputs": [
    {
     "name": "stdout",
     "output_type": "stream",
     "text": [
      "Welcome to Datascience\n"
     ]
    }
   ],
   "source": [
    "Shusanth = Datascience()\n",
    "\n",
    "Shusanth.welcome_msg()"
   ]
  },
  {
   "cell_type": "markdown",
   "id": "dbb00208",
   "metadata": {},
   "source": [
    "### Constructor "
   ]
  },
  {
   "cell_type": "markdown",
   "id": "2e183a08",
   "metadata": {},
   "source": [
    "* Contructor is a function that takes the data while creating an object.\n",
    "\n",
    "* When the constructor function is called we can pass any argument inside the parathesis.\n",
    "\n",
    "* `Self` is a reference to the object being created.\n",
    "\n",
    "* When you call the constructor to create a new object, you pass any necessary arguments to it, just like you would with any other method. However, Python automatically passes the object reference as the first argument, which is why you need to include \"self\" as the first parameter in the constructor's definition."
   ]
  },
  {
   "cell_type": "code",
   "execution_count": 11,
   "id": "026270ee",
   "metadata": {},
   "outputs": [],
   "source": [
    "class masters():\n",
    "    \n",
    "    def __init__(self,roll_number,email_id,phone_number):\n",
    "        \n",
    "        self.roll_number = roll_number\n",
    "        self.email_id = email_id\n",
    "        self.phone_number = phone_number\n",
    "    \n",
    "    def return_details(self):\n",
    "        return self.roll_number, self.email_id, self.phone_number\n"
   ]
  },
  {
   "cell_type": "code",
   "execution_count": 12,
   "id": "ee829ca0",
   "metadata": {},
   "outputs": [],
   "source": [
    "sanju = masters(45,\"sanju@gmail.com\",90876543)"
   ]
  },
  {
   "cell_type": "code",
   "execution_count": 13,
   "id": "8def2358",
   "metadata": {},
   "outputs": [
    {
     "data": {
      "text/plain": [
       "45"
      ]
     },
     "execution_count": 13,
     "metadata": {},
     "output_type": "execute_result"
    }
   ],
   "source": [
    "sanju.roll_number"
   ]
  },
  {
   "cell_type": "code",
   "execution_count": 14,
   "id": "647ce413",
   "metadata": {},
   "outputs": [
    {
     "data": {
      "text/plain": [
       "'sanju@gmail.com'"
      ]
     },
     "execution_count": 14,
     "metadata": {},
     "output_type": "execute_result"
    }
   ],
   "source": [
    "sanju.email_id"
   ]
  },
  {
   "cell_type": "code",
   "execution_count": 30,
   "id": "d9469396",
   "metadata": {},
   "outputs": [],
   "source": [
    "class masters1():\n",
    "    def __init__(self,phone_no ,email_id ,roll_no):\n",
    "        \n",
    "        self.phone_no = phone_no\n",
    "        self.email_id = email_id\n",
    "        self.roll_no = roll_no\n",
    "    \n",
    "    def return_student_details(self):\n",
    "        return self.phone_no ,self.email_id ,self.roll_no"
   ]
  },
  {
   "cell_type": "code",
   "execution_count": 31,
   "id": "8aa1ad43",
   "metadata": {},
   "outputs": [],
   "source": [
    "babu = masters1(99984572,\"babu@gmail.com\",675)"
   ]
  },
  {
   "cell_type": "code",
   "execution_count": 32,
   "id": "e96ac192",
   "metadata": {},
   "outputs": [
    {
     "data": {
      "text/plain": [
       "99984572"
      ]
     },
     "execution_count": 32,
     "metadata": {},
     "output_type": "execute_result"
    }
   ],
   "source": [
    "babu.phone_no\n"
   ]
  },
  {
   "cell_type": "code",
   "execution_count": 33,
   "id": "dffd7221",
   "metadata": {},
   "outputs": [
    {
     "data": {
      "text/plain": [
       "(99984572, 'babu@gmail.com', 675)"
      ]
     },
     "execution_count": 33,
     "metadata": {},
     "output_type": "execute_result"
    }
   ],
   "source": [
    "babu.return_student_details()"
   ]
  },
  {
   "cell_type": "code",
   "execution_count": null,
   "id": "ae05e4fc",
   "metadata": {},
   "outputs": [],
   "source": []
  },
  {
   "cell_type": "markdown",
   "id": "4f6ec92b",
   "metadata": {},
   "source": [
    "### Class and Object"
   ]
  },
  {
   "cell_type": "markdown",
   "id": "06d21bba",
   "metadata": {},
   "source": [
    "* Class is a classification of real world objects or blueprint of creating an object.\n",
    "\n",
    "* Creating a class is by a using a keyword class followed by the class name and paranthesis.\n",
    "\n",
    "  Eg: class test2():\n",
    "           # pass\n",
    "\n",
    "* Object is a instance of a class, which is created based on the blueprint given by the class.\n",
    "\n",
    "* Object stores the methods and attributes created by the class.\n",
    "\n",
    "For example : We can consider an object as a \"Dog\", an object of the dog class might be called as \"dog1\",\"dog1\",\"dog3\" etc, \n",
    "these objects contain attibutes and methods like Age,name,color."
   ]
  },
  {
   "cell_type": "markdown",
   "id": "dfc77a68",
   "metadata": {},
   "source": [
    "### Pillars of OOPs"
   ]
  },
  {
   "cell_type": "markdown",
   "id": "cb699d26",
   "metadata": {},
   "source": [
    "#### 1. Abstraction\n",
    "\n",
    "#### 2. Polymorphism\n",
    "\n",
    "#### 3. Inheritance\n",
    "\n",
    "#### 4. Encapsulation"
   ]
  },
  {
   "cell_type": "markdown",
   "id": "508d8ccf",
   "metadata": {},
   "source": [
    "### What is Inheritance?"
   ]
  },
  {
   "cell_type": "markdown",
   "id": "df302dbc",
   "metadata": {},
   "source": [
    "* Inheritance, it is defines the class that inherits all the properties and methods of a another class called Inheritance."
   ]
  },
  {
   "cell_type": "markdown",
   "id": "516e46be",
   "metadata": {},
   "source": [
    "There are five types of Inheritance, they are:\n",
    "    \n",
    "1. Single inheritannce\n",
    "\n",
    "2. Multiple inheritance\n",
    "\n",
    "3. Multi level inheritance\n",
    "\n",
    "4. Hierachical inheritance\n",
    "\n",
    "5. Hybrid inheritannce"
   ]
  },
  {
   "cell_type": "markdown",
   "id": "4e750160",
   "metadata": {},
   "source": [
    "#### Single Inheritannce"
   ]
  },
  {
   "cell_type": "markdown",
   "id": "07bdb741",
   "metadata": {},
   "source": [
    "* In single inheritance that defines the class that inherits all the properties and methods from the parent class."
   ]
  },
  {
   "cell_type": "markdown",
   "id": "84a712c6",
   "metadata": {},
   "source": [
    "Example;"
   ]
  },
  {
   "cell_type": "code",
   "execution_count": 25,
   "id": "20e65df2",
   "metadata": {},
   "outputs": [
    {
     "name": "stdout",
     "output_type": "stream",
     "text": [
      "Feature 1 is working\n",
      "Feature 2 is working\n",
      "Feature 3 is working\n",
      "Feature 4 is working\n"
     ]
    }
   ],
   "source": [
    "class parent():    # parent class or super class\n",
    "    \n",
    "    def feature1(self):\n",
    "        print('Feature 1 is working')\n",
    "    \n",
    "    def feature2(self):\n",
    "        print('Feature 2 is working')\n",
    "        \n",
    "        \n",
    "class child(parent): # child class or Sub class\n",
    "    \n",
    "    def feature3(self):\n",
    "        print(\"Feature 3 is working\")\n",
    "    \n",
    "    def feature4(self):\n",
    "        print(\"Feature 4 is working\")\n",
    "        \n",
    "A = child()\n",
    "\n",
    "A.feature1()\n",
    "A.feature2()\n",
    "A.feature3()\n",
    "A.feature4()"
   ]
  },
  {
   "cell_type": "markdown",
   "id": "762d6ab9",
   "metadata": {},
   "source": [
    "#### Multiple Inheritance"
   ]
  },
  {
   "cell_type": "markdown",
   "id": "1c195897",
   "metadata": {},
   "source": [
    "* In Multiple inheritance, the class is derived from one or more base class is called as Multiple inheritance. In this all the\n",
    "feactures of base camp is inherited to the derivd class."
   ]
  },
  {
   "cell_type": "markdown",
   "id": "61bfe454",
   "metadata": {},
   "source": [
    "Example:"
   ]
  },
  {
   "cell_type": "code",
   "execution_count": 23,
   "id": "c4286d53",
   "metadata": {},
   "outputs": [
    {
     "name": "stdout",
     "output_type": "stream",
     "text": [
      "father:  sathivel\n",
      "Mother:  Lakshmypriya\n"
     ]
    }
   ],
   "source": [
    "class Father():\n",
    "    father_name = \"\"\n",
    "        \n",
    "    def father(self):\n",
    "        print(self.father_name)\n",
    "\n",
    "class Mother():\n",
    "    mother_name = \"\"\n",
    "        \n",
    "    def mother(self):\n",
    "        print(self.mothername)\n",
    "        \n",
    "class son(Father,Mother):\n",
    "    \n",
    "    def son(self):\n",
    "        print(\"father: \", self.father_name)\n",
    "        print(\"Mother: \", self.mother_name)\n",
    "        \n",
    "S1 = son()\n",
    "\n",
    "S1.father_name = \"sathivel\"\n",
    "S1.mother_name = \"Lakshmypriya\"\n",
    "\n",
    "S1.son()"
   ]
  },
  {
   "cell_type": "markdown",
   "id": "96626b37",
   "metadata": {},
   "source": [
    "#### Multilevel Inheritance"
   ]
  },
  {
   "cell_type": "markdown",
   "id": "2697ce98",
   "metadata": {},
   "source": [
    "* In this inheritance all the feactures of base class and the derived class are further inherited to new derived class."
   ]
  },
  {
   "cell_type": "code",
   "execution_count": 34,
   "id": "641e73a6",
   "metadata": {},
   "outputs": [
    {
     "name": "stdout",
     "output_type": "stream",
     "text": [
      "Feature 1 is working\n"
     ]
    }
   ],
   "source": [
    "class parent():    # parent class or super class\n",
    "    \n",
    "    def feature1(self):\n",
    "        print('Feature 1 is working')\n",
    "    \n",
    "    def feature2(self):\n",
    "        print('Feature 2 is working')\n",
    "        \n",
    "        \n",
    "class child(parent): # child class or Sub class\n",
    "    \n",
    "    def feature3(self):\n",
    "        print(\"Feature 3 is working\")\n",
    "    \n",
    "    def feature4(self):\n",
    "        print(\"Feature 4 is working\")\n",
    "        \n",
    "class child1(child):\n",
    "    \n",
    "    def feature5(self):\n",
    "        print(\"Feature 5 is not working\")\n",
    "        \n",
    "B1 = child1()\n",
    "\n",
    "B1.feature1()\n"
   ]
  },
  {
   "cell_type": "markdown",
   "id": "c70b9d45",
   "metadata": {},
   "source": [
    "### Hybrid Inheritance:"
   ]
  },
  {
   "cell_type": "markdown",
   "id": "d09d6632",
   "metadata": {},
   "source": [
    "* Inheritance consists of multiple types of inheritance is called as Hybrid Inhertitance."
   ]
  },
  {
   "cell_type": "code",
   "execution_count": 50,
   "id": "e5c77db4",
   "metadata": {},
   "outputs": [
    {
     "name": "stdout",
     "output_type": "stream",
     "text": [
      "This function is in school.\n",
      "This function is in student 1. \n"
     ]
    }
   ],
   "source": [
    "class School:\n",
    "    def func1(self):\n",
    "        print(\"This function is in school.\")\n",
    " \n",
    " \n",
    "class Student1(School):\n",
    "    def func2(self):\n",
    "        print(\"This function is in student 1. \")\n",
    " \n",
    " \n",
    "class Student2(School):\n",
    "    def func3(self):\n",
    "        print(\"This function is in student 2.\")\n",
    " \n",
    " \n",
    "class Student3(Student1, School):\n",
    "    def func4(self):\n",
    "        print(\"This function is in student 3.\")\n",
    " \n",
    " \n",
    "# Driver's code\n",
    "object = Student3()\n",
    "object.func1()\n",
    "object.func2()\n",
    "\n"
   ]
  },
  {
   "cell_type": "markdown",
   "id": "a093f283",
   "metadata": {},
   "source": [
    "### Hierachical Inheritance"
   ]
  },
  {
   "cell_type": "markdown",
   "id": "7b9707f3",
   "metadata": {},
   "source": [
    "* When one or more derived class is inherited from a parent class is called as Hierachical Inheritance."
   ]
  },
  {
   "cell_type": "code",
   "execution_count": 51,
   "id": "40261862",
   "metadata": {},
   "outputs": [
    {
     "name": "stdout",
     "output_type": "stream",
     "text": [
      "This is a parent class\n",
      "This is a child1 class\n",
      "This is a parent class\n",
      "This is a child2 class\n"
     ]
    }
   ],
   "source": [
    "# base Class\n",
    "\n",
    "class parent():\n",
    "    def func1(self):\n",
    "        print(\"This is a parent class\")\n",
    "\n",
    "# Derived Class 1\n",
    "\n",
    "class child1(parent):\n",
    "    def func2(self):\n",
    "        print(\"This is a child1 class\")\n",
    "\n",
    "# Derived Class 2\n",
    "        \n",
    "class child2(parent):\n",
    "    def func3(self):\n",
    "        print(\"This is a child2 class\")\n",
    "        \n",
    "A = child1()\n",
    "\n",
    "B = child2()\n",
    "\n",
    "A.func1()\n",
    "\n",
    "A.func2()\n",
    "\n",
    "B.func1()\n",
    "\n",
    "B.func3()"
   ]
  },
  {
   "cell_type": "code",
   "execution_count": null,
   "id": "0417bf46",
   "metadata": {},
   "outputs": [],
   "source": []
  },
  {
   "cell_type": "markdown",
   "id": "aadd0636",
   "metadata": {},
   "source": [
    "### Polymorphism"
   ]
  },
  {
   "cell_type": "markdown",
   "id": "0237d42e",
   "metadata": {},
   "source": [
    "* Poly - The name poly refers to many \n",
    "  \n",
    "  Morphism - Having different forms called Morphism"
   ]
  },
  {
   "cell_type": "markdown",
   "id": "2db09cf3",
   "metadata": {},
   "source": [
    "It refers to the use of single type entity(methods or operator, object) to represent same function with different scenarios"
   ]
  },
  {
   "cell_type": "markdown",
   "id": "4f1deda5",
   "metadata": {},
   "source": [
    "#### Creating Polymorphism"
   ]
  },
  {
   "cell_type": "code",
   "execution_count": 38,
   "id": "3b007202",
   "metadata": {},
   "outputs": [],
   "source": [
    "class sanju:\n",
    "    \n",
    "    def data(self):\n",
    "        print(\"sanju is 19 years old\")\n",
    "        \n",
    "class nandhu:\n",
    "    \n",
    "    def data(self):\n",
    "        print(\"Nandhu is 16 years old\")\n",
    "        \n",
    "    "
   ]
  },
  {
   "cell_type": "code",
   "execution_count": 39,
   "id": "28727500",
   "metadata": {},
   "outputs": [],
   "source": [
    "obj_1 = sanju()"
   ]
  },
  {
   "cell_type": "code",
   "execution_count": 40,
   "id": "e556c6a4",
   "metadata": {},
   "outputs": [],
   "source": [
    "obj_2 = nandhu()"
   ]
  },
  {
   "cell_type": "code",
   "execution_count": 41,
   "id": "d6db3cb3",
   "metadata": {},
   "outputs": [],
   "source": [
    "class_both = [obj_1,obj_2]"
   ]
  },
  {
   "cell_type": "code",
   "execution_count": 42,
   "id": "3b7c40d8",
   "metadata": {},
   "outputs": [],
   "source": [
    "def class_duo(class_both):\n",
    "    for i in class_both:\n",
    "        i.data()"
   ]
  },
  {
   "cell_type": "code",
   "execution_count": 43,
   "id": "0fe19118",
   "metadata": {},
   "outputs": [
    {
     "name": "stdout",
     "output_type": "stream",
     "text": [
      "sanju is 19 years old\n",
      "Nandhu is 16 years old\n"
     ]
    }
   ],
   "source": [
    "class_duo(class_both)"
   ]
  },
  {
   "cell_type": "code",
   "execution_count": null,
   "id": "07f65d2f",
   "metadata": {},
   "outputs": [],
   "source": []
  },
  {
   "cell_type": "code",
   "execution_count": 14,
   "id": "954bb3d1",
   "metadata": {},
   "outputs": [],
   "source": [
    "class bejoy:\n",
    "    \n",
    "    def __init__(self,name,age,salary):\n",
    "        \n",
    "        self.name = name\n",
    "        self.age = age\n",
    "        self.salary = salary\n",
    "        \n",
    "    def student(self):\n",
    "        print(\"His name is {0} and he is {1} years old and geting a salary of {2} \".format(self.name,self.age,self.salary))\n",
    "\n",
    "class akash:\n",
    "    def __init__(self,name,age,salary):\n",
    "        \n",
    "        self.name = name\n",
    "        self.age = age\n",
    "        self.salary = salary\n",
    "        \n",
    "    def student(self):\n",
    "        print(\"His name is {0} and he is {1} years old and geting a salary of {2} \".format(self.name,self.age,self.salary))\n",
    "\n",
    "    \n",
    "        \n",
    "obj_1 = bejoy(\"bejoy\",19,50000)\n",
    "\n",
    "obj_2 = akash(\"akash\",22,34000)\n",
    "\n",
    "\n",
    "class_duo = [obj_1,obj_2]\n",
    "\n",
    "def new_one(class_duo):\n",
    "    for i in class_duo:\n",
    "        i.student()\n",
    "    "
   ]
  },
  {
   "cell_type": "code",
   "execution_count": 15,
   "id": "07290f1e",
   "metadata": {},
   "outputs": [
    {
     "name": "stdout",
     "output_type": "stream",
     "text": [
      "His name is bejoy and he is 19 years old and geting a salary of 50000 \n",
      "His name is akash and he is 22 years old and geting a salary of 34000 \n"
     ]
    }
   ],
   "source": [
    "new_one(class_duo)"
   ]
  },
  {
   "cell_type": "code",
   "execution_count": 29,
   "id": "616350cf",
   "metadata": {},
   "outputs": [
    {
     "name": "stdout",
     "output_type": "stream",
     "text": [
      "88\n"
     ]
    }
   ],
   "source": [
    "class MyMath:\n",
    "    def __init__(self, num1, num2):\n",
    "        self.num1 = num1\n",
    "        self.num2 = num2\n",
    "\n",
    "    def add(self, a, b):\n",
    "        return a + b\n",
    "    \n",
    "on = MyMath(33,55)\n",
    "\n",
    "result = on.add(on.num1,on.num2)\n",
    "\n",
    "print (result)"
   ]
  },
  {
   "cell_type": "code",
   "execution_count": null,
   "id": "264fbaef",
   "metadata": {},
   "outputs": [],
   "source": []
  },
  {
   "cell_type": "markdown",
   "id": "763f061b",
   "metadata": {},
   "source": [
    "### Encapsulation"
   ]
  },
  {
   "cell_type": "markdown",
   "id": "981dd7d4",
   "metadata": {},
   "source": [
    "* It is concept that which will allow us to prevent any kind of direct access or direct modification of data is called as Encapsulation.\n",
    "\n",
    "* By using Encapsulation we can hide the entire class from the user to access. Only the creator knows the exact class name and variable name to get the access.\n",
    "\n",
    "* With help of functions user can get the access for those variables."
   ]
  },
  {
   "cell_type": "code",
   "execution_count": 5,
   "id": "96c0c9ad",
   "metadata": {},
   "outputs": [],
   "source": [
    "class bike:\n",
    "    \n",
    "\n",
    "    def __init__(self, year, make, model,speed):\n",
    "        self.__year = year\n",
    "        self.__make = make\n",
    "        self.__model = model\n",
    "        self.__speed = 0\n",
    "        \n",
    "    # providing a access to the user\n",
    "    \n",
    "    def set_speed(self,speed):\n",
    "        self.__speed = 0 if speed < 0 else speed\n",
    "        \n",
    "    def get_speed(self):\n",
    "        return self.__speed\n",
    "        \n",
    "        "
   ]
  },
  {
   "cell_type": "code",
   "execution_count": 6,
   "id": "e7a4af6f",
   "metadata": {},
   "outputs": [],
   "source": [
    "obj_bike = bike(2022,\"BMW\",\"s\",12)"
   ]
  },
  {
   "cell_type": "code",
   "execution_count": 7,
   "id": "0937fadf",
   "metadata": {},
   "outputs": [
    {
     "data": {
      "text/plain": [
       "2022"
      ]
     },
     "execution_count": 7,
     "metadata": {},
     "output_type": "execute_result"
    }
   ],
   "source": [
    "obj_bike._bike__year"
   ]
  },
  {
   "cell_type": "code",
   "execution_count": 8,
   "id": "041974f8",
   "metadata": {},
   "outputs": [],
   "source": [
    "obj_bike.set_speed(1111)"
   ]
  },
  {
   "cell_type": "code",
   "execution_count": 9,
   "id": "a094f98a",
   "metadata": {},
   "outputs": [
    {
     "data": {
      "text/plain": [
       "1111"
      ]
     },
     "execution_count": 9,
     "metadata": {},
     "output_type": "execute_result"
    }
   ],
   "source": [
    "obj_bike.get_speed()"
   ]
  },
  {
   "cell_type": "code",
   "execution_count": 20,
   "id": "30541fa1",
   "metadata": {},
   "outputs": [],
   "source": []
  },
  {
   "cell_type": "code",
   "execution_count": 26,
   "id": "6627feba",
   "metadata": {},
   "outputs": [],
   "source": [
    "class bank_account:\n",
    "    \n",
    "    def __init__(self, balance):\n",
    "        \n",
    "        self.__balance = balance\n",
    "        \n",
    "    def deposit(self, amount):\n",
    "        \n",
    "        self.__balance += amount\n",
    "        \n",
    "    def withdraw(self, amount):\n",
    "        \n",
    "        if self.__balance >= amount:\n",
    "            self.__balance -= amount\n",
    "            return True\n",
    "        else:\n",
    "            return False\n",
    "    def get_balance(self):\n",
    "        return self.__balance\n",
    "        "
   ]
  },
  {
   "cell_type": "code",
   "execution_count": 28,
   "id": "1c208986",
   "metadata": {},
   "outputs": [],
   "source": [
    "obj1 = bank_account(20000)"
   ]
  },
  {
   "cell_type": "code",
   "execution_count": 29,
   "id": "0b63e7e3",
   "metadata": {},
   "outputs": [],
   "source": [
    "obj1.deposit(400)"
   ]
  },
  {
   "cell_type": "code",
   "execution_count": 30,
   "id": "332d1c3e",
   "metadata": {},
   "outputs": [
    {
     "data": {
      "text/plain": [
       "20400"
      ]
     },
     "execution_count": 30,
     "metadata": {},
     "output_type": "execute_result"
    }
   ],
   "source": [
    "obj1.get_balance()"
   ]
  },
  {
   "cell_type": "code",
   "execution_count": 40,
   "id": "5b9c392e",
   "metadata": {},
   "outputs": [],
   "source": [
    "class income:\n",
    "    \n",
    "    def __init__(self, salary):\n",
    "        \n",
    "        self.__salary = salary\n",
    "        \n",
    "    def monthly_exp(self, amount):\n",
    "        if self.__salary >= amount:\n",
    "            self.__salary -= amount\n",
    "            return True\n",
    "        else:\n",
    "            return False\n",
    "        \n",
    "    def get_salary(self):\n",
    "        return self.__salary"
   ]
  },
  {
   "cell_type": "code",
   "execution_count": 41,
   "id": "3bc4643e",
   "metadata": {},
   "outputs": [],
   "source": [
    "obj2 = income(45000)"
   ]
  },
  {
   "cell_type": "code",
   "execution_count": 42,
   "id": "2ab2cd3b",
   "metadata": {},
   "outputs": [
    {
     "data": {
      "text/plain": [
       "True"
      ]
     },
     "execution_count": 42,
     "metadata": {},
     "output_type": "execute_result"
    }
   ],
   "source": [
    "obj2.monthly_exp(33300)"
   ]
  },
  {
   "cell_type": "code",
   "execution_count": 43,
   "id": "7b2802ae",
   "metadata": {},
   "outputs": [
    {
     "data": {
      "text/plain": [
       "11700"
      ]
     },
     "execution_count": 43,
     "metadata": {},
     "output_type": "execute_result"
    }
   ],
   "source": [
    "obj2.get_salary()"
   ]
  },
  {
   "cell_type": "code",
   "execution_count": null,
   "id": "d82d342a",
   "metadata": {},
   "outputs": [],
   "source": []
  },
  {
   "cell_type": "markdown",
   "id": "0a056606",
   "metadata": {},
   "source": [
    "### Abstraction"
   ]
  },
  {
   "cell_type": "code",
   "execution_count": 45,
   "id": "8f51e412",
   "metadata": {},
   "outputs": [],
   "source": [
    "import abc\n",
    "\n",
    "class student:\n",
    "    \n",
    "    @abc.abstractmethod\n",
    "    def name(self):\n",
    "        pass\n",
    "    @abc.abstractmethod\n",
    "    def age(self):\n",
    "        pass\n",
    "    @abc.abstractmethod\n",
    "    def gender(self):\n",
    "        pass\n",
    "    @abc.abstractmethod\n",
    "    def grade(self):\n",
    "        pass"
   ]
  },
  {
   "cell_type": "code",
   "execution_count": 67,
   "id": "12e8ec24",
   "metadata": {},
   "outputs": [],
   "source": [
    "class data_science(student):\n",
    "    def name(self, Name):\n",
    "        def __init__(self, Name):\n",
    "            self.Name = Name\n",
    "        return Name\n",
    "\n",
    "    def age(self, Age):\n",
    "        return Age\n",
    "\n",
    "    def grade(self, grade):\n",
    "        return grade"
   ]
  },
  {
   "cell_type": "code",
   "execution_count": 68,
   "id": "7bf6cbce",
   "metadata": {},
   "outputs": [],
   "source": [
    "obj4 = data_science()"
   ]
  },
  {
   "cell_type": "code",
   "execution_count": 69,
   "id": "f1c35941",
   "metadata": {},
   "outputs": [
    {
     "data": {
      "text/plain": [
       "33"
      ]
     },
     "execution_count": 69,
     "metadata": {},
     "output_type": "execute_result"
    }
   ],
   "source": [
    "obj4.age(33)"
   ]
  },
  {
   "cell_type": "code",
   "execution_count": 70,
   "id": "ec5668c6",
   "metadata": {},
   "outputs": [
    {
     "data": {
      "text/plain": [
       "'Sanju'"
      ]
     },
     "execution_count": 70,
     "metadata": {},
     "output_type": "execute_result"
    }
   ],
   "source": [
    "obj4.name(\"Sanju\")"
   ]
  },
  {
   "cell_type": "markdown",
   "id": "8438dd11",
   "metadata": {},
   "source": [
    "### Decorators"
   ]
  },
  {
   "cell_type": "code",
   "execution_count": 1,
   "id": "2b11bf8a",
   "metadata": {},
   "outputs": [],
   "source": [
    "def test1():\n",
    "    print(5+3)"
   ]
  },
  {
   "cell_type": "code",
   "execution_count": 2,
   "id": "8fb2a587",
   "metadata": {},
   "outputs": [
    {
     "name": "stdout",
     "output_type": "stream",
     "text": [
      "8\n"
     ]
    }
   ],
   "source": [
    "test1()"
   ]
  },
  {
   "cell_type": "code",
   "execution_count": 16,
   "id": "9fd8c274",
   "metadata": {},
   "outputs": [],
   "source": [
    "def decor(func):\n",
    "    def inner_decor():\n",
    "        print(\"Welcome to Data science\")\n",
    "        func()\n",
    "        print(\"Bye have a great day\")\n",
    "    return inner_decor\n",
    "        "
   ]
  },
  {
   "cell_type": "code",
   "execution_count": 17,
   "id": "47d158d5",
   "metadata": {},
   "outputs": [],
   "source": [
    "@decor\n",
    "def test2():\n",
    "    print(7+4)"
   ]
  },
  {
   "cell_type": "code",
   "execution_count": 18,
   "id": "aa5a3523",
   "metadata": {},
   "outputs": [
    {
     "name": "stdout",
     "output_type": "stream",
     "text": [
      "Welcome to Data science\n",
      "11\n",
      "Bye have a great day\n"
     ]
    }
   ],
   "source": [
    "test2()"
   ]
  },
  {
   "cell_type": "markdown",
   "id": "35fd1d4a",
   "metadata": {},
   "source": [
    "### Class Methods"
   ]
  },
  {
   "cell_type": "markdown",
   "id": "48d5bbea",
   "metadata": {},
   "source": [
    "Class method is an alternative of `__init__` constructor, instead of passing the data to the init function we can create a class method and directly we can pass the data."
   ]
  },
  {
   "cell_type": "code",
   "execution_count": 1,
   "id": "2d3c6974",
   "metadata": {},
   "outputs": [],
   "source": [
    "class pwskills:\n",
    "    \n",
    "    def __init__(self, name, email):\n",
    "        \n",
    "        self.name = name\n",
    "        self.email = email\n",
    "        \n",
    "    def student_details(self):\n",
    "        print(self.name, self.email)"
   ]
  },
  {
   "cell_type": "code",
   "execution_count": 2,
   "id": "23c5e730",
   "metadata": {},
   "outputs": [],
   "source": [
    "pw = pwskills(\"Sanju\", \"Sanju@gmail.com\")"
   ]
  },
  {
   "cell_type": "code",
   "execution_count": 3,
   "id": "69fb9719",
   "metadata": {},
   "outputs": [
    {
     "data": {
      "text/plain": [
       "'Sanju'"
      ]
     },
     "execution_count": 3,
     "metadata": {},
     "output_type": "execute_result"
    }
   ],
   "source": [
    "pw.name"
   ]
  },
  {
   "cell_type": "code",
   "execution_count": 4,
   "id": "516f4190",
   "metadata": {},
   "outputs": [
    {
     "data": {
      "text/plain": [
       "'Sanju@gmail.com'"
      ]
     },
     "execution_count": 4,
     "metadata": {},
     "output_type": "execute_result"
    }
   ],
   "source": [
    "pw.email"
   ]
  },
  {
   "cell_type": "code",
   "execution_count": 12,
   "id": "1ac5f6a5",
   "metadata": {},
   "outputs": [],
   "source": [
    "class pwskills1:\n",
    "    \n",
    "    def __init__(self, name, email):\n",
    "        \n",
    "        self.name = name\n",
    "        self.email = email\n",
    "    \n",
    "    @classmethod\n",
    "    def details(cls, name1, email1):\n",
    "        return cls(name1, email1)\n",
    "    \n",
    "    def student_details(self):\n",
    "        print(self.name, self.email)"
   ]
  },
  {
   "cell_type": "code",
   "execution_count": 13,
   "id": "743ac298",
   "metadata": {},
   "outputs": [],
   "source": [
    "kk=pwskills1.details(\"sanju\", \"sanju@fmail.com\")"
   ]
  },
  {
   "cell_type": "code",
   "execution_count": 14,
   "id": "eae5cb4b",
   "metadata": {},
   "outputs": [
    {
     "data": {
      "text/plain": [
       "'sanju'"
      ]
     },
     "execution_count": 14,
     "metadata": {},
     "output_type": "execute_result"
    }
   ],
   "source": [
    "kk.name"
   ]
  },
  {
   "cell_type": "code",
   "execution_count": 15,
   "id": "1bfad017",
   "metadata": {},
   "outputs": [
    {
     "data": {
      "text/plain": [
       "'sanju@fmail.com'"
      ]
     },
     "execution_count": 15,
     "metadata": {},
     "output_type": "execute_result"
    }
   ],
   "source": [
    "kk.email"
   ]
  },
  {
   "cell_type": "code",
   "execution_count": 16,
   "id": "efa6dc7f",
   "metadata": {},
   "outputs": [
    {
     "name": "stdout",
     "output_type": "stream",
     "text": [
      "sanju sanju@fmail.com\n"
     ]
    }
   ],
   "source": [
    "kk.student_details()"
   ]
  },
  {
   "cell_type": "code",
   "execution_count": 19,
   "id": "c22bed87",
   "metadata": {},
   "outputs": [],
   "source": [
    "class pwskills2:\n",
    "    \n",
    "    mobile_number = 9843827477\n",
    "    \n",
    "    def __init__(self, name, email):\n",
    "        \n",
    "        self.name = name\n",
    "        self.email = email\n",
    "    \n",
    "    @classmethod\n",
    "    \n",
    "    def change_number(cls, mobile):\n",
    "        pwskills2.mobile_number = mobile\n",
    "        \n",
    "    \n",
    "    @classmethod\n",
    "    def details(cls, name1, email1):\n",
    "        return cls(name1, email1)\n",
    "    \n",
    "    def student_details(self):\n",
    "        print(self.name, self.email, pwskills2.mobile_number)"
   ]
  },
  {
   "cell_type": "code",
   "execution_count": 32,
   "id": "5a57ed7a",
   "metadata": {},
   "outputs": [
    {
     "data": {
      "text/plain": [
       "9843827477"
      ]
     },
     "execution_count": 32,
     "metadata": {},
     "output_type": "execute_result"
    }
   ],
   "source": [
    "pwskills2.mobile_number"
   ]
  },
  {
   "cell_type": "code",
   "execution_count": 29,
   "id": "71425efa",
   "metadata": {},
   "outputs": [],
   "source": [
    "pw3=pwskills2.details(\"sanju\", \"sanju@gmail.com\")"
   ]
  },
  {
   "cell_type": "code",
   "execution_count": 30,
   "id": "28f50330",
   "metadata": {},
   "outputs": [
    {
     "name": "stdout",
     "output_type": "stream",
     "text": [
      "sanju sanju@gmail.com 9843827477\n"
     ]
    }
   ],
   "source": [
    "pw3.student_details()"
   ]
  },
  {
   "cell_type": "code",
   "execution_count": 33,
   "id": "b83b18d1",
   "metadata": {},
   "outputs": [],
   "source": [
    "pwskills2.change_number(90428953233)"
   ]
  },
  {
   "cell_type": "code",
   "execution_count": 34,
   "id": "ea08d4a7",
   "metadata": {},
   "outputs": [
    {
     "data": {
      "text/plain": [
       "90428953233"
      ]
     },
     "execution_count": 34,
     "metadata": {},
     "output_type": "execute_result"
    }
   ],
   "source": [
    "pwskills2.mobile_number"
   ]
  },
  {
   "cell_type": "code",
   "execution_count": 36,
   "id": "edc25b6b",
   "metadata": {},
   "outputs": [],
   "source": [
    "pw3_obj = pwskills2(\"shusanth\", \"shusanth@gmail\")"
   ]
  },
  {
   "cell_type": "code",
   "execution_count": 37,
   "id": "2cc2e3ac",
   "metadata": {},
   "outputs": [
    {
     "data": {
      "text/plain": [
       "'shusanth'"
      ]
     },
     "execution_count": 37,
     "metadata": {},
     "output_type": "execute_result"
    }
   ],
   "source": [
    "pw3_obj.name"
   ]
  },
  {
   "cell_type": "markdown",
   "id": "b3f28f21",
   "metadata": {},
   "source": [
    "### adding function to the existing class"
   ]
  },
  {
   "cell_type": "code",
   "execution_count": 20,
   "id": "1f92f7ed",
   "metadata": {},
   "outputs": [],
   "source": [
    "def course_details(cls, course_name):\n",
    "    print(\"course Name\", course_name)"
   ]
  },
  {
   "cell_type": "code",
   "execution_count": 21,
   "id": "66738fd2",
   "metadata": {},
   "outputs": [],
   "source": [
    "pwskills2.course_details = classmethod(course_details)"
   ]
  },
  {
   "cell_type": "code",
   "execution_count": 22,
   "id": "0fbfe6fe",
   "metadata": {},
   "outputs": [
    {
     "name": "stdout",
     "output_type": "stream",
     "text": [
      "course Name datascience\n"
     ]
    }
   ],
   "source": [
    "pwskills2.course_details(\"datascience\")"
   ]
  },
  {
   "cell_type": "code",
   "execution_count": 25,
   "id": "01ba9532",
   "metadata": {},
   "outputs": [
    {
     "name": "stdout",
     "output_type": "stream",
     "text": [
      "course Name datascience\n"
     ]
    }
   ],
   "source": [
    "pw4 = pwskills2.course_details(\"datascience\")"
   ]
  },
  {
   "cell_type": "markdown",
   "id": "fb137be8",
   "metadata": {},
   "source": [
    "### Delete function "
   ]
  },
  {
   "cell_type": "code",
   "execution_count": 26,
   "id": "761454b1",
   "metadata": {},
   "outputs": [],
   "source": [
    "del pwskills2.change_number"
   ]
  },
  {
   "cell_type": "code",
   "execution_count": 28,
   "id": "72a1405c",
   "metadata": {},
   "outputs": [],
   "source": [
    "delattr(pwskills2, \"course_details\")"
   ]
  },
  {
   "cell_type": "code",
   "execution_count": 29,
   "id": "089ba959",
   "metadata": {},
   "outputs": [],
   "source": [
    "delattr(pwskills2, \"mobile_number\")"
   ]
  },
  {
   "cell_type": "code",
   "execution_count": null,
   "id": "4236f905",
   "metadata": {},
   "outputs": [],
   "source": []
  },
  {
   "cell_type": "markdown",
   "id": "56099cca",
   "metadata": {},
   "source": [
    "## Static Method "
   ]
  },
  {
   "cell_type": "code",
   "execution_count": 1,
   "id": "fc392073",
   "metadata": {},
   "outputs": [],
   "source": [
    "class car_details:\n",
    "    def car_specs(self, name, model, year):\n",
    "        print(name, model, year)"
   ]
  },
  {
   "cell_type": "code",
   "execution_count": 2,
   "id": "b860d4f0",
   "metadata": {},
   "outputs": [],
   "source": [
    "kk = car_details()"
   ]
  },
  {
   "cell_type": "code",
   "execution_count": 3,
   "id": "ed9bd823",
   "metadata": {},
   "outputs": [
    {
     "name": "stdout",
     "output_type": "stream",
     "text": [
      "Scross S 2018\n"
     ]
    }
   ],
   "source": [
    "kk.car_specs(\"Scross\", 'S', 2018)"
   ]
  },
  {
   "cell_type": "code",
   "execution_count": 38,
   "id": "5e97aa9c",
   "metadata": {},
   "outputs": [],
   "source": [
    "class car_details1:\n",
    "    def car_specs(self, name, model, year):\n",
    "        print(name, model, year)\n",
    "        \n",
    "    @staticmethod\n",
    "    \n",
    "    def owners_mail_Id(email_id):\n",
    "        print(email_id)\n",
    "        \n",
    "    @staticmethod\n",
    "    \n",
    "    def owners(owner_lst):\n",
    "        print(owner_lst)\n",
    "        car_details1.owners_mail_Id([\"sanju@gmail.com\", \"nandhu@gmail.com\"])\n",
    "        \n",
    "    @classmethod\n",
    "    \n",
    "    def class_name(cls, class_name):\n",
    "        cls.owners([\"sanju\", \"nandhu\"])\n",
    "        \n",
    "    def owners_details(self, owners_lst1):\n",
    "        print(owners_lst1)\n",
    "        self.owners([\"sanju\", \"nandhu\"])"
   ]
  },
  {
   "cell_type": "code",
   "execution_count": 39,
   "id": "024577ca",
   "metadata": {},
   "outputs": [
    {
     "name": "stdout",
     "output_type": "stream",
     "text": [
      "['Sanju', 'Nandhu']\n",
      "['sanju@gmail.com', 'nandhu@gmail.com']\n"
     ]
    }
   ],
   "source": [
    "car_details1.owners([\"Sanju\", \"Nandhu\"])"
   ]
  },
  {
   "cell_type": "code",
   "execution_count": 40,
   "id": "72b1fc68",
   "metadata": {},
   "outputs": [],
   "source": [
    "QQ = car_details1()"
   ]
  },
  {
   "cell_type": "code",
   "execution_count": 41,
   "id": "4a13ff21",
   "metadata": {},
   "outputs": [
    {
     "name": "stdout",
     "output_type": "stream",
     "text": [
      "Innova C 2019\n"
     ]
    }
   ],
   "source": [
    "QQ.car_specs(\"Innova\", \"C\", 2019)"
   ]
  },
  {
   "cell_type": "code",
   "execution_count": 42,
   "id": "5ebcb1ef",
   "metadata": {},
   "outputs": [
    {
     "name": "stdout",
     "output_type": "stream",
     "text": [
      "['sanju@gmail.com', 'nandhu@gmail.com']\n"
     ]
    }
   ],
   "source": [
    "QQ.owners_mail_Id([\"sanju@gmail.com\", \"nandhu@gmail.com\"])"
   ]
  },
  {
   "cell_type": "code",
   "execution_count": 43,
   "id": "89d06a89",
   "metadata": {},
   "outputs": [
    {
     "name": "stdout",
     "output_type": "stream",
     "text": [
      "['sanju', 'nandhu']\n",
      "['sanju@gmail.com', 'nandhu@gmail.com']\n"
     ]
    }
   ],
   "source": [
    "QQ.class_name(\"Car details\")"
   ]
  },
  {
   "cell_type": "code",
   "execution_count": 45,
   "id": "8dc01ab3",
   "metadata": {},
   "outputs": [
    {
     "name": "stdout",
     "output_type": "stream",
     "text": [
      "['Sanju', 'Nandhu']\n",
      "['sanju', 'nandhu']\n",
      "['sanju@gmail.com', 'nandhu@gmail.com']\n"
     ]
    }
   ],
   "source": [
    "QQ.owners_details([\"Sanju\", \"Nandhu\"])"
   ]
  },
  {
   "cell_type": "code",
   "execution_count": 46,
   "id": "9aa95038",
   "metadata": {},
   "outputs": [
    {
     "name": "stdout",
     "output_type": "stream",
     "text": [
      "['sanju@gmail.com', 'nandhu@gmail.com']\n"
     ]
    }
   ],
   "source": [
    "car_details1.owners_mail_Id([\"sanju@gmail.com\", \"nandhu@gmail.com\"])"
   ]
  },
  {
   "cell_type": "code",
   "execution_count": 47,
   "id": "5ca1145c",
   "metadata": {},
   "outputs": [
    {
     "name": "stdout",
     "output_type": "stream",
     "text": [
      "['sanju', 'nandhu']\n",
      "['sanju@gmail.com', 'nandhu@gmail.com']\n"
     ]
    }
   ],
   "source": [
    "car_details1.class_name(\"Car details\")"
   ]
  },
  {
   "cell_type": "code",
   "execution_count": null,
   "id": "6e34e28d",
   "metadata": {},
   "outputs": [],
   "source": []
  },
  {
   "cell_type": "code",
   "execution_count": null,
   "id": "dc0fb33e",
   "metadata": {},
   "outputs": [],
   "source": []
  },
  {
   "cell_type": "code",
   "execution_count": null,
   "id": "dcb6615e",
   "metadata": {},
   "outputs": [],
   "source": []
  }
 ],
 "metadata": {
  "kernelspec": {
   "display_name": "Python 3 (ipykernel)",
   "language": "python",
   "name": "python3"
  },
  "language_info": {
   "codemirror_mode": {
    "name": "ipython",
    "version": 3
   },
   "file_extension": ".py",
   "mimetype": "text/x-python",
   "name": "python",
   "nbconvert_exporter": "python",
   "pygments_lexer": "ipython3",
   "version": "3.9.13"
  }
 },
 "nbformat": 4,
 "nbformat_minor": 5
}
