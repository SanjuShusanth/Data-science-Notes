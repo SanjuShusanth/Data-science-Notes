{
 "cells": [
  {
   "cell_type": "markdown",
   "id": "21c2f4a5",
   "metadata": {},
   "source": [
    "#### 1. Consider following code to answer further questions:\n",
    "\n",
    "import pandas as pd\n",
    "\n",
    "course_name = [‘Data Science’, ‘Machine Learning’, ‘Big Data’, ‘Data Engineer’]\n",
    "\n",
    "duration =  [2,3,6,4]\n",
    "\n",
    "df = pd.DataFrame(data = {‘course_name’ : course_name, ‘duration’ : duration})\n",
    "Q1. Write a code to print the data present in the second row of the dataframe, df."
   ]
  },
  {
   "cell_type": "code",
   "execution_count": 1,
   "id": "4929b6a7",
   "metadata": {},
   "outputs": [],
   "source": [
    "import pandas as pd"
   ]
  },
  {
   "cell_type": "code",
   "execution_count": 2,
   "id": "43db2a38",
   "metadata": {},
   "outputs": [],
   "source": [
    "course_name = [\"Data Science\", \"Machine Learning\", \"Big data\", 'Data Engineer']\n",
    "\n",
    "duration = [2,3,6,4]"
   ]
  },
  {
   "cell_type": "code",
   "execution_count": 3,
   "id": "69101149",
   "metadata": {},
   "outputs": [],
   "source": [
    "df = pd.DataFrame(data = {\"course_name\" : course_name, \"duration\" : duration})"
   ]
  },
  {
   "cell_type": "code",
   "execution_count": 4,
   "id": "475c1d10",
   "metadata": {},
   "outputs": [
    {
     "data": {
      "text/html": [
       "<div>\n",
       "<style scoped>\n",
       "    .dataframe tbody tr th:only-of-type {\n",
       "        vertical-align: middle;\n",
       "    }\n",
       "\n",
       "    .dataframe tbody tr th {\n",
       "        vertical-align: top;\n",
       "    }\n",
       "\n",
       "    .dataframe thead th {\n",
       "        text-align: right;\n",
       "    }\n",
       "</style>\n",
       "<table border=\"1\" class=\"dataframe\">\n",
       "  <thead>\n",
       "    <tr style=\"text-align: right;\">\n",
       "      <th></th>\n",
       "      <th>course_name</th>\n",
       "      <th>duration</th>\n",
       "    </tr>\n",
       "  </thead>\n",
       "  <tbody>\n",
       "    <tr>\n",
       "      <th>0</th>\n",
       "      <td>Data Science</td>\n",
       "      <td>2</td>\n",
       "    </tr>\n",
       "    <tr>\n",
       "      <th>1</th>\n",
       "      <td>Machine Learning</td>\n",
       "      <td>3</td>\n",
       "    </tr>\n",
       "    <tr>\n",
       "      <th>2</th>\n",
       "      <td>Big data</td>\n",
       "      <td>6</td>\n",
       "    </tr>\n",
       "    <tr>\n",
       "      <th>3</th>\n",
       "      <td>Data Engineer</td>\n",
       "      <td>4</td>\n",
       "    </tr>\n",
       "  </tbody>\n",
       "</table>\n",
       "</div>"
      ],
      "text/plain": [
       "        course_name  duration\n",
       "0      Data Science         2\n",
       "1  Machine Learning         3\n",
       "2          Big data         6\n",
       "3     Data Engineer         4"
      ]
     },
     "execution_count": 4,
     "metadata": {},
     "output_type": "execute_result"
    }
   ],
   "source": [
    "df"
   ]
  },
  {
   "cell_type": "code",
   "execution_count": 5,
   "id": "64d2c515",
   "metadata": {},
   "outputs": [
    {
     "data": {
      "text/plain": [
       "course_name    Big data\n",
       "duration              6\n",
       "Name: 2, dtype: object"
      ]
     },
     "execution_count": 5,
     "metadata": {},
     "output_type": "execute_result"
    }
   ],
   "source": [
    "df.iloc[2]"
   ]
  },
  {
   "cell_type": "code",
   "execution_count": null,
   "id": "f0f9f93c",
   "metadata": {},
   "outputs": [],
   "source": []
  },
  {
   "cell_type": "markdown",
   "id": "f29cc9fb",
   "metadata": {},
   "source": [
    "####  2.What is the difference between the functions loc and iloc in pandas.DataFrame?"
   ]
  },
  {
   "cell_type": "markdown",
   "id": "efb5c820",
   "metadata": {},
   "source": [
    "* `loc` and `iloc` both the functions are used to slice a dataset in the Pandas DataFrame.\n",
    "\n",
    "* Where `loc` function is used to access label indexing it can access multiple columns.\n",
    "\n",
    "* `iloc` function is used to access integer indexing."
   ]
  },
  {
   "cell_type": "markdown",
   "id": "1b9da5b8",
   "metadata": {},
   "source": [
    "#### 3. Reindex the given dataframe using a variable, reindex = [3,0,1,2] and store it in the variable, new_df then find the output for both new_df.loc[2] and new_df.iloc[2]."
   ]
  },
  {
   "cell_type": "code",
   "execution_count": 6,
   "id": "8e1540f1",
   "metadata": {},
   "outputs": [],
   "source": [
    "#### Did you observe any difference in both the outputs? If so then explain it.\n",
    "\n",
    "# Consider the below code to answer further questions:\n",
    "import pandas as pd\n",
    "\n",
    "import numpy as np\n",
    "\n",
    "columns = ['column_1', 'column_2', 'column_3', 'column_4', 'column_5', 'column_6']\n",
    "\n",
    "indices = [1,2,3,4,5,6]\n",
    "\n",
    "#Creating a dataframe:\n",
    "\n",
    "df1 = pd.DataFrame(np.random.rand(6,6), columns = columns, index = indices)\n"
   ]
  },
  {
   "cell_type": "code",
   "execution_count": 7,
   "id": "c537b03f",
   "metadata": {},
   "outputs": [],
   "source": [
    "df2 = df1.reindex(index = [3,0,1,2])"
   ]
  },
  {
   "cell_type": "code",
   "execution_count": 8,
   "id": "163f9bef",
   "metadata": {},
   "outputs": [
    {
     "data": {
      "text/html": [
       "<div>\n",
       "<style scoped>\n",
       "    .dataframe tbody tr th:only-of-type {\n",
       "        vertical-align: middle;\n",
       "    }\n",
       "\n",
       "    .dataframe tbody tr th {\n",
       "        vertical-align: top;\n",
       "    }\n",
       "\n",
       "    .dataframe thead th {\n",
       "        text-align: right;\n",
       "    }\n",
       "</style>\n",
       "<table border=\"1\" class=\"dataframe\">\n",
       "  <thead>\n",
       "    <tr style=\"text-align: right;\">\n",
       "      <th></th>\n",
       "      <th>column_1</th>\n",
       "      <th>column_2</th>\n",
       "      <th>column_3</th>\n",
       "      <th>column_4</th>\n",
       "      <th>column_5</th>\n",
       "      <th>column_6</th>\n",
       "    </tr>\n",
       "  </thead>\n",
       "  <tbody>\n",
       "    <tr>\n",
       "      <th>3</th>\n",
       "      <td>0.896188</td>\n",
       "      <td>0.013494</td>\n",
       "      <td>0.828145</td>\n",
       "      <td>0.677546</td>\n",
       "      <td>0.341791</td>\n",
       "      <td>0.540262</td>\n",
       "    </tr>\n",
       "    <tr>\n",
       "      <th>0</th>\n",
       "      <td>NaN</td>\n",
       "      <td>NaN</td>\n",
       "      <td>NaN</td>\n",
       "      <td>NaN</td>\n",
       "      <td>NaN</td>\n",
       "      <td>NaN</td>\n",
       "    </tr>\n",
       "    <tr>\n",
       "      <th>1</th>\n",
       "      <td>0.521179</td>\n",
       "      <td>0.507997</td>\n",
       "      <td>0.907388</td>\n",
       "      <td>0.700932</td>\n",
       "      <td>0.425055</td>\n",
       "      <td>0.696157</td>\n",
       "    </tr>\n",
       "    <tr>\n",
       "      <th>2</th>\n",
       "      <td>0.261898</td>\n",
       "      <td>0.192336</td>\n",
       "      <td>0.968469</td>\n",
       "      <td>0.380830</td>\n",
       "      <td>0.209008</td>\n",
       "      <td>0.361158</td>\n",
       "    </tr>\n",
       "  </tbody>\n",
       "</table>\n",
       "</div>"
      ],
      "text/plain": [
       "   column_1  column_2  column_3  column_4  column_5  column_6\n",
       "3  0.896188  0.013494  0.828145  0.677546  0.341791  0.540262\n",
       "0       NaN       NaN       NaN       NaN       NaN       NaN\n",
       "1  0.521179  0.507997  0.907388  0.700932  0.425055  0.696157\n",
       "2  0.261898  0.192336  0.968469  0.380830  0.209008  0.361158"
      ]
     },
     "execution_count": 8,
     "metadata": {},
     "output_type": "execute_result"
    }
   ],
   "source": [
    "df2"
   ]
  },
  {
   "cell_type": "code",
   "execution_count": 9,
   "id": "c02e2e6f",
   "metadata": {},
   "outputs": [
    {
     "data": {
      "text/plain": [
       "column_1    0.261898\n",
       "column_2    0.192336\n",
       "column_3    0.968469\n",
       "column_4    0.380830\n",
       "column_5    0.209008\n",
       "column_6    0.361158\n",
       "Name: 2, dtype: float64"
      ]
     },
     "execution_count": 9,
     "metadata": {},
     "output_type": "execute_result"
    }
   ],
   "source": [
    "df2.loc[2]"
   ]
  },
  {
   "cell_type": "code",
   "execution_count": 10,
   "id": "b66cbac5",
   "metadata": {},
   "outputs": [
    {
     "data": {
      "text/plain": [
       "column_1    0.521179\n",
       "column_2    0.507997\n",
       "column_3    0.907388\n",
       "column_4    0.700932\n",
       "column_5    0.425055\n",
       "column_6    0.696157\n",
       "Name: 1, dtype: float64"
      ]
     },
     "execution_count": 10,
     "metadata": {},
     "output_type": "execute_result"
    }
   ],
   "source": [
    "df2.iloc[2]"
   ]
  },
  {
   "cell_type": "markdown",
   "id": "66c4e940",
   "metadata": {},
   "source": [
    "`df2.loc[2]` function slices the coresponding index position it returns the values index position 2 but `df2.iloc[2]` function it performes the slicing operation till 2nd position but not 2nd position. It is same as the slicing operation in python."
   ]
  },
  {
   "cell_type": "code",
   "execution_count": null,
   "id": "62d1dd7e",
   "metadata": {},
   "outputs": [],
   "source": []
  },
  {
   "cell_type": "markdown",
   "id": "4cb90cd1",
   "metadata": {},
   "source": [
    "#### Q4. Write a code to find the following statistical measurements for the above dataframe df1:\n",
    "\n",
    "(i) mean of each and every column present in the dataframe.\n",
    "\n",
    "(ii) standard deviation of column, ‘column_2"
   ]
  },
  {
   "cell_type": "code",
   "execution_count": 11,
   "id": "2232c980",
   "metadata": {},
   "outputs": [
    {
     "data": {
      "text/html": [
       "<div>\n",
       "<style scoped>\n",
       "    .dataframe tbody tr th:only-of-type {\n",
       "        vertical-align: middle;\n",
       "    }\n",
       "\n",
       "    .dataframe tbody tr th {\n",
       "        vertical-align: top;\n",
       "    }\n",
       "\n",
       "    .dataframe thead th {\n",
       "        text-align: right;\n",
       "    }\n",
       "</style>\n",
       "<table border=\"1\" class=\"dataframe\">\n",
       "  <thead>\n",
       "    <tr style=\"text-align: right;\">\n",
       "      <th></th>\n",
       "      <th>column_1</th>\n",
       "      <th>column_2</th>\n",
       "      <th>column_3</th>\n",
       "      <th>column_4</th>\n",
       "      <th>column_5</th>\n",
       "      <th>column_6</th>\n",
       "    </tr>\n",
       "  </thead>\n",
       "  <tbody>\n",
       "    <tr>\n",
       "      <th>1</th>\n",
       "      <td>0.521179</td>\n",
       "      <td>0.507997</td>\n",
       "      <td>0.907388</td>\n",
       "      <td>0.700932</td>\n",
       "      <td>0.425055</td>\n",
       "      <td>0.696157</td>\n",
       "    </tr>\n",
       "    <tr>\n",
       "      <th>2</th>\n",
       "      <td>0.261898</td>\n",
       "      <td>0.192336</td>\n",
       "      <td>0.968469</td>\n",
       "      <td>0.380830</td>\n",
       "      <td>0.209008</td>\n",
       "      <td>0.361158</td>\n",
       "    </tr>\n",
       "    <tr>\n",
       "      <th>3</th>\n",
       "      <td>0.896188</td>\n",
       "      <td>0.013494</td>\n",
       "      <td>0.828145</td>\n",
       "      <td>0.677546</td>\n",
       "      <td>0.341791</td>\n",
       "      <td>0.540262</td>\n",
       "    </tr>\n",
       "    <tr>\n",
       "      <th>4</th>\n",
       "      <td>0.350189</td>\n",
       "      <td>0.090807</td>\n",
       "      <td>0.371119</td>\n",
       "      <td>0.228430</td>\n",
       "      <td>0.266705</td>\n",
       "      <td>0.537433</td>\n",
       "    </tr>\n",
       "    <tr>\n",
       "      <th>5</th>\n",
       "      <td>0.517545</td>\n",
       "      <td>0.994911</td>\n",
       "      <td>0.967180</td>\n",
       "      <td>0.060238</td>\n",
       "      <td>0.810664</td>\n",
       "      <td>0.140092</td>\n",
       "    </tr>\n",
       "    <tr>\n",
       "      <th>6</th>\n",
       "      <td>0.615855</td>\n",
       "      <td>0.663831</td>\n",
       "      <td>0.020669</td>\n",
       "      <td>0.059913</td>\n",
       "      <td>0.659458</td>\n",
       "      <td>0.316867</td>\n",
       "    </tr>\n",
       "  </tbody>\n",
       "</table>\n",
       "</div>"
      ],
      "text/plain": [
       "   column_1  column_2  column_3  column_4  column_5  column_6\n",
       "1  0.521179  0.507997  0.907388  0.700932  0.425055  0.696157\n",
       "2  0.261898  0.192336  0.968469  0.380830  0.209008  0.361158\n",
       "3  0.896188  0.013494  0.828145  0.677546  0.341791  0.540262\n",
       "4  0.350189  0.090807  0.371119  0.228430  0.266705  0.537433\n",
       "5  0.517545  0.994911  0.967180  0.060238  0.810664  0.140092\n",
       "6  0.615855  0.663831  0.020669  0.059913  0.659458  0.316867"
      ]
     },
     "execution_count": 11,
     "metadata": {},
     "output_type": "execute_result"
    }
   ],
   "source": [
    "df1"
   ]
  },
  {
   "cell_type": "markdown",
   "id": "b0a214be",
   "metadata": {},
   "source": [
    "#### Mean of entire column"
   ]
  },
  {
   "cell_type": "code",
   "execution_count": 12,
   "id": "66bb5e5e",
   "metadata": {},
   "outputs": [],
   "source": [
    "column_mean =df1.mean()"
   ]
  },
  {
   "cell_type": "code",
   "execution_count": 13,
   "id": "ab058d5e",
   "metadata": {},
   "outputs": [
    {
     "name": "stdout",
     "output_type": "stream",
     "text": [
      "column_1    0.527142\n",
      "column_2    0.410563\n",
      "column_3    0.677162\n",
      "column_4    0.351315\n",
      "column_5    0.452114\n",
      "column_6    0.431995\n",
      "dtype: float64\n"
     ]
    }
   ],
   "source": [
    "print(column_mean)"
   ]
  },
  {
   "cell_type": "markdown",
   "id": "e31774bc",
   "metadata": {},
   "source": [
    "#### Standard Deviation of Column 2"
   ]
  },
  {
   "cell_type": "code",
   "execution_count": 14,
   "id": "8c118b34",
   "metadata": {},
   "outputs": [],
   "source": [
    "Column_std = df1[\"column_2\"].std()"
   ]
  },
  {
   "cell_type": "code",
   "execution_count": 15,
   "id": "87a36ac3",
   "metadata": {},
   "outputs": [
    {
     "data": {
      "text/plain": [
       "0.380166144958421"
      ]
     },
     "execution_count": 15,
     "metadata": {},
     "output_type": "execute_result"
    }
   ],
   "source": [
    "Column_std"
   ]
  },
  {
   "cell_type": "code",
   "execution_count": null,
   "id": "235e1a2a",
   "metadata": {},
   "outputs": [],
   "source": []
  },
  {
   "cell_type": "markdown",
   "id": "eff4f57d",
   "metadata": {},
   "source": [
    "#### Q5. Replace the data present in the second row of column, ‘column_2’ by a string variable then find the mean of column, column_2.\n",
    "\n",
    "If you are getting errors in executing it then explain why.\n",
    "\n",
    "[Hint: To replace the data use df1.loc[] and equate this to string data of your choice.]"
   ]
  },
  {
   "cell_type": "code",
   "execution_count": 16,
   "id": "1a11796f",
   "metadata": {},
   "outputs": [
    {
     "data": {
      "text/html": [
       "<div>\n",
       "<style scoped>\n",
       "    .dataframe tbody tr th:only-of-type {\n",
       "        vertical-align: middle;\n",
       "    }\n",
       "\n",
       "    .dataframe tbody tr th {\n",
       "        vertical-align: top;\n",
       "    }\n",
       "\n",
       "    .dataframe thead th {\n",
       "        text-align: right;\n",
       "    }\n",
       "</style>\n",
       "<table border=\"1\" class=\"dataframe\">\n",
       "  <thead>\n",
       "    <tr style=\"text-align: right;\">\n",
       "      <th></th>\n",
       "      <th>column_1</th>\n",
       "      <th>column_2</th>\n",
       "      <th>column_3</th>\n",
       "      <th>column_4</th>\n",
       "      <th>column_5</th>\n",
       "      <th>column_6</th>\n",
       "    </tr>\n",
       "  </thead>\n",
       "  <tbody>\n",
       "    <tr>\n",
       "      <th>1</th>\n",
       "      <td>0.521179</td>\n",
       "      <td>0.507997</td>\n",
       "      <td>0.907388</td>\n",
       "      <td>0.700932</td>\n",
       "      <td>0.425055</td>\n",
       "      <td>0.696157</td>\n",
       "    </tr>\n",
       "    <tr>\n",
       "      <th>2</th>\n",
       "      <td>0.261898</td>\n",
       "      <td>0.192336</td>\n",
       "      <td>0.968469</td>\n",
       "      <td>0.380830</td>\n",
       "      <td>0.209008</td>\n",
       "      <td>0.361158</td>\n",
       "    </tr>\n",
       "    <tr>\n",
       "      <th>3</th>\n",
       "      <td>0.896188</td>\n",
       "      <td>0.013494</td>\n",
       "      <td>0.828145</td>\n",
       "      <td>0.677546</td>\n",
       "      <td>0.341791</td>\n",
       "      <td>0.540262</td>\n",
       "    </tr>\n",
       "    <tr>\n",
       "      <th>4</th>\n",
       "      <td>0.350189</td>\n",
       "      <td>0.090807</td>\n",
       "      <td>0.371119</td>\n",
       "      <td>0.228430</td>\n",
       "      <td>0.266705</td>\n",
       "      <td>0.537433</td>\n",
       "    </tr>\n",
       "    <tr>\n",
       "      <th>5</th>\n",
       "      <td>0.517545</td>\n",
       "      <td>0.994911</td>\n",
       "      <td>0.967180</td>\n",
       "      <td>0.060238</td>\n",
       "      <td>0.810664</td>\n",
       "      <td>0.140092</td>\n",
       "    </tr>\n",
       "    <tr>\n",
       "      <th>6</th>\n",
       "      <td>0.615855</td>\n",
       "      <td>0.663831</td>\n",
       "      <td>0.020669</td>\n",
       "      <td>0.059913</td>\n",
       "      <td>0.659458</td>\n",
       "      <td>0.316867</td>\n",
       "    </tr>\n",
       "  </tbody>\n",
       "</table>\n",
       "</div>"
      ],
      "text/plain": [
       "   column_1  column_2  column_3  column_4  column_5  column_6\n",
       "1  0.521179  0.507997  0.907388  0.700932  0.425055  0.696157\n",
       "2  0.261898  0.192336  0.968469  0.380830  0.209008  0.361158\n",
       "3  0.896188  0.013494  0.828145  0.677546  0.341791  0.540262\n",
       "4  0.350189  0.090807  0.371119  0.228430  0.266705  0.537433\n",
       "5  0.517545  0.994911  0.967180  0.060238  0.810664  0.140092\n",
       "6  0.615855  0.663831  0.020669  0.059913  0.659458  0.316867"
      ]
     },
     "execution_count": 16,
     "metadata": {},
     "output_type": "execute_result"
    }
   ],
   "source": [
    "df1"
   ]
  },
  {
   "cell_type": "code",
   "execution_count": 17,
   "id": "8d60d948",
   "metadata": {},
   "outputs": [
    {
     "data": {
      "text/plain": [
       "column_1    float64\n",
       "column_2    float64\n",
       "column_3    float64\n",
       "column_4    float64\n",
       "column_5    float64\n",
       "column_6    float64\n",
       "dtype: object"
      ]
     },
     "execution_count": 17,
     "metadata": {},
     "output_type": "execute_result"
    }
   ],
   "source": [
    "df1.dtypes"
   ]
  },
  {
   "cell_type": "markdown",
   "id": "6869ecf9",
   "metadata": {},
   "source": [
    "#### Explanation"
   ]
  },
  {
   "cell_type": "markdown",
   "id": "90c90804",
   "metadata": {},
   "source": [
    "* When i replace a value in any column of the dataset to a string. Mean function cannot be executed, why because in `df1.dtypes` we can see that most of the values are in float64 when you replace float with an object we can't perform mean(Because of the unsupported operant types), All the datatype should be similar.\n",
    "\n",
    "* That why we encounter an error in 19th cell"
   ]
  },
  {
   "cell_type": "markdown",
   "id": "21bf1fc5",
   "metadata": {},
   "source": [
    "#### Solution"
   ]
  },
  {
   "cell_type": "code",
   "execution_count": 18,
   "id": "40e91983",
   "metadata": {},
   "outputs": [],
   "source": [
    "df1.loc[2, \"column_2\"] = \"0.618393\" # Replacing it to a string value"
   ]
  },
  {
   "cell_type": "code",
   "execution_count": 19,
   "id": "dd7d7327",
   "metadata": {},
   "outputs": [
    {
     "ename": "TypeError",
     "evalue": "unsupported operand type(s) for +: 'float' and 'str'",
     "output_type": "error",
     "traceback": [
      "\u001b[1;31m---------------------------------------------------------------------------\u001b[0m",
      "\u001b[1;31mTypeError\u001b[0m                                 Traceback (most recent call last)",
      "Cell \u001b[1;32mIn[19], line 1\u001b[0m\n\u001b[1;32m----> 1\u001b[0m \u001b[43mdf1\u001b[49m\u001b[43m[\u001b[49m\u001b[38;5;124;43m\"\u001b[39;49m\u001b[38;5;124;43mcolumn_2\u001b[39;49m\u001b[38;5;124;43m\"\u001b[39;49m\u001b[43m]\u001b[49m\u001b[38;5;241;43m.\u001b[39;49m\u001b[43mmean\u001b[49m\u001b[43m(\u001b[49m\u001b[43m)\u001b[49m\n",
      "File \u001b[1;32m~\\anaconda3\\lib\\site-packages\\pandas\\core\\generic.py:11847\u001b[0m, in \u001b[0;36mNDFrame._add_numeric_operations.<locals>.mean\u001b[1;34m(self, axis, skipna, level, numeric_only, **kwargs)\u001b[0m\n\u001b[0;32m  11829\u001b[0m \u001b[38;5;129m@doc\u001b[39m(\n\u001b[0;32m  11830\u001b[0m     _num_doc,\n\u001b[0;32m  11831\u001b[0m     desc\u001b[38;5;241m=\u001b[39m\u001b[38;5;124m\"\u001b[39m\u001b[38;5;124mReturn the mean of the values over the requested axis.\u001b[39m\u001b[38;5;124m\"\u001b[39m,\n\u001b[1;32m   (...)\u001b[0m\n\u001b[0;32m  11845\u001b[0m     \u001b[38;5;241m*\u001b[39m\u001b[38;5;241m*\u001b[39mkwargs,\n\u001b[0;32m  11846\u001b[0m ):\n\u001b[1;32m> 11847\u001b[0m     \u001b[38;5;28;01mreturn\u001b[39;00m NDFrame\u001b[38;5;241m.\u001b[39mmean(\u001b[38;5;28mself\u001b[39m, axis, skipna, level, numeric_only, \u001b[38;5;241m*\u001b[39m\u001b[38;5;241m*\u001b[39mkwargs)\n",
      "File \u001b[1;32m~\\anaconda3\\lib\\site-packages\\pandas\\core\\generic.py:11401\u001b[0m, in \u001b[0;36mNDFrame.mean\u001b[1;34m(self, axis, skipna, level, numeric_only, **kwargs)\u001b[0m\n\u001b[0;32m  11393\u001b[0m \u001b[38;5;28;01mdef\u001b[39;00m \u001b[38;5;21mmean\u001b[39m(\n\u001b[0;32m  11394\u001b[0m     \u001b[38;5;28mself\u001b[39m,\n\u001b[0;32m  11395\u001b[0m     axis: Axis \u001b[38;5;241m|\u001b[39m \u001b[38;5;28;01mNone\u001b[39;00m \u001b[38;5;241m|\u001b[39m lib\u001b[38;5;241m.\u001b[39mNoDefault \u001b[38;5;241m=\u001b[39m lib\u001b[38;5;241m.\u001b[39mno_default,\n\u001b[1;32m   (...)\u001b[0m\n\u001b[0;32m  11399\u001b[0m     \u001b[38;5;241m*\u001b[39m\u001b[38;5;241m*\u001b[39mkwargs,\n\u001b[0;32m  11400\u001b[0m ) \u001b[38;5;241m-\u001b[39m\u001b[38;5;241m>\u001b[39m Series \u001b[38;5;241m|\u001b[39m \u001b[38;5;28mfloat\u001b[39m:\n\u001b[1;32m> 11401\u001b[0m     \u001b[38;5;28;01mreturn\u001b[39;00m \u001b[38;5;28mself\u001b[39m\u001b[38;5;241m.\u001b[39m_stat_function(\n\u001b[0;32m  11402\u001b[0m         \u001b[38;5;124m\"\u001b[39m\u001b[38;5;124mmean\u001b[39m\u001b[38;5;124m\"\u001b[39m, nanops\u001b[38;5;241m.\u001b[39mnanmean, axis, skipna, level, numeric_only, \u001b[38;5;241m*\u001b[39m\u001b[38;5;241m*\u001b[39mkwargs\n\u001b[0;32m  11403\u001b[0m     )\n",
      "File \u001b[1;32m~\\anaconda3\\lib\\site-packages\\pandas\\core\\generic.py:11353\u001b[0m, in \u001b[0;36mNDFrame._stat_function\u001b[1;34m(self, name, func, axis, skipna, level, numeric_only, **kwargs)\u001b[0m\n\u001b[0;32m  11343\u001b[0m     warnings\u001b[38;5;241m.\u001b[39mwarn(\n\u001b[0;32m  11344\u001b[0m         \u001b[38;5;124m\"\u001b[39m\u001b[38;5;124mUsing the level keyword in DataFrame and Series aggregations is \u001b[39m\u001b[38;5;124m\"\u001b[39m\n\u001b[0;32m  11345\u001b[0m         \u001b[38;5;124m\"\u001b[39m\u001b[38;5;124mdeprecated and will be removed in a future version. Use groupby \u001b[39m\u001b[38;5;124m\"\u001b[39m\n\u001b[1;32m   (...)\u001b[0m\n\u001b[0;32m  11348\u001b[0m         stacklevel\u001b[38;5;241m=\u001b[39mfind_stack_level(),\n\u001b[0;32m  11349\u001b[0m     )\n\u001b[0;32m  11350\u001b[0m     \u001b[38;5;28;01mreturn\u001b[39;00m \u001b[38;5;28mself\u001b[39m\u001b[38;5;241m.\u001b[39m_agg_by_level(\n\u001b[0;32m  11351\u001b[0m         name, axis\u001b[38;5;241m=\u001b[39maxis, level\u001b[38;5;241m=\u001b[39mlevel, skipna\u001b[38;5;241m=\u001b[39mskipna, numeric_only\u001b[38;5;241m=\u001b[39mnumeric_only\n\u001b[0;32m  11352\u001b[0m     )\n\u001b[1;32m> 11353\u001b[0m \u001b[38;5;28;01mreturn\u001b[39;00m \u001b[38;5;28;43mself\u001b[39;49m\u001b[38;5;241;43m.\u001b[39;49m\u001b[43m_reduce\u001b[49m\u001b[43m(\u001b[49m\n\u001b[0;32m  11354\u001b[0m \u001b[43m    \u001b[49m\u001b[43mfunc\u001b[49m\u001b[43m,\u001b[49m\u001b[43m \u001b[49m\u001b[43mname\u001b[49m\u001b[38;5;241;43m=\u001b[39;49m\u001b[43mname\u001b[49m\u001b[43m,\u001b[49m\u001b[43m \u001b[49m\u001b[43maxis\u001b[49m\u001b[38;5;241;43m=\u001b[39;49m\u001b[43maxis\u001b[49m\u001b[43m,\u001b[49m\u001b[43m \u001b[49m\u001b[43mskipna\u001b[49m\u001b[38;5;241;43m=\u001b[39;49m\u001b[43mskipna\u001b[49m\u001b[43m,\u001b[49m\u001b[43m \u001b[49m\u001b[43mnumeric_only\u001b[49m\u001b[38;5;241;43m=\u001b[39;49m\u001b[43mnumeric_only\u001b[49m\n\u001b[0;32m  11355\u001b[0m \u001b[43m\u001b[49m\u001b[43m)\u001b[49m\n",
      "File \u001b[1;32m~\\anaconda3\\lib\\site-packages\\pandas\\core\\series.py:4816\u001b[0m, in \u001b[0;36mSeries._reduce\u001b[1;34m(self, op, name, axis, skipna, numeric_only, filter_type, **kwds)\u001b[0m\n\u001b[0;32m   4812\u001b[0m     \u001b[38;5;28;01mraise\u001b[39;00m \u001b[38;5;167;01mNotImplementedError\u001b[39;00m(\n\u001b[0;32m   4813\u001b[0m         \u001b[38;5;124mf\u001b[39m\u001b[38;5;124m\"\u001b[39m\u001b[38;5;124mSeries.\u001b[39m\u001b[38;5;132;01m{\u001b[39;00mname\u001b[38;5;132;01m}\u001b[39;00m\u001b[38;5;124m does not implement \u001b[39m\u001b[38;5;132;01m{\u001b[39;00mkwd_name\u001b[38;5;132;01m}\u001b[39;00m\u001b[38;5;124m.\u001b[39m\u001b[38;5;124m\"\u001b[39m\n\u001b[0;32m   4814\u001b[0m     )\n\u001b[0;32m   4815\u001b[0m \u001b[38;5;28;01mwith\u001b[39;00m np\u001b[38;5;241m.\u001b[39merrstate(\u001b[38;5;28mall\u001b[39m\u001b[38;5;241m=\u001b[39m\u001b[38;5;124m\"\u001b[39m\u001b[38;5;124mignore\u001b[39m\u001b[38;5;124m\"\u001b[39m):\n\u001b[1;32m-> 4816\u001b[0m     \u001b[38;5;28;01mreturn\u001b[39;00m op(delegate, skipna\u001b[38;5;241m=\u001b[39mskipna, \u001b[38;5;241m*\u001b[39m\u001b[38;5;241m*\u001b[39mkwds)\n",
      "File \u001b[1;32m~\\anaconda3\\lib\\site-packages\\pandas\\core\\nanops.py:93\u001b[0m, in \u001b[0;36mdisallow.__call__.<locals>._f\u001b[1;34m(*args, **kwargs)\u001b[0m\n\u001b[0;32m     91\u001b[0m \u001b[38;5;28;01mtry\u001b[39;00m:\n\u001b[0;32m     92\u001b[0m     \u001b[38;5;28;01mwith\u001b[39;00m np\u001b[38;5;241m.\u001b[39merrstate(invalid\u001b[38;5;241m=\u001b[39m\u001b[38;5;124m\"\u001b[39m\u001b[38;5;124mignore\u001b[39m\u001b[38;5;124m\"\u001b[39m):\n\u001b[1;32m---> 93\u001b[0m         \u001b[38;5;28;01mreturn\u001b[39;00m f(\u001b[38;5;241m*\u001b[39margs, \u001b[38;5;241m*\u001b[39m\u001b[38;5;241m*\u001b[39mkwargs)\n\u001b[0;32m     94\u001b[0m \u001b[38;5;28;01mexcept\u001b[39;00m \u001b[38;5;167;01mValueError\u001b[39;00m \u001b[38;5;28;01mas\u001b[39;00m e:\n\u001b[0;32m     95\u001b[0m     \u001b[38;5;66;03m# we want to transform an object array\u001b[39;00m\n\u001b[0;32m     96\u001b[0m     \u001b[38;5;66;03m# ValueError message to the more typical TypeError\u001b[39;00m\n\u001b[0;32m     97\u001b[0m     \u001b[38;5;66;03m# e.g. this is normally a disallowed function on\u001b[39;00m\n\u001b[0;32m     98\u001b[0m     \u001b[38;5;66;03m# object arrays that contain strings\u001b[39;00m\n\u001b[0;32m     99\u001b[0m     \u001b[38;5;28;01mif\u001b[39;00m is_object_dtype(args[\u001b[38;5;241m0\u001b[39m]):\n",
      "File \u001b[1;32m~\\anaconda3\\lib\\site-packages\\pandas\\core\\nanops.py:155\u001b[0m, in \u001b[0;36mbottleneck_switch.__call__.<locals>.f\u001b[1;34m(values, axis, skipna, **kwds)\u001b[0m\n\u001b[0;32m    153\u001b[0m         result \u001b[38;5;241m=\u001b[39m alt(values, axis\u001b[38;5;241m=\u001b[39maxis, skipna\u001b[38;5;241m=\u001b[39mskipna, \u001b[38;5;241m*\u001b[39m\u001b[38;5;241m*\u001b[39mkwds)\n\u001b[0;32m    154\u001b[0m \u001b[38;5;28;01melse\u001b[39;00m:\n\u001b[1;32m--> 155\u001b[0m     result \u001b[38;5;241m=\u001b[39m alt(values, axis\u001b[38;5;241m=\u001b[39maxis, skipna\u001b[38;5;241m=\u001b[39mskipna, \u001b[38;5;241m*\u001b[39m\u001b[38;5;241m*\u001b[39mkwds)\n\u001b[0;32m    157\u001b[0m \u001b[38;5;28;01mreturn\u001b[39;00m result\n",
      "File \u001b[1;32m~\\anaconda3\\lib\\site-packages\\pandas\\core\\nanops.py:418\u001b[0m, in \u001b[0;36m_datetimelike_compat.<locals>.new_func\u001b[1;34m(values, axis, skipna, mask, **kwargs)\u001b[0m\n\u001b[0;32m    415\u001b[0m \u001b[38;5;28;01mif\u001b[39;00m datetimelike \u001b[38;5;129;01mand\u001b[39;00m mask \u001b[38;5;129;01mis\u001b[39;00m \u001b[38;5;28;01mNone\u001b[39;00m:\n\u001b[0;32m    416\u001b[0m     mask \u001b[38;5;241m=\u001b[39m isna(values)\n\u001b[1;32m--> 418\u001b[0m result \u001b[38;5;241m=\u001b[39m func(values, axis\u001b[38;5;241m=\u001b[39maxis, skipna\u001b[38;5;241m=\u001b[39mskipna, mask\u001b[38;5;241m=\u001b[39mmask, \u001b[38;5;241m*\u001b[39m\u001b[38;5;241m*\u001b[39mkwargs)\n\u001b[0;32m    420\u001b[0m \u001b[38;5;28;01mif\u001b[39;00m datetimelike:\n\u001b[0;32m    421\u001b[0m     result \u001b[38;5;241m=\u001b[39m _wrap_results(result, orig_values\u001b[38;5;241m.\u001b[39mdtype, fill_value\u001b[38;5;241m=\u001b[39miNaT)\n",
      "File \u001b[1;32m~\\anaconda3\\lib\\site-packages\\pandas\\core\\nanops.py:706\u001b[0m, in \u001b[0;36mnanmean\u001b[1;34m(values, axis, skipna, mask)\u001b[0m\n\u001b[0;32m    703\u001b[0m     dtype_count \u001b[38;5;241m=\u001b[39m dtype\n\u001b[0;32m    705\u001b[0m count \u001b[38;5;241m=\u001b[39m _get_counts(values\u001b[38;5;241m.\u001b[39mshape, mask, axis, dtype\u001b[38;5;241m=\u001b[39mdtype_count)\n\u001b[1;32m--> 706\u001b[0m the_sum \u001b[38;5;241m=\u001b[39m _ensure_numeric(\u001b[43mvalues\u001b[49m\u001b[38;5;241;43m.\u001b[39;49m\u001b[43msum\u001b[49m\u001b[43m(\u001b[49m\u001b[43maxis\u001b[49m\u001b[43m,\u001b[49m\u001b[43m \u001b[49m\u001b[43mdtype\u001b[49m\u001b[38;5;241;43m=\u001b[39;49m\u001b[43mdtype_sum\u001b[49m\u001b[43m)\u001b[49m)\n\u001b[0;32m    708\u001b[0m \u001b[38;5;28;01mif\u001b[39;00m axis \u001b[38;5;129;01mis\u001b[39;00m \u001b[38;5;129;01mnot\u001b[39;00m \u001b[38;5;28;01mNone\u001b[39;00m \u001b[38;5;129;01mand\u001b[39;00m \u001b[38;5;28mgetattr\u001b[39m(the_sum, \u001b[38;5;124m\"\u001b[39m\u001b[38;5;124mndim\u001b[39m\u001b[38;5;124m\"\u001b[39m, \u001b[38;5;28;01mFalse\u001b[39;00m):\n\u001b[0;32m    709\u001b[0m     count \u001b[38;5;241m=\u001b[39m cast(np\u001b[38;5;241m.\u001b[39mndarray, count)\n",
      "File \u001b[1;32m~\\anaconda3\\lib\\site-packages\\numpy\\core\\_methods.py:49\u001b[0m, in \u001b[0;36m_sum\u001b[1;34m(a, axis, dtype, out, keepdims, initial, where)\u001b[0m\n\u001b[0;32m     47\u001b[0m \u001b[38;5;28;01mdef\u001b[39;00m \u001b[38;5;21m_sum\u001b[39m(a, axis\u001b[38;5;241m=\u001b[39m\u001b[38;5;28;01mNone\u001b[39;00m, dtype\u001b[38;5;241m=\u001b[39m\u001b[38;5;28;01mNone\u001b[39;00m, out\u001b[38;5;241m=\u001b[39m\u001b[38;5;28;01mNone\u001b[39;00m, keepdims\u001b[38;5;241m=\u001b[39m\u001b[38;5;28;01mFalse\u001b[39;00m,\n\u001b[0;32m     48\u001b[0m          initial\u001b[38;5;241m=\u001b[39m_NoValue, where\u001b[38;5;241m=\u001b[39m\u001b[38;5;28;01mTrue\u001b[39;00m):\n\u001b[1;32m---> 49\u001b[0m     \u001b[38;5;28;01mreturn\u001b[39;00m \u001b[43mumr_sum\u001b[49m\u001b[43m(\u001b[49m\u001b[43ma\u001b[49m\u001b[43m,\u001b[49m\u001b[43m \u001b[49m\u001b[43maxis\u001b[49m\u001b[43m,\u001b[49m\u001b[43m \u001b[49m\u001b[43mdtype\u001b[49m\u001b[43m,\u001b[49m\u001b[43m \u001b[49m\u001b[43mout\u001b[49m\u001b[43m,\u001b[49m\u001b[43m \u001b[49m\u001b[43mkeepdims\u001b[49m\u001b[43m,\u001b[49m\u001b[43m \u001b[49m\u001b[43minitial\u001b[49m\u001b[43m,\u001b[49m\u001b[43m \u001b[49m\u001b[43mwhere\u001b[49m\u001b[43m)\u001b[49m\n",
      "\u001b[1;31mTypeError\u001b[0m: unsupported operand type(s) for +: 'float' and 'str'"
     ]
    }
   ],
   "source": [
    "df1[\"column_2\"].mean()"
   ]
  },
  {
   "cell_type": "code",
   "execution_count": null,
   "id": "c4a42da5",
   "metadata": {},
   "outputs": [],
   "source": []
  },
  {
   "cell_type": "markdown",
   "id": "f09f03d4",
   "metadata": {},
   "source": [
    "#### Q6. What do you understand about the windows function in pandas and list the types of windows functions"
   ]
  },
  {
   "cell_type": "markdown",
   "id": "9d03f7ca",
   "metadata": {},
   "source": [
    "* Window Function in python allows to calculate the statistics functions and also used trend analysis in a data set.\n",
    "\n",
    "* It also used to calculate the moving average calculation and also helps to identify the outliers in a data set.\n",
    "\n",
    "Types of Window Function:\n",
    "\n",
    "1. Rolling window\n",
    "\n",
    "2. Weighted Window\n",
    "\n",
    "3. Expanding Window\n",
    "\n",
    "4. Exponential weighted window."
   ]
  },
  {
   "cell_type": "code",
   "execution_count": null,
   "id": "c277b3ac",
   "metadata": {},
   "outputs": [],
   "source": []
  },
  {
   "cell_type": "markdown",
   "id": "38f81cab",
   "metadata": {},
   "source": [
    "#### Q7. Write a code to print only the current month and year at the time of answering this question.\n",
    "\n",
    "[Hint: Use pandas.datetime function]"
   ]
  },
  {
   "cell_type": "code",
   "execution_count": 20,
   "id": "aa801e3e",
   "metadata": {},
   "outputs": [],
   "source": [
    "data = {\"date\":['04-10-2023', '04-11-2023',\n",
    "                '04-12-2023', '04-13-2023',\n",
    "                '04-14-2023', '04-15-2023',\n",
    "                '04-16-2023', '04-17-2023']}"
   ]
  },
  {
   "cell_type": "code",
   "execution_count": 21,
   "id": "76ce3b97",
   "metadata": {},
   "outputs": [],
   "source": [
    "df = pd.DataFrame(data, index= [\"a\",\"b\",\"c\",\"d\",\"e\",\"f\",\"g\",\"h\"])"
   ]
  },
  {
   "cell_type": "code",
   "execution_count": 22,
   "id": "98f9f7d2",
   "metadata": {},
   "outputs": [],
   "source": [
    "df[\"year\"] = pd.DatetimeIndex(df['date']).year"
   ]
  },
  {
   "cell_type": "code",
   "execution_count": 23,
   "id": "59203f93",
   "metadata": {},
   "outputs": [],
   "source": [
    "df[\"Month\"] = pd.DatetimeIndex(df[\"date\"]).month"
   ]
  },
  {
   "cell_type": "code",
   "execution_count": 24,
   "id": "6ea3dcce",
   "metadata": {},
   "outputs": [
    {
     "data": {
      "text/html": [
       "<div>\n",
       "<style scoped>\n",
       "    .dataframe tbody tr th:only-of-type {\n",
       "        vertical-align: middle;\n",
       "    }\n",
       "\n",
       "    .dataframe tbody tr th {\n",
       "        vertical-align: top;\n",
       "    }\n",
       "\n",
       "    .dataframe thead th {\n",
       "        text-align: right;\n",
       "    }\n",
       "</style>\n",
       "<table border=\"1\" class=\"dataframe\">\n",
       "  <thead>\n",
       "    <tr style=\"text-align: right;\">\n",
       "      <th></th>\n",
       "      <th>date</th>\n",
       "      <th>year</th>\n",
       "      <th>Month</th>\n",
       "    </tr>\n",
       "  </thead>\n",
       "  <tbody>\n",
       "    <tr>\n",
       "      <th>a</th>\n",
       "      <td>04-10-2023</td>\n",
       "      <td>2023</td>\n",
       "      <td>4</td>\n",
       "    </tr>\n",
       "    <tr>\n",
       "      <th>b</th>\n",
       "      <td>04-11-2023</td>\n",
       "      <td>2023</td>\n",
       "      <td>4</td>\n",
       "    </tr>\n",
       "    <tr>\n",
       "      <th>c</th>\n",
       "      <td>04-12-2023</td>\n",
       "      <td>2023</td>\n",
       "      <td>4</td>\n",
       "    </tr>\n",
       "    <tr>\n",
       "      <th>d</th>\n",
       "      <td>04-13-2023</td>\n",
       "      <td>2023</td>\n",
       "      <td>4</td>\n",
       "    </tr>\n",
       "    <tr>\n",
       "      <th>e</th>\n",
       "      <td>04-14-2023</td>\n",
       "      <td>2023</td>\n",
       "      <td>4</td>\n",
       "    </tr>\n",
       "    <tr>\n",
       "      <th>f</th>\n",
       "      <td>04-15-2023</td>\n",
       "      <td>2023</td>\n",
       "      <td>4</td>\n",
       "    </tr>\n",
       "    <tr>\n",
       "      <th>g</th>\n",
       "      <td>04-16-2023</td>\n",
       "      <td>2023</td>\n",
       "      <td>4</td>\n",
       "    </tr>\n",
       "    <tr>\n",
       "      <th>h</th>\n",
       "      <td>04-17-2023</td>\n",
       "      <td>2023</td>\n",
       "      <td>4</td>\n",
       "    </tr>\n",
       "  </tbody>\n",
       "</table>\n",
       "</div>"
      ],
      "text/plain": [
       "         date  year  Month\n",
       "a  04-10-2023  2023      4\n",
       "b  04-11-2023  2023      4\n",
       "c  04-12-2023  2023      4\n",
       "d  04-13-2023  2023      4\n",
       "e  04-14-2023  2023      4\n",
       "f  04-15-2023  2023      4\n",
       "g  04-16-2023  2023      4\n",
       "h  04-17-2023  2023      4"
      ]
     },
     "execution_count": 24,
     "metadata": {},
     "output_type": "execute_result"
    }
   ],
   "source": [
    "df"
   ]
  },
  {
   "cell_type": "code",
   "execution_count": 25,
   "id": "6677aaf7",
   "metadata": {},
   "outputs": [
    {
     "name": "stdout",
     "output_type": "stream",
     "text": [
      "Today's date is  04-13-2023\n"
     ]
    }
   ],
   "source": [
    "print(\"Today's date is \", df.loc[\"d\", \"date\"])"
   ]
  },
  {
   "cell_type": "code",
   "execution_count": null,
   "id": "e1390840",
   "metadata": {},
   "outputs": [],
   "source": []
  },
  {
   "cell_type": "markdown",
   "id": "aac5ae00",
   "metadata": {},
   "source": [
    "#### Q8. Write a Python program that takes in two dates as input (in the format YYYY-MM-DD) and calculates the difference between them in days, hours, and minutes using Pandas time delta. The program should prompt the user to enter the dates and display the result"
   ]
  },
  {
   "cell_type": "code",
   "execution_count": 26,
   "id": "064be2ae",
   "metadata": {},
   "outputs": [
    {
     "name": "stdout",
     "output_type": "stream",
     "text": [
      "Please enter the first date (YYYY-MM-DD-HH): 2023-04-12-06\n",
      "Please enter the second date (YYYY-MM-DD-HH): 2025-07-15-04\n"
     ]
    }
   ],
   "source": [
    "Date1 = input(\"Please enter the first date (YYYY-MM-DD-HH): \")\n",
    "\n",
    "Date2 =input(\"Please enter the second date (YYYY-MM-DD-HH): \")\n",
    "    "
   ]
  },
  {
   "cell_type": "code",
   "execution_count": 27,
   "id": "4867a592",
   "metadata": {},
   "outputs": [],
   "source": [
    "Date1 = pd.to_datetime(Date1)"
   ]
  },
  {
   "cell_type": "code",
   "execution_count": 28,
   "id": "de2f5665",
   "metadata": {},
   "outputs": [],
   "source": [
    "Date2 = pd.to_datetime(Date2)"
   ]
  },
  {
   "cell_type": "code",
   "execution_count": 29,
   "id": "858c765f",
   "metadata": {},
   "outputs": [],
   "source": [
    "diff = Date2 - Date1"
   ]
  },
  {
   "cell_type": "code",
   "execution_count": 30,
   "id": "4a23f739",
   "metadata": {},
   "outputs": [],
   "source": [
    "days = diff.days\n",
    "\n",
    "hours = diff.seconds // 3600\n",
    "\n",
    "minutes = (diff.seconds // 60) %60"
   ]
  },
  {
   "cell_type": "code",
   "execution_count": 31,
   "id": "a8deefb8",
   "metadata": {},
   "outputs": [
    {
     "name": "stdout",
     "output_type": "stream",
     "text": [
      "No.of day difference : 824\n",
      "No.of Hours Difference: 22\n",
      "No.of Minutes Difference: 0\n"
     ]
    }
   ],
   "source": [
    "DaysDiff = days\n",
    "HoursDiff = hours\n",
    "MinutesDiff = minutes\n",
    "    \n",
    "print(f\"No.of day difference : {DaysDiff}\")\n",
    "print(f\"No.of Hours Difference: {HoursDiff}\")\n",
    "print(f\"No.of Minutes Difference: {MinutesDiff}\")\n",
    "\n",
    "    \n"
   ]
  },
  {
   "cell_type": "code",
   "execution_count": null,
   "id": "206b2657",
   "metadata": {},
   "outputs": [],
   "source": []
  },
  {
   "cell_type": "markdown",
   "id": "4dc5ba41",
   "metadata": {},
   "source": [
    "#### Q9. Write a Python program that reads a CSV file containing categorical data and converts a specified column to a categorical data type. The program should prompt the user to enter the file path, column name, and category order, and then display the sorted data"
   ]
  },
  {
   "cell_type": "code",
   "execution_count": 32,
   "id": "ce5c9a61",
   "metadata": {},
   "outputs": [],
   "source": [
    "import pandas as pd"
   ]
  },
  {
   "cell_type": "code",
   "execution_count": 33,
   "id": "5c91f73e",
   "metadata": {},
   "outputs": [],
   "source": [
    "data = {\"Fruit\":[\"Apple\",\"Banana\",\"Orange\",\"Grape\",\"Kiwi\",\"Pineapple\",\"Lemon\"],\n",
    "        \"Color\":[\"Red\",\"Yellow\",\"Orange\",\"Purple\",\"Brown\",\"Brown\",\"Yellow\"],\n",
    "        \"Shape\":[\"Round\",\"Curved\",\"Round\",\"Round\",\"Oval\",\"Cylindrical\",\"Oval\"],\n",
    "        \"Sweetness\":[\"High\",\"High\",\"Medium\",\"High\",\"Medium\",\"Low\",\"Low\"]}"
   ]
  },
  {
   "cell_type": "code",
   "execution_count": 34,
   "id": "4fe4cb30",
   "metadata": {},
   "outputs": [],
   "source": [
    "df = pd.DataFrame(data,index = [\"1\",\"2\",\"3\",\"4\",\"5\",\"6\",\"7\"])"
   ]
  },
  {
   "cell_type": "code",
   "execution_count": 35,
   "id": "a7dfb318",
   "metadata": {},
   "outputs": [],
   "source": [
    "df.to_csv(\"Categorical_data.csv\")"
   ]
  },
  {
   "cell_type": "code",
   "execution_count": 36,
   "id": "f3d13c0d",
   "metadata": {},
   "outputs": [],
   "source": [
    "df1 = pd.read_csv(\"Categorical_data.csv\")"
   ]
  },
  {
   "cell_type": "code",
   "execution_count": 37,
   "id": "e515601e",
   "metadata": {},
   "outputs": [],
   "source": [
    "df1[\"Color\"] = df1.Color.astype(\"object\")\n",
    "df1[\"Sweetness\"] = df1.Sweetness.astype(\"category\")"
   ]
  },
  {
   "cell_type": "code",
   "execution_count": 38,
   "id": "7cf9db47",
   "metadata": {},
   "outputs": [
    {
     "name": "stdout",
     "output_type": "stream",
     "text": [
      "Please enter the path : C:\\\\Users\\Sanju\\Materials for Data Science\\My notes For Python\\Assignment answers\\Categorical_data.csv\n",
      "Please enter column name: Shape\n",
      "Please enter which category want to sort : Round\n"
     ]
    },
    {
     "data": {
      "text/html": [
       "<div>\n",
       "<style scoped>\n",
       "    .dataframe tbody tr th:only-of-type {\n",
       "        vertical-align: middle;\n",
       "    }\n",
       "\n",
       "    .dataframe tbody tr th {\n",
       "        vertical-align: top;\n",
       "    }\n",
       "\n",
       "    .dataframe thead th {\n",
       "        text-align: right;\n",
       "    }\n",
       "</style>\n",
       "<table border=\"1\" class=\"dataframe\">\n",
       "  <thead>\n",
       "    <tr style=\"text-align: right;\">\n",
       "      <th></th>\n",
       "      <th>Unnamed: 0</th>\n",
       "      <th>Fruit</th>\n",
       "      <th>Color</th>\n",
       "      <th>Shape</th>\n",
       "      <th>Sweetness</th>\n",
       "    </tr>\n",
       "  </thead>\n",
       "  <tbody>\n",
       "    <tr>\n",
       "      <th>0</th>\n",
       "      <td>1</td>\n",
       "      <td>Apple</td>\n",
       "      <td>Red</td>\n",
       "      <td>Round</td>\n",
       "      <td>High</td>\n",
       "    </tr>\n",
       "    <tr>\n",
       "      <th>2</th>\n",
       "      <td>3</td>\n",
       "      <td>Orange</td>\n",
       "      <td>Orange</td>\n",
       "      <td>Round</td>\n",
       "      <td>Medium</td>\n",
       "    </tr>\n",
       "    <tr>\n",
       "      <th>3</th>\n",
       "      <td>4</td>\n",
       "      <td>Grape</td>\n",
       "      <td>Purple</td>\n",
       "      <td>Round</td>\n",
       "      <td>High</td>\n",
       "    </tr>\n",
       "  </tbody>\n",
       "</table>\n",
       "</div>"
      ],
      "text/plain": [
       "   Unnamed: 0   Fruit   Color  Shape Sweetness\n",
       "0           1   Apple     Red  Round      High\n",
       "2           3  Orange  Orange  Round    Medium\n",
       "3           4   Grape  Purple  Round      High"
      ]
     },
     "execution_count": 38,
     "metadata": {},
     "output_type": "execute_result"
    }
   ],
   "source": [
    "path = input(\"Please enter the path : \")\n",
    "\n",
    "colunm_name = input(\"Please enter column name: \")\n",
    "\n",
    "category = input(\"Please enter which category want to sort : \")\n",
    "\n",
    "\n",
    "df = pd.read_csv(path)\n",
    "\n",
    "df[df[colunm_name] == category]"
   ]
  },
  {
   "cell_type": "code",
   "execution_count": null,
   "id": "ad7c0ae2",
   "metadata": {},
   "outputs": [],
   "source": []
  },
  {
   "cell_type": "markdown",
   "id": "c663f7b3",
   "metadata": {},
   "source": [
    "#### Q10. Write a Python program that reads a CSV file containing sales data for different products and visualizes the data using a stacked bar chart to show the sales of each product category over time. The program should prompt the user to enter the file path and display the chart"
   ]
  },
  {
   "cell_type": "code",
   "execution_count": 127,
   "id": "6987efdf",
   "metadata": {},
   "outputs": [],
   "source": [
    "import pandas as pd\n",
    "import matplotlib.pyplot as plt"
   ]
  },
  {
   "cell_type": "code",
   "execution_count": 128,
   "id": "a3becf6d",
   "metadata": {},
   "outputs": [],
   "source": [
    "sales_data = {\"Order ID\": [248151, 248152, 248153, 248154, 248155],\n",
    "              \"Product Name\":[\"Apple iPhone\", \"Samsung TV\",\"Bose Headphones\", \"Google Home\", \"Apple Watch\"],\n",
    "              \"Quantity Ordered\" :[1,1,1,1,2],\n",
    "              \"Price Each\":[699.99, 799.99, 249.99, 99.99, 399.99]}\n"
   ]
  },
  {
   "cell_type": "code",
   "execution_count": 129,
   "id": "598a64ae",
   "metadata": {},
   "outputs": [],
   "source": [
    "df = pd.DataFrame(sales_data)"
   ]
  },
  {
   "cell_type": "code",
   "execution_count": 130,
   "id": "395df357",
   "metadata": {},
   "outputs": [],
   "source": [
    "df.set_index(\"Product Name\", inplace = True)"
   ]
  },
  {
   "cell_type": "code",
   "execution_count": 131,
   "id": "4805f009",
   "metadata": {},
   "outputs": [],
   "source": [
    "df[\"Sales\"] = df[\"Quantity Ordered\"] * df[\"Price Each\"]"
   ]
  },
  {
   "cell_type": "code",
   "execution_count": 132,
   "id": "7fa0fadf",
   "metadata": {},
   "outputs": [],
   "source": [
    "df.to_csv(\"sales_Data.csv\")"
   ]
  },
  {
   "cell_type": "code",
   "execution_count": 133,
   "id": "a89d8f09",
   "metadata": {},
   "outputs": [
    {
     "data": {
      "text/html": [
       "<div>\n",
       "<style scoped>\n",
       "    .dataframe tbody tr th:only-of-type {\n",
       "        vertical-align: middle;\n",
       "    }\n",
       "\n",
       "    .dataframe tbody tr th {\n",
       "        vertical-align: top;\n",
       "    }\n",
       "\n",
       "    .dataframe thead th {\n",
       "        text-align: right;\n",
       "    }\n",
       "</style>\n",
       "<table border=\"1\" class=\"dataframe\">\n",
       "  <thead>\n",
       "    <tr style=\"text-align: right;\">\n",
       "      <th></th>\n",
       "      <th>Order ID</th>\n",
       "      <th>Quantity Ordered</th>\n",
       "      <th>Price Each</th>\n",
       "      <th>Sales</th>\n",
       "    </tr>\n",
       "    <tr>\n",
       "      <th>Product Name</th>\n",
       "      <th></th>\n",
       "      <th></th>\n",
       "      <th></th>\n",
       "      <th></th>\n",
       "    </tr>\n",
       "  </thead>\n",
       "  <tbody>\n",
       "    <tr>\n",
       "      <th>Apple iPhone</th>\n",
       "      <td>248151</td>\n",
       "      <td>1</td>\n",
       "      <td>699.99</td>\n",
       "      <td>699.99</td>\n",
       "    </tr>\n",
       "    <tr>\n",
       "      <th>Samsung TV</th>\n",
       "      <td>248152</td>\n",
       "      <td>1</td>\n",
       "      <td>799.99</td>\n",
       "      <td>799.99</td>\n",
       "    </tr>\n",
       "    <tr>\n",
       "      <th>Bose Headphones</th>\n",
       "      <td>248153</td>\n",
       "      <td>1</td>\n",
       "      <td>249.99</td>\n",
       "      <td>249.99</td>\n",
       "    </tr>\n",
       "    <tr>\n",
       "      <th>Google Home</th>\n",
       "      <td>248154</td>\n",
       "      <td>1</td>\n",
       "      <td>99.99</td>\n",
       "      <td>99.99</td>\n",
       "    </tr>\n",
       "    <tr>\n",
       "      <th>Apple Watch</th>\n",
       "      <td>248155</td>\n",
       "      <td>2</td>\n",
       "      <td>399.99</td>\n",
       "      <td>799.98</td>\n",
       "    </tr>\n",
       "  </tbody>\n",
       "</table>\n",
       "</div>"
      ],
      "text/plain": [
       "                 Order ID  Quantity Ordered  Price Each   Sales\n",
       "Product Name                                                   \n",
       "Apple iPhone       248151                 1      699.99  699.99\n",
       "Samsung TV         248152                 1      799.99  799.99\n",
       "Bose Headphones    248153                 1      249.99  249.99\n",
       "Google Home        248154                 1       99.99   99.99\n",
       "Apple Watch        248155                 2      399.99  799.98"
      ]
     },
     "execution_count": 133,
     "metadata": {},
     "output_type": "execute_result"
    }
   ],
   "source": [
    "df"
   ]
  },
  {
   "cell_type": "code",
   "execution_count": 134,
   "id": "da9cf4f8",
   "metadata": {},
   "outputs": [
    {
     "name": "stdout",
     "output_type": "stream",
     "text": [
      "Please enter the file path: C:\\\\Users\\Sanju\\Materials for Data Science\\My notes For Python\\Assignment answers\\sales_Data.csv\n",
      "Please enter the list of column name : Sales\n"
     ]
    },
    {
     "data": {
      "text/plain": [
       "<function matplotlib.pyplot.show(close=None, block=None)>"
      ]
     },
     "execution_count": 134,
     "metadata": {},
     "output_type": "execute_result"
    },
    {
     "data": {
      "image/png": "[encoded data removed]",
      "text/plain": [
       "<Figure size 640x480 with 1 Axes>"
      ]
     },
     "metadata": {},
     "output_type": "display_data"
    }
   ],
   "source": [
    "file_path1 = input('Please enter the file path: ')\n",
    "\n",
    "column_name = input(\"Please enter the list of column name : \")\n",
    "\n",
    "df1 = pd.read_csv(file_path1)\n",
    "\n",
    "df1.plot(x = \"Product Name\", y = column_name, kind = \"bar\", stacked=True,\n",
    "         title = \"Sales data\", color = 'r')\n",
    "plt.show"
   ]
  },
  {
   "cell_type": "code",
   "execution_count": null,
   "id": "f266431a",
   "metadata": {},
   "outputs": [],
   "source": []
  },
  {
   "cell_type": "markdown",
   "id": "dec9f151",
   "metadata": {},
   "source": [
    "#### Q11. You are given a CSV file containing student data that includes the student ID and their test score. Write a Python program that reads the CSV file, calculates the mean, median, and mode of the test scores, and displays the results in a table\n",
    "\n",
    "\n",
    "The program should do the following\n",
    "* Prompt the user to enter the file path of the CSV file containing the student dataR\n",
    "* Read the CSV file into a Pandas DataFrame\n",
    "* Calculate the mean, median, and mode of the test scores using Pandas tools\n",
    "* Display the mean, median, and mode in a table."
   ]
  },
  {
   "cell_type": "code",
   "execution_count": 114,
   "id": "cdb70cf3",
   "metadata": {},
   "outputs": [
    {
     "name": "stdout",
     "output_type": "stream",
     "text": [
      "Please enter the path file of the student data: C:\\\\Users\\Sanju\\Materials for Data Science\\My notes For Python\\Assignment answers\\Student_data.csv\n",
      "+----------+--------+\n",
      "|Statistic | Value |\n",
      "+----------+--------+\n",
      "Mean:     83.5\n",
      "Median:  85.0\n",
      "Mode:     85\n",
      "+----------+---------+\n"
     ]
    }
   ],
   "source": [
    "path = input('Please enter the path file of the student data: ')\n",
    "\n",
    "Student_data =pd.read_csv(path)\n",
    "\n",
    "df1 = pd.DataFrame(Student_data)\n",
    "\n",
    "mean = df1[\"Test_Score\"].mean()\n",
    "\n",
    "median = df1[\"Test_Score\"].median()\n",
    "\n",
    "mode = df1[\"Test_Score\"].mode()[0]\n",
    "\n",
    "print('+----------+--------+')\n",
    "\n",
    "print('|Statistic | Value |')\n",
    "\n",
    "print('+----------+--------+')\n",
    "\n",
    "print(f'Mean:     {mean}')\n",
    "\n",
    "print(f'Median:  {median}')\n",
    "\n",
    "print(f'Mode:     {mode}')\n",
    "\n",
    "print('+----------+---------+')\n",
    "\n"
   ]
  },
  {
   "cell_type": "code",
   "execution_count": null,
   "id": "28858154",
   "metadata": {},
   "outputs": [],
   "source": []
  }
 ],
 "metadata": {
  "kernelspec": {
   "display_name": "Python 3 (ipykernel)",
   "language": "python",
   "name": "python3"
  },
  "language_info": {
   "codemirror_mode": {
    "name": "ipython",
    "version": 3
   },
   "file_extension": ".py",
   "mimetype": "text/x-python",
   "name": "python",
   "nbconvert_exporter": "python",
   "pygments_lexer": "ipython3",
   "version": "3.9.13"
  }
 },
 "nbformat": 4,
 "nbformat_minor": 5
}
