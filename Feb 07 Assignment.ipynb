{
 "cells": [
  {
   "cell_type": "markdown",
   "id": "f7647243",
   "metadata": {},
   "source": [
    "#### Q1. You are writing code for a company. The requirement of the company is that you create a python function that will check whether the password entered by the user is correct or not. The function should take the password as input and return the string “Valid Password” if the entered password follows the below-given password guidelines else it should return “Invalid Password”.\n",
    "\n",
    "Note: 1. The Password should contain at least two uppercase letters and at least two lowercase letters.\n",
    "\n",
    "      2. The Password should contain at least a number and three special characters.\n",
    "      \n",
    "      3. The length of the password should be 10 characters long."
   ]
  },
  {
   "cell_type": "code",
   "execution_count": 23,
   "id": "7d6d4f78",
   "metadata": {},
   "outputs": [],
   "source": [
    "def company_code():\n",
    "    password = input(\"Please enter the password: \")\n",
    "    \n",
    "    count_uppercase = 0 \n",
    "    count_lowercase = 0\n",
    "    count_number = 0\n",
    "    count_special = 0\n",
    "    special_char = \"!@#$%^&*()_+{}:\\\"<>?,./;'[]\\\\=-`~|\"\n",
    "    \n",
    "    for letter in password:  # checking the password for uppercase\n",
    "        if letter.isupper():\n",
    "            count_uppercase +=1\n",
    "        \n",
    "        elif letter.islower():\n",
    "            count_lowercase +=1\n",
    "            \n",
    "        elif letter.isdigit():\n",
    "            count_number +=1\n",
    "        \n",
    "        elif letter in special_char:\n",
    "            count_special +=1\n",
    "    \n",
    "    if count_uppercase >=2 and count_lowercase >=2 and len(password) ==10 and count_number >=1 and count_special >=3:\n",
    "        return \"valid password\"\n",
    "    \n",
    "    else:\n",
    "        return \"invalid password\""
   ]
  },
  {
   "cell_type": "code",
   "execution_count": 24,
   "id": "36058d0f",
   "metadata": {},
   "outputs": [
    {
     "name": "stdout",
     "output_type": "stream",
     "text": [
      "Please enter the password: SAnju45$#@\n"
     ]
    },
    {
     "data": {
      "text/plain": [
       "'valid password'"
      ]
     },
     "execution_count": 24,
     "metadata": {},
     "output_type": "execute_result"
    }
   ],
   "source": [
    "company_code()"
   ]
  },
  {
   "cell_type": "code",
   "execution_count": null,
   "id": "73c6f8be",
   "metadata": {},
   "outputs": [],
   "source": []
  },
  {
   "cell_type": "markdown",
   "id": "996fa15c",
   "metadata": {},
   "source": [
    "Q2. Solve the below-given questions using at least one of the following: \n",
    "\n",
    "1. Lambda function\n",
    "2. Filter function\n",
    "3. Map function\n",
    "4. List Comprehension\n",
    "\n",
    "* Check if the string starts with a particular letter\n",
    "* Check if the string is numeric\n",
    "* Sort a list of tuples having fruit names and their quantity. [(\"mango\",99),(\"orange\",80), (\"grapes\", 1000)]\n",
    "* Find the squares of numbers from 1 to 10\n",
    "* Find the cube root of numbers from 1 to 10\n",
    "* Check if a given number is even\n",
    " \n",
    "* Filter odd numbers from the given list.\n",
    "[1,2,3,4,5,6,7,8,9,10]\n",
    "\n",
    "* Sort a list of integers into positive and negative integers lists.\n",
    "\n",
    " [1,2,3,4,5,6,-1,-2,-3,-4,-5,0]"
   ]
  },
  {
   "cell_type": "markdown",
   "id": "7618619e",
   "metadata": {},
   "source": [
    "Ans:"
   ]
  },
  {
   "cell_type": "markdown",
   "id": "a3231aec",
   "metadata": {},
   "source": [
    "1. Check if the string starts with a particular letter"
   ]
  },
  {
   "cell_type": "code",
   "execution_count": 48,
   "id": "5d9badcf",
   "metadata": {},
   "outputs": [],
   "source": [
    "A = [\"Apple\",\"Banana\",\"Cherry\",\"Dates\"]\n",
    " \n",
    "# lambda function:\n",
    "\n",
    "Check_string =list(filter(lambda x : x.startswith(\"C\"), A))\n"
   ]
  },
  {
   "cell_type": "code",
   "execution_count": 49,
   "id": "ae65febc",
   "metadata": {},
   "outputs": [
    {
     "name": "stdout",
     "output_type": "stream",
     "text": [
      "['Cherry']\n"
     ]
    }
   ],
   "source": [
    "print(Check_string)"
   ]
  },
  {
   "cell_type": "code",
   "execution_count": null,
   "id": "d6c84500",
   "metadata": {},
   "outputs": [],
   "source": []
  },
  {
   "cell_type": "markdown",
   "id": "d879122a",
   "metadata": {},
   "source": [
    "2. Check if the string is numeric"
   ]
  },
  {
   "cell_type": "code",
   "execution_count": 46,
   "id": "2f0853fb",
   "metadata": {},
   "outputs": [],
   "source": [
    "strings = [\"1\",\"2\",\"3\",\"4\",\"5\",\"6\"]\n",
    "\n",
    "# Using List comprehension\n",
    "\n",
    "numeric_string = [i for i in strings if i.isnumeric()]\n"
   ]
  },
  {
   "cell_type": "code",
   "execution_count": 47,
   "id": "373825f2",
   "metadata": {},
   "outputs": [
    {
     "name": "stdout",
     "output_type": "stream",
     "text": [
      "['1', '2', '3', '4', '5', '6']\n"
     ]
    }
   ],
   "source": [
    "print(numeric_string)"
   ]
  },
  {
   "cell_type": "code",
   "execution_count": null,
   "id": "80570468",
   "metadata": {},
   "outputs": [],
   "source": []
  },
  {
   "cell_type": "markdown",
   "id": "4f4c397b",
   "metadata": {},
   "source": [
    "3. Sort a list of tuples having fruit names and their quantity. [(\"mango\",99),(\"orange\",80), (\"grapes\", 1000)]"
   ]
  },
  {
   "cell_type": "code",
   "execution_count": 18,
   "id": "81266639",
   "metadata": {},
   "outputs": [
    {
     "name": "stdout",
     "output_type": "stream",
     "text": [
      "[('orange', 80), ('mango', 99), ('grapes', 1000)]\n"
     ]
    }
   ],
   "source": [
    "# Using list comperhension:\n",
    "\n",
    "lst = [(\"mango\",99),(\"orange\",80), (\"grapes\", 1000)]\n",
    "\n",
    "new_list = [i for i in sorted(lst, key = lambda x: x[1])]\n",
    "\n",
    "print(new_list)"
   ]
  },
  {
   "cell_type": "code",
   "execution_count": null,
   "id": "3905de4f",
   "metadata": {},
   "outputs": [],
   "source": []
  },
  {
   "cell_type": "markdown",
   "id": "cb5c3b52",
   "metadata": {},
   "source": [
    "4. Find the squares of numbers from 1 to 10"
   ]
  },
  {
   "cell_type": "code",
   "execution_count": 26,
   "id": "20ab25fc",
   "metadata": {},
   "outputs": [
    {
     "name": "stdout",
     "output_type": "stream",
     "text": [
      "[1, 4, 9, 16, 25, 36, 49, 64, 81, 100]\n"
     ]
    }
   ],
   "source": [
    "# Using map and lambda function\n",
    "\n",
    "lst = [1,2,3,4,5,6,7,8,9,10]\n",
    "\n",
    "Square_root=list(map(lambda x: (x**2), lst))\n",
    "\n",
    "\n",
    "print(Square_root)"
   ]
  },
  {
   "cell_type": "code",
   "execution_count": null,
   "id": "63bf338c",
   "metadata": {},
   "outputs": [],
   "source": []
  },
  {
   "cell_type": "markdown",
   "id": "bdc94dc6",
   "metadata": {},
   "source": [
    "5. Find the cube root of numbers from 1 to 10"
   ]
  },
  {
   "cell_type": "code",
   "execution_count": 25,
   "id": "987f7104",
   "metadata": {},
   "outputs": [
    {
     "name": "stdout",
     "output_type": "stream",
     "text": [
      "[1, 8, 27, 64, 125, 216, 343, 512, 729, 1000]\n"
     ]
    }
   ],
   "source": [
    "# Using map and Lambda function\n",
    "\n",
    "lst = [1,2,3,4,5,6,7,8,9,10]\n",
    "\n",
    "Cube_root =list(map(lambda x: (x**3), lst))\n",
    "\n",
    "print(Cube_root)\n"
   ]
  },
  {
   "cell_type": "code",
   "execution_count": null,
   "id": "3d0dda9a",
   "metadata": {},
   "outputs": [],
   "source": []
  },
  {
   "cell_type": "markdown",
   "id": "1ea8d8bc",
   "metadata": {},
   "source": [
    "6. Check if a given number is even"
   ]
  },
  {
   "cell_type": "code",
   "execution_count": 6,
   "id": "97c52e6f",
   "metadata": {},
   "outputs": [
    {
     "name": "stdout",
     "output_type": "stream",
     "text": [
      "True\n"
     ]
    }
   ],
   "source": [
    "# Using list comprehension\n",
    "\n",
    "lst = [1,2,3,4,5,6,7,8,9,10]\n",
    "\n",
    "num = 8\n",
    "\n",
    "Check_even = True if num in [num for num in lst if num %2 ==0] else False\n",
    "\n",
    "print(Check_even)\n"
   ]
  },
  {
   "cell_type": "code",
   "execution_count": null,
   "id": "0d250409",
   "metadata": {},
   "outputs": [],
   "source": []
  },
  {
   "cell_type": "markdown",
   "id": "3c8cc64a",
   "metadata": {},
   "source": [
    "7. Filter odd numbers from the given list. [1,2,3,4,5,6,7,8,9,10]"
   ]
  },
  {
   "cell_type": "code",
   "execution_count": 20,
   "id": "4a90fb70",
   "metadata": {},
   "outputs": [
    {
     "name": "stdout",
     "output_type": "stream",
     "text": [
      "[1, 3, 5, 7, 9]\n"
     ]
    }
   ],
   "source": [
    "# Using filter function\n",
    "\n",
    "lst = [1,2,3,4,5,6,7,8,9,10]\n",
    "\n",
    "New_list=list(filter(lambda x: (x%2 !=0),lst))\n",
    "\n",
    "print(New_list)"
   ]
  },
  {
   "cell_type": "code",
   "execution_count": null,
   "id": "1a43b365",
   "metadata": {},
   "outputs": [],
   "source": []
  },
  {
   "cell_type": "markdown",
   "id": "0d99b14a",
   "metadata": {},
   "source": [
    "8. Sort a list of integers into positive and negative integers lists.\n",
    "\n",
    "[1,2,3,4,5,6,-1,-2,-3,-4,-5,0]"
   ]
  },
  {
   "cell_type": "code",
   "execution_count": 43,
   "id": "1762cd72",
   "metadata": {},
   "outputs": [
    {
     "name": "stdout",
     "output_type": "stream",
     "text": [
      "Positive Integers [1, 2, 3, 4, 5, 6]\n",
      "Negative Integers [-5, -4, -3, -2, -1]\n"
     ]
    }
   ],
   "source": [
    "# Using list comprehension\n",
    "\n",
    "lst = [1,2,3,4,5,6,-1,-2,-3,-4,-5,0]\n",
    "\n",
    "positive_list = sorted([num1 for num1 in lst if num1 >0])\n",
    "\n",
    "negative_list = sorted([num2 for num2 in lst if num2 <0])\n",
    "\n",
    "print(\"Positive Integers\", positive_list)\n",
    "\n",
    "print(\"Negative Integers\", negative_list)"
   ]
  },
  {
   "cell_type": "code",
   "execution_count": null,
   "id": "f95d4a1e",
   "metadata": {},
   "outputs": [],
   "source": []
  }
 ],
 "metadata": {
  "kernelspec": {
   "display_name": "Python 3 (ipykernel)",
   "language": "python",
   "name": "python3"
  },
  "language_info": {
   "codemirror_mode": {
    "name": "ipython",
    "version": 3
   },
   "file_extension": ".py",
   "mimetype": "text/x-python",
   "name": "python",
   "nbconvert_exporter": "python",
   "pygments_lexer": "ipython3",
   "version": "3.9.13"
  }
 },
 "nbformat": 4,
 "nbformat_minor": 5
}
