{
 "cells": [
  {
   "cell_type": "markdown",
   "id": "4cee3308",
   "metadata": {},
   "source": [
    "# Python Conditions and Loops statements "
   ]
  },
  {
   "cell_type": "code",
   "execution_count": 11,
   "id": "8dd49601",
   "metadata": {},
   "outputs": [
    {
     "name": "stdout",
     "output_type": "stream",
     "text": [
      "Sanju is a dancer whose age is 19\n"
     ]
    }
   ],
   "source": [
    "# Place holder\n",
    "\n",
    "print('Sanju is a {firstname} whose age is {firstage}'.format(firstname= \"dancer\", firstage=19))"
   ]
  },
  {
   "cell_type": "code",
   "execution_count": 8,
   "id": "555c9340",
   "metadata": {},
   "outputs": [
    {
     "name": "stdout",
     "output_type": "stream",
     "text": [
      "Sanju is a dancer whose age is 19\n"
     ]
    }
   ],
   "source": [
    "# fstring\n",
    "\n",
    "print(f'{\"Sanju\"} is a dancer whose age is {19}')"
   ]
  },
  {
   "cell_type": "code",
   "execution_count": 6,
   "id": "2c744cf6",
   "metadata": {},
   "outputs": [
    {
     "name": "stdout",
     "output_type": "stream",
     "text": [
      "Sanju is a dancer whoose age is 19\n"
     ]
    }
   ],
   "source": [
    "# .Foramt()\n",
    "\n",
    "print(\"{} is a dancer whoose age is {}\".format(\"Sanju\", 19))"
   ]
  },
  {
   "cell_type": "markdown",
   "id": "e073c179",
   "metadata": {},
   "source": [
    "# Control Flow statements"
   ]
  },
  {
   "cell_type": "code",
   "execution_count": 3,
   "id": "f9147efd",
   "metadata": {},
   "outputs": [],
   "source": [
    "# if statement\n",
    "\n",
    "# Deepawali clothes purchase \n",
    "\n",
    "# condition - <=2000 "
   ]
  },
  {
   "cell_type": "code",
   "execution_count": 5,
   "id": "d5f2253c",
   "metadata": {},
   "outputs": [],
   "source": [
    "purchase=2001\n",
    "\n",
    "if purchase <=2000:\n",
    "    print(\"We can go for purchasing the product\")"
   ]
  },
  {
   "cell_type": "code",
   "execution_count": 15,
   "id": "7f420476",
   "metadata": {},
   "outputs": [
    {
     "name": "stdout",
     "output_type": "stream",
     "text": [
      "Enter the budget for purchasing: 2000\n",
      "You can purchase the product with offer 1000.0\n"
     ]
    }
   ],
   "source": [
    "# Condition \n",
    "\n",
    "# budget >=2000 and <=3000 \n",
    "# print if the budget for purchasing the product is above 2000 and below 3000 will be get a 50% offer.\n",
    "\n",
    "purchase_product= int(input(\"Enter the budget for purchasing: \"))\n",
    "\n",
    "if purchase_product >=2000 and purchase_product <=3000:\n",
    "    print(\"You can purchase the product with offer {}\".format(purchase_product*0.5))\n",
    "else:\n",
    "    print(\"You can purchase the product without the offer\")"
   ]
  },
  {
   "cell_type": "code",
   "execution_count": 16,
   "id": "3b9ff80a",
   "metadata": {},
   "outputs": [
    {
     "name": "stdout",
     "output_type": "stream",
     "text": [
      "Enter the budget for purchasing: 1999\n",
      "You can purchase the product with offer 1599.2\n"
     ]
    }
   ],
   "source": [
    "# budget >=2000 and <=3000 \n",
    "# print if the budget for purchasing the product is above 2000 and below 3000 will be get a 50% offer.\n",
    "# print if the budget for purchasing the product is below 1999 will get 20% offer.\n",
    "\n",
    "purchase_product= int(input(\"Enter the budget for purchasing: \"))\n",
    "\n",
    "if purchase_product >=2000 and purchase_product <=3000:\n",
    "    print(\"You can purchase the product with offer {}\".format(purchase_product*0.5))\n",
    "else:\n",
    "    print(\"You can purchase the product with offer {}\".format(purchase_product*0.8))"
   ]
  },
  {
   "cell_type": "code",
   "execution_count": 20,
   "id": "c0123d90",
   "metadata": {},
   "outputs": [
    {
     "name": "stdout",
     "output_type": "stream",
     "text": [
      "Enter the budget for purchasing: 3000\n",
      "Congradualtion you have got buy one get one offer\n"
     ]
    }
   ],
   "source": [
    "# budget >=2000 and <=2500 \n",
    "# if -   print if the budget for purchasing the product is above 2000 and below 2500 will be get a 50% offer.\n",
    "# elif - print if the budget for purchasing the product is ==2500 there is a special offer of buy one get one\n",
    "# else - print if the budget for purchasing the product is below 1999 will get 20% offer.\n",
    "\n",
    "\n",
    "purchase_product= int(input(\"Enter the budget for purchasing: \"))\n",
    "\n",
    "if purchase_product >=2000 and purchase_product <=2500:\n",
    "    print(\"You can purchase the product with offer {}\".format(purchase_product*0.5))\n",
    "elif purchase_product>=2501:\n",
    "    print(\"Congradualtion you have got buy one get one offer\")\n",
    "else:\n",
    "    print(\"You can purchase the product with offer {}\".format(purchase_product*0.8))"
   ]
  },
  {
   "cell_type": "code",
   "execution_count": 7,
   "id": "47c8ca28",
   "metadata": {},
   "outputs": [
    {
     "name": "stdout",
     "output_type": "stream",
     "text": [
      "Enter the budget for purchasing: 2501\n",
      "You can purchase the product with offer of Rs.1250.5\n"
     ]
    }
   ],
   "source": [
    "# Nester loops\n",
    "\n",
    "# budget >=2000 \n",
    "# if -   print if the budget for purchasing the product is above 2000 and below 2500 will be get a 50% offer.\n",
    "# Nested if - print if the budget ==2500, you avail free purchase on next occation.\n",
    "# elif - print if the budget for purchasing the product is ==2500 there is a special offer of buy one get one\n",
    "# else - print if the budget for purchasing the product is below 1999 will get 20% offer.\n",
    "\n",
    "\n",
    "purchase_product= int(input(\"Enter the budget for purchasing: \"))\n",
    "\n",
    "if purchase_product >=2000:\n",
    "    if purchase_product==2500:\n",
    "        print(\"You avail free purchase on next occation\")\n",
    "    print(\"You can purchase the product with offer of Rs.{}\".format(purchase_product*0.5))\n",
    "elif purchase_product>=2501:\n",
    "    if purchase_product==2525:\n",
    "        print(\"wow! lucky winner of the day\")\n",
    "    print(print(\"You can purchase the product with offer Rs.{}\".format(purchase_product*0.8)))\n",
    "else:\n",
    "    print(\"You can join with beggar\")\n"
   ]
  },
  {
   "cell_type": "code",
   "execution_count": 9,
   "id": "c43241cf",
   "metadata": {},
   "outputs": [
    {
     "name": "stdout",
     "output_type": "stream",
     "text": [
      "Enter the number: 12\n",
      "Value is greater than 10\n"
     ]
    }
   ],
   "source": [
    "# single statement suites\n",
    "\n",
    "Val=int(input(\"Enter the number: \"))\n",
    "if (Val<=10):print(\"Value is less than 10\")\n",
    "else:\n",
    "    print(\"Value is greater than 10\")"
   ]
  },
  {
   "cell_type": "markdown",
   "id": "e63c651f",
   "metadata": {},
   "source": [
    "# Loops Statements"
   ]
  },
  {
   "cell_type": "markdown",
   "id": "5365f27d",
   "metadata": {},
   "source": [
    "### 1.While loop\n",
    "\n",
    "### 2.For loop\n",
    "\n",
    "### 3.Nested loop\n",
    "\n",
    "### 4.Loop control(Break, continue, pass)"
   ]
  },
  {
   "cell_type": "code",
   "execution_count": 5,
   "id": "5de2ed88",
   "metadata": {},
   "outputs": [
    {
     "name": "stdout",
     "output_type": "stream",
     "text": [
      "91\n",
      "92\n",
      "93\n",
      "94\n",
      "95\n",
      "96\n",
      "97\n",
      "98\n",
      "99\n",
      "100\n",
      "batery is fully charged\n"
     ]
    }
   ],
   "source": [
    "# while loop statement.\n",
    "\n",
    "phone_batery= 90\n",
    "\n",
    "while phone_batery<100:\n",
    "    phone_batery=phone_batery+1\n",
    "    print(phone_batery)\n",
    "else:\n",
    "    print(\"batery is fully charged\")\n",
    "    "
   ]
  },
  {
   "cell_type": "code",
   "execution_count": 8,
   "id": "856c83b6",
   "metadata": {},
   "outputs": [
    {
     "name": "stdout",
     "output_type": "stream",
     "text": [
      "9\n",
      "8\n",
      "7\n",
      "6\n",
      "5\n",
      "4\n",
      "3\n",
      "2\n",
      "1\n",
      "0\n",
      "Please charge the phone\n"
     ]
    }
   ],
   "source": [
    "phone_batery=10\n",
    "\n",
    "while phone_batery!=0:\n",
    "    phone_batery=phone_batery-1\n",
    "    print(phone_batery)\n",
    "else:\n",
    "    print('Please charge the phone')"
   ]
  },
  {
   "cell_type": "code",
   "execution_count": null,
   "id": "31181d3d",
   "metadata": {},
   "outputs": [],
   "source": []
  }
 ],
 "metadata": {
  "kernelspec": {
   "display_name": "Python 3 (ipykernel)",
   "language": "python",
   "name": "python3"
  },
  "language_info": {
   "codemirror_mode": {
    "name": "ipython",
    "version": 3
   },
   "file_extension": ".py",
   "mimetype": "text/x-python",
   "name": "python",
   "nbconvert_exporter": "python",
   "pygments_lexer": "ipython3",
   "version": "3.9.13"
  }
 },
 "nbformat": 4,
 "nbformat_minor": 5
}
